{
 "cells": [
  {
   "cell_type": "markdown",
   "id": "dea77ff8-5799-4a36-9616-b5de57925223",
   "metadata": {},
   "source": [
    "## Masterclass ML 1\n",
    "Déroulement d'un projet dans le domaine de la vente en ligne  \n",
    "\n",
    "Cet masterclass est destinée à montrer le déroulement d'un projet de Data Science et d'illuster les différentes étapes.  \n",
    "\n",
    "Ici, nous allons nous placer dans la peau d'un site de e-commerce. Notre problématique est simple: améliorer les ventes. Elle est simple mais elle est aussi très large... Que veut dire améliorer les ventes?  \n",
    "\n",
    "Lorsque l'on définit une telle problématique à résoudre, il est intéressant de se poser la question des données à disposition: à quelles données ai-je accès (en interne ou en open data)? Si mes données ne sont pas suffisantes, comment puis-je les compléter (acheter des données, trouver des jeux libres d'accès sur internet, constituer soi-même des jeux de données supplémentaires avec du scraping par exemple, ...)? Est-ce que je connais ce que les données signifient? Et si non, qui peut me renseigner? Comment ces données ont été constituée? Quand l'ont-elles été? Est-ce que ces données sont de qualité?\n",
    "\n",
    "Ici, nous n'allons pas essayer de répondre à ces questions mais elles sont essentielles pour proposer des modèles pertinents tout en connaissant les limites de ce modèle. Le jeu de données utilisé ici est nommé events.csv et contient une liste d'événements sur un site de e-commerce. Il fait partie d'un ensemble plus complexes de données disponible ici.  \n",
    "\n",
    "### Description des données  \n",
    "Les variables contenues dans ce jeu de données sont:  \n",
    "- timestamp: timestamp représentant la date et l'heure à laquelle a eu lieu l'événement.\n",
    "- visitorid: nombre qui représente un unique visiteur du site acteur de l'événement.\n",
    "- event: nature de l'événement. Peut être de 3 types différents: \"view\", \"addtocart\", \"transaction\" qui correspondent à la vue d'un objet, son ajout au panier ou son achat.\n",
    "- itemid: nombre qui représente un unique produit concerné par l'événement.\n",
    "- transactionid: nombre qui représente une transaction unique  \n",
    "\n",
    "Une des premières choses à faire est de faire l'inventaire du nombre de produits, du nombre de visiteurs, du nombre d'événements, ...  \n",
    "\n",
    "Dans cet masterclass, nous ne nous attachons pas tant à la forme qu'au fond: parfois les solutions aux questions seront plus élaborées que ce que demandait la question. On peut obtenir les réponses aux questions de manière plus simple que ce que nous proposons comme réponses mais nos solutions sont ici des alternatives intéressantes pour aller plus loin dans les détails.   \n",
    "\n",
    "Explorer et vérifier la qualité des données : Valeurs uniques, Valeurs manquantes, cohérences ...\n",
    "À partir de ce jeu de données, trouver des pistes qui potentiellement permettront d'améliorer les affaires du site e-commerce."
   ]
  },
  {
   "cell_type": "code",
   "execution_count": 1,
   "id": "40638b11-c004-4325-80b2-2d9142d31a08",
   "metadata": {},
   "outputs": [],
   "source": [
    "import pandas as pd\n",
    "from matplotlib import pyplot as plt\n",
    "import numpy as np\n",
    "import seaborn as sns"
   ]
  },
  {
   "cell_type": "code",
   "execution_count": 57,
   "id": "5a37fd0d-7ede-4f2f-b78d-2101ce52c5b6",
   "metadata": {},
   "outputs": [],
   "source": [
    "df = pd.read_csv('events.csv')"
   ]
  },
  {
   "cell_type": "code",
   "execution_count": 3,
   "id": "e2f65b35-5789-40dc-8ee9-b74cf2800ba2",
   "metadata": {},
   "outputs": [
    {
     "data": {
      "text/html": [
       "<div>\n",
       "<style scoped>\n",
       "    .dataframe tbody tr th:only-of-type {\n",
       "        vertical-align: middle;\n",
       "    }\n",
       "\n",
       "    .dataframe tbody tr th {\n",
       "        vertical-align: top;\n",
       "    }\n",
       "\n",
       "    .dataframe thead th {\n",
       "        text-align: right;\n",
       "    }\n",
       "</style>\n",
       "<table border=\"1\" class=\"dataframe\">\n",
       "  <thead>\n",
       "    <tr style=\"text-align: right;\">\n",
       "      <th></th>\n",
       "      <th>timestamp</th>\n",
       "      <th>visitorid</th>\n",
       "      <th>event</th>\n",
       "      <th>itemid</th>\n",
       "      <th>transactionid</th>\n",
       "    </tr>\n",
       "  </thead>\n",
       "  <tbody>\n",
       "    <tr>\n",
       "      <th>type</th>\n",
       "      <td>int64</td>\n",
       "      <td>int64</td>\n",
       "      <td>object</td>\n",
       "      <td>int64</td>\n",
       "      <td>float64</td>\n",
       "    </tr>\n",
       "    <tr>\n",
       "      <th>nb_nan</th>\n",
       "      <td>0.0</td>\n",
       "      <td>0.0</td>\n",
       "      <td>0.0</td>\n",
       "      <td>0.0</td>\n",
       "      <td>2733644.0</td>\n",
       "    </tr>\n",
       "    <tr>\n",
       "      <th>%_nan</th>\n",
       "      <td>0.0</td>\n",
       "      <td>0.0</td>\n",
       "      <td>0.0</td>\n",
       "      <td>0.0</td>\n",
       "      <td>99.19</td>\n",
       "    </tr>\n",
       "    <tr>\n",
       "      <th>count</th>\n",
       "      <td>2756101.0</td>\n",
       "      <td>2756101.0</td>\n",
       "      <td>2756101</td>\n",
       "      <td>2756101.0</td>\n",
       "      <td>22457.0</td>\n",
       "    </tr>\n",
       "    <tr>\n",
       "      <th>unique</th>\n",
       "      <td>NaN</td>\n",
       "      <td>NaN</td>\n",
       "      <td>3</td>\n",
       "      <td>NaN</td>\n",
       "      <td>NaN</td>\n",
       "    </tr>\n",
       "    <tr>\n",
       "      <th>top</th>\n",
       "      <td>NaN</td>\n",
       "      <td>NaN</td>\n",
       "      <td>view</td>\n",
       "      <td>NaN</td>\n",
       "      <td>NaN</td>\n",
       "    </tr>\n",
       "    <tr>\n",
       "      <th>freq</th>\n",
       "      <td>NaN</td>\n",
       "      <td>NaN</td>\n",
       "      <td>2664312</td>\n",
       "      <td>NaN</td>\n",
       "      <td>NaN</td>\n",
       "    </tr>\n",
       "    <tr>\n",
       "      <th>mean</th>\n",
       "      <td>1436424488348.14</td>\n",
       "      <td>701922.88</td>\n",
       "      <td>NaN</td>\n",
       "      <td>234922.48</td>\n",
       "      <td>8826.5</td>\n",
       "    </tr>\n",
       "    <tr>\n",
       "      <th>std</th>\n",
       "      <td>3366312180.01</td>\n",
       "      <td>405687.52</td>\n",
       "      <td>NaN</td>\n",
       "      <td>134195.43</td>\n",
       "      <td>5099.0</td>\n",
       "    </tr>\n",
       "    <tr>\n",
       "      <th>min</th>\n",
       "      <td>1430622004384.0</td>\n",
       "      <td>0.0</td>\n",
       "      <td>NaN</td>\n",
       "      <td>3.0</td>\n",
       "      <td>0.0</td>\n",
       "    </tr>\n",
       "    <tr>\n",
       "      <th>25%</th>\n",
       "      <td>1433478194792.0</td>\n",
       "      <td>350566.0</td>\n",
       "      <td>NaN</td>\n",
       "      <td>118120.0</td>\n",
       "      <td>4411.0</td>\n",
       "    </tr>\n",
       "    <tr>\n",
       "      <th>50%</th>\n",
       "      <td>1436453013599.0</td>\n",
       "      <td>702060.0</td>\n",
       "      <td>NaN</td>\n",
       "      <td>236067.0</td>\n",
       "      <td>8813.0</td>\n",
       "    </tr>\n",
       "    <tr>\n",
       "      <th>75%</th>\n",
       "      <td>1439225105168.0</td>\n",
       "      <td>1053437.0</td>\n",
       "      <td>NaN</td>\n",
       "      <td>350715.0</td>\n",
       "      <td>13224.0</td>\n",
       "    </tr>\n",
       "    <tr>\n",
       "      <th>max</th>\n",
       "      <td>1442545187788.0</td>\n",
       "      <td>1407579.0</td>\n",
       "      <td>NaN</td>\n",
       "      <td>466867.0</td>\n",
       "      <td>17671.0</td>\n",
       "    </tr>\n",
       "  </tbody>\n",
       "</table>\n",
       "</div>"
      ],
      "text/plain": [
       "               timestamp  visitorid    event  \\\n",
       "type               int64      int64   object   \n",
       "nb_nan               0.0        0.0      0.0   \n",
       "%_nan                0.0        0.0      0.0   \n",
       "count          2756101.0  2756101.0  2756101   \n",
       "unique               NaN        NaN        3   \n",
       "top                  NaN        NaN     view   \n",
       "freq                 NaN        NaN  2664312   \n",
       "mean    1436424488348.14  701922.88      NaN   \n",
       "std        3366312180.01  405687.52      NaN   \n",
       "min      1430622004384.0        0.0      NaN   \n",
       "25%      1433478194792.0   350566.0      NaN   \n",
       "50%      1436453013599.0   702060.0      NaN   \n",
       "75%      1439225105168.0  1053437.0      NaN   \n",
       "max      1442545187788.0  1407579.0      NaN   \n",
       "\n",
       "           itemid transactionid  \n",
       "type        int64       float64  \n",
       "nb_nan        0.0     2733644.0  \n",
       "%_nan         0.0         99.19  \n",
       "count   2756101.0       22457.0  \n",
       "unique        NaN           NaN  \n",
       "top           NaN           NaN  \n",
       "freq          NaN           NaN  \n",
       "mean    234922.48        8826.5  \n",
       "std     134195.43        5099.0  \n",
       "min           3.0           0.0  \n",
       "25%      118120.0        4411.0  \n",
       "50%      236067.0        8813.0  \n",
       "75%      350715.0       13224.0  \n",
       "max      466867.0       17671.0  "
      ]
     },
     "execution_count": 3,
     "metadata": {},
     "output_type": "execute_result"
    }
   ],
   "source": [
    "# préparation de l'affichage des dataframes\n",
    "\n",
    "dico_pd_option = {\n",
    "    'display.max_rows': 100,    # nbre max de lignes \n",
    "    'display.max_column': 50,  # nbre max de colonnes\n",
    "    'display.width': 50,       # largeur lignes \n",
    "    'display.precision': 2,     # precision des valeurs\n",
    "    'display.max_colwidth': 50  # largeurs colonnes\n",
    "}\n",
    "for cle, val in dico_pd_option.items():\n",
    "    pd.set_option(cle, val) \n",
    "    \n",
    "    \n",
    "def desc_var(dataframe):\n",
    "    \"\"\"\n",
    "    Retourne la description des variables qualitatives/quantitatives\n",
    "    ou toutes les variables du dataframe transmis :\n",
    "    type, nombre de nan, % de nan et desc\n",
    "    Parameters\n",
    "    ----------\n",
    "    @param IN : dataframe : DataFrame, obligatoire\n",
    "\n",
    "    @param OUT : dataframe de description des variables\n",
    "    \"\"\"\n",
    "    df_taille = dataframe.shape[0]\n",
    "    # sélection de tous les types de variable dans describe()\n",
    "    desc_var = dataframe.describe(include='all')\n",
    "    # dataframe des types des colonnes transposé en ligne pour lecture finale\n",
    "    desc_type = pd.DataFrame(dataframe[desc_var.columns].dtypes, columns=['type']).T \n",
    "    # série du nombre de NaN par colonnes transposé en ligne pour df desc_nan ensuite\n",
    "    nb_nan = df_taille - desc_var.loc['count'].T\n",
    "    # série de calcul du %age de NaN par colonnes sur la série nb_nan\n",
    "    pourcentage_nan = nb_nan * 100 / df_taille\n",
    "    # dataframe de 2 lignes 'nb_nan' = serie nb_nan et '%nan'=serie pourcentage_nan\n",
    "    desc_nan = pd.DataFrame([nb_nan, pourcentage_nan], index=['nb_nan', '%_nan']) \n",
    "    # fusion de tous les dataframe créés\n",
    "    desc_var = pd.concat([desc_type, desc_nan, desc_var])\n",
    "    return desc_var\n",
    "\n",
    "# description des données\n",
    "desc_var(df)"
   ]
  },
  {
   "cell_type": "markdown",
   "id": "2c44e2dd-80ad-4f88-a4fa-094bbcb521fa",
   "metadata": {},
   "source": [
    "### Analyse 1\n",
    "- df très long en lignes 2.7 millions et que 5 colonnes sans target évidente => modele lent en calculset et quoi prédire ?\n",
    "    - => refaire un df + simple et adapté\n",
    "- itemid :  beaucoup trop de catégories\n",
    "    - quels sont les produits qui reviennent le + ?\n",
    "- transactionId : beaucoup de NaN  mais en fait correspondent à des non-transaction ( à vérifier )\n",
    "- timestamps : utilisables ? a retravailler, analyse temporelle ? format date ?\n",
    "- visitorid : pas d'info sur le comportement ?\n",
    "    - id identiques : plusieurs achats, analyse du comportement\n",
    "    - value_counts -> beaucoup d'uniques, des milliers de fois parfois, réencodage ?\n",
    "- event : nombre de 'view' important par rapport à \"addtocart\" et \"transaction\" => rééchantillonnage ?\n",
    "    - get_dummies : s'il y a addtocart ( ajouter au pânier) il y a vue ?  suppirmer ? analyser à part des vues et il y aurait que 2 catégories ( celles vues-non-achetées et celles vues-achetées )\n",
    "- value_counts indique que + un item est vu, + il est acheté\n",
    "- duplicated ?\n",
    "- se concentrer sur les visiteur : agregation = nbre de fois vue, quel item ?  => on ne fera pas cela mais intéressant !\n",
    "\n",
    "### analyse Lara\n",
    "- jeu de donnée super étroit -> restructurer\n",
    "- jeu de données tres long -> restructurer\n",
    "- fréquence des visitorid : est ce qu'ils focnt beaucoup de transaction ?\n",
    "- itemid : quels sont ceux qui ont le + de transactions ? + ceux qui étaient beaucoup vus, beaucoup mis au panier ? ...\n",
    "- timestamp : convertir la variable\n",
    "- transactionid : que des Nan ? est ce plutot une absence de transaction ? doublons ? verifier nulle pour les vues + addtocart\n",
    "- value_counts sur visitorid\n",
    "- event :view en majorité, puis ajout au panier, transaction assez faible"
   ]
  },
  {
   "cell_type": "code",
   "execution_count": 5,
   "id": "daba6790-1926-4f72-a63f-1776d4342607",
   "metadata": {},
   "outputs": [
    {
     "name": "stdout",
     "output_type": "stream",
     "text": [
      "<class 'pandas.core.frame.DataFrame'>\n",
      "RangeIndex: 2756101 entries, 0 to 2756100\n",
      "Data columns (total 5 columns):\n",
      " #   Column         Non-Null Count    Dtype  \n",
      "---  ------         --------------    -----  \n",
      " 0   timestamp      2756101 non-null  int64  \n",
      " 1   visitorid      2756101 non-null  int64  \n",
      " 2   event          2756101 non-null  object \n",
      " 3   itemid         2756101 non-null  int64  \n",
      " 4   transactionid  22457 non-null    float64\n",
      "dtypes: float64(1), int64(3), object(1)\n",
      "memory usage: 105.1+ MB\n",
      "None\n",
      "\n",
      "Taille du dataframe (2756101, 5)\n",
      "\n",
      "view           9.67e-01\n",
      "addtocart      2.52e-02\n",
      "transaction    8.15e-03\n",
      "Name: event, dtype: float64\n"
     ]
    }
   ],
   "source": [
    "print(df.info(show_counts=True), end=\"\\n\\n\")\n",
    "print(\"Taille du dataframe\", df.shape, end='\\n\\n')\n",
    "print(df.event.value_counts(normalize=True))"
   ]
  },
  {
   "cell_type": "markdown",
   "id": "3a81844e-83b2-45a2-9b5c-7a960a7ba25a",
   "metadata": {},
   "source": [
    "### suppression des duplicated"
   ]
  },
  {
   "cell_type": "code",
   "execution_count": 22,
   "id": "65f7cd34-ec51-4aff-af49-9d6e698c739a",
   "metadata": {},
   "outputs": [
    {
     "name": "stdout",
     "output_type": "stream",
     "text": [
      "nombre de lignes dupliquées : 460\n"
     ]
    }
   ],
   "source": [
    "# duplicated ?\n",
    "nb_lignes_dupliquees = df.duplicated().sum()  # sum() de serie bool\n",
    "print(\"nombre de lignes dupliquées :\", nb_lignes_dupliquees)"
   ]
  },
  {
   "cell_type": "code",
   "execution_count": 58,
   "id": "d7ed6890-b745-4d29-8c98-adf6122c62cb",
   "metadata": {},
   "outputs": [
    {
     "data": {
      "text/plain": [
       "(2755641, 5)"
      ]
     },
     "execution_count": 58,
     "metadata": {},
     "output_type": "execute_result"
    }
   ],
   "source": [
    "# effacement lignes dupliquées\n",
    "df.drop_duplicates(inplace=True)\n",
    "df.shape"
   ]
  },
  {
   "cell_type": "markdown",
   "id": "55c31d90-6b0c-4106-820d-70bf7eb4fe9b",
   "metadata": {},
   "source": [
    "### analyse des NaN pour décision"
   ]
  },
  {
   "cell_type": "code",
   "execution_count": 59,
   "id": "789e5eab-7c49-4ba7-b4ff-eecd8f6feb3e",
   "metadata": {},
   "outputs": [
    {
     "name": "stdout",
     "output_type": "stream",
     "text": [
      "NaN sur tout le df (2755641, 5) : timestamp              0\n",
      "visitorid              0\n",
      "event                  0\n",
      "itemid                 0\n",
      "transactionid    2733184\n",
      "dtype: int64\n"
     ]
    }
   ],
   "source": [
    "# verif des NaN sur la seule colonne 'transactionid'\n",
    "print(\"NaN sur tout le df (2755641, 5) :\",df.isna().sum())"
   ]
  },
  {
   "cell_type": "code",
   "execution_count": 60,
   "id": "fcd46021-dc66-449d-b5c9-e01d30584ad6",
   "metadata": {},
   "outputs": [
    {
     "name": "stdout",
     "output_type": "stream",
     "text": [
      "col_0              0      1\n",
      "event                      \n",
      "addtocart      68966      0\n",
      "transaction        0  22457\n",
      "view         2664218      0\n"
     ]
    }
   ],
   "source": [
    "# vérif si ces NaN ne correspondent pas à l'absence de transaction sur la variable 'event'\n",
    "# on convertit transactionid en 0 si nan et 1 sinon, puis on fait un tableau croisé\n",
    "print(pd.crosstab(df.event, np.where(df.transactionid.isna(), 0, 1)))  "
   ]
  },
  {
   "cell_type": "markdown",
   "id": "0a6b73fc-2516-4dd5-996e-2ac4c5258fa9",
   "metadata": {},
   "source": [
    "- on voit qu'il y a exactement 22457 transaction réalisées qui sont non NaN donc on garde les NaN car info vue ou mis dans panier sauf si achat réalisé !\n",
    "\n",
    "### analyse du datime bizarre 'timestamp' = 1430622004384 ...\n",
    "- utiliser to_datetime pour la transformer en type date"
   ]
  },
  {
   "cell_type": "code",
   "execution_count": 61,
   "id": "d351fbf5-a559-4e35-ac73-a40b67d57b6f",
   "metadata": {},
   "outputs": [
    {
     "data": {
      "text/plain": [
       "0         1970-01-01 00:23:53.221332117\n",
       "1         1970-01-01 00:23:53.224214164\n",
       "2         1970-01-01 00:23:53.221999827\n",
       "3         1970-01-01 00:23:53.221955914\n",
       "4         1970-01-01 00:23:53.221337106\n",
       "                       ...             \n",
       "2756096   1970-01-01 00:23:58.398785939\n",
       "2756097   1970-01-01 00:23:58.399813142\n",
       "2756098   1970-01-01 00:23:58.397820527\n",
       "2756099   1970-01-01 00:23:58.398530703\n",
       "2756100   1970-01-01 00:23:58.400163914\n",
       "Name: timestamp, Length: 2755641, dtype: datetime64[ns]"
      ]
     },
     "execution_count": 61,
     "metadata": {},
     "output_type": "execute_result"
    }
   ],
   "source": [
    "pd.to_datetime(df.timestamp)  # pb unité de temps car tout en 1970-01-01 sur 5 min => impossible !!!"
   ]
  },
  {
   "cell_type": "code",
   "execution_count": 62,
   "id": "3a24a1f9-4459-4951-a120-bcfacaa840de",
   "metadata": {},
   "outputs": [
    {
     "data": {
      "text/plain": [
       "0         2015-06-02 05:02:12.117\n",
       "1         2015-06-02 05:50:14.164\n",
       "2         2015-06-02 05:13:19.827\n",
       "3         2015-06-02 05:12:35.914\n",
       "4         2015-06-02 05:02:17.106\n",
       "                    ...          \n",
       "2756096   2015-08-01 03:13:05.939\n",
       "2756097   2015-08-01 03:30:13.142\n",
       "2756098   2015-08-01 02:57:00.527\n",
       "2756099   2015-08-01 03:08:50.703\n",
       "2756100   2015-08-01 03:36:03.914\n",
       "Name: timestamp, Length: 2755641, dtype: datetime64[ns]"
      ]
     },
     "execution_count": 62,
     "metadata": {},
     "output_type": "execute_result"
    }
   ],
   "source": [
    "pd.to_datetime(df.timestamp, unit='ms')  # juste pour voir => unit='ms' est la bonne unité !!!"
   ]
  },
  {
   "cell_type": "code",
   "execution_count": 63,
   "id": "6f9952df-7425-49ec-b415-b0383676fa13",
   "metadata": {},
   "outputs": [
    {
     "name": "stderr",
     "output_type": "stream",
     "text": [
      "C:\\Users\\UserPC\\AppData\\Local\\Temp\\ipykernel_11292\\3355231098.py:2: UserWarning: Pandas doesn't allow columns to be created via a new attribute name - see https://pandas.pydata.org/pandas-docs/stable/indexing.html#attribute-access\n",
      "  df.date = pd.to_datetime(df.timestamp, unit='ms')\n",
      "C:\\Users\\UserPC\\AppData\\Local\\Temp\\ipykernel_11292\\3355231098.py:3: FutureWarning: Treating datetime data as categorical rather than numeric in `.describe` is deprecated and will be removed in a future version of pandas. Specify `datetime_is_numeric=True` to silence this warning and adopt the future behavior now.\n",
      "  df.date.describe()\n"
     ]
    },
    {
     "data": {
      "text/plain": [
       "count                        2755641\n",
       "unique                       2750455\n",
       "top       2015-06-23 00:06:02.693000\n",
       "freq                               6\n",
       "first     2015-05-03 03:00:04.384000\n",
       "last      2015-09-18 02:59:47.788000\n",
       "Name: timestamp, dtype: object"
      ]
     },
     "execution_count": 63,
     "metadata": {},
     "output_type": "execute_result"
    }
   ],
   "source": [
    "# transformation de 'timestamp' en date_time et affichage du describe()\n",
    "df.date = pd.to_datetime(df.timestamp, unit='ms')\n",
    "df.date.describe()"
   ]
  },
  {
   "cell_type": "code",
   "execution_count": 64,
   "id": "6d2798d4-8147-4233-a6b3-f02044f8d0fb",
   "metadata": {},
   "outputs": [
    {
     "data": {
      "text/plain": [
       "0    439738\n",
       "1    447006\n",
       "2    431059\n",
       "3    418672\n",
       "4    379624\n",
       "5    305167\n",
       "6    334375\n",
       "Name: timestamp, dtype: int64"
      ]
     },
     "execution_count": 64,
     "metadata": {},
     "output_type": "execute_result"
    }
   ],
   "source": [
    "# voir le décompte des jours de la semaine => on voit lundi = 0 et dimanche = 6\n",
    "df.date.dt.weekday.value_counts().sort_index()"
   ]
  },
  {
   "cell_type": "code",
   "execution_count": 65,
   "id": "40195c3a-f1ea-4908-940f-17709d021190",
   "metadata": {},
   "outputs": [],
   "source": [
    "# extraction des infos de cette variable 'date' nouvelle\n",
    "# mois\n",
    "df['month'] = df.date.dt.month\n",
    "# jour de la semaine\n",
    "df['weekday'] = df.date.dt.weekday\n",
    "# week-end ( dimanche = jour 6 en US et samedi jour 5 ) => 1 = oui si sam/dim et 0 = non sinon\n",
    "df['weekend'] = np.where(df['weekday'].isin([5,6]), 1, 0)\n",
    "# jour du mois\n",
    "df['day'] = df.date.dt.day\n",
    "# heure\n",
    "df['hour'] = df.date.dt.hour"
   ]
  },
  {
   "cell_type": "markdown",
   "id": "3bc3dd2c-86fd-421b-923a-d9d455c098b7",
   "metadata": {},
   "source": [
    "### quelques idées\n",
    "- durée de vie d'un visiteur\n",
    "- abandons panier\n",
    "- produits les + vendus\n",
    "- miser sur les produits qui se vendent le + et faire recommandations\n",
    "- approche produit :\n",
    "   - nombre de vues\n",
    "   - taux de conversion : trnascations par items / vues par item\n",
    "   - indicateur d'attractivité : ajout panier par items / vues par items\n",
    "   - accessibilité ! transaction par item / ajout au panier par item\n",
    "- approche visiteur\n",
    "   - taux de conversion : transaction par visiteur / vues par visiteur\n",
    "   - nbre d'itemid par visiteur : nombre de produits vus par 1 seul visiteur\n",
    "   - fenetre de temps passé sur le site\n",
    "- autres\n",
    "   - moteur de recommandation ( clustering ? produits les + achetés etc.... )\n",
    "   -aproche temporelle analytique\n",
    "   \n",
    "### quelques analyses graphiques"
   ]
  },
  {
   "cell_type": "code",
   "execution_count": 66,
   "id": "44c6a2fb-71aa-4990-85d7-9bf8841c1180",
   "metadata": {},
   "outputs": [
    {
     "data": {
      "image/png": "[encoded data removed]",
      "text/plain": [
       "<Figure size 432x288 with 1 Axes>"
      ]
     },
     "metadata": {},
     "output_type": "display_data"
    },
    {
     "data": {
      "image/png": "[encoded data removed]",
      "text/plain": [
       "<Figure size 432x288 with 1 Axes>"
      ]
     },
     "metadata": {},
     "output_type": "display_data"
    }
   ],
   "source": [
    "sns.countplot(x=\"event\", hue=\"weekend\", data=df);\n",
    "plt.show()\n",
    "\n",
    "# faire analyse en proportion est mieux car 5 jours hors semine contre  2 jour en week-end => graph déséquilibré !!\n",
    "\n",
    "graph = (df.groupby(['weekend'])['event']\n",
    "         .value_counts(normalize=True)\n",
    "         .rename('percentage')\n",
    "         .mul(100)\n",
    "         .reset_index()\n",
    "         .sort_values('event'))\n",
    "         \n",
    "p = sns.barplot(x='event', y='percentage', hue='weekend', data = graph);\n",
    "\n",
    "graph = plt.setp(p.get_xticklabels(), rotation=0);\n",
    "plt.show()\n",
    "# graph + pertinent car %"
   ]
  },
  {
   "cell_type": "code",
   "execution_count": 67,
   "id": "8c5c0b98-49ae-4bac-bdc9-0261e7a845d1",
   "metadata": {},
   "outputs": [
    {
     "data": {
      "text/plain": [
       "Text(0, 0.5, 'number of transaction')"
      ]
     },
     "execution_count": 67,
     "metadata": {},
     "output_type": "execute_result"
    },
    {
     "data": {
      "image/png": "[encoded data removed]",
      "text/plain": [
       "<Figure size 1296x216 with 3 Axes>"
      ]
     },
     "metadata": {},
     "output_type": "display_data"
    },
    {
     "data": {
      "image/png": "[encoded data removed]",
      "text/plain": [
       "<Figure size 1296x216 with 3 Axes>"
      ]
     },
     "metadata": {},
     "output_type": "display_data"
    },
    {
     "data": {
      "image/png": "[encoded data removed]",
      "text/plain": [
       "<Figure size 1152x216 with 2 Axes>"
      ]
     },
     "metadata": {},
     "output_type": "display_data"
    }
   ],
   "source": [
    "sns.set_theme()\n",
    "\n",
    "f, axes = plt.subplots(1, 3, figsize=(18,3))\n",
    "ax1 = sns.countplot(x='weekday', data=df.loc[df['event'] == \"view\", ['event', 'weekday']], ax=axes[0] )\n",
    "ax1.set_ylabel(\"number of view\", size = 10)\n",
    "ax2 = sns.countplot(x='weekday', data = df.loc[df['event'] == \"transaction\", ['event', 'weekday']], ax=axes[1] )\n",
    "ax2.set_ylabel(\"number of transaction\", size = 10)\n",
    "ax3 = sns.countplot(x='weekday', data = df.loc[df['event'] == \"addtocart\", ['event', 'weekday']], ax=axes[2] )\n",
    "ax3.set_ylabel(\"number of add to cart\", size = 10)\n",
    "\n",
    "f, axes = plt.subplots(1, 3, figsize=(18,3))\n",
    "ax1 = sns.countplot(x='month', data=df.loc[df['event'] == \"view\", ['event', 'month']], ax=axes[0] )\n",
    "ax1.set_ylabel(\"number of view\", size = 10)\n",
    "ax2 = sns.countplot(x='month', data = df.loc[df['event'] == \"transaction\", ['event', 'month']], ax=axes[1] )\n",
    "ax2.set_ylabel(\"number of transaction\", size = 10)\n",
    "ax3 = sns.countplot(x='month', data = df.loc[df['event'] == \"addtocart\", ['event', 'month']], ax=axes[2] )\n",
    "ax3.set_ylabel(\"number of add to cart\", size = 10)\n",
    "\n",
    "f, axes = plt.subplots(1, 2, figsize=(16,3))\n",
    "ax1 = sns.countplot(x='hour', data=df.loc[df['event'] == \"transaction\", ['event', 'hour']], ax=axes[0] )\n",
    "ax1.set_ylabel(\"number of view\", size = 10)\n",
    "ax2 = sns.countplot(x='hour', data = df.loc[df['event'] == \"view\", ['event', 'hour']], ax=axes[1] )\n",
    "ax2.set_ylabel(\"number of transaction\", size = 10)\n",
    "\n",
    "\n"
   ]
  },
  {
   "cell_type": "markdown",
   "id": "4ab5cc91-fc54-454f-a816-8211db1be396",
   "metadata": {},
   "source": [
    "### ajout de colonnes autre df sur les produits"
   ]
  },
  {
   "cell_type": "code",
   "execution_count": 68,
   "id": "2109fc07-85c9-4bd1-a487-893e566e3ccf",
   "metadata": {},
   "outputs": [],
   "source": [
    "item_1 = pd.read_csv(\"item_properties_part1.csv\")"
   ]
  },
  {
   "cell_type": "code",
   "execution_count": 69,
   "id": "b300d950-3205-40d2-92bf-97143040bcf9",
   "metadata": {},
   "outputs": [],
   "source": [
    "item_2 = pd.read_csv(\"item_properties_part2.csv\")"
   ]
  },
  {
   "cell_type": "code",
   "execution_count": 70,
   "id": "902d2043-7f2c-41d0-b575-e0f67aa1a708",
   "metadata": {},
   "outputs": [],
   "source": [
    "tree = pd.read_csv(\"category_tree.csv\")"
   ]
  },
  {
   "cell_type": "code",
   "execution_count": 71,
   "id": "2842fa84-0c51-4d55-96a1-a0e701fda643",
   "metadata": {},
   "outputs": [],
   "source": [
    "# on concatene item 1 et 2 sur les lignes car memes colonnes\n",
    "item = pd.concat([item_1, item_2], axis=0)"
   ]
  },
  {
   "cell_type": "code",
   "execution_count": 72,
   "id": "2ce5cf33-f659-4c1a-89c5-ae74b1c8e782",
   "metadata": {},
   "outputs": [
    {
     "name": "stdout",
     "output_type": "stream",
     "text": [
      "Index(['timestamp', 'visitorid', 'event',\n",
      "       'itemid', 'transactionid', 'month',\n",
      "       'weekday', 'weekend', 'day', 'hour'],\n",
      "      dtype='object')\n",
      "Index(['timestamp', 'itemid', 'property',\n",
      "       'value'],\n",
      "      dtype='object')\n",
      "Index(['categoryid', 'parentid'], dtype='object')\n"
     ]
    }
   ],
   "source": [
    "print(df.columns)\n",
    "print(item.columns)\n",
    "print(tree.columns)"
   ]
  },
  {
   "cell_type": "markdown",
   "id": "7cc23329-2ff3-47f3-92b6-7cf11a12ea39",
   "metadata": {},
   "source": [
    "### analyse des 3 autres jeux de données\n",
    "\n",
    "- entre df et titem 2 variables communes : itemid et timestamp => info produits\n",
    "- variable 'property' et 'value' rensignent sur la disponibilité => clé de jointure entre 1er jue de donnée et les nouveaux\n",
    "- nous construisons donc 2 nouveaux dataframes : 1 pour avaibility et 1 pour categoryid des produits\n",
    "- on considérera aussi la variable temps qui peut influencer sur la disponibilité des produits"
   ]
  },
  {
   "cell_type": "code",
   "execution_count": 73,
   "id": "59fb2302-9c82-400f-b5a4-fc90e6f7b529",
   "metadata": {},
   "outputs": [
    {
     "data": {
      "text/html": [
       "<div>\n",
       "<style scoped>\n",
       "    .dataframe tbody tr th:only-of-type {\n",
       "        vertical-align: middle;\n",
       "    }\n",
       "\n",
       "    .dataframe tbody tr th {\n",
       "        vertical-align: top;\n",
       "    }\n",
       "\n",
       "    .dataframe thead th {\n",
       "        text-align: right;\n",
       "    }\n",
       "</style>\n",
       "<table border=\"1\" class=\"dataframe\">\n",
       "  <thead>\n",
       "    <tr style=\"text-align: right;\">\n",
       "      <th></th>\n",
       "      <th>timestamp</th>\n",
       "      <th>itemid</th>\n",
       "      <th>property</th>\n",
       "      <th>value</th>\n",
       "    </tr>\n",
       "  </thead>\n",
       "  <tbody>\n",
       "    <tr>\n",
       "      <th>0</th>\n",
       "      <td>1435460400000</td>\n",
       "      <td>460429</td>\n",
       "      <td>categoryid</td>\n",
       "      <td>1338</td>\n",
       "    </tr>\n",
       "    <tr>\n",
       "      <th>1</th>\n",
       "      <td>1441508400000</td>\n",
       "      <td>206783</td>\n",
       "      <td>888</td>\n",
       "      <td>1116713 960601 n277.200</td>\n",
       "    </tr>\n",
       "    <tr>\n",
       "      <th>2</th>\n",
       "      <td>1439089200000</td>\n",
       "      <td>395014</td>\n",
       "      <td>400</td>\n",
       "      <td>n552.000 639502 n720.000 424566</td>\n",
       "    </tr>\n",
       "    <tr>\n",
       "      <th>3</th>\n",
       "      <td>1431226800000</td>\n",
       "      <td>59481</td>\n",
       "      <td>790</td>\n",
       "      <td>n15360.000</td>\n",
       "    </tr>\n",
       "    <tr>\n",
       "      <th>4</th>\n",
       "      <td>1431831600000</td>\n",
       "      <td>156781</td>\n",
       "      <td>917</td>\n",
       "      <td>828513</td>\n",
       "    </tr>\n",
       "    <tr>\n",
       "      <th>...</th>\n",
       "      <td>...</td>\n",
       "      <td>...</td>\n",
       "      <td>...</td>\n",
       "      <td>...</td>\n",
       "    </tr>\n",
       "    <tr>\n",
       "      <th>9275898</th>\n",
       "      <td>1433646000000</td>\n",
       "      <td>236931</td>\n",
       "      <td>929</td>\n",
       "      <td>n12.000</td>\n",
       "    </tr>\n",
       "    <tr>\n",
       "      <th>9275899</th>\n",
       "      <td>1440903600000</td>\n",
       "      <td>455746</td>\n",
       "      <td>6</td>\n",
       "      <td>150169 639134</td>\n",
       "    </tr>\n",
       "    <tr>\n",
       "      <th>9275900</th>\n",
       "      <td>1439694000000</td>\n",
       "      <td>347565</td>\n",
       "      <td>686</td>\n",
       "      <td>610834</td>\n",
       "    </tr>\n",
       "    <tr>\n",
       "      <th>9275901</th>\n",
       "      <td>1433646000000</td>\n",
       "      <td>287231</td>\n",
       "      <td>867</td>\n",
       "      <td>769062</td>\n",
       "    </tr>\n",
       "    <tr>\n",
       "      <th>9275902</th>\n",
       "      <td>1442113200000</td>\n",
       "      <td>275768</td>\n",
       "      <td>888</td>\n",
       "      <td>888666 n10800.000 746840 1318567</td>\n",
       "    </tr>\n",
       "  </tbody>\n",
       "</table>\n",
       "<p>20275902 rows × 4 columns</p>\n",
       "</div>"
      ],
      "text/plain": [
       "             timestamp  itemid    property  \\\n",
       "0        1435460400000  460429  categoryid   \n",
       "1        1441508400000  206783         888   \n",
       "2        1439089200000  395014         400   \n",
       "3        1431226800000   59481         790   \n",
       "4        1431831600000  156781         917   \n",
       "...                ...     ...         ...   \n",
       "9275898  1433646000000  236931         929   \n",
       "9275899  1440903600000  455746           6   \n",
       "9275900  1439694000000  347565         686   \n",
       "9275901  1433646000000  287231         867   \n",
       "9275902  1442113200000  275768         888   \n",
       "\n",
       "                                    value  \n",
       "0                                    1338  \n",
       "1                 1116713 960601 n277.200  \n",
       "2         n552.000 639502 n720.000 424566  \n",
       "3                              n15360.000  \n",
       "4                                  828513  \n",
       "...                                   ...  \n",
       "9275898                           n12.000  \n",
       "9275899                     150169 639134  \n",
       "9275900                            610834  \n",
       "9275901                            769062  \n",
       "9275902  888666 n10800.000 746840 1318567  \n",
       "\n",
       "[20275902 rows x 4 columns]"
      ]
     },
     "execution_count": 73,
     "metadata": {},
     "output_type": "execute_result"
    }
   ],
   "source": [
    "item"
   ]
  },
  {
   "cell_type": "markdown",
   "id": "f686c5a9-ada2-4a75-8815-f7ca633386bf",
   "metadata": {},
   "source": [
    "- on voit que\n",
    "- le timestamps ici devrait etre la dispo au temps t du produit itemid\n",
    "- dans property on a categoryid ou  des numeros\n",
    "- dans value il y a le n° de la categoryid\n"
   ]
  },
  {
   "cell_type": "code",
   "execution_count": 74,
   "id": "44b85b03-e013-46e9-afb2-f226e1440d29",
   "metadata": {},
   "outputs": [],
   "source": [
    "# etape 1 : on supprime les itemid qui sont presents dans le nouveau dataframe et pas dans l'ancien\n",
    "# puis on fait de meme pour df ( verif au prealable )\n",
    "\n",
    "item = item[item['itemid'].isin(df['itemid'])]\n",
    "\n",
    "df = df[df['itemid'].isin(item['itemid'])]"
   ]
  },
  {
   "cell_type": "code",
   "execution_count": 75,
   "id": "fa0b089e-3e5f-4bbb-b136-b96f876d4aca",
   "metadata": {},
   "outputs": [],
   "source": [
    "# etape 2 : obtention des 2 new dataframes\n",
    "\n",
    "item_availability = item.loc[item.property == 'available'].sort_values(by='itemid')\n",
    "\n",
    "item_categoryid = item.loc[item.property == 'categoryid'].sort_values(by='itemid')\n"
   ]
  },
  {
   "cell_type": "code",
   "execution_count": 76,
   "id": "5b57e264-7b20-4b59-bfeb-ddd3654e89dd",
   "metadata": {},
   "outputs": [],
   "source": [
    "# etape 3 : jointures\n",
    "\n",
    "merged_1 = pd.merge_asof(df.sort_values(by='timestamp'),\n",
    "                                        item_availability.sort_values(by='timestamp'),\n",
    "                                        on='timestamp',\n",
    "                                        by='itemid',\n",
    "                                        direction='nearest').sort_values(by='itemid')"
   ]
  },
  {
   "cell_type": "code",
   "execution_count": 77,
   "id": "f097c3db-a974-4ed5-91bf-233b63ea4a05",
   "metadata": {},
   "outputs": [],
   "source": [
    "merged_2 = pd.merge_asof(merged_1.sort_values(by='timestamp'),\n",
    "                                        item_categoryid.sort_values(by='timestamp'),\n",
    "                                        on='timestamp',\n",
    "                                        by='itemid',\n",
    "                                        direction='nearest').sort_values(by='itemid')"
   ]
  },
  {
   "cell_type": "code",
   "execution_count": 78,
   "id": "aef02f69-4719-4560-bece-73349f09bbe8",
   "metadata": {},
   "outputs": [],
   "source": [
    "data = merged_2.rename(columns={'value_x':'available', 'value_y':'categoryid'}).drop(['property_x', 'property_y'], axis=1)"
   ]
  },
  {
   "cell_type": "code",
   "execution_count": 79,
   "id": "97bc9d5f-ed88-4e2f-88c6-144e0c2637fc",
   "metadata": {},
   "outputs": [],
   "source": [
    "data['categoryid'] = data['categoryid'].astype(float)\n",
    "\n",
    "data = pd.merge(data, tree, how='left', on='categoryid')"
   ]
  },
  {
   "cell_type": "code",
   "execution_count": 80,
   "id": "285e8f9b-33c4-4d77-9fcf-3c6d38a2a286",
   "metadata": {},
   "outputs": [
    {
     "data": {
      "text/html": [
       "<div>\n",
       "<style scoped>\n",
       "    .dataframe tbody tr th:only-of-type {\n",
       "        vertical-align: middle;\n",
       "    }\n",
       "\n",
       "    .dataframe tbody tr th {\n",
       "        vertical-align: top;\n",
       "    }\n",
       "\n",
       "    .dataframe thead th {\n",
       "        text-align: right;\n",
       "    }\n",
       "</style>\n",
       "<table border=\"1\" class=\"dataframe\">\n",
       "  <thead>\n",
       "    <tr style=\"text-align: right;\">\n",
       "      <th></th>\n",
       "      <th>timestamp</th>\n",
       "      <th>visitorid</th>\n",
       "      <th>event</th>\n",
       "      <th>itemid</th>\n",
       "      <th>transactionid</th>\n",
       "      <th>month</th>\n",
       "      <th>weekday</th>\n",
       "      <th>weekend</th>\n",
       "      <th>day</th>\n",
       "      <th>hour</th>\n",
       "      <th>available</th>\n",
       "      <th>categoryid</th>\n",
       "      <th>parentid</th>\n",
       "    </tr>\n",
       "  </thead>\n",
       "  <tbody>\n",
       "    <tr>\n",
       "      <th>0</th>\n",
       "      <td>1439922640493</td>\n",
       "      <td>370720</td>\n",
       "      <td>view</td>\n",
       "      <td>3</td>\n",
       "      <td>NaN</td>\n",
       "      <td>8</td>\n",
       "      <td>1</td>\n",
       "      <td>0</td>\n",
       "      <td>18</td>\n",
       "      <td>18</td>\n",
       "      <td>0</td>\n",
       "      <td>1171.0</td>\n",
       "      <td>938.0</td>\n",
       "    </tr>\n",
       "    <tr>\n",
       "      <th>1</th>\n",
       "      <td>1441031942792</td>\n",
       "      <td>639016</td>\n",
       "      <td>view</td>\n",
       "      <td>3</td>\n",
       "      <td>NaN</td>\n",
       "      <td>8</td>\n",
       "      <td>0</td>\n",
       "      <td>0</td>\n",
       "      <td>31</td>\n",
       "      <td>14</td>\n",
       "      <td>0</td>\n",
       "      <td>1171.0</td>\n",
       "      <td>938.0</td>\n",
       "    </tr>\n",
       "    <tr>\n",
       "      <th>2</th>\n",
       "      <td>1441044360244</td>\n",
       "      <td>905555</td>\n",
       "      <td>view</td>\n",
       "      <td>4</td>\n",
       "      <td>NaN</td>\n",
       "      <td>8</td>\n",
       "      <td>0</td>\n",
       "      <td>0</td>\n",
       "      <td>31</td>\n",
       "      <td>18</td>\n",
       "      <td>0</td>\n",
       "      <td>1038.0</td>\n",
       "      <td>1174.0</td>\n",
       "    </tr>\n",
       "    <tr>\n",
       "      <th>3</th>\n",
       "      <td>1435647791545</td>\n",
       "      <td>1042455</td>\n",
       "      <td>view</td>\n",
       "      <td>4</td>\n",
       "      <td>NaN</td>\n",
       "      <td>6</td>\n",
       "      <td>1</td>\n",
       "      <td>0</td>\n",
       "      <td>30</td>\n",
       "      <td>7</td>\n",
       "      <td>0</td>\n",
       "      <td>1038.0</td>\n",
       "      <td>1174.0</td>\n",
       "    </tr>\n",
       "    <tr>\n",
       "      <th>4</th>\n",
       "      <td>1442359364099</td>\n",
       "      <td>1010132</td>\n",
       "      <td>view</td>\n",
       "      <td>4</td>\n",
       "      <td>NaN</td>\n",
       "      <td>9</td>\n",
       "      <td>1</td>\n",
       "      <td>0</td>\n",
       "      <td>15</td>\n",
       "      <td>23</td>\n",
       "      <td>0</td>\n",
       "      <td>1038.0</td>\n",
       "      <td>1174.0</td>\n",
       "    </tr>\n",
       "  </tbody>\n",
       "</table>\n",
       "</div>"
      ],
      "text/plain": [
       "       timestamp  visitorid event  itemid  \\\n",
       "0  1439922640493     370720  view       3   \n",
       "1  1441031942792     639016  view       3   \n",
       "2  1441044360244     905555  view       4   \n",
       "3  1435647791545    1042455  view       4   \n",
       "4  1442359364099    1010132  view       4   \n",
       "\n",
       "   transactionid  month  weekday  weekend  day  \\\n",
       "0            NaN      8        1        0   18   \n",
       "1            NaN      8        0        0   31   \n",
       "2            NaN      8        0        0   31   \n",
       "3            NaN      6        1        0   30   \n",
       "4            NaN      9        1        0   15   \n",
       "\n",
       "   hour available  categoryid  parentid  \n",
       "0    18         0      1171.0     938.0  \n",
       "1    14         0      1171.0     938.0  \n",
       "2    18         0      1038.0    1174.0  \n",
       "3     7         0      1038.0    1174.0  \n",
       "4    23         0      1038.0    1174.0  "
      ]
     },
     "execution_count": 80,
     "metadata": {},
     "output_type": "execute_result"
    }
   ],
   "source": [
    "data.head()"
   ]
  },
  {
   "cell_type": "markdown",
   "id": "a6938c37-9224-4bd9-910e-b8402e3ee8b8",
   "metadata": {},
   "source": [
    "### tranformation de notre dataframe pour modelisation\n",
    "- maintenant qu'on a un dataframe + riche, on va essayer de le transformer pour obtenir un df utilisable pour 1 modelisation"
   ]
  },
  {
   "cell_type": "code",
   "execution_count": 81,
   "id": "c2e12548-cf6d-4555-9755-1e1f30505417",
   "metadata": {},
   "outputs": [],
   "source": [
    "data[['addtocart', 'transaction', 'view']] = pd.get_dummies(data['event'])\n",
    "\n",
    "aggregation = {'addtocart':'sum',\n",
    "               'transaction':'sum',\n",
    "               'view':'sum',\n",
    "               'available':pd.Series.mode,\n",
    "               'categoryid':'first',\n",
    "               'parentid':'first',\n",
    "               'month':'nunique',\n",
    "               'visitorid':'nunique'}\n",
    "\n",
    "item_data = data.groupby('itemid').agg(aggregation)"
   ]
  },
  {
   "cell_type": "markdown",
   "id": "a4093878-fd08-4ab1-8a80-94932e1f9a16",
   "metadata": {},
   "source": [
    "### quelques analyses graphiques supplémentaires"
   ]
  },
  {
   "cell_type": "code",
   "execution_count": 82,
   "id": "cbc5920f-15e3-47cc-9d1c-7e2db22b9464",
   "metadata": {},
   "outputs": [
    {
     "data": {
      "image/png": "[encoded data removed]",
      "text/plain": [
       "<Figure size 432x288 with 1 Axes>"
      ]
     },
     "metadata": {},
     "output_type": "display_data"
    },
    {
     "data": {
      "image/png": "[encoded data removed]",
      "text/plain": [
       "<Figure size 432x288 with 1 Axes>"
      ]
     },
     "metadata": {},
     "output_type": "display_data"
    }
   ],
   "source": [
    "df2 = item_data[['addtocart','transaction','view']]\n",
    "\n",
    "df2['view'].nlargest(n=5).plot.bar()\n",
    "plt.show()\n",
    "\n",
    "df2['transaction'].nlargest(n=5).plot.bar()\n",
    "plt.show()"
   ]
  },
  {
   "cell_type": "markdown",
   "id": "0a7c1d41-2910-4ae2-a60b-9c1e1b0f131f",
   "metadata": {},
   "source": [
    "### modelisation et target\n",
    "- la colonne qu'on va pouvoir prédire est la colonne 'transaction', on cherche à déterminer si un produit s'est vendu ou non et quelles sont les caractéristiques qui détermine cela"
   ]
  },
  {
   "cell_type": "code",
   "execution_count": 83,
   "id": "c03669d0-83f4-4ba8-af96-bcb5ec40719d",
   "metadata": {},
   "outputs": [],
   "source": [
    "item_data['available'] = item_data['available'].apply(lambda x : x[0]).astype(int)\n",
    "\n",
    "item_data['target'] = np.where(item_data['transaction'] > 0, 1, 0)\n",
    "\n",
    "item_data_reg = item_data.drop('target', axis=1)\n",
    "\n",
    "item_data_class = item_data.drop('transaction', axis=1)"
   ]
  },
  {
   "cell_type": "markdown",
   "id": "5c90f49c-cff9-42aa-be8a-c4242e99d680",
   "metadata": {},
   "source": [
    "### regression"
   ]
  },
  {
   "cell_type": "code",
   "execution_count": 84,
   "id": "48e5750c-187c-4d6e-ac5b-369696fba4bf",
   "metadata": {},
   "outputs": [],
   "source": [
    "from sklearn.model_selection import train_test_split\n",
    "from sklearn.ensemble import GradientBoostingRegressor"
   ]
  },
  {
   "cell_type": "code",
   "execution_count": 87,
   "id": "fa6a71d8-9cfa-4e89-bfa4-2b9f63abb2b0",
   "metadata": {},
   "outputs": [
    {
     "data": {
      "text/plain": [
       "0.5186179510121034"
      ]
     },
     "execution_count": 87,
     "metadata": {},
     "output_type": "execute_result"
    }
   ],
   "source": [
    "X = item_data_reg.drop('transaction', axis=1)\n",
    "\n",
    "y = item_data_reg['transaction']\n",
    "\n",
    "X_train, X_test, y_train, y_test = train_test_split(X, y, test_size=0.2, random_state=42)\n",
    "\n",
    "model = GradientBoostingRegressor()\n",
    "model.fit(X_train, y_train)\n",
    "\n",
    "model.score(X_test, y_test)"
   ]
  },
  {
   "cell_type": "markdown",
   "id": "e1bd1cb3-d137-41ce-a469-df30d95243c8",
   "metadata": {},
   "source": [
    "- on obtient un score mitigé, on va essayer une clmassification\n",
    "\n",
    "### classification"
   ]
  },
  {
   "cell_type": "code",
   "execution_count": 88,
   "id": "062938d2-4567-4b8c-95f8-1d2f382acfac",
   "metadata": {},
   "outputs": [
    {
     "data": {
      "text/html": [
       "<div>\n",
       "<style scoped>\n",
       "    .dataframe tbody tr th:only-of-type {\n",
       "        vertical-align: middle;\n",
       "    }\n",
       "\n",
       "    .dataframe tbody tr th {\n",
       "        vertical-align: top;\n",
       "    }\n",
       "\n",
       "    .dataframe thead th {\n",
       "        text-align: right;\n",
       "    }\n",
       "</style>\n",
       "<table border=\"1\" class=\"dataframe\">\n",
       "  <thead>\n",
       "    <tr style=\"text-align: right;\">\n",
       "      <th></th>\n",
       "      <th>addtocart</th>\n",
       "      <th>view</th>\n",
       "      <th>available</th>\n",
       "      <th>categoryid</th>\n",
       "      <th>parentid</th>\n",
       "      <th>month</th>\n",
       "      <th>visitorid</th>\n",
       "      <th>target</th>\n",
       "    </tr>\n",
       "    <tr>\n",
       "      <th>itemid</th>\n",
       "      <th></th>\n",
       "      <th></th>\n",
       "      <th></th>\n",
       "      <th></th>\n",
       "      <th></th>\n",
       "      <th></th>\n",
       "      <th></th>\n",
       "      <th></th>\n",
       "    </tr>\n",
       "  </thead>\n",
       "  <tbody>\n",
       "    <tr>\n",
       "      <th>3</th>\n",
       "      <td>0.0</td>\n",
       "      <td>2.0</td>\n",
       "      <td>0</td>\n",
       "      <td>1171.0</td>\n",
       "      <td>938.0</td>\n",
       "      <td>1</td>\n",
       "      <td>2</td>\n",
       "      <td>0</td>\n",
       "    </tr>\n",
       "    <tr>\n",
       "      <th>4</th>\n",
       "      <td>0.0</td>\n",
       "      <td>3.0</td>\n",
       "      <td>0</td>\n",
       "      <td>1038.0</td>\n",
       "      <td>1174.0</td>\n",
       "      <td>3</td>\n",
       "      <td>3</td>\n",
       "      <td>0</td>\n",
       "    </tr>\n",
       "    <tr>\n",
       "      <th>6</th>\n",
       "      <td>0.0</td>\n",
       "      <td>29.0</td>\n",
       "      <td>1</td>\n",
       "      <td>1091.0</td>\n",
       "      <td>573.0</td>\n",
       "      <td>4</td>\n",
       "      <td>26</td>\n",
       "      <td>0</td>\n",
       "    </tr>\n",
       "    <tr>\n",
       "      <th>15</th>\n",
       "      <td>3.0</td>\n",
       "      <td>18.0</td>\n",
       "      <td>1</td>\n",
       "      <td>722.0</td>\n",
       "      <td>1110.0</td>\n",
       "      <td>3</td>\n",
       "      <td>13</td>\n",
       "      <td>1</td>\n",
       "    </tr>\n",
       "    <tr>\n",
       "      <th>16</th>\n",
       "      <td>0.0</td>\n",
       "      <td>15.0</td>\n",
       "      <td>0</td>\n",
       "      <td>333.0</td>\n",
       "      <td>1497.0</td>\n",
       "      <td>5</td>\n",
       "      <td>14</td>\n",
       "      <td>0</td>\n",
       "    </tr>\n",
       "    <tr>\n",
       "      <th>...</th>\n",
       "      <td>...</td>\n",
       "      <td>...</td>\n",
       "      <td>...</td>\n",
       "      <td>...</td>\n",
       "      <td>...</td>\n",
       "      <td>...</td>\n",
       "      <td>...</td>\n",
       "      <td>...</td>\n",
       "    </tr>\n",
       "    <tr>\n",
       "      <th>466858</th>\n",
       "      <td>0.0</td>\n",
       "      <td>6.0</td>\n",
       "      <td>1</td>\n",
       "      <td>1191.0</td>\n",
       "      <td>61.0</td>\n",
       "      <td>4</td>\n",
       "      <td>6</td>\n",
       "      <td>0</td>\n",
       "    </tr>\n",
       "    <tr>\n",
       "      <th>466861</th>\n",
       "      <td>5.0</td>\n",
       "      <td>89.0</td>\n",
       "      <td>1</td>\n",
       "      <td>1051.0</td>\n",
       "      <td>955.0</td>\n",
       "      <td>5</td>\n",
       "      <td>76</td>\n",
       "      <td>1</td>\n",
       "    </tr>\n",
       "    <tr>\n",
       "      <th>466862</th>\n",
       "      <td>0.0</td>\n",
       "      <td>4.0</td>\n",
       "      <td>0</td>\n",
       "      <td>1376.0</td>\n",
       "      <td>480.0</td>\n",
       "      <td>3</td>\n",
       "      <td>4</td>\n",
       "      <td>0</td>\n",
       "    </tr>\n",
       "    <tr>\n",
       "      <th>466863</th>\n",
       "      <td>0.0</td>\n",
       "      <td>1.0</td>\n",
       "      <td>0</td>\n",
       "      <td>173.0</td>\n",
       "      <td>788.0</td>\n",
       "      <td>1</td>\n",
       "      <td>1</td>\n",
       "      <td>0</td>\n",
       "    </tr>\n",
       "    <tr>\n",
       "      <th>466864</th>\n",
       "      <td>2.0</td>\n",
       "      <td>89.0</td>\n",
       "      <td>1</td>\n",
       "      <td>373.0</td>\n",
       "      <td>340.0</td>\n",
       "      <td>5</td>\n",
       "      <td>58</td>\n",
       "      <td>0</td>\n",
       "    </tr>\n",
       "  </tbody>\n",
       "</table>\n",
       "<p>185246 rows × 8 columns</p>\n",
       "</div>"
      ],
      "text/plain": [
       "        addtocart  view  available  categoryid  \\\n",
       "itemid                                           \n",
       "3             0.0   2.0          0      1171.0   \n",
       "4             0.0   3.0          0      1038.0   \n",
       "6             0.0  29.0          1      1091.0   \n",
       "15            3.0  18.0          1       722.0   \n",
       "16            0.0  15.0          0       333.0   \n",
       "...           ...   ...        ...         ...   \n",
       "466858        0.0   6.0          1      1191.0   \n",
       "466861        5.0  89.0          1      1051.0   \n",
       "466862        0.0   4.0          0      1376.0   \n",
       "466863        0.0   1.0          0       173.0   \n",
       "466864        2.0  89.0          1       373.0   \n",
       "\n",
       "        parentid  month  visitorid  target  \n",
       "itemid                                      \n",
       "3          938.0      1          2       0  \n",
       "4         1174.0      3          3       0  \n",
       "6          573.0      4         26       0  \n",
       "15        1110.0      3         13       1  \n",
       "16        1497.0      5         14       0  \n",
       "...          ...    ...        ...     ...  \n",
       "466858      61.0      4          6       0  \n",
       "466861     955.0      5         76       1  \n",
       "466862     480.0      3          4       0  \n",
       "466863     788.0      1          1       0  \n",
       "466864     340.0      5         58       0  \n",
       "\n",
       "[185246 rows x 8 columns]"
      ]
     },
     "execution_count": 88,
     "metadata": {},
     "output_type": "execute_result"
    }
   ],
   "source": [
    "item_data_class"
   ]
  },
  {
   "cell_type": "code",
   "execution_count": 89,
   "id": "a7da3e82-51e1-46e0-b838-74a3b5943685",
   "metadata": {},
   "outputs": [
    {
     "name": "stdout",
     "output_type": "stream",
     "text": [
      "0.9611336032388664\n",
      "0.6704805491990847\n",
      "              precision    recall  f1-score   support\n",
      "\n",
      "           0       0.98      0.97      0.98     35021\n",
      "           1       0.63      0.72      0.67      2029\n",
      "\n",
      "    accuracy                           0.96     37050\n",
      "   macro avg       0.80      0.85      0.82     37050\n",
      "weighted avg       0.96      0.96      0.96     37050\n",
      "\n",
      "[[34145   876]\n",
      " [  564  1465]]\n"
     ]
    }
   ],
   "source": [
    "X = item_data_class.drop('target', axis=1)\n",
    "\n",
    "y = item_data_class['target']\n",
    "\n",
    "X_train, X_test, y_train, y_test = train_test_split(X, y, test_size=0.2, random_state=42)\n",
    "\n",
    "from sklearn.ensemble import GradientBoostingClassifier\n",
    "from sklearn.metrics import accuracy_score, f1_score, classification_report, confusion_matrix\n",
    "\n",
    "model = GradientBoostingClassifier()\n",
    "model.fit(X_train, y_train)\n",
    "\n",
    "y_pred = model.predict(X_test)\n",
    "\n",
    "print(accuracy_score(y_pred, y_test))\n",
    "print(f1_score(y_pred, y_test))\n",
    "print(classification_report(y_pred, y_test))\n",
    "print(confusion_matrix(y_pred, y_test))\n"
   ]
  },
  {
   "cell_type": "markdown",
   "id": "4960d51a-cf1c-4cde-9f60-710fadf2abe8",
   "metadata": {},
   "source": [
    "### analyse des scores de prediction\n",
    "- on remarque quie les scores sont déséquilibrés entre la classe nulle et la classe positive.\n",
    "- on cherche alors à identifier ce qu'on cherche à obtenir avec notre modèle\n",
    "\n",
    "Rappel sur l'interpretation :\n",
    "- la precision du model sur la classe positive : parmi tous les porduits pour lesquels il y a eu une transaction qui sont predits par le modele, combien sont de vraies transactions ?\n",
    "\n",
    "- le rappel du model sur la classe positive : parmi tous les porduits pour lesquels il y a eu une transaction qui sont predits par le modele, combien ont été correctement par le modele\n",
    "\n",
    "Ici on souhaite maximiser le rappel, nous allons tenter de realiser du resampling : ici de l'undersampling"
   ]
  },
  {
   "cell_type": "code",
   "execution_count": 91,
   "id": "11370bde-6dc7-4ec7-9e5a-823ec3863e1e",
   "metadata": {},
   "outputs": [],
   "source": [
    "from imblearn.under_sampling import RandomUnderSampler"
   ]
  },
  {
   "cell_type": "code",
   "execution_count": 92,
   "id": "4ab88e01-deed-44a4-9121-548c7b21f102",
   "metadata": {},
   "outputs": [
    {
     "name": "stdout",
     "output_type": "stream",
     "text": [
      "classes échantillons undersampled : {0: 9304, 1: 9304}\n",
      "0.9320647773279352\n",
      "0.6437367303609342\n",
      "              precision    recall  f1-score   support\n",
      "\n",
      "           0       0.93      1.00      0.96     32326\n",
      "           1       0.97      0.48      0.64      4724\n",
      "\n",
      "    accuracy                           0.93     37050\n",
      "   macro avg       0.95      0.74      0.80     37050\n",
      "weighted avg       0.93      0.93      0.92     37050\n",
      "\n",
      "[[32259    67]\n",
      " [ 2450  2274]]\n"
     ]
    }
   ],
   "source": [
    "X_train, X_test, y_train, y_test = train_test_split(X, y, test_size=0.2, random_state=42)\n",
    "\n",
    "rUs = RandomUnderSampler()\n",
    "\n",
    "X_ru, y_ru = rUs.fit_resample(X_train, y_train)\n",
    "\n",
    "print('classes échantillons undersampled :', dict(pd.Series(y_ru).value_counts()))\n",
    "\n",
    "model.fit(X_ru, y_ru)\n",
    "\n",
    "y_pred = model.predict(X_test)\n",
    "\n",
    "print(accuracy_score(y_pred, y_test))\n",
    "print(f1_score(y_pred, y_test))\n",
    "print(classification_report(y_pred, y_test))\n",
    "print(confusion_matrix(y_pred, y_test))\n",
    "\n"
   ]
  },
  {
   "cell_type": "markdown",
   "id": "a4d47f5f-c22c-4556-8fb2-ce536e398c82",
   "metadata": {},
   "source": [
    " ### on a une tres bonne precision mais pas un bon recall sur la classe positive...stop ici"
   ]
  },
  {
   "cell_type": "code",
   "execution_count": null,
   "id": "532d5ac7-71a2-4d1a-b911-9cd0b4be3448",
   "metadata": {},
   "outputs": [],
   "source": []
  }
 ],
 "metadata": {
  "kernelspec": {
   "display_name": "Python 3 (ipykernel)",
   "language": "python",
   "name": "python3"
  },
  "language_info": {
   "codemirror_mode": {
    "name": "ipython",
    "version": 3
   },
   "file_extension": ".py",
   "mimetype": "text/x-python",
   "name": "python",
   "nbconvert_exporter": "python",
   "pygments_lexer": "ipython3",
   "version": "3.9.12"
  }
 },
 "nbformat": 4,
 "nbformat_minor": 5
}
