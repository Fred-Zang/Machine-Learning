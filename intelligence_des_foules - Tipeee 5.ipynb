{
  "nbformat": 4,
  "nbformat_minor": 0,
  "metadata": {
    "colab": {
      "name": "intelligence_des_foules",
      "provenance": [],
      "collapsed_sections": []
    },
    "kernelspec": {
      "name": "python3",
      "display_name": "Python 3"
    }
  },
  "cells": [
    {
      "cell_type": "code",
      "metadata": {
        "id": "nZQs6qOLmD-H"
      },
      "source": [
        "import numpy as np\n",
        "import matplotlib.pyplot as plt"
      ],
      "execution_count": null,
      "outputs": []
    },
    {
      "cell_type": "markdown",
      "metadata": {
        "id": "MqxEHyj3wYru"
      },
      "source": [
        ""
      ]
    },
    {
      "cell_type": "code",
      "metadata": {
        "id": "R7u633ormGe7"
      },
      "source": [
        "def model(nb_model=10, prob=0.55, size=100, afficher=False):\n",
        "  '''\n",
        "  nb_model : nombre de personnes qui constituent la foule\n",
        "  prob : la probabilité que les personnes ont de donner une bonne réponse\n",
        "  size : nombre de prédiction que l'on demande aux gens de faire\n",
        "  afficher : affiche les résultats dans un graphique\n",
        "  '''\n",
        "  crowd = np.zeros((nb_model, size)) # initialisation de la foule\n",
        "  for i in range(nb_model):\n",
        "      crowd[i] = np.random.rand(size) < prob # les prédictions de la personne i (vrai/faux)\n",
        "  \n",
        "  resultat = crowd.sum(axis=0) > nb_model/2 # les prédictions de la foule : Vrai si la majorité l'emporte (c'est a dire quand la somme > nb_model/2)\n",
        "  \n",
        "  if afficher==True: # j'ai rajouté cette ligne pour éviter de faire planter le code pour la création du graphique final !\n",
        "    plt.figure(figsize=(12, 4))\n",
        "    plt.subplot(211)\n",
        "    plt.imshow(crowd) #prédictions de la foule\n",
        "    plt.title('prédiction de la foule')\n",
        "    \n",
        "    plt.subplot(212)\n",
        "    plt.imshow(resultat.reshape(1, size)) # prédictions de l'ensemble\n",
        "    plt.title('prédictions de l\\'ensemble')\n",
        "  \n",
        "  return resultat.sum()/size # performance de l'ensemble (somme des True divisée par le nombre de prédictions)"
      ],
      "execution_count": null,
      "outputs": []
    },
    {
      "cell_type": "code",
      "metadata": {
        "id": "YRROZlYzmO9Z",
        "colab": {
          "base_uri": "https://localhost:8080/",
          "height": 237
        },
        "outputId": "2188f333-5554-46a7-aabe-310bfd4ed552"
      },
      "source": [
        "print('performance finale :', model(afficher=True))"
      ],
      "execution_count": null,
      "outputs": [
        {
          "output_type": "stream",
          "name": "stdout",
          "text": [
            "performance finale : 0.48\n"
          ]
        },
        {
          "output_type": "display_data",
          "data": {
            "image/png": "[encoded data removed]",
            "text/plain": [
              "<Figure size 864x288 with 2 Axes>"
            ]
          },
          "metadata": {
            "needs_background": "light"
          }
        }
      ]
    },
    {
      "cell_type": "code",
      "metadata": {
        "id": "Pk1uAMpFmJaa",
        "colab": {
          "base_uri": "https://localhost:8080/",
          "height": 72
        },
        "outputId": "3afb378d-34a2-427a-e8ed-130337f51869"
      },
      "source": [
        "performances = [model(nb_model=i, prob=0.51) for i in range(1, 10000)]\n",
        "plt.plot(range(1, 10000), performances)\n",
        "plt.xlabel('nb de modeles')\n",
        "plt.ylabel('performance')"
      ],
      "execution_count": null,
      "outputs": [
        {
          "output_type": "execute_result",
          "data": {
            "text/plain": [
              "Text(0, 0.5, 'performance')"
            ]
          },
          "metadata": {},
          "execution_count": 4
        },
        {
          "output_type": "display_data",
          "data": {
            "image/png": "[encoded data removed]",
            "text/plain": [
              "<Figure size 432x288 with 1 Axes>"
            ]
          },
          "metadata": {
            "needs_background": "light"
          }
        }
      ]
    },
    {
      "cell_type": "code",
      "metadata": {
        "id": "l4llQsltrZIR",
        "colab": {
          "base_uri": "https://localhost:8080/"
        },
        "outputId": "20d25462-7037-447f-de9c-1495739f7f11"
      },
      "source": [
        "np.random.seed(0)\n",
        "A=np.random.randint(0,100,[10,5])\n",
        "A = A.astype(np.float32)\n",
        "print(A)\n",
        "for j in range(A.shape[1]):\n",
        "    moyenne=np.mean(A[:,j]);print(moyenne)\n",
        "    ecart=np.std(A[:,j]); print(ecart)\n",
        "    for i in range(A.shape[0]):  \n",
        "        A[i,j]=((A[i,j]-moyenne)/ecart)\n",
        "\n",
        "print(A)"
      ],
      "execution_count": null,
      "outputs": [
        {
          "output_type": "stream",
          "name": "stdout",
          "text": [
            "[[44. 47. 64. 67. 67.]\n",
            " [ 9. 83. 21. 36. 87.]\n",
            " [70. 88. 88. 12. 58.]\n",
            " [65. 39. 87. 46. 88.]\n",
            " [81. 37. 25. 77. 72.]\n",
            " [ 9. 20. 80. 69. 79.]\n",
            " [47. 64. 82. 99. 88.]\n",
            " [49. 29. 19. 19. 14.]\n",
            " [39. 32. 65.  9. 57.]\n",
            " [32. 31. 74. 23. 35.]]\n",
            "44.5\n",
            "22.663849\n",
            "47.0\n",
            "22.280035\n",
            "60.5\n",
            "26.567837\n",
            "45.7\n",
            "29.363413\n",
            "64.5\n",
            "23.243279\n",
            "[[-0.02206157  0.          0.13173823  0.7253925   0.10755797]\n",
            " [-1.5663712   1.6157963  -1.4867601  -0.3303431   0.9680218 ]\n",
            " [ 1.1251398   1.8402126   1.0350862  -1.1476868  -0.27965075]\n",
            " [ 0.9045242  -0.35906586  0.99744666  0.01021677  1.011045  ]\n",
            " [ 1.6104944  -0.44883233 -1.3362021   1.0659523   0.32267392]\n",
            " [-1.5663712  -1.2118473   0.73397017  0.7935045   0.6238363 ]\n",
            " [ 0.11030783  0.763015    0.80924916  1.8151841   1.011045  ]\n",
            " [ 0.1985541  -0.80789816 -1.5620391  -0.90929484 -2.172671  ]\n",
            " [-0.24267723 -0.67324847  0.16937773 -1.2498547  -0.32267392]\n",
            " [-0.5515391  -0.7181317   0.50813323 -0.77307093 -1.2691841 ]]\n"
          ]
        }
      ]
    },
    {
      "cell_type": "code",
      "metadata": {
        "id": "ZOmwXcJdtDY3"
      },
      "source": [
        ""
      ],
      "execution_count": null,
      "outputs": []
    }
  ]
}