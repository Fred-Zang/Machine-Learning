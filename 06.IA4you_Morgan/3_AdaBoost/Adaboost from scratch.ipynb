{
 "cells": [
  {
   "cell_type": "markdown",
   "metadata": {
    "id": "H_f7tBOAiHKQ"
   },
   "source": [
    "# AdaBoost classifieur from scratch\n",
    "\n",
    "Dans ce notebook, vous allez coder votre propre algorithme de machine learning pour entraîner des modèles Adaboost avec des arbres de décision afin de résoudre des problèmes de classification. \n",
    "\n",
    "Le code que vous trouverez dans ce notebook est fonctionnelle pour créer un algorithme d'apprentissage automatique. Attention, ce code n'est pas optimis, il est uniquement à but pédagogique pour que vous compreniez bien ce qui se passe lorsque vous entraînez un algorithme de machine learning AdaBoost. Je vais vous accompagner pas à pas dans l'implémentation de cet algorithme.\n",
    "\n",
    "Si vous voulez entraîner un modèle à but professionnel, je vous recommande d'utiliser le package [Sklearn](https://scikit-learn.org/stable/index.html) qui contient toutes les librairies essentiel pour vous aider. \n",
    "\n",
    "Merci de soutenir ce travail de création de contenus en vous abonnant à la chaîne youtube AIForYou et en mettant une étoile au répertoire github. "
   ]
  },
  {
   "cell_type": "markdown",
   "metadata": {
    "id": "zVOSbsKplTPg"
   },
   "source": [
    "## Importation des packages"
   ]
  },
  {
   "cell_type": "code",
   "execution_count": 1,
   "metadata": {
    "executionInfo": {
     "elapsed": 831,
     "status": "ok",
     "timestamp": 1604218807970,
     "user": {
      "displayName": "Gautherot Morgan",
      "photoUrl": "",
      "userId": "07974205866322024288"
     },
     "user_tz": -60
    },
    "id": "R3QomEk3hw7I"
   },
   "outputs": [],
   "source": [
    "# Packages de gestion des données\n",
    "import numpy as np\n",
    "import pandas as pd\n",
    "\n",
    "# Packages de visualisation\n",
    "import matplotlib.pyplot as plt\n",
    "\n",
    "# Packages de modélisation\n",
    "from sklearn.tree import DecisionTreeClassifier\n",
    "from sklearn.datasets import load_breast_cancer\n",
    "from sklearn.model_selection import train_test_split"
   ]
  },
  {
   "cell_type": "markdown",
   "metadata": {
    "id": "jtoHRTkKle1t"
   },
   "source": [
    "## Importation des données"
   ]
  },
  {
   "cell_type": "code",
   "execution_count": 2,
   "metadata": {
    "executionInfo": {
     "elapsed": 814,
     "status": "ok",
     "timestamp": 1604218807971,
     "user": {
      "displayName": "Gautherot Morgan",
      "photoUrl": "",
      "userId": "07974205866322024288"
     },
     "user_tz": -60
    },
    "id": "t5MfgBN8lVRx"
   },
   "outputs": [],
   "source": [
    "data = load_breast_cancer()\n",
    "\n",
    "x = data['data']\n",
    "y = data['target']\n",
    "\n",
    "x_train, x_test, y_train, y_test = train_test_split(x, y, test_size=0.33, random_state=42)"
   ]
  },
  {
   "cell_type": "markdown",
   "metadata": {
    "id": "i3YpEeUD22nV"
   },
   "source": [
    "## AdaBoost"
   ]
  },
  {
   "cell_type": "markdown",
   "metadata": {
    "id": "gdraqqBclr2K"
   },
   "source": [
    "### Création de la classe"
   ]
  },
  {
   "cell_type": "code",
   "execution_count": 3,
   "metadata": {
    "executionInfo": {
     "elapsed": 436,
     "status": "ok",
     "timestamp": 1604218807972,
     "user": {
      "displayName": "Gautherot Morgan",
      "photoUrl": "",
      "userId": "07974205866322024288"
     },
     "user_tz": -60
    },
    "id": "ITK6t8c2lpE1"
   },
   "outputs": [],
   "source": [
    "class adaBoostClassifier():\n",
    "  def __init__(self, n_estimators=100, max_depth=1, random_state=None):\n",
    "    self._n_estimators = n_estimators\n",
    "    self._max_depth = max_depth\n",
    "    self._random_state = random_state\n",
    "    self._sample_weight = np.array([])\n",
    "    self._weight_model = dict()\n",
    "    self._model = dict()\n",
    "    self._features = dict()"
   ]
  },
  {
   "cell_type": "code",
   "execution_count": 4,
   "metadata": {
    "colab": {
     "base_uri": "https://localhost:8080/"
    },
    "executionInfo": {
     "elapsed": 648,
     "status": "ok",
     "timestamp": 1604218808346,
     "user": {
      "displayName": "Gautherot Morgan",
      "photoUrl": "",
      "userId": "07974205866322024288"
     },
     "user_tz": -60
    },
    "id": "BCBPAkIkoSwy",
    "outputId": "fe917c8e-9a31-4685-9ab2-e5a5dd5609fe"
   },
   "outputs": [
    {
     "name": "stdout",
     "output_type": "stream",
     "text": [
      "20\n",
      "1\n",
      "123\n"
     ]
    }
   ],
   "source": [
    "ada = adaBoostClassifier(n_estimators=20, random_state=123)\n",
    "print(ada._n_estimators)\n",
    "print(ada._max_depth)\n",
    "print(ada._random_state)"
   ]
  },
  {
   "cell_type": "markdown",
   "metadata": {
    "id": "-dO6WRpPoutO"
   },
   "source": [
    "### Fonction d'entraînement "
   ]
  },
  {
   "cell_type": "code",
   "execution_count": 12,
   "metadata": {
    "executionInfo": {
     "elapsed": 622,
     "status": "ok",
     "timestamp": 1604219114180,
     "user": {
      "displayName": "Gautherot Morgan",
      "photoUrl": "",
      "userId": "07974205866322024288"
     },
     "user_tz": -60
    },
    "id": "ZxhJ4sWropfC"
   },
   "outputs": [],
   "source": [
    "class adaBoostClassifier():\n",
    "  def __init__(self, n_estimators=100, max_depth=1, random_state=None):\n",
    "    self._n_estimators = n_estimators\n",
    "    self._max_depth = max_depth\n",
    "    self._random_state = random_state\n",
    "    self._sample_weight = np.array([])\n",
    "    self._weight_model = dict()\n",
    "    self._model = dict()\n",
    "    self._features = dict()\n",
    "\n",
    "  def fit(self, x, y):\n",
    "\n",
    "    # Initialisation des poids\n",
    "    x_length = len(x)\n",
    "    self._sample_weight = np.ones(x_length)/x_length\n",
    "\n",
    "\n",
    "    np.random.seed(seed=9999)\n",
    "    for est in range(self._n_estimators) :\n",
    "\n",
    "      # Sélection aléatoire des indices colonnes et des indices exemples\n",
    "      rand_index = np.random.randint(low=0, high=x.shape[0], size=round(x.shape[0]*0.8))\n",
    "      rand_column = np.random.randint(low=0, high=x.shape[1], size=round(x.shape[1]*0.8))\n",
    "\n",
    "      # Sélection aléatoire des colonnes et des exemples\n",
    "      x_samp = x[rand_index, :]\n",
    "      x_samp = x_samp[:, rand_column]\n",
    "      y_samp = y[rand_index]\n",
    "      weight_samp = self._sample_weight[rand_index]\n",
    "\n",
    "      # Initialisation du modèle d'arbre de décision\n",
    "      decision_tree_model = DecisionTreeClassifier(max_depth=self._max_depth, random_state=self._random_state)\n",
    "      \n",
    "      # Entraînement du modèle d'arbre de décision\n",
    "      self._model[est] = decision_tree_model.fit(x_samp, y_samp, sample_weight=weight_samp)\n",
    "\n",
    "      # Sauvegarde des colonnes utlisées pour l'arbre\n",
    "      self._features[est] = rand_column\n",
    "\n",
    "      # Prédition des données d'entraînement \n",
    "      y_pred = self._model[est].predict(x_samp)\n",
    "\n",
    "      # Calcul de l'erreur total pondérée par le poids de chaque exemple\n",
    "      total_error = np.sum((y_pred!=y_samp) * weight_samp)\n",
    "\n",
    "      # Calcul du poids de l'arbre\n",
    "      self._weight_model[est] = (1/2) * np.log((1-total_error)/(total_error))\n",
    "\n",
    "      # Mise à jour des poids de l'arbre\n",
    "      self._sample_weight[rand_index] = (y_pred!=y_samp) * self._sample_weight[rand_index] * np.exp(self._weight_model[est]) + (y_pred==y_samp) * self._sample_weight[rand_index] * np.exp(-self._weight_model[est])\n",
    "  \n",
    "      # Normalisation des poids  \n",
    "      self._sample_weight /= np.sum(self._sample_weight)\n",
    "\n"
   ]
  },
  {
   "cell_type": "code",
   "execution_count": 23,
   "metadata": {
    "executionInfo": {
     "elapsed": 559,
     "status": "ok",
     "timestamp": 1604219485987,
     "user": {
      "displayName": "Gautherot Morgan",
      "photoUrl": "",
      "userId": "07974205866322024288"
     },
     "user_tz": -60
    },
    "id": "OF7wqqUopGB1"
   },
   "outputs": [],
   "source": [
    "ada = adaBoostClassifier(n_estimators=40, random_state=123)\n",
    "ada.fit(x_train, y_train)"
   ]
  },
  {
   "cell_type": "code",
   "execution_count": 24,
   "metadata": {
    "colab": {
     "base_uri": "https://localhost:8080/"
    },
    "executionInfo": {
     "elapsed": 586,
     "status": "ok",
     "timestamp": 1604219486481,
     "user": {
      "displayName": "Gautherot Morgan",
      "photoUrl": "",
      "userId": "07974205866322024288"
     },
     "user_tz": -60
    },
    "id": "1IC4R0fLpLCo",
    "outputId": "0d86c353-bc26-4b33-e1a9-367db305474b"
   },
   "outputs": [
    {
     "data": {
      "text/plain": [
       "{0: DecisionTreeClassifier(ccp_alpha=0.0, class_weight=None, criterion='gini',\n",
       "                        max_depth=1, max_features=None, max_leaf_nodes=None,\n",
       "                        min_impurity_decrease=0.0, min_impurity_split=None,\n",
       "                        min_samples_leaf=1, min_samples_split=2,\n",
       "                        min_weight_fraction_leaf=0.0, presort='deprecated',\n",
       "                        random_state=123, splitter='best'),\n",
       " 1: DecisionTreeClassifier(ccp_alpha=0.0, class_weight=None, criterion='gini',\n",
       "                        max_depth=1, max_features=None, max_leaf_nodes=None,\n",
       "                        min_impurity_decrease=0.0, min_impurity_split=None,\n",
       "                        min_samples_leaf=1, min_samples_split=2,\n",
       "                        min_weight_fraction_leaf=0.0, presort='deprecated',\n",
       "                        random_state=123, splitter='best'),\n",
       " 2: DecisionTreeClassifier(ccp_alpha=0.0, class_weight=None, criterion='gini',\n",
       "                        max_depth=1, max_features=None, max_leaf_nodes=None,\n",
       "                        min_impurity_decrease=0.0, min_impurity_split=None,\n",
       "                        min_samples_leaf=1, min_samples_split=2,\n",
       "                        min_weight_fraction_leaf=0.0, presort='deprecated',\n",
       "                        random_state=123, splitter='best'),\n",
       " 3: DecisionTreeClassifier(ccp_alpha=0.0, class_weight=None, criterion='gini',\n",
       "                        max_depth=1, max_features=None, max_leaf_nodes=None,\n",
       "                        min_impurity_decrease=0.0, min_impurity_split=None,\n",
       "                        min_samples_leaf=1, min_samples_split=2,\n",
       "                        min_weight_fraction_leaf=0.0, presort='deprecated',\n",
       "                        random_state=123, splitter='best'),\n",
       " 4: DecisionTreeClassifier(ccp_alpha=0.0, class_weight=None, criterion='gini',\n",
       "                        max_depth=1, max_features=None, max_leaf_nodes=None,\n",
       "                        min_impurity_decrease=0.0, min_impurity_split=None,\n",
       "                        min_samples_leaf=1, min_samples_split=2,\n",
       "                        min_weight_fraction_leaf=0.0, presort='deprecated',\n",
       "                        random_state=123, splitter='best'),\n",
       " 5: DecisionTreeClassifier(ccp_alpha=0.0, class_weight=None, criterion='gini',\n",
       "                        max_depth=1, max_features=None, max_leaf_nodes=None,\n",
       "                        min_impurity_decrease=0.0, min_impurity_split=None,\n",
       "                        min_samples_leaf=1, min_samples_split=2,\n",
       "                        min_weight_fraction_leaf=0.0, presort='deprecated',\n",
       "                        random_state=123, splitter='best'),\n",
       " 6: DecisionTreeClassifier(ccp_alpha=0.0, class_weight=None, criterion='gini',\n",
       "                        max_depth=1, max_features=None, max_leaf_nodes=None,\n",
       "                        min_impurity_decrease=0.0, min_impurity_split=None,\n",
       "                        min_samples_leaf=1, min_samples_split=2,\n",
       "                        min_weight_fraction_leaf=0.0, presort='deprecated',\n",
       "                        random_state=123, splitter='best'),\n",
       " 7: DecisionTreeClassifier(ccp_alpha=0.0, class_weight=None, criterion='gini',\n",
       "                        max_depth=1, max_features=None, max_leaf_nodes=None,\n",
       "                        min_impurity_decrease=0.0, min_impurity_split=None,\n",
       "                        min_samples_leaf=1, min_samples_split=2,\n",
       "                        min_weight_fraction_leaf=0.0, presort='deprecated',\n",
       "                        random_state=123, splitter='best'),\n",
       " 8: DecisionTreeClassifier(ccp_alpha=0.0, class_weight=None, criterion='gini',\n",
       "                        max_depth=1, max_features=None, max_leaf_nodes=None,\n",
       "                        min_impurity_decrease=0.0, min_impurity_split=None,\n",
       "                        min_samples_leaf=1, min_samples_split=2,\n",
       "                        min_weight_fraction_leaf=0.0, presort='deprecated',\n",
       "                        random_state=123, splitter='best'),\n",
       " 9: DecisionTreeClassifier(ccp_alpha=0.0, class_weight=None, criterion='gini',\n",
       "                        max_depth=1, max_features=None, max_leaf_nodes=None,\n",
       "                        min_impurity_decrease=0.0, min_impurity_split=None,\n",
       "                        min_samples_leaf=1, min_samples_split=2,\n",
       "                        min_weight_fraction_leaf=0.0, presort='deprecated',\n",
       "                        random_state=123, splitter='best'),\n",
       " 10: DecisionTreeClassifier(ccp_alpha=0.0, class_weight=None, criterion='gini',\n",
       "                        max_depth=1, max_features=None, max_leaf_nodes=None,\n",
       "                        min_impurity_decrease=0.0, min_impurity_split=None,\n",
       "                        min_samples_leaf=1, min_samples_split=2,\n",
       "                        min_weight_fraction_leaf=0.0, presort='deprecated',\n",
       "                        random_state=123, splitter='best'),\n",
       " 11: DecisionTreeClassifier(ccp_alpha=0.0, class_weight=None, criterion='gini',\n",
       "                        max_depth=1, max_features=None, max_leaf_nodes=None,\n",
       "                        min_impurity_decrease=0.0, min_impurity_split=None,\n",
       "                        min_samples_leaf=1, min_samples_split=2,\n",
       "                        min_weight_fraction_leaf=0.0, presort='deprecated',\n",
       "                        random_state=123, splitter='best'),\n",
       " 12: DecisionTreeClassifier(ccp_alpha=0.0, class_weight=None, criterion='gini',\n",
       "                        max_depth=1, max_features=None, max_leaf_nodes=None,\n",
       "                        min_impurity_decrease=0.0, min_impurity_split=None,\n",
       "                        min_samples_leaf=1, min_samples_split=2,\n",
       "                        min_weight_fraction_leaf=0.0, presort='deprecated',\n",
       "                        random_state=123, splitter='best'),\n",
       " 13: DecisionTreeClassifier(ccp_alpha=0.0, class_weight=None, criterion='gini',\n",
       "                        max_depth=1, max_features=None, max_leaf_nodes=None,\n",
       "                        min_impurity_decrease=0.0, min_impurity_split=None,\n",
       "                        min_samples_leaf=1, min_samples_split=2,\n",
       "                        min_weight_fraction_leaf=0.0, presort='deprecated',\n",
       "                        random_state=123, splitter='best'),\n",
       " 14: DecisionTreeClassifier(ccp_alpha=0.0, class_weight=None, criterion='gini',\n",
       "                        max_depth=1, max_features=None, max_leaf_nodes=None,\n",
       "                        min_impurity_decrease=0.0, min_impurity_split=None,\n",
       "                        min_samples_leaf=1, min_samples_split=2,\n",
       "                        min_weight_fraction_leaf=0.0, presort='deprecated',\n",
       "                        random_state=123, splitter='best'),\n",
       " 15: DecisionTreeClassifier(ccp_alpha=0.0, class_weight=None, criterion='gini',\n",
       "                        max_depth=1, max_features=None, max_leaf_nodes=None,\n",
       "                        min_impurity_decrease=0.0, min_impurity_split=None,\n",
       "                        min_samples_leaf=1, min_samples_split=2,\n",
       "                        min_weight_fraction_leaf=0.0, presort='deprecated',\n",
       "                        random_state=123, splitter='best'),\n",
       " 16: DecisionTreeClassifier(ccp_alpha=0.0, class_weight=None, criterion='gini',\n",
       "                        max_depth=1, max_features=None, max_leaf_nodes=None,\n",
       "                        min_impurity_decrease=0.0, min_impurity_split=None,\n",
       "                        min_samples_leaf=1, min_samples_split=2,\n",
       "                        min_weight_fraction_leaf=0.0, presort='deprecated',\n",
       "                        random_state=123, splitter='best'),\n",
       " 17: DecisionTreeClassifier(ccp_alpha=0.0, class_weight=None, criterion='gini',\n",
       "                        max_depth=1, max_features=None, max_leaf_nodes=None,\n",
       "                        min_impurity_decrease=0.0, min_impurity_split=None,\n",
       "                        min_samples_leaf=1, min_samples_split=2,\n",
       "                        min_weight_fraction_leaf=0.0, presort='deprecated',\n",
       "                        random_state=123, splitter='best'),\n",
       " 18: DecisionTreeClassifier(ccp_alpha=0.0, class_weight=None, criterion='gini',\n",
       "                        max_depth=1, max_features=None, max_leaf_nodes=None,\n",
       "                        min_impurity_decrease=0.0, min_impurity_split=None,\n",
       "                        min_samples_leaf=1, min_samples_split=2,\n",
       "                        min_weight_fraction_leaf=0.0, presort='deprecated',\n",
       "                        random_state=123, splitter='best'),\n",
       " 19: DecisionTreeClassifier(ccp_alpha=0.0, class_weight=None, criterion='gini',\n",
       "                        max_depth=1, max_features=None, max_leaf_nodes=None,\n",
       "                        min_impurity_decrease=0.0, min_impurity_split=None,\n",
       "                        min_samples_leaf=1, min_samples_split=2,\n",
       "                        min_weight_fraction_leaf=0.0, presort='deprecated',\n",
       "                        random_state=123, splitter='best'),\n",
       " 20: DecisionTreeClassifier(ccp_alpha=0.0, class_weight=None, criterion='gini',\n",
       "                        max_depth=1, max_features=None, max_leaf_nodes=None,\n",
       "                        min_impurity_decrease=0.0, min_impurity_split=None,\n",
       "                        min_samples_leaf=1, min_samples_split=2,\n",
       "                        min_weight_fraction_leaf=0.0, presort='deprecated',\n",
       "                        random_state=123, splitter='best'),\n",
       " 21: DecisionTreeClassifier(ccp_alpha=0.0, class_weight=None, criterion='gini',\n",
       "                        max_depth=1, max_features=None, max_leaf_nodes=None,\n",
       "                        min_impurity_decrease=0.0, min_impurity_split=None,\n",
       "                        min_samples_leaf=1, min_samples_split=2,\n",
       "                        min_weight_fraction_leaf=0.0, presort='deprecated',\n",
       "                        random_state=123, splitter='best'),\n",
       " 22: DecisionTreeClassifier(ccp_alpha=0.0, class_weight=None, criterion='gini',\n",
       "                        max_depth=1, max_features=None, max_leaf_nodes=None,\n",
       "                        min_impurity_decrease=0.0, min_impurity_split=None,\n",
       "                        min_samples_leaf=1, min_samples_split=2,\n",
       "                        min_weight_fraction_leaf=0.0, presort='deprecated',\n",
       "                        random_state=123, splitter='best'),\n",
       " 23: DecisionTreeClassifier(ccp_alpha=0.0, class_weight=None, criterion='gini',\n",
       "                        max_depth=1, max_features=None, max_leaf_nodes=None,\n",
       "                        min_impurity_decrease=0.0, min_impurity_split=None,\n",
       "                        min_samples_leaf=1, min_samples_split=2,\n",
       "                        min_weight_fraction_leaf=0.0, presort='deprecated',\n",
       "                        random_state=123, splitter='best'),\n",
       " 24: DecisionTreeClassifier(ccp_alpha=0.0, class_weight=None, criterion='gini',\n",
       "                        max_depth=1, max_features=None, max_leaf_nodes=None,\n",
       "                        min_impurity_decrease=0.0, min_impurity_split=None,\n",
       "                        min_samples_leaf=1, min_samples_split=2,\n",
       "                        min_weight_fraction_leaf=0.0, presort='deprecated',\n",
       "                        random_state=123, splitter='best'),\n",
       " 25: DecisionTreeClassifier(ccp_alpha=0.0, class_weight=None, criterion='gini',\n",
       "                        max_depth=1, max_features=None, max_leaf_nodes=None,\n",
       "                        min_impurity_decrease=0.0, min_impurity_split=None,\n",
       "                        min_samples_leaf=1, min_samples_split=2,\n",
       "                        min_weight_fraction_leaf=0.0, presort='deprecated',\n",
       "                        random_state=123, splitter='best'),\n",
       " 26: DecisionTreeClassifier(ccp_alpha=0.0, class_weight=None, criterion='gini',\n",
       "                        max_depth=1, max_features=None, max_leaf_nodes=None,\n",
       "                        min_impurity_decrease=0.0, min_impurity_split=None,\n",
       "                        min_samples_leaf=1, min_samples_split=2,\n",
       "                        min_weight_fraction_leaf=0.0, presort='deprecated',\n",
       "                        random_state=123, splitter='best'),\n",
       " 27: DecisionTreeClassifier(ccp_alpha=0.0, class_weight=None, criterion='gini',\n",
       "                        max_depth=1, max_features=None, max_leaf_nodes=None,\n",
       "                        min_impurity_decrease=0.0, min_impurity_split=None,\n",
       "                        min_samples_leaf=1, min_samples_split=2,\n",
       "                        min_weight_fraction_leaf=0.0, presort='deprecated',\n",
       "                        random_state=123, splitter='best'),\n",
       " 28: DecisionTreeClassifier(ccp_alpha=0.0, class_weight=None, criterion='gini',\n",
       "                        max_depth=1, max_features=None, max_leaf_nodes=None,\n",
       "                        min_impurity_decrease=0.0, min_impurity_split=None,\n",
       "                        min_samples_leaf=1, min_samples_split=2,\n",
       "                        min_weight_fraction_leaf=0.0, presort='deprecated',\n",
       "                        random_state=123, splitter='best'),\n",
       " 29: DecisionTreeClassifier(ccp_alpha=0.0, class_weight=None, criterion='gini',\n",
       "                        max_depth=1, max_features=None, max_leaf_nodes=None,\n",
       "                        min_impurity_decrease=0.0, min_impurity_split=None,\n",
       "                        min_samples_leaf=1, min_samples_split=2,\n",
       "                        min_weight_fraction_leaf=0.0, presort='deprecated',\n",
       "                        random_state=123, splitter='best'),\n",
       " 30: DecisionTreeClassifier(ccp_alpha=0.0, class_weight=None, criterion='gini',\n",
       "                        max_depth=1, max_features=None, max_leaf_nodes=None,\n",
       "                        min_impurity_decrease=0.0, min_impurity_split=None,\n",
       "                        min_samples_leaf=1, min_samples_split=2,\n",
       "                        min_weight_fraction_leaf=0.0, presort='deprecated',\n",
       "                        random_state=123, splitter='best'),\n",
       " 31: DecisionTreeClassifier(ccp_alpha=0.0, class_weight=None, criterion='gini',\n",
       "                        max_depth=1, max_features=None, max_leaf_nodes=None,\n",
       "                        min_impurity_decrease=0.0, min_impurity_split=None,\n",
       "                        min_samples_leaf=1, min_samples_split=2,\n",
       "                        min_weight_fraction_leaf=0.0, presort='deprecated',\n",
       "                        random_state=123, splitter='best'),\n",
       " 32: DecisionTreeClassifier(ccp_alpha=0.0, class_weight=None, criterion='gini',\n",
       "                        max_depth=1, max_features=None, max_leaf_nodes=None,\n",
       "                        min_impurity_decrease=0.0, min_impurity_split=None,\n",
       "                        min_samples_leaf=1, min_samples_split=2,\n",
       "                        min_weight_fraction_leaf=0.0, presort='deprecated',\n",
       "                        random_state=123, splitter='best'),\n",
       " 33: DecisionTreeClassifier(ccp_alpha=0.0, class_weight=None, criterion='gini',\n",
       "                        max_depth=1, max_features=None, max_leaf_nodes=None,\n",
       "                        min_impurity_decrease=0.0, min_impurity_split=None,\n",
       "                        min_samples_leaf=1, min_samples_split=2,\n",
       "                        min_weight_fraction_leaf=0.0, presort='deprecated',\n",
       "                        random_state=123, splitter='best'),\n",
       " 34: DecisionTreeClassifier(ccp_alpha=0.0, class_weight=None, criterion='gini',\n",
       "                        max_depth=1, max_features=None, max_leaf_nodes=None,\n",
       "                        min_impurity_decrease=0.0, min_impurity_split=None,\n",
       "                        min_samples_leaf=1, min_samples_split=2,\n",
       "                        min_weight_fraction_leaf=0.0, presort='deprecated',\n",
       "                        random_state=123, splitter='best'),\n",
       " 35: DecisionTreeClassifier(ccp_alpha=0.0, class_weight=None, criterion='gini',\n",
       "                        max_depth=1, max_features=None, max_leaf_nodes=None,\n",
       "                        min_impurity_decrease=0.0, min_impurity_split=None,\n",
       "                        min_samples_leaf=1, min_samples_split=2,\n",
       "                        min_weight_fraction_leaf=0.0, presort='deprecated',\n",
       "                        random_state=123, splitter='best'),\n",
       " 36: DecisionTreeClassifier(ccp_alpha=0.0, class_weight=None, criterion='gini',\n",
       "                        max_depth=1, max_features=None, max_leaf_nodes=None,\n",
       "                        min_impurity_decrease=0.0, min_impurity_split=None,\n",
       "                        min_samples_leaf=1, min_samples_split=2,\n",
       "                        min_weight_fraction_leaf=0.0, presort='deprecated',\n",
       "                        random_state=123, splitter='best'),\n",
       " 37: DecisionTreeClassifier(ccp_alpha=0.0, class_weight=None, criterion='gini',\n",
       "                        max_depth=1, max_features=None, max_leaf_nodes=None,\n",
       "                        min_impurity_decrease=0.0, min_impurity_split=None,\n",
       "                        min_samples_leaf=1, min_samples_split=2,\n",
       "                        min_weight_fraction_leaf=0.0, presort='deprecated',\n",
       "                        random_state=123, splitter='best'),\n",
       " 38: DecisionTreeClassifier(ccp_alpha=0.0, class_weight=None, criterion='gini',\n",
       "                        max_depth=1, max_features=None, max_leaf_nodes=None,\n",
       "                        min_impurity_decrease=0.0, min_impurity_split=None,\n",
       "                        min_samples_leaf=1, min_samples_split=2,\n",
       "                        min_weight_fraction_leaf=0.0, presort='deprecated',\n",
       "                        random_state=123, splitter='best'),\n",
       " 39: DecisionTreeClassifier(ccp_alpha=0.0, class_weight=None, criterion='gini',\n",
       "                        max_depth=1, max_features=None, max_leaf_nodes=None,\n",
       "                        min_impurity_decrease=0.0, min_impurity_split=None,\n",
       "                        min_samples_leaf=1, min_samples_split=2,\n",
       "                        min_weight_fraction_leaf=0.0, presort='deprecated',\n",
       "                        random_state=123, splitter='best')}"
      ]
     },
     "execution_count": 24,
     "metadata": {
      "tags": []
     },
     "output_type": "execute_result"
    }
   ],
   "source": [
    "ada._model"
   ]
  },
  {
   "cell_type": "markdown",
   "metadata": {
    "id": "sBjYdL0RxFql"
   },
   "source": [
    "### Fonction de prédiction"
   ]
  },
  {
   "cell_type": "code",
   "execution_count": 29,
   "metadata": {
    "executionInfo": {
     "elapsed": 464,
     "status": "ok",
     "timestamp": 1604219684409,
     "user": {
      "displayName": "Gautherot Morgan",
      "photoUrl": "",
      "userId": "07974205866322024288"
     },
     "user_tz": -60
    },
    "id": "kv6k-MSwpi-U"
   },
   "outputs": [],
   "source": [
    "class adaBoostClassifier():\n",
    "  def __init__(self, n_estimators=100, max_depth=1, random_state=None):\n",
    "    self._n_estimators = n_estimators\n",
    "    self._max_depth = max_depth\n",
    "    self._random_state = random_state\n",
    "    self._sample_weight = np.array([])\n",
    "    self._weight_model = dict()\n",
    "    self._model = dict()\n",
    "    self._features = dict()\n",
    "\n",
    "  def fit(self, x, y):\n",
    "\n",
    "    # Initialisation des poids\n",
    "    x_length = len(x)\n",
    "    self._sample_weight = np.ones(x_length)/x_length\n",
    "\n",
    "\n",
    "    np.random.seed(seed=9999)\n",
    "    for est in range(self._n_estimators) :\n",
    "\n",
    "      # Sélection aléatoire des indices colonnes et des indices exemples\n",
    "\n",
    "      rand_index = np.random.randint(low=0, high=x.shape[0], size=round(x.shape[0]*0.8))\n",
    "      rand_column = np.random.randint(low=0, high=x.shape[1], size=round(x.shape[1]*0.8))\n",
    "\n",
    "      # Sélection aléatoire des colonnes et des exemples\n",
    "      x_samp = x[rand_index, :]\n",
    "      x_samp = x_samp[:, rand_column]\n",
    "      y_samp = y[rand_index]\n",
    "      weight_samp = self._sample_weight[rand_index]\n",
    "\n",
    "      # Initialisation du modèle d'arbre de décision\n",
    "      decision_tree_model = DecisionTreeClassifier(max_depth=self._max_depth, random_state=self._random_state)\n",
    "      \n",
    "      # Entraînement du modèle d'arbre de décision\n",
    "      self._model[est] = decision_tree_model.fit(x_samp, y_samp, sample_weight=weight_samp)\n",
    "\n",
    "      # Sauvegarde des colonnes utlisées pour l'arbre\n",
    "      self._features[est] = rand_column\n",
    "\n",
    "      # Prédition des données d'entraînement \n",
    "      y_pred = self._model[est].predict(x_samp)\n",
    "\n",
    "      # Calcul de l'erreur total pondérée par le poids de chaque exemple\n",
    "      total_error = np.sum((y_pred!=y_samp) * weight_samp)\n",
    "\n",
    "      # Calcul du poids de l'arbre\n",
    "      self._weight_model[est] = (1/2) * np.log((1-total_error)/(total_error))\n",
    "\n",
    "      # Mise à jour des poids de l'arbre\n",
    "      self._sample_weight[rand_index] = (y_pred!=y_samp) * self._sample_weight[rand_index] * np.exp(self._weight_model[est]) + (y_pred==y_samp) * self._sample_weight[rand_index] * np.exp(-self._weight_model[est])\n",
    "  \n",
    "      # Normalisation des poids  \n",
    "      self._sample_weight /= np.sum(self._sample_weight)\n",
    "\n",
    "\n",
    "  def predict(self, x):\n",
    "\n",
    "    # Initialiser le vecteur de prédiction\n",
    "    pred = np.zeros(x.shape[0])\n",
    "\n",
    "    # On ajoute à pred la prédiction de chaque arbre\n",
    "    for i in range(self._n_estimators):\n",
    "      pred += self._model[i].predict(x[:, self._features[i]]) * self._weight_model[i]\n",
    "\n",
    "    # Normalisation des prédictions\n",
    "    pred /= self._n_estimators\n",
    "\n",
    "    # Passage d'une probabilité à une prédiction\n",
    "    pred = np.where(pred >= 0.5, 1, 0)\n",
    "\n",
    "    return pred"
   ]
  },
  {
   "cell_type": "code",
   "execution_count": 30,
   "metadata": {
    "executionInfo": {
     "elapsed": 505,
     "status": "ok",
     "timestamp": 1604219684806,
     "user": {
      "displayName": "Gautherot Morgan",
      "photoUrl": "",
      "userId": "07974205866322024288"
     },
     "user_tz": -60
    },
    "id": "O_bVu9mxyV6Z"
   },
   "outputs": [],
   "source": [
    "rf = adaBoostClassifier(n_estimators=40, random_state=123)\n",
    "rf.fit(x_train, y_train)"
   ]
  },
  {
   "cell_type": "code",
   "execution_count": 31,
   "metadata": {
    "colab": {
     "base_uri": "https://localhost:8080/"
    },
    "executionInfo": {
     "elapsed": 378,
     "status": "ok",
     "timestamp": 1604219685370,
     "user": {
      "displayName": "Gautherot Morgan",
      "photoUrl": "",
      "userId": "07974205866322024288"
     },
     "user_tz": -60
    },
    "id": "z-ppL4hKyYwQ",
    "outputId": "41bf524e-7c18-412b-fd00-03463a79eec9"
   },
   "outputs": [
    {
     "data": {
      "text/plain": [
       "0.9840425531914894"
      ]
     },
     "execution_count": 31,
     "metadata": {
      "tags": []
     },
     "output_type": "execute_result"
    }
   ],
   "source": [
    "pred = rf.predict(x_test)\n",
    "np.mean(pred == y_test)"
   ]
  },
  {
   "cell_type": "code",
   "execution_count": 11,
   "metadata": {
    "executionInfo": {
     "elapsed": 492,
     "status": "ok",
     "timestamp": 1604218810581,
     "user": {
      "displayName": "Gautherot Morgan",
      "photoUrl": "",
      "userId": "07974205866322024288"
     },
     "user_tz": -60
    },
    "id": "zXI8cvoO5G1g"
   },
   "outputs": [],
   "source": []
  }
 ],
 "metadata": {
  "colab": {
   "authorship_tag": "ABX9TyN3cP51kYufK97zH1CPL8Yp",
   "collapsed_sections": [],
   "name": "Adaboost from scratch.ipynb",
   "provenance": []
  },
  "kernelspec": {
   "display_name": "Python 3 (ipykernel)",
   "language": "python",
   "name": "python3"
  },
  "language_info": {
   "codemirror_mode": {
    "name": "ipython",
    "version": 3
   },
   "file_extension": ".py",
   "mimetype": "text/x-python",
   "name": "python",
   "nbconvert_exporter": "python",
   "pygments_lexer": "ipython3",
   "version": "3.9.11"
  }
 },
 "nbformat": 4,
 "nbformat_minor": 4
}
