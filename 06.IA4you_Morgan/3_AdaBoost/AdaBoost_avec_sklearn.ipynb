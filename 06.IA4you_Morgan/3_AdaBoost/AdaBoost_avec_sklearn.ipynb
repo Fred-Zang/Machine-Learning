{
 "cells": [
  {
   "cell_type": "markdown",
   "metadata": {
    "id": "fy6W0ilolOJz"
   },
   "source": [
    "# AdaBoost avec sklearn"
   ]
  },
  {
   "cell_type": "markdown",
   "metadata": {
    "id": "k6tKI42vlSgU"
   },
   "source": [
    "## Importation des packages"
   ]
  },
  {
   "cell_type": "code",
   "execution_count": 1,
   "metadata": {
    "id": "A4y7IJyHlWUD"
   },
   "outputs": [],
   "source": [
    "import pandas as pd\n",
    "import numpy as np\n",
    "\n",
    "from sklearn.preprocessing import StandardScaler\n",
    "from sklearn.tree import DecisionTreeClassifier\n",
    "from sklearn.linear_model import LogisticRegression\n",
    "from sklearn.ensemble import AdaBoostClassifier\n",
    "from sklearn.datasets import load_breast_cancer\n",
    "from sklearn.model_selection import train_test_split"
   ]
  },
  {
   "cell_type": "markdown",
   "metadata": {
    "id": "04DiQmx0lfq1"
   },
   "source": [
    "## Importation des données"
   ]
  },
  {
   "cell_type": "code",
   "execution_count": 2,
   "metadata": {
    "id": "5GeYyEfblfbL"
   },
   "outputs": [],
   "source": [
    "data = load_breast_cancer()\n",
    "\n",
    "x = data['data']\n",
    "y = data['target']\n",
    "\n",
    "x_train, x_test, y_train, y_test = train_test_split(x, y, test_size=0.33, random_state=42)"
   ]
  },
  {
   "cell_type": "markdown",
   "metadata": {
    "id": "QfO0UpPblkQJ"
   },
   "source": [
    "## Les paramètres\n",
    "\n",
    "Dans cette partie, je vais prendre le temps de vous expliquer chaque paramètre de l'algorithme AdaBoost. De cette façon, vous pourrez choisir judicieusement les paramètres les plus adaptés à votre problème dans le but d'entraîner le modèle AdaBoost le plus performant."
   ]
  },
  {
   "cell_type": "markdown",
   "metadata": {
    "id": "usoomTwglumP"
   },
   "source": [
    "### base_estimator"
   ]
  },
  {
   "cell_type": "markdown",
   "metadata": {
    "id": "RCMMwx_CrTUC"
   },
   "source": [
    "La paramètre *base_estimator* défini quel algorithme utiliser dans notre algorithme de boosting. On peut utiliser n'importe quel algorithme présent via sklearn, par défaut on utilise le *DecisionTreeClassifier*."
   ]
  },
  {
   "cell_type": "code",
   "execution_count": 3,
   "metadata": {
    "colab": {
     "base_uri": "https://localhost:8080/"
    },
    "id": "i0xxHfJrlbPh",
    "outputId": "a2fe9ab6-1e26-4d9e-dbd3-a0536639a364"
   },
   "outputs": [
    {
     "name": "stdout",
     "output_type": "stream",
     "text": [
      "0.9521276595744681\n"
     ]
    }
   ],
   "source": [
    "weak_learner = DecisionTreeClassifier(max_depth=1)\n",
    "model_ada_tree = AdaBoostClassifier(base_estimator=weak_learner)\n",
    "\n",
    "model_ada_tree.fit(x_train, y_train)\n",
    "\n",
    "y_pred = model_ada_tree.predict(x_test)\n",
    "\n",
    "print(np.mean(y_test==y_pred))"
   ]
  },
  {
   "cell_type": "code",
   "execution_count": 4,
   "metadata": {
    "colab": {
     "base_uri": "https://localhost:8080/"
    },
    "id": "1_UgcL6616r2",
    "outputId": "94af75e0-56ed-4e44-821f-b42fcd78fc0e"
   },
   "outputs": [
    {
     "name": "stdout",
     "output_type": "stream",
     "text": [
      "0.9840425531914894\n"
     ]
    }
   ],
   "source": [
    "weak_learner = LogisticRegression()\n",
    "model_ada_rl = AdaBoostClassifier(base_estimator=weak_learner)\n",
    "\n",
    "scaler = StandardScaler().fit(x_train)\n",
    "\n",
    "x_train_scale = scaler.transform(x_train)\n",
    "model_ada_rl.fit(x_train_scale, y_train)\n",
    "\n",
    "x_test_scale = scaler.transform(x_test)\n",
    "y_pred = model_ada_rl.predict(x_test_scale)\n",
    "\n",
    "print(np.mean(y_test==y_pred))"
   ]
  },
  {
   "cell_type": "markdown",
   "metadata": {
    "id": "uX729i2ZlziA"
   },
   "source": [
    "### n_estimators"
   ]
  },
  {
   "cell_type": "markdown",
   "metadata": {
    "id": "UlG2aPsB33SJ"
   },
   "source": [
    "Le paramètre *n_estimators* contrôle le nombre de modèles à créer pour notre ensemble."
   ]
  },
  {
   "cell_type": "code",
   "execution_count": 5,
   "metadata": {
    "colab": {
     "base_uri": "https://localhost:8080/"
    },
    "id": "eQSdloBAl39n",
    "outputId": "8b7f69ee-4a50-4b2a-ccca-4ad417f513ea"
   },
   "outputs": [
    {
     "name": "stdout",
     "output_type": "stream",
     "text": [
      "0.9521276595744681\n"
     ]
    }
   ],
   "source": [
    "weak_learner = DecisionTreeClassifier(max_depth=1)\n",
    "model_ada_tree = AdaBoostClassifier(base_estimator=weak_learner, n_estimators=50)\n",
    "\n",
    "model_ada_tree.fit(x_train, y_train)\n",
    "\n",
    "y_pred = model_ada_tree.predict(x_test)\n",
    "\n",
    "print(np.mean(y_test==y_pred))"
   ]
  },
  {
   "cell_type": "code",
   "execution_count": 6,
   "metadata": {
    "colab": {
     "base_uri": "https://localhost:8080/"
    },
    "id": "knuSn2CJ4YaX",
    "outputId": "68173c23-c0e3-4b5f-8202-45192d3b7da3"
   },
   "outputs": [
    {
     "name": "stdout",
     "output_type": "stream",
     "text": [
      "0.973404255319149\n"
     ]
    }
   ],
   "source": [
    "weak_learner = DecisionTreeClassifier(max_depth=1)\n",
    "model_ada_tree = AdaBoostClassifier(base_estimator=weak_learner, n_estimators=500)\n",
    "\n",
    "model_ada_tree.fit(x_train, y_train)\n",
    "\n",
    "y_pred = model_ada_tree.predict(x_test)\n",
    "\n",
    "print(np.mean(y_test==y_pred))"
   ]
  },
  {
   "cell_type": "markdown",
   "metadata": {
    "id": "y_TkC1d_l6M_"
   },
   "source": [
    "### learning_rate"
   ]
  },
  {
   "cell_type": "markdown",
   "metadata": {
    "id": "ZsdFbIEI6vvP"
   },
   "source": [
    "Le taux d'apprentissage réduit la contribution de chaque classificateur par le *learning_rate*. Il existe un compromis entre *learning_rate* et *n_estimateurs*."
   ]
  },
  {
   "cell_type": "code",
   "execution_count": 7,
   "metadata": {
    "colab": {
     "base_uri": "https://localhost:8080/"
    },
    "id": "Fy8VtsvRl8_B",
    "outputId": "f1d291ad-80fc-450c-a415-9d7afc406ab0"
   },
   "outputs": [
    {
     "name": "stdout",
     "output_type": "stream",
     "text": [
      "0.973404255319149\n"
     ]
    }
   ],
   "source": [
    "weak_learner = DecisionTreeClassifier(max_depth=1)\n",
    "model_ada_tree = AdaBoostClassifier(base_estimator=weak_learner, n_estimators=500, learning_rate=1)\n",
    "\n",
    "model_ada_tree.fit(x_train, y_train)\n",
    "\n",
    "y_pred = model_ada_tree.predict(x_test)\n",
    "\n",
    "print(np.mean(y_test==y_pred))"
   ]
  },
  {
   "cell_type": "code",
   "execution_count": 8,
   "metadata": {
    "colab": {
     "base_uri": "https://localhost:8080/"
    },
    "id": "O6XigKwl6rNS",
    "outputId": "0f07b812-5d0f-47c4-dd65-50c71129af20"
   },
   "outputs": [
    {
     "name": "stdout",
     "output_type": "stream",
     "text": [
      "0.9840425531914894\n"
     ]
    }
   ],
   "source": [
    "weak_learner = DecisionTreeClassifier(max_depth=1)\n",
    "model_ada_tree = AdaBoostClassifier(base_estimator=weak_learner, n_estimators=500, learning_rate=0.3)\n",
    "\n",
    "model_ada_tree.fit(x_train, y_train)\n",
    "\n",
    "y_pred = model_ada_tree.predict(x_test)\n",
    "\n",
    "print(np.mean(y_test==y_pred))"
   ]
  },
  {
   "cell_type": "markdown",
   "metadata": {
    "id": "ZEOzH1WOl9ky"
   },
   "source": [
    "### algorithm"
   ]
  },
  {
   "cell_type": "markdown",
   "metadata": {
    "id": "HD5c9-0B7ikj"
   },
   "source": [
    "Le paramètre *algorithm* permet de choisir l'algorithme d'optimisation. Je vous conseil de laisser le paramètre par défaut *SAMME.R*."
   ]
  },
  {
   "cell_type": "markdown",
   "metadata": {
    "id": "lXQgapdumAJ0"
   },
   "source": [
    "### random_state"
   ]
  },
  {
   "cell_type": "markdown",
   "metadata": {
    "id": "_hvUt9ax8aKa"
   },
   "source": [
    "Ce paramètre permet d'initialiser une seed pour que les nombres générés aléatoirement soient toujours les mêmes. C'est intéressant à utiliser durant les tests où l'on veut tomber sur les mêmes résultats et être sûr que les changements de performance sont dû aux changements des paramètres et non à une initialisation différente."
   ]
  },
  {
   "cell_type": "markdown",
   "metadata": {
    "id": "u_rJQBoZmDrw"
   },
   "source": [
    "## Les attributs\n",
    "\n",
    "Les attributs sont les différentes informations que l'on peut obtenir du modèle une fois qu'il est entraîné."
   ]
  },
  {
   "cell_type": "markdown",
   "metadata": {
    "id": "hLmufbKgmnYh"
   },
   "source": [
    "### base_estimator_"
   ]
  },
  {
   "cell_type": "markdown",
   "metadata": {
    "id": "6aPXt4kI-Qe9"
   },
   "source": [
    "Cet attribut permet d'avoir accès au modèle de base choisi. "
   ]
  },
  {
   "cell_type": "code",
   "execution_count": 9,
   "metadata": {
    "colab": {
     "base_uri": "https://localhost:8080/"
    },
    "id": "lxpSkDLvmGY0",
    "outputId": "56be589e-a1c6-46ff-fcbf-03ce410da4a7"
   },
   "outputs": [
    {
     "data": {
      "text/plain": [
       "DecisionTreeClassifier(max_depth=1)"
      ]
     },
     "execution_count": 9,
     "metadata": {},
     "output_type": "execute_result"
    }
   ],
   "source": [
    "model_ada_tree.base_estimator_"
   ]
  },
  {
   "cell_type": "markdown",
   "metadata": {
    "id": "09yjMSY6mrmX"
   },
   "source": [
    "### estimators_"
   ]
  },
  {
   "cell_type": "markdown",
   "metadata": {
    "id": "A0Id0iys-nWU"
   },
   "source": [
    "Cet attribut permet d'avoir accès à chaque modèle créé."
   ]
  },
  {
   "cell_type": "code",
   "execution_count": 10,
   "metadata": {
    "colab": {
     "base_uri": "https://localhost:8080/"
    },
    "id": "HavpOS4imt8_",
    "outputId": "edd36123-3ab3-46ed-8004-b9c48a785092"
   },
   "outputs": [
    {
     "data": {
      "text/plain": [
       "[DecisionTreeClassifier(max_depth=1, random_state=990072795),\n",
       " DecisionTreeClassifier(max_depth=1, random_state=1982461078),\n",
       " DecisionTreeClassifier(max_depth=1, random_state=311639406),\n",
       " DecisionTreeClassifier(max_depth=1, random_state=580542560),\n",
       " DecisionTreeClassifier(max_depth=1, random_state=524884235),\n",
       " DecisionTreeClassifier(max_depth=1, random_state=1978365425),\n",
       " DecisionTreeClassifier(max_depth=1, random_state=2047526349),\n",
       " DecisionTreeClassifier(max_depth=1, random_state=120346956),\n",
       " DecisionTreeClassifier(max_depth=1, random_state=1779512668),\n",
       " DecisionTreeClassifier(max_depth=1, random_state=1705454256),\n",
       " DecisionTreeClassifier(max_depth=1, random_state=810293461),\n",
       " DecisionTreeClassifier(max_depth=1, random_state=1988366840),\n",
       " DecisionTreeClassifier(max_depth=1, random_state=552221715),\n",
       " DecisionTreeClassifier(max_depth=1, random_state=1810023211),\n",
       " DecisionTreeClassifier(max_depth=1, random_state=1336916396),\n",
       " DecisionTreeClassifier(max_depth=1, random_state=1959163151),\n",
       " DecisionTreeClassifier(max_depth=1, random_state=1847199806),\n",
       " DecisionTreeClassifier(max_depth=1, random_state=566371926),\n",
       " DecisionTreeClassifier(max_depth=1, random_state=386502765),\n",
       " DecisionTreeClassifier(max_depth=1, random_state=1751518586),\n",
       " DecisionTreeClassifier(max_depth=1, random_state=488889260),\n",
       " DecisionTreeClassifier(max_depth=1, random_state=1388116904),\n",
       " DecisionTreeClassifier(max_depth=1, random_state=1899914223),\n",
       " DecisionTreeClassifier(max_depth=1, random_state=452251721),\n",
       " DecisionTreeClassifier(max_depth=1, random_state=17974017),\n",
       " DecisionTreeClassifier(max_depth=1, random_state=242926333),\n",
       " DecisionTreeClassifier(max_depth=1, random_state=1756062166),\n",
       " DecisionTreeClassifier(max_depth=1, random_state=1047374507),\n",
       " DecisionTreeClassifier(max_depth=1, random_state=1830921386),\n",
       " DecisionTreeClassifier(max_depth=1, random_state=1816582931),\n",
       " DecisionTreeClassifier(max_depth=1, random_state=1263939307),\n",
       " DecisionTreeClassifier(max_depth=1, random_state=1735727073),\n",
       " DecisionTreeClassifier(max_depth=1, random_state=1505147814),\n",
       " DecisionTreeClassifier(max_depth=1, random_state=749576570),\n",
       " DecisionTreeClassifier(max_depth=1, random_state=458190265),\n",
       " DecisionTreeClassifier(max_depth=1, random_state=363305171),\n",
       " DecisionTreeClassifier(max_depth=1, random_state=388870138),\n",
       " DecisionTreeClassifier(max_depth=1, random_state=1704578204),\n",
       " DecisionTreeClassifier(max_depth=1, random_state=1524250955),\n",
       " DecisionTreeClassifier(max_depth=1, random_state=1756568205),\n",
       " DecisionTreeClassifier(max_depth=1, random_state=318923837),\n",
       " DecisionTreeClassifier(max_depth=1, random_state=1172803392),\n",
       " DecisionTreeClassifier(max_depth=1, random_state=1573155665),\n",
       " DecisionTreeClassifier(max_depth=1, random_state=777218030),\n",
       " DecisionTreeClassifier(max_depth=1, random_state=1105876661),\n",
       " DecisionTreeClassifier(max_depth=1, random_state=388466132),\n",
       " DecisionTreeClassifier(max_depth=1, random_state=356406546),\n",
       " DecisionTreeClassifier(max_depth=1, random_state=30219449),\n",
       " DecisionTreeClassifier(max_depth=1, random_state=1489894248),\n",
       " DecisionTreeClassifier(max_depth=1, random_state=196397166),\n",
       " DecisionTreeClassifier(max_depth=1, random_state=2140020944),\n",
       " DecisionTreeClassifier(max_depth=1, random_state=1088395045),\n",
       " DecisionTreeClassifier(max_depth=1, random_state=573052553),\n",
       " DecisionTreeClassifier(max_depth=1, random_state=1349120550),\n",
       " DecisionTreeClassifier(max_depth=1, random_state=2055578733),\n",
       " DecisionTreeClassifier(max_depth=1, random_state=781865027),\n",
       " DecisionTreeClassifier(max_depth=1, random_state=52001202),\n",
       " DecisionTreeClassifier(max_depth=1, random_state=1313067976),\n",
       " DecisionTreeClassifier(max_depth=1, random_state=1216905304),\n",
       " DecisionTreeClassifier(max_depth=1, random_state=61077246),\n",
       " DecisionTreeClassifier(max_depth=1, random_state=1668200323),\n",
       " DecisionTreeClassifier(max_depth=1, random_state=2129213935),\n",
       " DecisionTreeClassifier(max_depth=1, random_state=171552893),\n",
       " DecisionTreeClassifier(max_depth=1, random_state=1371970102),\n",
       " DecisionTreeClassifier(max_depth=1, random_state=216823228),\n",
       " DecisionTreeClassifier(max_depth=1, random_state=569526737),\n",
       " DecisionTreeClassifier(max_depth=1, random_state=1432812303),\n",
       " DecisionTreeClassifier(max_depth=1, random_state=1924502884),\n",
       " DecisionTreeClassifier(max_depth=1, random_state=1674310334),\n",
       " DecisionTreeClassifier(max_depth=1, random_state=439029436),\n",
       " DecisionTreeClassifier(max_depth=1, random_state=1971069961),\n",
       " DecisionTreeClassifier(max_depth=1, random_state=1105712568),\n",
       " DecisionTreeClassifier(max_depth=1, random_state=236622103),\n",
       " DecisionTreeClassifier(max_depth=1, random_state=1499402819),\n",
       " DecisionTreeClassifier(max_depth=1, random_state=1655617102),\n",
       " DecisionTreeClassifier(max_depth=1, random_state=1951839691),\n",
       " DecisionTreeClassifier(max_depth=1, random_state=1763473053),\n",
       " DecisionTreeClassifier(max_depth=1, random_state=1142730102),\n",
       " DecisionTreeClassifier(max_depth=1, random_state=736083286),\n",
       " DecisionTreeClassifier(max_depth=1, random_state=580405295),\n",
       " DecisionTreeClassifier(max_depth=1, random_state=1850789206),\n",
       " DecisionTreeClassifier(max_depth=1, random_state=1055199615),\n",
       " DecisionTreeClassifier(max_depth=1, random_state=145813062),\n",
       " DecisionTreeClassifier(max_depth=1, random_state=1482104927),\n",
       " DecisionTreeClassifier(max_depth=1, random_state=1145801418),\n",
       " DecisionTreeClassifier(max_depth=1, random_state=1663753858),\n",
       " DecisionTreeClassifier(max_depth=1, random_state=1298693772),\n",
       " DecisionTreeClassifier(max_depth=1, random_state=369240548),\n",
       " DecisionTreeClassifier(max_depth=1, random_state=1813910319),\n",
       " DecisionTreeClassifier(max_depth=1, random_state=15521385),\n",
       " DecisionTreeClassifier(max_depth=1, random_state=394852013),\n",
       " DecisionTreeClassifier(max_depth=1, random_state=2133949523),\n",
       " DecisionTreeClassifier(max_depth=1, random_state=1278741770),\n",
       " DecisionTreeClassifier(max_depth=1, random_state=1507466943),\n",
       " DecisionTreeClassifier(max_depth=1, random_state=1105921957),\n",
       " DecisionTreeClassifier(max_depth=1, random_state=1472805328),\n",
       " DecisionTreeClassifier(max_depth=1, random_state=1522392323),\n",
       " DecisionTreeClassifier(max_depth=1, random_state=820422390),\n",
       " DecisionTreeClassifier(max_depth=1, random_state=952905207),\n",
       " DecisionTreeClassifier(max_depth=1, random_state=1446827356),\n",
       " DecisionTreeClassifier(max_depth=1, random_state=503767546),\n",
       " DecisionTreeClassifier(max_depth=1, random_state=1805835045),\n",
       " DecisionTreeClassifier(max_depth=1, random_state=1653104491),\n",
       " DecisionTreeClassifier(max_depth=1, random_state=935771848),\n",
       " DecisionTreeClassifier(max_depth=1, random_state=2090254871),\n",
       " DecisionTreeClassifier(max_depth=1, random_state=1282976732),\n",
       " DecisionTreeClassifier(max_depth=1, random_state=1814102316),\n",
       " DecisionTreeClassifier(max_depth=1, random_state=1699553502),\n",
       " DecisionTreeClassifier(max_depth=1, random_state=1269308407),\n",
       " DecisionTreeClassifier(max_depth=1, random_state=744167722),\n",
       " DecisionTreeClassifier(max_depth=1, random_state=1249979037),\n",
       " DecisionTreeClassifier(max_depth=1, random_state=1705395367),\n",
       " DecisionTreeClassifier(max_depth=1, random_state=1267318514),\n",
       " DecisionTreeClassifier(max_depth=1, random_state=1373389586),\n",
       " DecisionTreeClassifier(max_depth=1, random_state=1500827769),\n",
       " DecisionTreeClassifier(max_depth=1, random_state=947913177),\n",
       " DecisionTreeClassifier(max_depth=1, random_state=968089636),\n",
       " DecisionTreeClassifier(max_depth=1, random_state=523090175),\n",
       " DecisionTreeClassifier(max_depth=1, random_state=14955961),\n",
       " DecisionTreeClassifier(max_depth=1, random_state=1109319414),\n",
       " DecisionTreeClassifier(max_depth=1, random_state=469873350),\n",
       " DecisionTreeClassifier(max_depth=1, random_state=1399108558),\n",
       " DecisionTreeClassifier(max_depth=1, random_state=707482081),\n",
       " DecisionTreeClassifier(max_depth=1, random_state=1520630979),\n",
       " DecisionTreeClassifier(max_depth=1, random_state=2039580802),\n",
       " DecisionTreeClassifier(max_depth=1, random_state=1579204042),\n",
       " DecisionTreeClassifier(max_depth=1, random_state=2057416416),\n",
       " DecisionTreeClassifier(max_depth=1, random_state=105594289),\n",
       " DecisionTreeClassifier(max_depth=1, random_state=279125797),\n",
       " DecisionTreeClassifier(max_depth=1, random_state=821122512),\n",
       " DecisionTreeClassifier(max_depth=1, random_state=1553273098),\n",
       " DecisionTreeClassifier(max_depth=1, random_state=119329918),\n",
       " DecisionTreeClassifier(max_depth=1, random_state=1180730640),\n",
       " DecisionTreeClassifier(max_depth=1, random_state=1378887118),\n",
       " DecisionTreeClassifier(max_depth=1, random_state=1634954259),\n",
       " DecisionTreeClassifier(max_depth=1, random_state=360168424),\n",
       " DecisionTreeClassifier(max_depth=1, random_state=1758966758),\n",
       " DecisionTreeClassifier(max_depth=1, random_state=1322173988),\n",
       " DecisionTreeClassifier(max_depth=1, random_state=560047501),\n",
       " DecisionTreeClassifier(max_depth=1, random_state=1511890408),\n",
       " DecisionTreeClassifier(max_depth=1, random_state=1177642831),\n",
       " DecisionTreeClassifier(max_depth=1, random_state=1033803996),\n",
       " DecisionTreeClassifier(max_depth=1, random_state=1903968834),\n",
       " DecisionTreeClassifier(max_depth=1, random_state=455937997),\n",
       " DecisionTreeClassifier(max_depth=1, random_state=1400074969),\n",
       " DecisionTreeClassifier(max_depth=1, random_state=1731339186),\n",
       " DecisionTreeClassifier(max_depth=1, random_state=209168005),\n",
       " DecisionTreeClassifier(max_depth=1, random_state=1802664536),\n",
       " DecisionTreeClassifier(max_depth=1, random_state=2101619974),\n",
       " DecisionTreeClassifier(max_depth=1, random_state=229471586),\n",
       " DecisionTreeClassifier(max_depth=1, random_state=1385970374),\n",
       " DecisionTreeClassifier(max_depth=1, random_state=1349735054),\n",
       " DecisionTreeClassifier(max_depth=1, random_state=1689291415),\n",
       " DecisionTreeClassifier(max_depth=1, random_state=594039353),\n",
       " DecisionTreeClassifier(max_depth=1, random_state=521583081),\n",
       " DecisionTreeClassifier(max_depth=1, random_state=1522859239),\n",
       " DecisionTreeClassifier(max_depth=1, random_state=381217240),\n",
       " DecisionTreeClassifier(max_depth=1, random_state=1066289821),\n",
       " DecisionTreeClassifier(max_depth=1, random_state=1852327476),\n",
       " DecisionTreeClassifier(max_depth=1, random_state=638583365),\n",
       " DecisionTreeClassifier(max_depth=1, random_state=740684148),\n",
       " DecisionTreeClassifier(max_depth=1, random_state=171458325),\n",
       " DecisionTreeClassifier(max_depth=1, random_state=143336118),\n",
       " DecisionTreeClassifier(max_depth=1, random_state=221126130),\n",
       " DecisionTreeClassifier(max_depth=1, random_state=826433932),\n",
       " DecisionTreeClassifier(max_depth=1, random_state=888245966),\n",
       " DecisionTreeClassifier(max_depth=1, random_state=1291875509),\n",
       " DecisionTreeClassifier(max_depth=1, random_state=950456071),\n",
       " DecisionTreeClassifier(max_depth=1, random_state=40281445),\n",
       " DecisionTreeClassifier(max_depth=1, random_state=118522673),\n",
       " DecisionTreeClassifier(max_depth=1, random_state=558828944),\n",
       " DecisionTreeClassifier(max_depth=1, random_state=2082762227),\n",
       " DecisionTreeClassifier(max_depth=1, random_state=46542797),\n",
       " DecisionTreeClassifier(max_depth=1, random_state=1016337414),\n",
       " DecisionTreeClassifier(max_depth=1, random_state=2054582291),\n",
       " DecisionTreeClassifier(max_depth=1, random_state=430365918),\n",
       " DecisionTreeClassifier(max_depth=1, random_state=978326002),\n",
       " DecisionTreeClassifier(max_depth=1, random_state=1400441743),\n",
       " DecisionTreeClassifier(max_depth=1, random_state=1779944076),\n",
       " DecisionTreeClassifier(max_depth=1, random_state=592130303),\n",
       " DecisionTreeClassifier(max_depth=1, random_state=1727327213),\n",
       " DecisionTreeClassifier(max_depth=1, random_state=1501047611),\n",
       " DecisionTreeClassifier(max_depth=1, random_state=2085678769),\n",
       " DecisionTreeClassifier(max_depth=1, random_state=579237724),\n",
       " DecisionTreeClassifier(max_depth=1, random_state=434876279),\n",
       " DecisionTreeClassifier(max_depth=1, random_state=998323627),\n",
       " DecisionTreeClassifier(max_depth=1, random_state=1194013571),\n",
       " DecisionTreeClassifier(max_depth=1, random_state=1291532684),\n",
       " DecisionTreeClassifier(max_depth=1, random_state=1093699726),\n",
       " DecisionTreeClassifier(max_depth=1, random_state=1754803242),\n",
       " DecisionTreeClassifier(max_depth=1, random_state=408309301),\n",
       " DecisionTreeClassifier(max_depth=1, random_state=48933298),\n",
       " DecisionTreeClassifier(max_depth=1, random_state=2017363371),\n",
       " DecisionTreeClassifier(max_depth=1, random_state=52914310),\n",
       " DecisionTreeClassifier(max_depth=1, random_state=357632090),\n",
       " DecisionTreeClassifier(max_depth=1, random_state=1930908787),\n",
       " DecisionTreeClassifier(max_depth=1, random_state=1617982023),\n",
       " DecisionTreeClassifier(max_depth=1, random_state=1870909019),\n",
       " DecisionTreeClassifier(max_depth=1, random_state=1662330141),\n",
       " DecisionTreeClassifier(max_depth=1, random_state=367540882),\n",
       " DecisionTreeClassifier(max_depth=1, random_state=268378350),\n",
       " DecisionTreeClassifier(max_depth=1, random_state=989868643),\n",
       " DecisionTreeClassifier(max_depth=1, random_state=124370326),\n",
       " DecisionTreeClassifier(max_depth=1, random_state=1147031230),\n",
       " DecisionTreeClassifier(max_depth=1, random_state=1164922238),\n",
       " DecisionTreeClassifier(max_depth=1, random_state=1443533940),\n",
       " DecisionTreeClassifier(max_depth=1, random_state=81788340),\n",
       " DecisionTreeClassifier(max_depth=1, random_state=541836054),\n",
       " DecisionTreeClassifier(max_depth=1, random_state=1877612293),\n",
       " DecisionTreeClassifier(max_depth=1, random_state=2142727167),\n",
       " DecisionTreeClassifier(max_depth=1, random_state=217340423),\n",
       " DecisionTreeClassifier(max_depth=1, random_state=1645776712),\n",
       " DecisionTreeClassifier(max_depth=1, random_state=980071209),\n",
       " DecisionTreeClassifier(max_depth=1, random_state=34399423),\n",
       " DecisionTreeClassifier(max_depth=1, random_state=96939182),\n",
       " DecisionTreeClassifier(max_depth=1, random_state=1391139866),\n",
       " DecisionTreeClassifier(max_depth=1, random_state=1979182424),\n",
       " DecisionTreeClassifier(max_depth=1, random_state=500435682),\n",
       " DecisionTreeClassifier(max_depth=1, random_state=657554671),\n",
       " DecisionTreeClassifier(max_depth=1, random_state=1324087202),\n",
       " DecisionTreeClassifier(max_depth=1, random_state=826107193),\n",
       " DecisionTreeClassifier(max_depth=1, random_state=1358186191),\n",
       " DecisionTreeClassifier(max_depth=1, random_state=1790170945),\n",
       " DecisionTreeClassifier(max_depth=1, random_state=2136503456),\n",
       " DecisionTreeClassifier(max_depth=1, random_state=1188952066),\n",
       " DecisionTreeClassifier(max_depth=1, random_state=1773236542),\n",
       " DecisionTreeClassifier(max_depth=1, random_state=842275610),\n",
       " DecisionTreeClassifier(max_depth=1, random_state=1125138830),\n",
       " DecisionTreeClassifier(max_depth=1, random_state=985816423),\n",
       " DecisionTreeClassifier(max_depth=1, random_state=448039636),\n",
       " DecisionTreeClassifier(max_depth=1, random_state=208756592),\n",
       " DecisionTreeClassifier(max_depth=1, random_state=1791444060),\n",
       " DecisionTreeClassifier(max_depth=1, random_state=1575124415),\n",
       " DecisionTreeClassifier(max_depth=1, random_state=1047184864),\n",
       " DecisionTreeClassifier(max_depth=1, random_state=1257291961),\n",
       " DecisionTreeClassifier(max_depth=1, random_state=1582490910),\n",
       " DecisionTreeClassifier(max_depth=1, random_state=850448544),\n",
       " DecisionTreeClassifier(max_depth=1, random_state=1666310631),\n",
       " DecisionTreeClassifier(max_depth=1, random_state=1287613096),\n",
       " DecisionTreeClassifier(max_depth=1, random_state=233272090),\n",
       " DecisionTreeClassifier(max_depth=1, random_state=1193977833),\n",
       " DecisionTreeClassifier(max_depth=1, random_state=379877015),\n",
       " DecisionTreeClassifier(max_depth=1, random_state=136346460),\n",
       " DecisionTreeClassifier(max_depth=1, random_state=234010009),\n",
       " DecisionTreeClassifier(max_depth=1, random_state=2025807609),\n",
       " DecisionTreeClassifier(max_depth=1, random_state=1490179441),\n",
       " DecisionTreeClassifier(max_depth=1, random_state=1463796789),\n",
       " DecisionTreeClassifier(max_depth=1, random_state=1776136662),\n",
       " DecisionTreeClassifier(max_depth=1, random_state=1360864107),\n",
       " DecisionTreeClassifier(max_depth=1, random_state=293250964),\n",
       " DecisionTreeClassifier(max_depth=1, random_state=2078327708),\n",
       " DecisionTreeClassifier(max_depth=1, random_state=400755404),\n",
       " DecisionTreeClassifier(max_depth=1, random_state=1592582058),\n",
       " DecisionTreeClassifier(max_depth=1, random_state=750879274),\n",
       " DecisionTreeClassifier(max_depth=1, random_state=966053953),\n",
       " DecisionTreeClassifier(max_depth=1, random_state=560855664),\n",
       " DecisionTreeClassifier(max_depth=1, random_state=1238195401),\n",
       " DecisionTreeClassifier(max_depth=1, random_state=1698488914),\n",
       " DecisionTreeClassifier(max_depth=1, random_state=51493845),\n",
       " DecisionTreeClassifier(max_depth=1, random_state=740121217),\n",
       " DecisionTreeClassifier(max_depth=1, random_state=1980570179),\n",
       " DecisionTreeClassifier(max_depth=1, random_state=838933560),\n",
       " DecisionTreeClassifier(max_depth=1, random_state=1413211046),\n",
       " DecisionTreeClassifier(max_depth=1, random_state=1272745206),\n",
       " DecisionTreeClassifier(max_depth=1, random_state=1790722055),\n",
       " DecisionTreeClassifier(max_depth=1, random_state=1235691175),\n",
       " DecisionTreeClassifier(max_depth=1, random_state=176305451),\n",
       " DecisionTreeClassifier(max_depth=1, random_state=581578169),\n",
       " DecisionTreeClassifier(max_depth=1, random_state=1305150918),\n",
       " DecisionTreeClassifier(max_depth=1, random_state=959649722),\n",
       " DecisionTreeClassifier(max_depth=1, random_state=1013506590),\n",
       " DecisionTreeClassifier(max_depth=1, random_state=21220440),\n",
       " DecisionTreeClassifier(max_depth=1, random_state=1196489808),\n",
       " DecisionTreeClassifier(max_depth=1, random_state=14999373),\n",
       " DecisionTreeClassifier(max_depth=1, random_state=254591249),\n",
       " DecisionTreeClassifier(max_depth=1, random_state=1407594961),\n",
       " DecisionTreeClassifier(max_depth=1, random_state=1859686072),\n",
       " DecisionTreeClassifier(max_depth=1, random_state=1004598945),\n",
       " DecisionTreeClassifier(max_depth=1, random_state=2124564295),\n",
       " DecisionTreeClassifier(max_depth=1, random_state=1250041935),\n",
       " DecisionTreeClassifier(max_depth=1, random_state=704742888),\n",
       " DecisionTreeClassifier(max_depth=1, random_state=1926619779),\n",
       " DecisionTreeClassifier(max_depth=1, random_state=1721805484),\n",
       " DecisionTreeClassifier(max_depth=1, random_state=341660597),\n",
       " DecisionTreeClassifier(max_depth=1, random_state=1395628986),\n",
       " DecisionTreeClassifier(max_depth=1, random_state=470054664),\n",
       " DecisionTreeClassifier(max_depth=1, random_state=1303961044),\n",
       " DecisionTreeClassifier(max_depth=1, random_state=1728946847),\n",
       " DecisionTreeClassifier(max_depth=1, random_state=953164128),\n",
       " DecisionTreeClassifier(max_depth=1, random_state=1889459586),\n",
       " DecisionTreeClassifier(max_depth=1, random_state=1014303938),\n",
       " DecisionTreeClassifier(max_depth=1, random_state=1991039192),\n",
       " DecisionTreeClassifier(max_depth=1, random_state=167274440),\n",
       " DecisionTreeClassifier(max_depth=1, random_state=1376660823),\n",
       " DecisionTreeClassifier(max_depth=1, random_state=1678801920),\n",
       " DecisionTreeClassifier(max_depth=1, random_state=523191746),\n",
       " DecisionTreeClassifier(max_depth=1, random_state=1742829851),\n",
       " DecisionTreeClassifier(max_depth=1, random_state=1823213970),\n",
       " DecisionTreeClassifier(max_depth=1, random_state=2084285022),\n",
       " DecisionTreeClassifier(max_depth=1, random_state=1676177742),\n",
       " DecisionTreeClassifier(max_depth=1, random_state=1121382725),\n",
       " DecisionTreeClassifier(max_depth=1, random_state=585795783),\n",
       " DecisionTreeClassifier(max_depth=1, random_state=1088711665),\n",
       " DecisionTreeClassifier(max_depth=1, random_state=617434362),\n",
       " DecisionTreeClassifier(max_depth=1, random_state=1631628680),\n",
       " DecisionTreeClassifier(max_depth=1, random_state=1085044171),\n",
       " DecisionTreeClassifier(max_depth=1, random_state=1008137958),\n",
       " DecisionTreeClassifier(max_depth=1, random_state=1315312648),\n",
       " DecisionTreeClassifier(max_depth=1, random_state=1237697031),\n",
       " DecisionTreeClassifier(max_depth=1, random_state=1579523174),\n",
       " DecisionTreeClassifier(max_depth=1, random_state=287392359),\n",
       " DecisionTreeClassifier(max_depth=1, random_state=301864753),\n",
       " DecisionTreeClassifier(max_depth=1, random_state=1614851826),\n",
       " DecisionTreeClassifier(max_depth=1, random_state=2004401075),\n",
       " DecisionTreeClassifier(max_depth=1, random_state=1233340377),\n",
       " DecisionTreeClassifier(max_depth=1, random_state=93158560),\n",
       " DecisionTreeClassifier(max_depth=1, random_state=731714417),\n",
       " DecisionTreeClassifier(max_depth=1, random_state=727216433),\n",
       " DecisionTreeClassifier(max_depth=1, random_state=1920590212),\n",
       " DecisionTreeClassifier(max_depth=1, random_state=1981573066),\n",
       " DecisionTreeClassifier(max_depth=1, random_state=227735415),\n",
       " DecisionTreeClassifier(max_depth=1, random_state=1106310988),\n",
       " DecisionTreeClassifier(max_depth=1, random_state=1562561207),\n",
       " DecisionTreeClassifier(max_depth=1, random_state=558821013),\n",
       " DecisionTreeClassifier(max_depth=1, random_state=384717685),\n",
       " DecisionTreeClassifier(max_depth=1, random_state=301627293),\n",
       " DecisionTreeClassifier(max_depth=1, random_state=346707488),\n",
       " DecisionTreeClassifier(max_depth=1, random_state=1519842264),\n",
       " DecisionTreeClassifier(max_depth=1, random_state=791508380),\n",
       " DecisionTreeClassifier(max_depth=1, random_state=2011906520),\n",
       " DecisionTreeClassifier(max_depth=1, random_state=703510942),\n",
       " DecisionTreeClassifier(max_depth=1, random_state=799379892),\n",
       " DecisionTreeClassifier(max_depth=1, random_state=129836878),\n",
       " DecisionTreeClassifier(max_depth=1, random_state=1708533499),\n",
       " DecisionTreeClassifier(max_depth=1, random_state=1380819504),\n",
       " DecisionTreeClassifier(max_depth=1, random_state=1166502508),\n",
       " DecisionTreeClassifier(max_depth=1, random_state=1631429987),\n",
       " DecisionTreeClassifier(max_depth=1, random_state=935550256),\n",
       " DecisionTreeClassifier(max_depth=1, random_state=1307944563),\n",
       " DecisionTreeClassifier(max_depth=1, random_state=833472005),\n",
       " DecisionTreeClassifier(max_depth=1, random_state=483871800),\n",
       " DecisionTreeClassifier(max_depth=1, random_state=1320487889),\n",
       " DecisionTreeClassifier(max_depth=1, random_state=2104563748),\n",
       " DecisionTreeClassifier(max_depth=1, random_state=23058690),\n",
       " DecisionTreeClassifier(max_depth=1, random_state=1673423996),\n",
       " DecisionTreeClassifier(max_depth=1, random_state=1865661076),\n",
       " DecisionTreeClassifier(max_depth=1, random_state=1473796121),\n",
       " DecisionTreeClassifier(max_depth=1, random_state=1065977170),\n",
       " DecisionTreeClassifier(max_depth=1, random_state=1263235732),\n",
       " DecisionTreeClassifier(max_depth=1, random_state=206910894),\n",
       " DecisionTreeClassifier(max_depth=1, random_state=1420409542),\n",
       " DecisionTreeClassifier(max_depth=1, random_state=603261190),\n",
       " DecisionTreeClassifier(max_depth=1, random_state=979122809),\n",
       " DecisionTreeClassifier(max_depth=1, random_state=704498311),\n",
       " DecisionTreeClassifier(max_depth=1, random_state=1843742950),\n",
       " DecisionTreeClassifier(max_depth=1, random_state=2060044143),\n",
       " DecisionTreeClassifier(max_depth=1, random_state=1532084541),\n",
       " DecisionTreeClassifier(max_depth=1, random_state=1961379072),\n",
       " DecisionTreeClassifier(max_depth=1, random_state=2105525162),\n",
       " DecisionTreeClassifier(max_depth=1, random_state=1725899997),\n",
       " DecisionTreeClassifier(max_depth=1, random_state=2004372408),\n",
       " DecisionTreeClassifier(max_depth=1, random_state=1192282658),\n",
       " DecisionTreeClassifier(max_depth=1, random_state=1050275129),\n",
       " DecisionTreeClassifier(max_depth=1, random_state=1149635097),\n",
       " DecisionTreeClassifier(max_depth=1, random_state=1549547354),\n",
       " DecisionTreeClassifier(max_depth=1, random_state=1249943449),\n",
       " DecisionTreeClassifier(max_depth=1, random_state=505379677),\n",
       " DecisionTreeClassifier(max_depth=1, random_state=997776745),\n",
       " DecisionTreeClassifier(max_depth=1, random_state=381747937),\n",
       " DecisionTreeClassifier(max_depth=1, random_state=1631604490),\n",
       " DecisionTreeClassifier(max_depth=1, random_state=932655241),\n",
       " DecisionTreeClassifier(max_depth=1, random_state=569250988),\n",
       " DecisionTreeClassifier(max_depth=1, random_state=350382813),\n",
       " DecisionTreeClassifier(max_depth=1, random_state=1169019246),\n",
       " DecisionTreeClassifier(max_depth=1, random_state=1373696527),\n",
       " DecisionTreeClassifier(max_depth=1, random_state=438180411),\n",
       " DecisionTreeClassifier(max_depth=1, random_state=536663348),\n",
       " DecisionTreeClassifier(max_depth=1, random_state=558550005),\n",
       " DecisionTreeClassifier(max_depth=1, random_state=41370257),\n",
       " DecisionTreeClassifier(max_depth=1, random_state=1772883952),\n",
       " DecisionTreeClassifier(max_depth=1, random_state=1612613950),\n",
       " DecisionTreeClassifier(max_depth=1, random_state=1057413045),\n",
       " DecisionTreeClassifier(max_depth=1, random_state=1385902709),\n",
       " DecisionTreeClassifier(max_depth=1, random_state=1399920170),\n",
       " DecisionTreeClassifier(max_depth=1, random_state=317560416),\n",
       " DecisionTreeClassifier(max_depth=1, random_state=547482825),\n",
       " DecisionTreeClassifier(max_depth=1, random_state=135381833),\n",
       " DecisionTreeClassifier(max_depth=1, random_state=621786414),\n",
       " DecisionTreeClassifier(max_depth=1, random_state=466007185),\n",
       " DecisionTreeClassifier(max_depth=1, random_state=1880372390),\n",
       " DecisionTreeClassifier(max_depth=1, random_state=278256110),\n",
       " DecisionTreeClassifier(max_depth=1, random_state=627983385),\n",
       " DecisionTreeClassifier(max_depth=1, random_state=2116790118),\n",
       " DecisionTreeClassifier(max_depth=1, random_state=453923918),\n",
       " DecisionTreeClassifier(max_depth=1, random_state=1932567547),\n",
       " DecisionTreeClassifier(max_depth=1, random_state=1874464330),\n",
       " DecisionTreeClassifier(max_depth=1, random_state=1816022860),\n",
       " DecisionTreeClassifier(max_depth=1, random_state=1859312946),\n",
       " DecisionTreeClassifier(max_depth=1, random_state=381758335),\n",
       " DecisionTreeClassifier(max_depth=1, random_state=279902818),\n",
       " DecisionTreeClassifier(max_depth=1, random_state=403222343),\n",
       " DecisionTreeClassifier(max_depth=1, random_state=2016017996),\n",
       " DecisionTreeClassifier(max_depth=1, random_state=887332987),\n",
       " DecisionTreeClassifier(max_depth=1, random_state=1348556584),\n",
       " DecisionTreeClassifier(max_depth=1, random_state=1570313898),\n",
       " DecisionTreeClassifier(max_depth=1, random_state=548189491),\n",
       " DecisionTreeClassifier(max_depth=1, random_state=1367654999),\n",
       " DecisionTreeClassifier(max_depth=1, random_state=158576694),\n",
       " DecisionTreeClassifier(max_depth=1, random_state=1126328929),\n",
       " DecisionTreeClassifier(max_depth=1, random_state=1290721698),\n",
       " DecisionTreeClassifier(max_depth=1, random_state=253066185),\n",
       " DecisionTreeClassifier(max_depth=1, random_state=2015107965),\n",
       " DecisionTreeClassifier(max_depth=1, random_state=1883101492),\n",
       " DecisionTreeClassifier(max_depth=1, random_state=760182378),\n",
       " DecisionTreeClassifier(max_depth=1, random_state=1268346537),\n",
       " DecisionTreeClassifier(max_depth=1, random_state=105444012),\n",
       " DecisionTreeClassifier(max_depth=1, random_state=1314373302),\n",
       " DecisionTreeClassifier(max_depth=1, random_state=513732698),\n",
       " DecisionTreeClassifier(max_depth=1, random_state=1598198000),\n",
       " DecisionTreeClassifier(max_depth=1, random_state=982433813),\n",
       " DecisionTreeClassifier(max_depth=1, random_state=598361167),\n",
       " DecisionTreeClassifier(max_depth=1, random_state=277410934),\n",
       " DecisionTreeClassifier(max_depth=1, random_state=500475688),\n",
       " DecisionTreeClassifier(max_depth=1, random_state=815552450),\n",
       " DecisionTreeClassifier(max_depth=1, random_state=368711060),\n",
       " DecisionTreeClassifier(max_depth=1, random_state=430823910),\n",
       " DecisionTreeClassifier(max_depth=1, random_state=1863318388),\n",
       " DecisionTreeClassifier(max_depth=1, random_state=728566485),\n",
       " DecisionTreeClassifier(max_depth=1, random_state=707959051),\n",
       " DecisionTreeClassifier(max_depth=1, random_state=521967085),\n",
       " DecisionTreeClassifier(max_depth=1, random_state=816658085),\n",
       " DecisionTreeClassifier(max_depth=1, random_state=1213709300),\n",
       " DecisionTreeClassifier(max_depth=1, random_state=1161248872),\n",
       " DecisionTreeClassifier(max_depth=1, random_state=144313872),\n",
       " DecisionTreeClassifier(max_depth=1, random_state=268497212),\n",
       " DecisionTreeClassifier(max_depth=1, random_state=1470913226),\n",
       " DecisionTreeClassifier(max_depth=1, random_state=925162183),\n",
       " DecisionTreeClassifier(max_depth=1, random_state=1505036653),\n",
       " DecisionTreeClassifier(max_depth=1, random_state=71971729),\n",
       " DecisionTreeClassifier(max_depth=1, random_state=337776214),\n",
       " DecisionTreeClassifier(max_depth=1, random_state=107839992),\n",
       " DecisionTreeClassifier(max_depth=1, random_state=490100993),\n",
       " DecisionTreeClassifier(max_depth=1, random_state=936510483),\n",
       " DecisionTreeClassifier(max_depth=1, random_state=1823901810),\n",
       " DecisionTreeClassifier(max_depth=1, random_state=1606054833),\n",
       " DecisionTreeClassifier(max_depth=1, random_state=952472239),\n",
       " DecisionTreeClassifier(max_depth=1, random_state=1472394844),\n",
       " DecisionTreeClassifier(max_depth=1, random_state=2041639448),\n",
       " DecisionTreeClassifier(max_depth=1, random_state=2023172995),\n",
       " DecisionTreeClassifier(max_depth=1, random_state=685525251),\n",
       " DecisionTreeClassifier(max_depth=1, random_state=209596033),\n",
       " DecisionTreeClassifier(max_depth=1, random_state=251041569),\n",
       " DecisionTreeClassifier(max_depth=1, random_state=711063312),\n",
       " DecisionTreeClassifier(max_depth=1, random_state=501893775),\n",
       " DecisionTreeClassifier(max_depth=1, random_state=184626470),\n",
       " DecisionTreeClassifier(max_depth=1, random_state=337920789),\n",
       " DecisionTreeClassifier(max_depth=1, random_state=710911574),\n",
       " DecisionTreeClassifier(max_depth=1, random_state=1899677875),\n",
       " DecisionTreeClassifier(max_depth=1, random_state=1580552910),\n",
       " DecisionTreeClassifier(max_depth=1, random_state=528492036),\n",
       " DecisionTreeClassifier(max_depth=1, random_state=1895479339),\n",
       " DecisionTreeClassifier(max_depth=1, random_state=516301568),\n",
       " DecisionTreeClassifier(max_depth=1, random_state=115139486),\n",
       " DecisionTreeClassifier(max_depth=1, random_state=1023044308),\n",
       " DecisionTreeClassifier(max_depth=1, random_state=428233583),\n",
       " DecisionTreeClassifier(max_depth=1, random_state=1634812729),\n",
       " DecisionTreeClassifier(max_depth=1, random_state=614029332),\n",
       " DecisionTreeClassifier(max_depth=1, random_state=1378261079),\n",
       " DecisionTreeClassifier(max_depth=1, random_state=831727061),\n",
       " DecisionTreeClassifier(max_depth=1, random_state=1625877939),\n",
       " DecisionTreeClassifier(max_depth=1, random_state=1554569212),\n",
       " DecisionTreeClassifier(max_depth=1, random_state=1210392948),\n",
       " DecisionTreeClassifier(max_depth=1, random_state=74824945),\n",
       " DecisionTreeClassifier(max_depth=1, random_state=1853330418),\n",
       " DecisionTreeClassifier(max_depth=1, random_state=1054518318),\n",
       " DecisionTreeClassifier(max_depth=1, random_state=1499025741),\n",
       " DecisionTreeClassifier(max_depth=1, random_state=625946249),\n",
       " DecisionTreeClassifier(max_depth=1, random_state=607173197),\n",
       " DecisionTreeClassifier(max_depth=1, random_state=1820145191),\n",
       " DecisionTreeClassifier(max_depth=1, random_state=1638385095),\n",
       " DecisionTreeClassifier(max_depth=1, random_state=62582038),\n",
       " DecisionTreeClassifier(max_depth=1, random_state=1477099000),\n",
       " DecisionTreeClassifier(max_depth=1, random_state=431015290),\n",
       " DecisionTreeClassifier(max_depth=1, random_state=80059441),\n",
       " DecisionTreeClassifier(max_depth=1, random_state=1668038072),\n",
       " DecisionTreeClassifier(max_depth=1, random_state=1881834616),\n",
       " DecisionTreeClassifier(max_depth=1, random_state=603207083),\n",
       " DecisionTreeClassifier(max_depth=1, random_state=106712790),\n",
       " DecisionTreeClassifier(max_depth=1, random_state=1003112744),\n",
       " DecisionTreeClassifier(max_depth=1, random_state=2079779985),\n",
       " DecisionTreeClassifier(max_depth=1, random_state=1666473088),\n",
       " DecisionTreeClassifier(max_depth=1, random_state=164029511),\n",
       " DecisionTreeClassifier(max_depth=1, random_state=1012118376),\n",
       " DecisionTreeClassifier(max_depth=1, random_state=17211478),\n",
       " DecisionTreeClassifier(max_depth=1, random_state=1417092834),\n",
       " DecisionTreeClassifier(max_depth=1, random_state=1132000991),\n",
       " DecisionTreeClassifier(max_depth=1, random_state=707270009),\n",
       " DecisionTreeClassifier(max_depth=1, random_state=2105633983),\n",
       " DecisionTreeClassifier(max_depth=1, random_state=1378472465),\n",
       " DecisionTreeClassifier(max_depth=1, random_state=1977227740)]"
      ]
     },
     "execution_count": 10,
     "metadata": {},
     "output_type": "execute_result"
    }
   ],
   "source": [
    "model_ada_tree.estimators_"
   ]
  },
  {
   "cell_type": "markdown",
   "metadata": {
    "id": "agxTl-tPmu-t"
   },
   "source": [
    "### classes_"
   ]
  },
  {
   "cell_type": "markdown",
   "metadata": {
    "id": "pT5FaSJV-4o5"
   },
   "source": [
    "Cet attribut permet de connaître les classes de notre modèle."
   ]
  },
  {
   "cell_type": "code",
   "execution_count": 11,
   "metadata": {
    "colab": {
     "base_uri": "https://localhost:8080/"
    },
    "id": "ANRPCXJYmwx7",
    "outputId": "a8c9c465-023c-45a6-d052-401648f0f14e"
   },
   "outputs": [
    {
     "data": {
      "text/plain": [
       "array([0, 1])"
      ]
     },
     "execution_count": 11,
     "metadata": {},
     "output_type": "execute_result"
    }
   ],
   "source": [
    "model_ada_tree.classes_"
   ]
  },
  {
   "cell_type": "markdown",
   "metadata": {
    "id": "G1msOfJamxNk"
   },
   "source": [
    "### n_classes_"
   ]
  },
  {
   "cell_type": "markdown",
   "metadata": {
    "id": "WrRM4ld__DM7"
   },
   "source": [
    "Cet attribut permet de savoir le nombre de classes de notre modèle."
   ]
  },
  {
   "cell_type": "code",
   "execution_count": 12,
   "metadata": {
    "colab": {
     "base_uri": "https://localhost:8080/"
    },
    "id": "MCA0vQOpmzMF",
    "outputId": "468a58a7-4c09-4ba0-a0ca-7691eccd5a1c"
   },
   "outputs": [
    {
     "data": {
      "text/plain": [
       "2"
      ]
     },
     "execution_count": 12,
     "metadata": {},
     "output_type": "execute_result"
    }
   ],
   "source": [
    "model_ada_tree.n_classes_"
   ]
  },
  {
   "cell_type": "markdown",
   "metadata": {
    "id": "yk-7-So1mzkr"
   },
   "source": [
    "### estimator_weights_"
   ]
  },
  {
   "cell_type": "markdown",
   "metadata": {
    "id": "iSWjuqgvA_1L"
   },
   "source": [
    "Cet attribut permet de savoir le poids de chacun des arbres dans notre forêt."
   ]
  },
  {
   "cell_type": "code",
   "execution_count": 13,
   "metadata": {
    "colab": {
     "base_uri": "https://localhost:8080/"
    },
    "id": "X8kt6yqkBGre",
    "outputId": "c610888d-e1ab-467a-e083-46a1ef15407e"
   },
   "outputs": [
    {
     "name": "stdout",
     "output_type": "stream",
     "text": [
      "0.9521276595744681\n"
     ]
    },
    {
     "data": {
      "text/plain": [
       "array([1., 1., 1., 1., 1., 1., 1., 1., 1., 1., 1., 1., 1., 1., 1., 1., 1.,\n",
       "       1., 1., 1., 1., 1., 1., 1., 1., 1., 1., 1., 1., 1., 1., 1., 1., 1.,\n",
       "       1., 1., 1., 1., 1., 1., 1., 1., 1., 1., 1., 1., 1., 1., 1., 1.])"
      ]
     },
     "execution_count": 13,
     "metadata": {},
     "output_type": "execute_result"
    }
   ],
   "source": [
    "weak_learner = DecisionTreeClassifier(max_depth=1)\n",
    "model_ada_tree = AdaBoostClassifier(base_estimator=weak_learner)\n",
    "\n",
    "model_ada_tree.fit(x_train, y_train)\n",
    "\n",
    "y_pred = model_ada_tree.predict(x_test)\n",
    "\n",
    "print(np.mean(y_test==y_pred))\n",
    "\n",
    "model_ada_tree.estimator_weights_"
   ]
  },
  {
   "cell_type": "code",
   "execution_count": 14,
   "metadata": {
    "colab": {
     "base_uri": "https://localhost:8080/"
    },
    "id": "h8G6_DKSm24e",
    "outputId": "ee7a9f13-7eb2-4af9-d152-69cf60da7db3"
   },
   "outputs": [
    {
     "name": "stdout",
     "output_type": "stream",
     "text": [
      "0.973404255319149\n"
     ]
    },
    {
     "data": {
      "text/plain": [
       "array([2.57346005, 1.64372699, 1.42410109, 1.4230388 , 1.06932307,\n",
       "       1.04914601, 0.93365625, 1.25512712, 0.88955315, 0.63332659,\n",
       "       1.15760738, 0.78110946, 0.87752714, 0.75908618, 0.90673786,\n",
       "       0.87160018, 1.03314529, 0.8903735 , 0.38621572, 0.98336204,\n",
       "       0.8409025 , 0.75396738, 0.40052043, 0.6400399 , 0.45396364,\n",
       "       0.59726416, 0.61025542, 0.81946169, 1.01183841, 0.65801853,\n",
       "       0.73785896, 0.76916022, 0.70071534, 0.63710673, 0.77488358,\n",
       "       0.91019609, 0.7027314 , 0.7282687 , 0.47569556, 0.49172156,\n",
       "       0.53650055, 0.79069787, 0.54607606, 0.75142734, 0.69475683,\n",
       "       0.73468176, 0.63406133, 0.79637829, 0.62151643, 0.7571551 ])"
      ]
     },
     "execution_count": 14,
     "metadata": {},
     "output_type": "execute_result"
    }
   ],
   "source": [
    "weak_learner = DecisionTreeClassifier(max_depth=1)\n",
    "model_ada_tree = AdaBoostClassifier(base_estimator=weak_learner, algorithm=\"SAMME\")\n",
    "\n",
    "model_ada_tree.fit(x_train, y_train)\n",
    "\n",
    "y_pred = model_ada_tree.predict(x_test)\n",
    "\n",
    "print(np.mean(y_test==y_pred))\n",
    "\n",
    "model_ada_tree.estimator_weights_"
   ]
  },
  {
   "cell_type": "markdown",
   "metadata": {
    "id": "HPm--7m5m3Uw"
   },
   "source": [
    "### estimator_errors_"
   ]
  },
  {
   "cell_type": "markdown",
   "metadata": {
    "id": "uiASrMbdCpnv"
   },
   "source": [
    "Cet attribut nous informe sur la performance de chacun des arbres de notre forêt."
   ]
  },
  {
   "cell_type": "code",
   "execution_count": 15,
   "metadata": {
    "colab": {
     "base_uri": "https://localhost:8080/"
    },
    "id": "TxRM3tGdm_Zd",
    "outputId": "f548943d-5b30-4ea9-a1ed-84e7941560ce"
   },
   "outputs": [
    {
     "data": {
      "text/plain": [
       "array([0.07086614, 0.16195857, 0.19401947, 0.19418564, 0.25553184,\n",
       "       0.25938912, 0.28218353, 0.22181387, 0.29120205, 0.34675663,\n",
       "       0.23910231, 0.31408082, 0.29369048, 0.3188447 , 0.28766784,\n",
       "       0.29492145, 0.26247478, 0.29103276, 0.40462862, 0.27222519,\n",
       "       0.30134474, 0.31995744, 0.40118731, 0.34523752, 0.38841879,\n",
       "       0.35496986, 0.35200094, 0.30587794, 0.26662022, 0.34118486,\n",
       "       0.32347251, 0.31666079, 0.33165365, 0.34590086, 0.31542364,\n",
       "       0.28695971, 0.33120692, 0.32557476, 0.38326907, 0.3794881 ,\n",
       "       0.36900202, 0.31201884, 0.36677527, 0.32051037, 0.33297573,\n",
       "       0.32416819, 0.34659021, 0.31080077, 0.34943664, 0.31926424])"
      ]
     },
     "execution_count": 15,
     "metadata": {},
     "output_type": "execute_result"
    }
   ],
   "source": [
    "model_ada_tree.estimator_errors_"
   ]
  },
  {
   "cell_type": "markdown",
   "metadata": {
    "id": "fQ4PhY-Vm_vu"
   },
   "source": [
    "### feature_importances_"
   ]
  },
  {
   "cell_type": "code",
   "execution_count": 16,
   "metadata": {
    "colab": {
     "base_uri": "https://localhost:8080/"
    },
    "id": "KbfygtUFnDFx",
    "outputId": "ba6fb454-3fb8-4669-8c6c-b55b78624255"
   },
   "outputs": [
    {
     "data": {
      "text/plain": [
       "array([0.        , 0.05254214, 0.        , 0.0199649 , 0.02748418,\n",
       "       0.0180224 , 0.        , 0.11656357, 0.        , 0.01729072,\n",
       "       0.03040804, 0.        , 0.04925445, 0.07111639, 0.        ,\n",
       "       0.06597499, 0.        , 0.        , 0.02452917, 0.0189078 ,\n",
       "       0.        , 0.12546663, 0.        , 0.1017024 , 0.05208854,\n",
       "       0.        , 0.06531355, 0.0509461 , 0.09242404, 0.        ])"
      ]
     },
     "execution_count": 16,
     "metadata": {},
     "output_type": "execute_result"
    }
   ],
   "source": [
    "model_ada_tree.feature_importances_"
   ]
  },
  {
   "cell_type": "code",
   "execution_count": 17,
   "metadata": {
    "colab": {
     "base_uri": "https://localhost:8080/",
     "height": 131
    },
    "id": "Bnu7CzUKDOMR",
    "outputId": "482fa164-3e11-4814-990d-c7d46e2b80a3"
   },
   "outputs": [
    {
     "data": {
      "text/html": [
       "<div>\n",
       "<style scoped>\n",
       "    .dataframe tbody tr th:only-of-type {\n",
       "        vertical-align: middle;\n",
       "    }\n",
       "\n",
       "    .dataframe tbody tr th {\n",
       "        vertical-align: top;\n",
       "    }\n",
       "\n",
       "    .dataframe thead th {\n",
       "        text-align: right;\n",
       "    }\n",
       "</style>\n",
       "<table border=\"1\" class=\"dataframe\">\n",
       "  <thead>\n",
       "    <tr style=\"text-align: right;\">\n",
       "      <th></th>\n",
       "      <th>mean radius</th>\n",
       "      <th>mean texture</th>\n",
       "      <th>mean perimeter</th>\n",
       "      <th>mean area</th>\n",
       "      <th>mean smoothness</th>\n",
       "      <th>mean compactness</th>\n",
       "      <th>mean concavity</th>\n",
       "      <th>mean concave points</th>\n",
       "      <th>mean symmetry</th>\n",
       "      <th>mean fractal dimension</th>\n",
       "      <th>...</th>\n",
       "      <th>worst radius</th>\n",
       "      <th>worst texture</th>\n",
       "      <th>worst perimeter</th>\n",
       "      <th>worst area</th>\n",
       "      <th>worst smoothness</th>\n",
       "      <th>worst compactness</th>\n",
       "      <th>worst concavity</th>\n",
       "      <th>worst concave points</th>\n",
       "      <th>worst symmetry</th>\n",
       "      <th>worst fractal dimension</th>\n",
       "    </tr>\n",
       "  </thead>\n",
       "  <tbody>\n",
       "    <tr>\n",
       "      <th>0</th>\n",
       "      <td>0.0</td>\n",
       "      <td>0.052542</td>\n",
       "      <td>0.0</td>\n",
       "      <td>0.019965</td>\n",
       "      <td>0.027484</td>\n",
       "      <td>0.018022</td>\n",
       "      <td>0.0</td>\n",
       "      <td>0.116564</td>\n",
       "      <td>0.0</td>\n",
       "      <td>0.017291</td>\n",
       "      <td>...</td>\n",
       "      <td>0.0</td>\n",
       "      <td>0.125467</td>\n",
       "      <td>0.0</td>\n",
       "      <td>0.101702</td>\n",
       "      <td>0.052089</td>\n",
       "      <td>0.0</td>\n",
       "      <td>0.065314</td>\n",
       "      <td>0.050946</td>\n",
       "      <td>0.092424</td>\n",
       "      <td>0.0</td>\n",
       "    </tr>\n",
       "  </tbody>\n",
       "</table>\n",
       "<p>1 rows × 30 columns</p>\n",
       "</div>"
      ],
      "text/plain": [
       "   mean radius  mean texture  mean perimeter  mean area  mean smoothness  \\\n",
       "0          0.0      0.052542             0.0   0.019965         0.027484   \n",
       "\n",
       "   mean compactness  mean concavity  mean concave points  mean symmetry  \\\n",
       "0          0.018022             0.0             0.116564            0.0   \n",
       "\n",
       "   mean fractal dimension  ...  worst radius  worst texture  worst perimeter  \\\n",
       "0                0.017291  ...           0.0       0.125467              0.0   \n",
       "\n",
       "   worst area  worst smoothness  worst compactness  worst concavity  \\\n",
       "0    0.101702          0.052089                0.0         0.065314   \n",
       "\n",
       "   worst concave points  worst symmetry  worst fractal dimension  \n",
       "0              0.050946        0.092424                      0.0  \n",
       "\n",
       "[1 rows x 30 columns]"
      ]
     },
     "execution_count": 17,
     "metadata": {},
     "output_type": "execute_result"
    }
   ],
   "source": [
    "pd.DataFrame([model_ada_tree.feature_importances_], columns=data['feature_names'])"
   ]
  },
  {
   "cell_type": "code",
   "execution_count": null,
   "metadata": {
    "id": "fbBMsAsDDlRP"
   },
   "outputs": [],
   "source": []
  }
 ],
 "metadata": {
  "colab": {
   "collapsed_sections": [],
   "name": "AdaBoost avec sklearn.ipynb",
   "provenance": []
  },
  "kernelspec": {
   "display_name": "Python 3 (ipykernel)",
   "language": "python",
   "name": "python3"
  },
  "language_info": {
   "codemirror_mode": {
    "name": "ipython",
    "version": 3
   },
   "file_extension": ".py",
   "mimetype": "text/x-python",
   "name": "python",
   "nbconvert_exporter": "python",
   "pygments_lexer": "ipython3",
   "version": "3.9.11"
  }
 },
 "nbformat": 4,
 "nbformat_minor": 4
}
