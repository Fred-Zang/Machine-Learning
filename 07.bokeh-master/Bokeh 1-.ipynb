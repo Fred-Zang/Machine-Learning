{
 "cells": [
  {
   "cell_type": "code",
   "execution_count": null,
   "id": "9c8ad41b-8d52-4db1-b37c-fcddf40408d3",
   "metadata": {},
   "outputs": [],
   "source": [
    "# Importez les fonctions nécessaires depuis le module bokeh.plotting \n",
    "from bokeh.plotting import figure, show"
   ]
  },
  {
   "cell_type": "code",
   "execution_count": null,
   "id": "29b92ba9-847f-48d8-9fcb-6426198fc2b9",
   "metadata": {},
   "outputs": [],
   "source": [
    "# prepare some data\n",
    "x = [1, 2, 3, 4, 5]\n",
    "y = [6, 7, 2, 4, 5]"
   ]
  },
  {
   "cell_type": "markdown",
   "id": "fb94fb45-5666-4be8-b18e-db9c0b0865c6",
   "metadata": {},
   "source": [
    "## 1 - Créer une figure ( graphique vide ) \n",
    "fig( title, x_axis_label, y_axis_label )"
   ]
  },
  {
   "cell_type": "code",
   "execution_count": null,
   "id": "6cc99fa9-f128-4e40-b10c-9e71db9dedc9",
   "metadata": {},
   "outputs": [],
   "source": [
    "# create a new plot with a title and axis labels\n",
    "p = figure(title=\"Simple line example\", x_axis_label='x', y_axis_label='y')\n",
    "\n",
    "# width=350, height=250 par xemple pour fixer la taille de la figure dans figure() ou après avec p.width et p.height"
   ]
  },
  {
   "cell_type": "markdown",
   "id": "af5a4612-1ac0-4baa-957f-140a8c22617f",
   "metadata": {},
   "source": [
    "### Ajoutez un Moteur de graphique linéaire\n",
    "lin(x, y, legend_label, line_width)"
   ]
  },
  {
   "cell_type": "code",
   "execution_count": null,
   "id": "3affe034-920b-4c7e-a4bf-24abeb3ec6a0",
   "metadata": {},
   "outputs": [],
   "source": [
    "# add a line renderer with legend and line thickness to the plot\n",
    "p.line(x, y, legend_label=\"Temp.\", line_width=2)"
   ]
  },
  {
   "cell_type": "markdown",
   "id": "3f9bb727-4b3f-4755-9f9d-4c02a2488eab",
   "metadata": {},
   "source": [
    "### générer votre graphique et ouvrez un navigateur Web pour afficher le fichier HTML généré.\n",
    "show()"
   ]
  },
  {
   "cell_type": "code",
   "execution_count": null,
   "id": "42b5fc96-fe8c-4de2-8136-ce6a28434fd5",
   "metadata": {},
   "outputs": [],
   "source": [
    "# show the results\n",
    "show(p)    # -> file:///C:/Users/UserPC/AppData/Local/Temp/tmprr1fyho4.html"
   ]
  },
  {
   "cell_type": "markdown",
   "id": "c654daf1-58ba-4115-a76b-4fa6f68e45be",
   "metadata": {},
   "source": [
    "## 2 - Combiner plusieurs Moteurs de rendu graphiques "
   ]
  },
  {
   "cell_type": "code",
   "execution_count": null,
   "id": "4e104dcc-598a-4481-9a89-b9a3ae561f45",
   "metadata": {},
   "outputs": [],
   "source": [
    "# prepare some data\n",
    "x = [1, 2, 3, 4, 5]\n",
    "y1 = [6, 7, 2, 4, 5]\n",
    "y2 = [2, 3, 4, 5, 6]\n",
    "y3 = [4, 5, 5, 7, 2]\n",
    "\n",
    "# create a new plot with a title and axis labels\n",
    "p = figure(title=\"Multiple line example\", x_axis_label='x', y_axis_label='y')\n",
    "\n",
    "# add multiple renderers\n",
    "p.line(x, y1, legend_label=\"Temp.\", color=\"blue\", line_width=2)   # utiliser courbe_1 = p.line(...) si besoin de réutiliser la courbe\n",
    "p.line(x, y2, legend_label=\"Rate\", color=\"red\", line_width=2)\n",
    "p.line(x, y3, legend_label=\"Objects\", color=\"green\", line_width=2)\n",
    "\n",
    "# show the results\n",
    "show(p)"
   ]
  },
  {
   "cell_type": "markdown",
   "id": "c461027e-a906-44d7-b8a0-35f23bd7b6d3",
   "metadata": {},
   "source": [
    "### Sauvegarde du code .py python"
   ]
  },
  {
   "cell_type": "code",
   "execution_count": null,
   "id": "ad4771fa-4908-4074-8729-43ec0b0c11e5",
   "metadata": {},
   "outputs": [],
   "source": [
    "save(p)"
   ]
  },
  {
   "cell_type": "markdown",
   "id": "78bf792c-f8c6-4b15-a443-532589531dc8",
   "metadata": {},
   "source": [
    "### Rendu des Cercles  circle()  + affichage dans le notebook sans HTML"
   ]
  },
  {
   "cell_type": "code",
   "execution_count": null,
   "id": "db08e721-a9c5-4ba4-b6b0-c99cef7b8e40",
   "metadata": {},
   "outputs": [],
   "source": [
    "from bokeh.io import output_notebook\n",
    "# affichage dans le notebook sans construction de fichier html\n",
    "output_notebook()\n",
    "\n",
    "# prepare some data\n",
    "\n",
    "y3 = [4, 5, 5, 7, 2]\n",
    "\n",
    "# create a new plot with a title and axis labels\n",
    "p = figure(title=\"Multiple glyphs example\", x_axis_label=\"x\", y_axis_label=\"y\")\n",
    "\n",
    "# add  renderer\n",
    "\n",
    "circle = p.circle(\n",
    "    x,\n",
    "    y,\n",
    "    legend_label=\"Objects\",\n",
    "    fill_color=\"red\",        # la couleur de remplissage des cercles\n",
    "    fill_alpha=0.5,          #  la transparence de la couleur de remplissage (toute valeur entre 0 et 1)\n",
    "    line_color=\"blue\",       # la couleur de remplissage des contours des cercles\n",
    "    size=80,                 # la taille des cercles (en unités d' écran ou en unités de données )\n",
    ")\n",
    "\n",
    "# show the results\n",
    "show(p)"
   ]
  },
  {
   "cell_type": "markdown",
   "id": "017e5eae-b495-4dab-8063-015ca2d647e6",
   "metadata": {},
   "source": [
    "### Modification APRES création de figure"
   ]
  },
  {
   "cell_type": "code",
   "execution_count": null,
   "id": "3d91f74f-b56b-4c6d-9bed-808ac59a981f",
   "metadata": {},
   "outputs": [],
   "source": [
    "# change color of previously created object's glyph\n",
    "glyph = circle.glyph\n",
    "glyph.fill_color = \"blue\"\n",
    "\n",
    "show(p)"
   ]
  },
  {
   "cell_type": "markdown",
   "id": "0002ad71-ac50-4e2a-95e6-bd69a8ff9e19",
   "metadata": {},
   "source": [
    "### Barres de rendu  vbar()"
   ]
  },
  {
   "cell_type": "code",
   "execution_count": null,
   "id": "677fc255-1c58-4b00-9d4a-3eb179619ba4",
   "metadata": {},
   "outputs": [],
   "source": [
    "from bokeh.plotting import figure, show\n",
    "\n",
    "# prepare some data\n",
    "y2 = [2, 3, 4, 5, 6]\n",
    "\n",
    "\n",
    "# create a new plot with a title and axis labels\n",
    "p = figure(title=\"Multiple glyphs example\", x_axis_label=\"x\", y_axis_label=\"y\")\n",
    "\n",
    "\n",
    "p.vbar(x=x, top=y2, legend_label=\"Rate\", width=0.5, bottom=0, color=\"red\")\n",
    "\n",
    "\n",
    "# show the results\n",
    "show(p)"
   ]
  },
  {
   "cell_type": "markdown",
   "id": "ba15b16f-d827-4907-b90c-09a3de4e42c9",
   "metadata": {},
   "source": [
    "## 3 - ajouter et Styliser une Légende \n",
    "legend.border_line  legend.background\n",
    "### + Legende interactive : Cacher un graph \n",
    "legend.click_policy=\"mute\""
   ]
  },
  {
   "cell_type": "code",
   "execution_count": 11,
   "id": "ed655ffc-42ad-4e26-baf2-d5bcb11424f9",
   "metadata": {},
   "outputs": [
    {
     "data": {
      "text/html": [
       "\n",
       "\n",
       "\n",
       "\n",
       "\n",
       "\n",
       "  <div class=\"bk-root\" id=\"cd1d4474-59a5-404b-b92b-24660babdb57\" data-root-id=\"3900\"></div>\n"
      ]
     },
     "metadata": {},
     "output_type": "display_data"
    },
    {
     "data": {
      "application/javascript": [
       "(function(root) {\n",
       "  function embed_document(root) {\n",
       "    \n",
       "  const docs_json = {\"dfc06bda-e668-4209-8b78-d87955a6989d\":{\"defs\":[],\"roots\":{\"references\":[{\"attributes\":{\"below\":[{\"id\":\"3911\"}],\"center\":[{\"id\":\"3914\"},{\"id\":\"3918\"},{\"id\":\"3949\"}],\"left\":[{\"id\":\"3915\"}],\"renderers\":[{\"id\":\"3937\"},{\"id\":\"3955\"}],\"title\":{\"id\":\"3901\"},\"toolbar\":{\"id\":\"3926\"},\"x_range\":{\"id\":\"3903\"},\"x_scale\":{\"id\":\"3907\"},\"y_range\":{\"id\":\"3905\"},\"y_scale\":{\"id\":\"3909\"}},\"id\":\"3900\",\"subtype\":\"Figure\",\"type\":\"Plot\"},{\"attributes\":{\"fill_alpha\":{\"value\":0.5},\"fill_color\":{\"value\":\"red\"},\"line_color\":{\"value\":\"blue\"},\"size\":{\"value\":80},\"x\":{\"field\":\"x\"},\"y\":{\"field\":\"y\"}},\"id\":\"3952\",\"type\":\"Circle\"},{\"attributes\":{},\"id\":\"3903\",\"type\":\"DataRange1d\"},{\"attributes\":{},\"id\":\"3947\",\"type\":\"Selection\"},{\"attributes\":{\"source\":{\"id\":\"3933\"}},\"id\":\"3938\",\"type\":\"CDSView\"},{\"attributes\":{\"bottom_units\":\"screen\",\"coordinates\":null,\"fill_alpha\":0.5,\"fill_color\":\"lightgrey\",\"group\":null,\"left_units\":\"screen\",\"level\":\"overlay\",\"line_alpha\":1.0,\"line_color\":\"black\",\"line_dash\":[4,4],\"line_width\":2,\"right_units\":\"screen\",\"syncable\":false,\"top_units\":\"screen\"},\"id\":\"3925\",\"type\":\"BoxAnnotation\"},{\"attributes\":{\"coordinates\":null,\"data_source\":{\"id\":\"3951\"},\"glyph\":{\"id\":\"3952\"},\"group\":null,\"hover_glyph\":null,\"muted_glyph\":{\"id\":\"3954\"},\"nonselection_glyph\":{\"id\":\"3953\"},\"view\":{\"id\":\"3956\"}},\"id\":\"3955\",\"type\":\"GlyphRenderer\"},{\"attributes\":{},\"id\":\"3907\",\"type\":\"LinearScale\"},{\"attributes\":{\"axis\":{\"id\":\"3915\"},\"coordinates\":null,\"dimension\":1,\"group\":null,\"ticker\":null},\"id\":\"3918\",\"type\":\"Grid\"},{\"attributes\":{},\"id\":\"3916\",\"type\":\"BasicTicker\"},{\"attributes\":{},\"id\":\"3922\",\"type\":\"SaveTool\"},{\"attributes\":{\"source\":{\"id\":\"3951\"}},\"id\":\"3956\",\"type\":\"CDSView\"},{\"attributes\":{},\"id\":\"3920\",\"type\":\"WheelZoomTool\"},{\"attributes\":{},\"id\":\"3912\",\"type\":\"BasicTicker\"},{\"attributes\":{\"line_alpha\":0.2,\"line_color\":\"blue\",\"line_width\":2,\"x\":{\"field\":\"x\"},\"y\":{\"field\":\"y\"}},\"id\":\"3936\",\"type\":\"Line\"},{\"attributes\":{\"fill_alpha\":{\"value\":0.2},\"fill_color\":{\"value\":\"red\"},\"hatch_alpha\":{\"value\":0.2},\"line_alpha\":{\"value\":0.2},\"line_color\":{\"value\":\"blue\"},\"size\":{\"value\":80},\"x\":{\"field\":\"x\"},\"y\":{\"field\":\"y\"}},\"id\":\"3954\",\"type\":\"Circle\"},{\"attributes\":{},\"id\":\"3919\",\"type\":\"PanTool\"},{\"attributes\":{},\"id\":\"3909\",\"type\":\"LinearScale\"},{\"attributes\":{\"overlay\":{\"id\":\"3925\"}},\"id\":\"3921\",\"type\":\"BoxZoomTool\"},{\"attributes\":{\"label\":{\"value\":\"Temp.\"},\"renderers\":[{\"id\":\"3937\"}]},\"id\":\"3950\",\"type\":\"LegendItem\"},{\"attributes\":{\"fill_alpha\":{\"value\":0.1},\"fill_color\":{\"value\":\"red\"},\"hatch_alpha\":{\"value\":0.1},\"line_alpha\":{\"value\":0.1},\"line_color\":{\"value\":\"blue\"},\"size\":{\"value\":80},\"x\":{\"field\":\"x\"},\"y\":{\"field\":\"y\"}},\"id\":\"3953\",\"type\":\"Circle\"},{\"attributes\":{\"label\":{\"value\":\"Objects\"},\"renderers\":[{\"id\":\"3955\"}]},\"id\":\"3969\",\"type\":\"LegendItem\"},{\"attributes\":{\"axis\":{\"id\":\"3911\"},\"coordinates\":null,\"group\":null,\"ticker\":null},\"id\":\"3914\",\"type\":\"Grid\"},{\"attributes\":{\"coordinates\":null,\"formatter\":{\"id\":\"3944\"},\"group\":null,\"major_label_policy\":{\"id\":\"3945\"},\"ticker\":{\"id\":\"3912\"}},\"id\":\"3911\",\"type\":\"LinearAxis\"},{\"attributes\":{},\"id\":\"3941\",\"type\":\"BasicTickFormatter\"},{\"attributes\":{\"coordinates\":null,\"group\":null,\"text\":\"Legend example\"},\"id\":\"3901\",\"type\":\"Title\"},{\"attributes\":{},\"id\":\"3966\",\"type\":\"UnionRenderers\"},{\"attributes\":{\"coordinates\":null,\"formatter\":{\"id\":\"3941\"},\"group\":null,\"major_label_policy\":{\"id\":\"3942\"},\"ticker\":{\"id\":\"3916\"}},\"id\":\"3915\",\"type\":\"LinearAxis\"},{\"attributes\":{},\"id\":\"3923\",\"type\":\"ResetTool\"},{\"attributes\":{},\"id\":\"3942\",\"type\":\"AllLabels\"},{\"attributes\":{},\"id\":\"3924\",\"type\":\"HelpTool\"},{\"attributes\":{\"line_alpha\":0.1,\"line_color\":\"blue\",\"line_width\":2,\"x\":{\"field\":\"x\"},\"y\":{\"field\":\"y\"}},\"id\":\"3935\",\"type\":\"Line\"},{\"attributes\":{},\"id\":\"3967\",\"type\":\"Selection\"},{\"attributes\":{},\"id\":\"3944\",\"type\":\"BasicTickFormatter\"},{\"attributes\":{},\"id\":\"3945\",\"type\":\"AllLabels\"},{\"attributes\":{\"data\":{\"x\":[1,2,3,4,5],\"y\":[2,3,4,5,6]},\"selected\":{\"id\":\"3967\"},\"selection_policy\":{\"id\":\"3966\"}},\"id\":\"3951\",\"type\":\"ColumnDataSource\"},{\"attributes\":{\"tools\":[{\"id\":\"3919\"},{\"id\":\"3920\"},{\"id\":\"3921\"},{\"id\":\"3922\"},{\"id\":\"3923\"},{\"id\":\"3924\"}]},\"id\":\"3926\",\"type\":\"Toolbar\"},{\"attributes\":{},\"id\":\"3905\",\"type\":\"DataRange1d\"},{\"attributes\":{\"background_fill_alpha\":0.2,\"background_fill_color\":\"red\",\"border_line_alpha\":0.8,\"border_line_color\":\"navy\",\"border_line_width\":3,\"click_policy\":\"mute\",\"coordinates\":null,\"group\":null,\"items\":[{\"id\":\"3950\"},{\"id\":\"3969\"}],\"label_text_color\":\"navy\",\"label_text_font\":\"times\",\"label_text_font_style\":\"italic\",\"location\":\"top_left\",\"title\":\"Obervations\"},\"id\":\"3949\",\"type\":\"Legend\"},{\"attributes\":{\"coordinates\":null,\"data_source\":{\"id\":\"3933\"},\"glyph\":{\"id\":\"3934\"},\"group\":null,\"hover_glyph\":null,\"muted_glyph\":{\"id\":\"3936\"},\"nonselection_glyph\":{\"id\":\"3935\"},\"view\":{\"id\":\"3938\"}},\"id\":\"3937\",\"type\":\"GlyphRenderer\"},{\"attributes\":{},\"id\":\"3946\",\"type\":\"UnionRenderers\"},{\"attributes\":{\"line_color\":\"blue\",\"line_width\":2,\"x\":{\"field\":\"x\"},\"y\":{\"field\":\"y\"}},\"id\":\"3934\",\"type\":\"Line\"},{\"attributes\":{\"data\":{\"x\":[1,2,3,4,5],\"y\":[4,5,5,7,2]},\"selected\":{\"id\":\"3947\"},\"selection_policy\":{\"id\":\"3946\"}},\"id\":\"3933\",\"type\":\"ColumnDataSource\"}],\"root_ids\":[\"3900\"]},\"title\":\"Bokeh Application\",\"version\":\"2.4.2\"}};\n",
       "  const render_items = [{\"docid\":\"dfc06bda-e668-4209-8b78-d87955a6989d\",\"root_ids\":[\"3900\"],\"roots\":{\"3900\":\"cd1d4474-59a5-404b-b92b-24660babdb57\"}}];\n",
       "  root.Bokeh.embed.embed_items_notebook(docs_json, render_items);\n",
       "\n",
       "  }\n",
       "  if (root.Bokeh !== undefined) {\n",
       "    embed_document(root);\n",
       "  } else {\n",
       "    let attempts = 0;\n",
       "    const timer = setInterval(function(root) {\n",
       "      if (root.Bokeh !== undefined) {\n",
       "        clearInterval(timer);\n",
       "        embed_document(root);\n",
       "      } else {\n",
       "        attempts++;\n",
       "        if (attempts > 100) {\n",
       "          clearInterval(timer);\n",
       "          console.log(\"Bokeh: ERROR: Unable to run BokehJS code because BokehJS library is missing\");\n",
       "        }\n",
       "      }\n",
       "    }, 10, root)\n",
       "  }\n",
       "})(window);"
      ],
      "application/vnd.bokehjs_exec.v0+json": ""
     },
     "metadata": {
      "application/vnd.bokehjs_exec.v0+json": {
       "id": "3900"
      }
     },
     "output_type": "display_data"
    }
   ],
   "source": [
    "from bokeh.plotting import figure, show\n",
    "\n",
    "# prepare some data\n",
    "x = [1, 2, 3, 4, 5]\n",
    "y1 = [4, 5, 5, 7, 2]\n",
    "y2 = [2, 3, 4, 5, 6]\n",
    "\n",
    "# create a new plot\n",
    "p = figure(title=\"Legend example\")\n",
    "\n",
    "# add circle renderer with legend_label arguments\n",
    "line = p.line(x, y1, legend_label=\"Temp.\", line_color=\"blue\", line_width=2)\n",
    "circle = p.circle(\n",
    "    x,\n",
    "    y2,\n",
    "    legend_label=\"Objects\",\n",
    "    fill_color=\"red\",\n",
    "    fill_alpha=0.5,\n",
    "    line_color=\"blue\",\n",
    "    size=80,\n",
    ")\n",
    "\n",
    "# display legend in top left corner (default is top right corner)\n",
    "\n",
    "p.legend.location = \"top_left\"\n",
    "\n",
    "# add a title to your legend\n",
    "\n",
    "p.legend.title = \"Obervations\"\n",
    "\n",
    "# change appearance of legend text\n",
    "\n",
    "p.legend.label_text_font = \"times\"\n",
    "p.legend.label_text_font_style = \"italic\"\n",
    "p.legend.label_text_color = \"navy\"\n",
    "\n",
    "\n",
    "# change border and background of legend\n",
    "\n",
    "p.legend.border_line_width = 3            # nbre de pixels de la ligne de bordure de légende\n",
    "p.legend.border_line_color = \"navy\"       # couleur ligne de bordure\n",
    "p.legend.border_line_alpha = 0.8          # transparence de la bordure\n",
    "p.legend.background_fill_color = \"red\"    # couleur de fond\n",
    "p.legend.background_fill_alpha = 0.2      # transparence de fond\n",
    "\n",
    "p.legend.click_policy=\"mute\"              # chacher un graph en cliquant sur son nom de legende\n",
    "# show the results\n",
    "show(p)"
   ]
  },
  {
   "cell_type": "markdown",
   "id": "4663c42a-9b78-4855-a3c2-00d8fd0ae916",
   "metadata": {},
   "source": [
    "### Annotation  = visuel a ajouter pour faciliter la lecture des graphs\n",
    "*lox_box  mid_box  high_box*\n",
    "   voir Adding annotations"
   ]
  },
  {
   "cell_type": "code",
   "execution_count": 13,
   "id": "d8f30a3b-d355-4da7-ac10-000c7e94c697",
   "metadata": {},
   "outputs": [
    {
     "data": {
      "text/html": [
       "\n",
       "\n",
       "\n",
       "\n",
       "\n",
       "\n",
       "  <div class=\"bk-root\" id=\"354b77f3-45b1-4507-8778-a42645d6c6fb\" data-root-id=\"4484\"></div>\n"
      ]
     },
     "metadata": {},
     "output_type": "display_data"
    },
    {
     "data": {
      "application/javascript": [
       "(function(root) {\n",
       "  function embed_document(root) {\n",
       "    \n",
       "  const docs_json = {\"44533781-c4b6-4260-8760-2d7fd3c17eb0\":{\"defs\":[],\"roots\":{\"references\":[{\"attributes\":{\"below\":[{\"id\":\"4495\"}],\"center\":[{\"id\":\"4498\"},{\"id\":\"4502\"},{\"id\":\"4523\"},{\"id\":\"4524\"},{\"id\":\"4525\"}],\"left\":[{\"id\":\"4499\"}],\"renderers\":[{\"id\":\"4521\"}],\"title\":{\"id\":\"4485\"},\"toolbar\":{\"id\":\"4510\"},\"x_range\":{\"id\":\"4487\"},\"x_scale\":{\"id\":\"4491\"},\"y_range\":{\"id\":\"4489\"},\"y_scale\":{\"id\":\"4493\"}},\"id\":\"4484\",\"subtype\":\"Figure\",\"type\":\"Plot\"},{\"attributes\":{},\"id\":\"4487\",\"type\":\"DataRange1d\"},{\"attributes\":{\"line_alpha\":0.2,\"line_color\":\"#000000\",\"line_width\":2,\"x\":{\"field\":\"x\"},\"y\":{\"field\":\"y\"}},\"id\":\"4520\",\"type\":\"Line\"},{\"attributes\":{\"coordinates\":null,\"fill_alpha\":0.2,\"fill_color\":\"#F0E442\",\"group\":null,\"top\":20},\"id\":\"4523\",\"type\":\"BoxAnnotation\"},{\"attributes\":{\"coordinates\":null,\"data_source\":{\"id\":\"4517\"},\"glyph\":{\"id\":\"4518\"},\"group\":null,\"hover_glyph\":null,\"muted_glyph\":{\"id\":\"4520\"},\"nonselection_glyph\":{\"id\":\"4519\"},\"view\":{\"id\":\"4522\"}},\"id\":\"4521\",\"type\":\"GlyphRenderer\"},{\"attributes\":{\"line_alpha\":0.1,\"line_color\":\"#000000\",\"line_width\":2,\"x\":{\"field\":\"x\"},\"y\":{\"field\":\"y\"}},\"id\":\"4519\",\"type\":\"Line\"},{\"attributes\":{\"data\":{\"x\":[0,1,2,3,4,5,6,7,8,9,10,11,12,13,14,15,16,17,18,19,20,21,22,23,24,25,26,27,28,29,30,31,32,33,34,35,36,37,38,39,40,41,42,43,44,45,46,47,48,49,50],\"y\":[78,81,69,96,74,76,8,42,23,31,6,12,29,52,36,35,43,51,7,37,93,86,67,50,97,15,46,1,34,5,65,60,84,92,32,89,70,22,3,30,25,56,57,55,44,19,20,88,33,79,49]},\"selected\":{\"id\":\"4720\"},\"selection_policy\":{\"id\":\"4719\"}},\"id\":\"4517\",\"type\":\"ColumnDataSource\"},{\"attributes\":{\"tools\":[{\"id\":\"4503\"},{\"id\":\"4504\"},{\"id\":\"4505\"},{\"id\":\"4506\"},{\"id\":\"4507\"},{\"id\":\"4508\"}]},\"id\":\"4510\",\"type\":\"Toolbar\"},{\"attributes\":{},\"id\":\"4489\",\"type\":\"DataRange1d\"},{\"attributes\":{},\"id\":\"4493\",\"type\":\"LinearScale\"},{\"attributes\":{},\"id\":\"4715\",\"type\":\"AllLabels\"},{\"attributes\":{\"coordinates\":null,\"group\":null,\"text\":\"Box annotation example\"},\"id\":\"4485\",\"type\":\"Title\"},{\"attributes\":{\"axis\":{\"id\":\"4499\"},\"coordinates\":null,\"dimension\":1,\"group\":null,\"ticker\":null},\"id\":\"4502\",\"type\":\"Grid\"},{\"attributes\":{},\"id\":\"4496\",\"type\":\"BasicTicker\"},{\"attributes\":{\"axis\":{\"id\":\"4495\"},\"coordinates\":null,\"group\":null,\"ticker\":null},\"id\":\"4498\",\"type\":\"Grid\"},{\"attributes\":{},\"id\":\"4719\",\"type\":\"UnionRenderers\"},{\"attributes\":{},\"id\":\"4491\",\"type\":\"LinearScale\"},{\"attributes\":{\"coordinates\":null,\"formatter\":{\"id\":\"4717\"},\"group\":null,\"major_label_policy\":{\"id\":\"4718\"},\"ticker\":{\"id\":\"4496\"}},\"id\":\"4495\",\"type\":\"LinearAxis\"},{\"attributes\":{\"line_color\":\"#000000\",\"line_width\":2,\"x\":{\"field\":\"x\"},\"y\":{\"field\":\"y\"}},\"id\":\"4518\",\"type\":\"Line\"},{\"attributes\":{\"bottom_units\":\"screen\",\"coordinates\":null,\"fill_alpha\":0.5,\"fill_color\":\"lightgrey\",\"group\":null,\"left_units\":\"screen\",\"level\":\"overlay\",\"line_alpha\":1.0,\"line_color\":\"black\",\"line_dash\":[4,4],\"line_width\":2,\"right_units\":\"screen\",\"syncable\":false,\"top_units\":\"screen\"},\"id\":\"4509\",\"type\":\"BoxAnnotation\"},{\"attributes\":{},\"id\":\"4500\",\"type\":\"BasicTicker\"},{\"attributes\":{\"coordinates\":null,\"formatter\":{\"id\":\"4714\"},\"group\":null,\"major_label_policy\":{\"id\":\"4715\"},\"ticker\":{\"id\":\"4500\"}},\"id\":\"4499\",\"type\":\"LinearAxis\"},{\"attributes\":{},\"id\":\"4508\",\"type\":\"HelpTool\"},{\"attributes\":{\"source\":{\"id\":\"4517\"}},\"id\":\"4522\",\"type\":\"CDSView\"},{\"attributes\":{},\"id\":\"4714\",\"type\":\"BasicTickFormatter\"},{\"attributes\":{},\"id\":\"4717\",\"type\":\"BasicTickFormatter\"},{\"attributes\":{\"bottom\":80,\"coordinates\":null,\"fill_alpha\":0.2,\"fill_color\":\"#F0E442\",\"group\":null},\"id\":\"4525\",\"type\":\"BoxAnnotation\"},{\"attributes\":{},\"id\":\"4504\",\"type\":\"WheelZoomTool\"},{\"attributes\":{},\"id\":\"4718\",\"type\":\"AllLabels\"},{\"attributes\":{},\"id\":\"4503\",\"type\":\"PanTool\"},{\"attributes\":{},\"id\":\"4720\",\"type\":\"Selection\"},{\"attributes\":{\"overlay\":{\"id\":\"4509\"}},\"id\":\"4505\",\"type\":\"BoxZoomTool\"},{\"attributes\":{\"bottom\":20,\"coordinates\":null,\"fill_alpha\":0.2,\"fill_color\":\"#009E73\",\"group\":null,\"top\":80},\"id\":\"4524\",\"type\":\"BoxAnnotation\"},{\"attributes\":{},\"id\":\"4506\",\"type\":\"SaveTool\"},{\"attributes\":{},\"id\":\"4507\",\"type\":\"ResetTool\"}],\"root_ids\":[\"4484\"]},\"title\":\"Bokeh Application\",\"version\":\"2.4.2\"}};\n",
       "  const render_items = [{\"docid\":\"44533781-c4b6-4260-8760-2d7fd3c17eb0\",\"root_ids\":[\"4484\"],\"roots\":{\"4484\":\"354b77f3-45b1-4507-8778-a42645d6c6fb\"}}];\n",
       "  root.Bokeh.embed.embed_items_notebook(docs_json, render_items);\n",
       "\n",
       "  }\n",
       "  if (root.Bokeh !== undefined) {\n",
       "    embed_document(root);\n",
       "  } else {\n",
       "    let attempts = 0;\n",
       "    const timer = setInterval(function(root) {\n",
       "      if (root.Bokeh !== undefined) {\n",
       "        clearInterval(timer);\n",
       "        embed_document(root);\n",
       "      } else {\n",
       "        attempts++;\n",
       "        if (attempts > 100) {\n",
       "          clearInterval(timer);\n",
       "          console.log(\"Bokeh: ERROR: Unable to run BokehJS code because BokehJS library is missing\");\n",
       "        }\n",
       "      }\n",
       "    }, 10, root)\n",
       "  }\n",
       "})(window);"
      ],
      "application/vnd.bokehjs_exec.v0+json": ""
     },
     "metadata": {
      "application/vnd.bokehjs_exec.v0+json": {
       "id": "4484"
      }
     },
     "output_type": "display_data"
    }
   ],
   "source": [
    "import random\n",
    "from bokeh.models import BoxAnnotation\n",
    "from bokeh.plotting import figure, show\n",
    "\n",
    "# generate some data (1-50 for x, random values for y)\n",
    "x = list(range(0, 51))\n",
    "y = random.sample(range(0, 100), 51)\n",
    "\n",
    "# create new plot\n",
    "p = figure(title=\"Box annotation example\")\n",
    "\n",
    "# add line renderer\n",
    "line = p.line(x, y, line_color=\"#000000\", line_width=2)\n",
    "\n",
    "# add box annotations    bottom et top = limites des boxs, si oubli => remplissage automatique\n",
    "low_box = BoxAnnotation(top=20, fill_alpha=0.2, fill_color=\"#F0E442\")             # pas de bottom ici\n",
    "mid_box = BoxAnnotation(bottom=20, top=80, fill_alpha=0.2, fill_color=\"#009E73\")\n",
    "high_box = BoxAnnotation(bottom=80, fill_alpha=0.2, fill_color=\"#F0E442\")         # pas de top ici\n",
    "\n",
    "# add boxes to existing figure\n",
    "p.add_layout(low_box)\n",
    "p.add_layout(mid_box)\n",
    "p.add_layout(high_box)\n",
    "\n",
    "# show the results\n",
    "show(p)"
   ]
  },
  {
   "cell_type": "markdown",
   "id": "835beaf2-dba2-4fe9-8071-b8f1a1c42fa7",
   "metadata": {},
   "source": [
    "### Personnaliser le Tracé : thème, axes, grille, barre d'outils, info-bulles"
   ]
  },
  {
   "cell_type": "markdown",
   "id": "63f9e4f8-21fb-487b-bcc0-16e15867e314",
   "metadata": {},
   "source": [
    "5 thèmes intégrés : caliber, dark_minimal, light_minimal, night_sky , contrast  ET personnalisable possible\n",
    "bokeh.themes"
   ]
  },
  {
   "cell_type": "code",
   "execution_count": 14,
   "id": "cae9d678-5a8e-440e-b6eb-97bb69cb4cf2",
   "metadata": {},
   "outputs": [
    {
     "data": {
      "text/html": [
       "\n",
       "\n",
       "\n",
       "\n",
       "\n",
       "\n",
       "  <div class=\"bk-root\" id=\"a179bc47-6e37-4462-93bd-6f8dc570ad52\" data-root-id=\"4772\"></div>\n"
      ]
     },
     "metadata": {},
     "output_type": "display_data"
    },
    {
     "data": {
      "application/javascript": [
       "(function(root) {\n",
       "  function embed_document(root) {\n",
       "    \n",
       "  const docs_json = {\"cf84aa78-15a8-4468-8b0e-61f2b3e37992\":{\"defs\":[],\"roots\":{\"references\":[{\"attributes\":{\"background_fill_color\":\"#20262B\",\"below\":[{\"id\":\"4781\"}],\"border_fill_color\":\"#15191C\",\"center\":[{\"id\":\"4784\"},{\"id\":\"4788\"}],\"height\":250,\"left\":[{\"id\":\"4785\"}],\"max_width\":500,\"outline_line_alpha\":0.25,\"outline_line_color\":\"#E0E0E0\",\"renderers\":[{\"id\":\"4807\"}],\"sizing_mode\":\"stretch_width\",\"title\":{\"id\":\"5005\"},\"toolbar\":{\"id\":\"4796\"},\"x_range\":{\"id\":\"4773\"},\"x_scale\":{\"id\":\"4777\"},\"y_range\":{\"id\":\"4775\"},\"y_scale\":{\"id\":\"4779\"}},\"id\":\"4772\",\"subtype\":\"Figure\",\"type\":\"Plot\"},{\"attributes\":{\"overlay\":{\"id\":\"4795\"}},\"id\":\"4791\",\"type\":\"BoxZoomTool\"},{\"attributes\":{},\"id\":\"4789\",\"type\":\"PanTool\"},{\"attributes\":{},\"id\":\"4790\",\"type\":\"WheelZoomTool\"},{\"attributes\":{\"data\":{\"x\":[1,2,3,4,5],\"y\":[4,5,5,7,2]},\"selected\":{\"id\":\"5014\"},\"selection_policy\":{\"id\":\"5013\"}},\"id\":\"4803\",\"type\":\"ColumnDataSource\"},{\"attributes\":{},\"id\":\"4786\",\"type\":\"BasicTicker\"},{\"attributes\":{\"axis\":{\"id\":\"4785\"},\"coordinates\":null,\"dimension\":1,\"grid_line_alpha\":0.25,\"grid_line_color\":\"#E0E0E0\",\"group\":null,\"ticker\":null},\"id\":\"4788\",\"type\":\"Grid\"},{\"attributes\":{\"axis\":{\"id\":\"4781\"},\"coordinates\":null,\"grid_line_alpha\":0.25,\"grid_line_color\":\"#E0E0E0\",\"group\":null,\"ticker\":null},\"id\":\"4784\",\"type\":\"Grid\"},{\"attributes\":{\"line_alpha\":0.1,\"line_color\":\"#1f77b4\",\"x\":{\"field\":\"x\"},\"y\":{\"field\":\"y\"}},\"id\":\"4805\",\"type\":\"Line\"},{\"attributes\":{},\"id\":\"4782\",\"type\":\"BasicTicker\"},{\"attributes\":{\"line_color\":\"#1f77b4\",\"x\":{\"field\":\"x\"},\"y\":{\"field\":\"y\"}},\"id\":\"4804\",\"type\":\"Line\"},{\"attributes\":{},\"id\":\"5011\",\"type\":\"BasicTickFormatter\"},{\"attributes\":{\"source\":{\"id\":\"4803\"}},\"id\":\"4808\",\"type\":\"CDSView\"},{\"attributes\":{},\"id\":\"5013\",\"type\":\"UnionRenderers\"},{\"attributes\":{\"line_alpha\":0.2,\"line_color\":\"#1f77b4\",\"x\":{\"field\":\"x\"},\"y\":{\"field\":\"y\"}},\"id\":\"4806\",\"type\":\"Line\"},{\"attributes\":{},\"id\":\"5008\",\"type\":\"BasicTickFormatter\"},{\"attributes\":{\"coordinates\":null,\"data_source\":{\"id\":\"4803\"},\"glyph\":{\"id\":\"4804\"},\"group\":null,\"hover_glyph\":null,\"muted_glyph\":{\"id\":\"4806\"},\"nonselection_glyph\":{\"id\":\"4805\"},\"view\":{\"id\":\"4808\"}},\"id\":\"4807\",\"type\":\"GlyphRenderer\"},{\"attributes\":{},\"id\":\"4773\",\"type\":\"DataRange1d\"},{\"attributes\":{},\"id\":\"5012\",\"type\":\"AllLabels\"},{\"attributes\":{\"bottom_units\":\"screen\",\"coordinates\":null,\"fill_alpha\":0.5,\"fill_color\":\"lightgrey\",\"group\":null,\"left_units\":\"screen\",\"level\":\"overlay\",\"line_alpha\":1.0,\"line_color\":\"black\",\"line_dash\":[4,4],\"line_width\":2,\"right_units\":\"screen\",\"syncable\":false,\"top_units\":\"screen\"},\"id\":\"4795\",\"type\":\"BoxAnnotation\"},{\"attributes\":{},\"id\":\"4775\",\"type\":\"DataRange1d\"},{\"attributes\":{\"coordinates\":null,\"group\":null,\"text_color\":\"#E0E0E0\",\"text_font\":\"Helvetica\",\"text_font_size\":\"1.15em\"},\"id\":\"5005\",\"type\":\"Title\"},{\"attributes\":{},\"id\":\"5009\",\"type\":\"AllLabels\"},{\"attributes\":{\"axis_label\":\"Temp\",\"axis_label_standoff\":10,\"axis_label_text_color\":\"#E0E0E0\",\"axis_label_text_font\":\"Helvetica\",\"axis_label_text_font_size\":\"1.25em\",\"axis_label_text_font_style\":\"normal\",\"axis_line_alpha\":0,\"axis_line_color\":\"red\",\"axis_line_width\":3,\"coordinates\":null,\"formatter\":{\"id\":\"5011\"},\"group\":null,\"major_label_policy\":{\"id\":\"5012\"},\"major_label_text_color\":\"#E0E0E0\",\"major_label_text_font\":\"Helvetica\",\"major_label_text_font_size\":\"1.025em\",\"major_tick_line_alpha\":0,\"major_tick_line_color\":\"#E0E0E0\",\"minor_tick_line_alpha\":0,\"minor_tick_line_color\":\"#E0E0E0\",\"ticker\":{\"id\":\"4782\"}},\"id\":\"4781\",\"type\":\"LinearAxis\"},{\"attributes\":{},\"id\":\"4779\",\"type\":\"LinearScale\"},{\"attributes\":{\"tools\":[{\"id\":\"4789\"},{\"id\":\"4790\"},{\"id\":\"4791\"},{\"id\":\"4792\"},{\"id\":\"4793\"},{\"id\":\"4794\"}]},\"id\":\"4796\",\"type\":\"Toolbar\"},{\"attributes\":{},\"id\":\"4792\",\"type\":\"SaveTool\"},{\"attributes\":{},\"id\":\"4794\",\"type\":\"HelpTool\"},{\"attributes\":{},\"id\":\"4777\",\"type\":\"LinearScale\"},{\"attributes\":{\"axis_label\":\"Pressure\",\"axis_label_standoff\":10,\"axis_label_text_color\":\"#E0E0E0\",\"axis_label_text_font\":\"Helvetica\",\"axis_label_text_font_size\":\"1.25em\",\"axis_label_text_font_style\":\"normal\",\"axis_line_alpha\":0,\"axis_line_color\":\"#E0E0E0\",\"coordinates\":null,\"formatter\":{\"id\":\"5008\"},\"group\":null,\"major_label_orientation\":\"vertical\",\"major_label_policy\":{\"id\":\"5009\"},\"major_label_text_color\":\"orange\",\"major_label_text_font\":\"Helvetica\",\"major_label_text_font_size\":\"1.025em\",\"major_tick_line_alpha\":0,\"major_tick_line_color\":\"#E0E0E0\",\"minor_tick_line_alpha\":0,\"minor_tick_line_color\":\"#E0E0E0\",\"ticker\":{\"id\":\"4786\"}},\"id\":\"4785\",\"type\":\"LinearAxis\"},{\"attributes\":{},\"id\":\"4793\",\"type\":\"ResetTool\"},{\"attributes\":{},\"id\":\"5014\",\"type\":\"Selection\"}],\"root_ids\":[\"4772\"]},\"title\":\"Bokeh Application\",\"version\":\"2.4.2\"}};\n",
       "  const render_items = [{\"docid\":\"cf84aa78-15a8-4468-8b0e-61f2b3e37992\",\"root_ids\":[\"4772\"],\"roots\":{\"4772\":\"a179bc47-6e37-4462-93bd-6f8dc570ad52\"}}];\n",
       "  root.Bokeh.embed.embed_items_notebook(docs_json, render_items);\n",
       "\n",
       "  }\n",
       "  if (root.Bokeh !== undefined) {\n",
       "    embed_document(root);\n",
       "  } else {\n",
       "    let attempts = 0;\n",
       "    const timer = setInterval(function(root) {\n",
       "      if (root.Bokeh !== undefined) {\n",
       "        clearInterval(timer);\n",
       "        embed_document(root);\n",
       "      } else {\n",
       "        attempts++;\n",
       "        if (attempts > 100) {\n",
       "          clearInterval(timer);\n",
       "          console.log(\"Bokeh: ERROR: Unable to run BokehJS code because BokehJS library is missing\");\n",
       "        }\n",
       "      }\n",
       "    }, 10, root)\n",
       "  }\n",
       "})(window);"
      ],
      "application/vnd.bokehjs_exec.v0+json": ""
     },
     "metadata": {
      "application/vnd.bokehjs_exec.v0+json": {
       "id": "4772"
      }
     },
     "output_type": "display_data"
    }
   ],
   "source": [
    "from bokeh.io import curdoc\n",
    "from bokeh.plotting import figure, show\n",
    "\n",
    "# prepare some data\n",
    "x = [1, 2, 3, 4, 5]\n",
    "y = [4, 5, 5, 7, 2]\n",
    "\n",
    "# apply theme to current document\n",
    "\n",
    "curdoc().theme = \"dark_minimal\"        # mode sombre\n",
    "\n",
    "\n",
    "# create a plot\n",
    "p = figure(sizing_mode=\"stretch_width\", # s'adapte automatiquement à la tailllede l'écran ou au navigateur\n",
    "           max_width=500, height=250)\n",
    "\n",
    "# change some things about the x-axis\n",
    "p.xaxis.axis_label = \"Temp\"\n",
    "p.xaxis.axis_line_width = 3\n",
    "p.xaxis.axis_line_color = \"red\"\n",
    "\n",
    "# change some things about the y-axis\n",
    "p.yaxis.axis_label = \"Pressure\"\n",
    "p.yaxis.major_label_text_color = \"orange\"\n",
    "p.yaxis.major_label_orientation = \"vertical\"\n",
    "\n",
    "# add a renderer\n",
    "p.line(x, y)\n",
    "\n",
    "# show the results\n",
    "show(p)"
   ]
  },
  {
   "cell_type": "markdown",
   "id": "38c845b6-65be-42fc-b06a-cc7959123a7a",
   "metadata": {},
   "source": [
    "### taille du graph, range de x et y, formatage d'un axe en $"
   ]
  },
  {
   "cell_type": "code",
   "execution_count": null,
   "id": "87b72586-8103-43e2-a7c5-6bd325320e4e",
   "metadata": {},
   "outputs": [],
   "source": [
    "from bokeh.\n",
    "p = figure(\n",
    "    height=250,    # hauteur\n",
    "    width = 200,   # largeur\n",
    "    y_range=(0, 25),   # range de y\n",
    "    x_range=(-5,5))    # range de x\n",
    "\n",
    "p.yaxis[0].formatter = NumeralTickFormatter(format=\"$0.00\")\n",
    "show(p)"
   ]
  },
  {
   "cell_type": "markdown",
   "id": "f1d25400-3db7-407a-8787-8bf75a77a149",
   "metadata": {},
   "source": [
    "## 4 - Customiser les tracés"
   ]
  },
  {
   "cell_type": "code",
   "execution_count": 16,
   "id": "8340662c-24d7-4587-8b3c-e9223095605a",
   "metadata": {},
   "outputs": [
    {
     "data": {
      "text/html": [
       "\n",
       "    <div class=\"bk-root\">\n",
       "        <a href=\"https://bokeh.org\" target=\"_blank\" class=\"bk-logo bk-logo-small bk-logo-notebook\"></a>\n",
       "        <span id=\"5533\">Loading BokehJS ...</span>\n",
       "    </div>"
      ]
     },
     "metadata": {},
     "output_type": "display_data"
    },
    {
     "data": {
      "application/javascript": [
       "\n",
       "(function(root) {\n",
       "  function now() {\n",
       "    return new Date();\n",
       "  }\n",
       "\n",
       "  const force = true;\n",
       "\n",
       "  if (typeof root._bokeh_onload_callbacks === \"undefined\" || force === true) {\n",
       "    root._bokeh_onload_callbacks = [];\n",
       "    root._bokeh_is_loading = undefined;\n",
       "  }\n",
       "\n",
       "  const JS_MIME_TYPE = 'application/javascript';\n",
       "  const HTML_MIME_TYPE = 'text/html';\n",
       "  const EXEC_MIME_TYPE = 'application/vnd.bokehjs_exec.v0+json';\n",
       "  const CLASS_NAME = 'output_bokeh rendered_html';\n",
       "\n",
       "  /**\n",
       "   * Render data to the DOM node\n",
       "   */\n",
       "  function render(props, node) {\n",
       "    const script = document.createElement(\"script\");\n",
       "    node.appendChild(script);\n",
       "  }\n",
       "\n",
       "  /**\n",
       "   * Handle when an output is cleared or removed\n",
       "   */\n",
       "  function handleClearOutput(event, handle) {\n",
       "    const cell = handle.cell;\n",
       "\n",
       "    const id = cell.output_area._bokeh_element_id;\n",
       "    const server_id = cell.output_area._bokeh_server_id;\n",
       "    // Clean up Bokeh references\n",
       "    if (id != null && id in Bokeh.index) {\n",
       "      Bokeh.index[id].model.document.clear();\n",
       "      delete Bokeh.index[id];\n",
       "    }\n",
       "\n",
       "    if (server_id !== undefined) {\n",
       "      // Clean up Bokeh references\n",
       "      const cmd_clean = \"from bokeh.io.state import curstate; print(curstate().uuid_to_server['\" + server_id + \"'].get_sessions()[0].document.roots[0]._id)\";\n",
       "      cell.notebook.kernel.execute(cmd_clean, {\n",
       "        iopub: {\n",
       "          output: function(msg) {\n",
       "            const id = msg.content.text.trim();\n",
       "            if (id in Bokeh.index) {\n",
       "              Bokeh.index[id].model.document.clear();\n",
       "              delete Bokeh.index[id];\n",
       "            }\n",
       "          }\n",
       "        }\n",
       "      });\n",
       "      // Destroy server and session\n",
       "      const cmd_destroy = \"import bokeh.io.notebook as ion; ion.destroy_server('\" + server_id + \"')\";\n",
       "      cell.notebook.kernel.execute(cmd_destroy);\n",
       "    }\n",
       "  }\n",
       "\n",
       "  /**\n",
       "   * Handle when a new output is added\n",
       "   */\n",
       "  function handleAddOutput(event, handle) {\n",
       "    const output_area = handle.output_area;\n",
       "    const output = handle.output;\n",
       "\n",
       "    // limit handleAddOutput to display_data with EXEC_MIME_TYPE content only\n",
       "    if ((output.output_type != \"display_data\") || (!Object.prototype.hasOwnProperty.call(output.data, EXEC_MIME_TYPE))) {\n",
       "      return\n",
       "    }\n",
       "\n",
       "    const toinsert = output_area.element.find(\".\" + CLASS_NAME.split(' ')[0]);\n",
       "\n",
       "    if (output.metadata[EXEC_MIME_TYPE][\"id\"] !== undefined) {\n",
       "      toinsert[toinsert.length - 1].firstChild.textContent = output.data[JS_MIME_TYPE];\n",
       "      // store reference to embed id on output_area\n",
       "      output_area._bokeh_element_id = output.metadata[EXEC_MIME_TYPE][\"id\"];\n",
       "    }\n",
       "    if (output.metadata[EXEC_MIME_TYPE][\"server_id\"] !== undefined) {\n",
       "      const bk_div = document.createElement(\"div\");\n",
       "      bk_div.innerHTML = output.data[HTML_MIME_TYPE];\n",
       "      const script_attrs = bk_div.children[0].attributes;\n",
       "      for (let i = 0; i < script_attrs.length; i++) {\n",
       "        toinsert[toinsert.length - 1].firstChild.setAttribute(script_attrs[i].name, script_attrs[i].value);\n",
       "        toinsert[toinsert.length - 1].firstChild.textContent = bk_div.children[0].textContent\n",
       "      }\n",
       "      // store reference to server id on output_area\n",
       "      output_area._bokeh_server_id = output.metadata[EXEC_MIME_TYPE][\"server_id\"];\n",
       "    }\n",
       "  }\n",
       "\n",
       "  function register_renderer(events, OutputArea) {\n",
       "\n",
       "    function append_mime(data, metadata, element) {\n",
       "      // create a DOM node to render to\n",
       "      const toinsert = this.create_output_subarea(\n",
       "        metadata,\n",
       "        CLASS_NAME,\n",
       "        EXEC_MIME_TYPE\n",
       "      );\n",
       "      this.keyboard_manager.register_events(toinsert);\n",
       "      // Render to node\n",
       "      const props = {data: data, metadata: metadata[EXEC_MIME_TYPE]};\n",
       "      render(props, toinsert[toinsert.length - 1]);\n",
       "      element.append(toinsert);\n",
       "      return toinsert\n",
       "    }\n",
       "\n",
       "    /* Handle when an output is cleared or removed */\n",
       "    events.on('clear_output.CodeCell', handleClearOutput);\n",
       "    events.on('delete.Cell', handleClearOutput);\n",
       "\n",
       "    /* Handle when a new output is added */\n",
       "    events.on('output_added.OutputArea', handleAddOutput);\n",
       "\n",
       "    /**\n",
       "     * Register the mime type and append_mime function with output_area\n",
       "     */\n",
       "    OutputArea.prototype.register_mime_type(EXEC_MIME_TYPE, append_mime, {\n",
       "      /* Is output safe? */\n",
       "      safe: true,\n",
       "      /* Index of renderer in `output_area.display_order` */\n",
       "      index: 0\n",
       "    });\n",
       "  }\n",
       "\n",
       "  // register the mime type if in Jupyter Notebook environment and previously unregistered\n",
       "  if (root.Jupyter !== undefined) {\n",
       "    const events = require('base/js/events');\n",
       "    const OutputArea = require('notebook/js/outputarea').OutputArea;\n",
       "\n",
       "    if (OutputArea.prototype.mime_types().indexOf(EXEC_MIME_TYPE) == -1) {\n",
       "      register_renderer(events, OutputArea);\n",
       "    }\n",
       "  }\n",
       "\n",
       "  \n",
       "  if (typeof (root._bokeh_timeout) === \"undefined\" || force === true) {\n",
       "    root._bokeh_timeout = Date.now() + 5000;\n",
       "    root._bokeh_failed_load = false;\n",
       "  }\n",
       "\n",
       "  const NB_LOAD_WARNING = {'data': {'text/html':\n",
       "     \"<div style='background-color: #fdd'>\\n\"+\n",
       "     \"<p>\\n\"+\n",
       "     \"BokehJS does not appear to have successfully loaded. If loading BokehJS from CDN, this \\n\"+\n",
       "     \"may be due to a slow or bad network connection. Possible fixes:\\n\"+\n",
       "     \"</p>\\n\"+\n",
       "     \"<ul>\\n\"+\n",
       "     \"<li>re-rerun `output_notebook()` to attempt to load from CDN again, or</li>\\n\"+\n",
       "     \"<li>use INLINE resources instead, as so:</li>\\n\"+\n",
       "     \"</ul>\\n\"+\n",
       "     \"<code>\\n\"+\n",
       "     \"from bokeh.resources import INLINE\\n\"+\n",
       "     \"output_notebook(resources=INLINE)\\n\"+\n",
       "     \"</code>\\n\"+\n",
       "     \"</div>\"}};\n",
       "\n",
       "  function display_loaded() {\n",
       "    const el = document.getElementById(\"5533\");\n",
       "    if (el != null) {\n",
       "      el.textContent = \"BokehJS is loading...\";\n",
       "    }\n",
       "    if (root.Bokeh !== undefined) {\n",
       "      if (el != null) {\n",
       "        el.textContent = \"BokehJS \" + root.Bokeh.version + \" successfully loaded.\";\n",
       "      }\n",
       "    } else if (Date.now() < root._bokeh_timeout) {\n",
       "      setTimeout(display_loaded, 100)\n",
       "    }\n",
       "  }\n",
       "\n",
       "\n",
       "  function run_callbacks() {\n",
       "    try {\n",
       "      root._bokeh_onload_callbacks.forEach(function(callback) {\n",
       "        if (callback != null)\n",
       "          callback();\n",
       "      });\n",
       "    } finally {\n",
       "      delete root._bokeh_onload_callbacks\n",
       "    }\n",
       "    console.debug(\"Bokeh: all callbacks have finished\");\n",
       "  }\n",
       "\n",
       "  function load_libs(css_urls, js_urls, callback) {\n",
       "    if (css_urls == null) css_urls = [];\n",
       "    if (js_urls == null) js_urls = [];\n",
       "\n",
       "    root._bokeh_onload_callbacks.push(callback);\n",
       "    if (root._bokeh_is_loading > 0) {\n",
       "      console.debug(\"Bokeh: BokehJS is being loaded, scheduling callback at\", now());\n",
       "      return null;\n",
       "    }\n",
       "    if (js_urls == null || js_urls.length === 0) {\n",
       "      run_callbacks();\n",
       "      return null;\n",
       "    }\n",
       "    console.debug(\"Bokeh: BokehJS not loaded, scheduling load and callback at\", now());\n",
       "    root._bokeh_is_loading = css_urls.length + js_urls.length;\n",
       "\n",
       "    function on_load() {\n",
       "      root._bokeh_is_loading--;\n",
       "      if (root._bokeh_is_loading === 0) {\n",
       "        console.debug(\"Bokeh: all BokehJS libraries/stylesheets loaded\");\n",
       "        run_callbacks()\n",
       "      }\n",
       "    }\n",
       "\n",
       "    function on_error(url) {\n",
       "      console.error(\"failed to load \" + url);\n",
       "    }\n",
       "\n",
       "    for (let i = 0; i < css_urls.length; i++) {\n",
       "      const url = css_urls[i];\n",
       "      const element = document.createElement(\"link\");\n",
       "      element.onload = on_load;\n",
       "      element.onerror = on_error.bind(null, url);\n",
       "      element.rel = \"stylesheet\";\n",
       "      element.type = \"text/css\";\n",
       "      element.href = url;\n",
       "      console.debug(\"Bokeh: injecting link tag for BokehJS stylesheet: \", url);\n",
       "      document.body.appendChild(element);\n",
       "    }\n",
       "\n",
       "    for (let i = 0; i < js_urls.length; i++) {\n",
       "      const url = js_urls[i];\n",
       "      const element = document.createElement('script');\n",
       "      element.onload = on_load;\n",
       "      element.onerror = on_error.bind(null, url);\n",
       "      element.async = false;\n",
       "      element.src = url;\n",
       "      console.debug(\"Bokeh: injecting script tag for BokehJS library: \", url);\n",
       "      document.head.appendChild(element);\n",
       "    }\n",
       "  };\n",
       "\n",
       "  function inject_raw_css(css) {\n",
       "    const element = document.createElement(\"style\");\n",
       "    element.appendChild(document.createTextNode(css));\n",
       "    document.body.appendChild(element);\n",
       "  }\n",
       "\n",
       "  \n",
       "  const js_urls = [\"https://cdn.bokeh.org/bokeh/release/bokeh-2.4.2.min.js\", \"https://cdn.bokeh.org/bokeh/release/bokeh-gl-2.4.2.min.js\", \"https://cdn.bokeh.org/bokeh/release/bokeh-widgets-2.4.2.min.js\", \"https://cdn.bokeh.org/bokeh/release/bokeh-tables-2.4.2.min.js\", \"https://cdn.bokeh.org/bokeh/release/bokeh-mathjax-2.4.2.min.js\"];\n",
       "  const css_urls = [];\n",
       "  \n",
       "\n",
       "  const inline_js = [\n",
       "    function(Bokeh) {\n",
       "      Bokeh.set_log_level(\"info\");\n",
       "    },\n",
       "    function(Bokeh) {\n",
       "    \n",
       "    \n",
       "    }\n",
       "  ];\n",
       "\n",
       "  function run_inline_js() {\n",
       "    \n",
       "    if (root.Bokeh !== undefined || force === true) {\n",
       "      \n",
       "    for (let i = 0; i < inline_js.length; i++) {\n",
       "      inline_js[i].call(root, root.Bokeh);\n",
       "    }\n",
       "    if (force === true) {\n",
       "        display_loaded();\n",
       "      }} else if (Date.now() < root._bokeh_timeout) {\n",
       "      setTimeout(run_inline_js, 100);\n",
       "    } else if (!root._bokeh_failed_load) {\n",
       "      console.log(\"Bokeh: BokehJS failed to load within specified timeout.\");\n",
       "      root._bokeh_failed_load = true;\n",
       "    } else if (force !== true) {\n",
       "      const cell = $(document.getElementById(\"5533\")).parents('.cell').data().cell;\n",
       "      cell.output_area.append_execute_result(NB_LOAD_WARNING)\n",
       "    }\n",
       "\n",
       "  }\n",
       "\n",
       "  if (root._bokeh_is_loading === 0) {\n",
       "    console.debug(\"Bokeh: BokehJS loaded, going straight to plotting\");\n",
       "    run_inline_js();\n",
       "  } else {\n",
       "    load_libs(css_urls, js_urls, function() {\n",
       "      console.debug(\"Bokeh: BokehJS plotting callback run at\", now());\n",
       "      run_inline_js();\n",
       "    });\n",
       "  }\n",
       "}(window));"
      ],
      "application/vnd.bokehjs_load.v0+json": "\n(function(root) {\n  function now() {\n    return new Date();\n  }\n\n  const force = true;\n\n  if (typeof root._bokeh_onload_callbacks === \"undefined\" || force === true) {\n    root._bokeh_onload_callbacks = [];\n    root._bokeh_is_loading = undefined;\n  }\n\n  \n\n  \n  if (typeof (root._bokeh_timeout) === \"undefined\" || force === true) {\n    root._bokeh_timeout = Date.now() + 5000;\n    root._bokeh_failed_load = false;\n  }\n\n  const NB_LOAD_WARNING = {'data': {'text/html':\n     \"<div style='background-color: #fdd'>\\n\"+\n     \"<p>\\n\"+\n     \"BokehJS does not appear to have successfully loaded. If loading BokehJS from CDN, this \\n\"+\n     \"may be due to a slow or bad network connection. Possible fixes:\\n\"+\n     \"</p>\\n\"+\n     \"<ul>\\n\"+\n     \"<li>re-rerun `output_notebook()` to attempt to load from CDN again, or</li>\\n\"+\n     \"<li>use INLINE resources instead, as so:</li>\\n\"+\n     \"</ul>\\n\"+\n     \"<code>\\n\"+\n     \"from bokeh.resources import INLINE\\n\"+\n     \"output_notebook(resources=INLINE)\\n\"+\n     \"</code>\\n\"+\n     \"</div>\"}};\n\n  function display_loaded() {\n    const el = document.getElementById(\"5533\");\n    if (el != null) {\n      el.textContent = \"BokehJS is loading...\";\n    }\n    if (root.Bokeh !== undefined) {\n      if (el != null) {\n        el.textContent = \"BokehJS \" + root.Bokeh.version + \" successfully loaded.\";\n      }\n    } else if (Date.now() < root._bokeh_timeout) {\n      setTimeout(display_loaded, 100)\n    }\n  }\n\n\n  function run_callbacks() {\n    try {\n      root._bokeh_onload_callbacks.forEach(function(callback) {\n        if (callback != null)\n          callback();\n      });\n    } finally {\n      delete root._bokeh_onload_callbacks\n    }\n    console.debug(\"Bokeh: all callbacks have finished\");\n  }\n\n  function load_libs(css_urls, js_urls, callback) {\n    if (css_urls == null) css_urls = [];\n    if (js_urls == null) js_urls = [];\n\n    root._bokeh_onload_callbacks.push(callback);\n    if (root._bokeh_is_loading > 0) {\n      console.debug(\"Bokeh: BokehJS is being loaded, scheduling callback at\", now());\n      return null;\n    }\n    if (js_urls == null || js_urls.length === 0) {\n      run_callbacks();\n      return null;\n    }\n    console.debug(\"Bokeh: BokehJS not loaded, scheduling load and callback at\", now());\n    root._bokeh_is_loading = css_urls.length + js_urls.length;\n\n    function on_load() {\n      root._bokeh_is_loading--;\n      if (root._bokeh_is_loading === 0) {\n        console.debug(\"Bokeh: all BokehJS libraries/stylesheets loaded\");\n        run_callbacks()\n      }\n    }\n\n    function on_error(url) {\n      console.error(\"failed to load \" + url);\n    }\n\n    for (let i = 0; i < css_urls.length; i++) {\n      const url = css_urls[i];\n      const element = document.createElement(\"link\");\n      element.onload = on_load;\n      element.onerror = on_error.bind(null, url);\n      element.rel = \"stylesheet\";\n      element.type = \"text/css\";\n      element.href = url;\n      console.debug(\"Bokeh: injecting link tag for BokehJS stylesheet: \", url);\n      document.body.appendChild(element);\n    }\n\n    for (let i = 0; i < js_urls.length; i++) {\n      const url = js_urls[i];\n      const element = document.createElement('script');\n      element.onload = on_load;\n      element.onerror = on_error.bind(null, url);\n      element.async = false;\n      element.src = url;\n      console.debug(\"Bokeh: injecting script tag for BokehJS library: \", url);\n      document.head.appendChild(element);\n    }\n  };\n\n  function inject_raw_css(css) {\n    const element = document.createElement(\"style\");\n    element.appendChild(document.createTextNode(css));\n    document.body.appendChild(element);\n  }\n\n  \n  const js_urls = [\"https://cdn.bokeh.org/bokeh/release/bokeh-2.4.2.min.js\", \"https://cdn.bokeh.org/bokeh/release/bokeh-gl-2.4.2.min.js\", \"https://cdn.bokeh.org/bokeh/release/bokeh-widgets-2.4.2.min.js\", \"https://cdn.bokeh.org/bokeh/release/bokeh-tables-2.4.2.min.js\", \"https://cdn.bokeh.org/bokeh/release/bokeh-mathjax-2.4.2.min.js\"];\n  const css_urls = [];\n  \n\n  const inline_js = [\n    function(Bokeh) {\n      Bokeh.set_log_level(\"info\");\n    },\n    function(Bokeh) {\n    \n    \n    }\n  ];\n\n  function run_inline_js() {\n    \n    if (root.Bokeh !== undefined || force === true) {\n      \n    for (let i = 0; i < inline_js.length; i++) {\n      inline_js[i].call(root, root.Bokeh);\n    }\n    if (force === true) {\n        display_loaded();\n      }} else if (Date.now() < root._bokeh_timeout) {\n      setTimeout(run_inline_js, 100);\n    } else if (!root._bokeh_failed_load) {\n      console.log(\"Bokeh: BokehJS failed to load within specified timeout.\");\n      root._bokeh_failed_load = true;\n    } else if (force !== true) {\n      const cell = $(document.getElementById(\"5533\")).parents('.cell').data().cell;\n      cell.output_area.append_execute_result(NB_LOAD_WARNING)\n    }\n\n  }\n\n  if (root._bokeh_is_loading === 0) {\n    console.debug(\"Bokeh: BokehJS loaded, going straight to plotting\");\n    run_inline_js();\n  } else {\n    load_libs(css_urls, js_urls, function() {\n      console.debug(\"Bokeh: BokehJS plotting callback run at\", now());\n      run_inline_js();\n    });\n  }\n}(window));"
     },
     "metadata": {},
     "output_type": "display_data"
    },
    {
     "data": {
      "text/html": [
       "\n",
       "\n",
       "\n",
       "\n",
       "\n",
       "\n",
       "  <div class=\"bk-root\" id=\"4c5f96af-c7cd-4ca3-be5e-173164865a69\" data-root-id=\"5534\"></div>\n"
      ]
     },
     "metadata": {},
     "output_type": "display_data"
    },
    {
     "data": {
      "application/javascript": [
       "(function(root) {\n",
       "  function embed_document(root) {\n",
       "    \n",
       "  const docs_json = {\"e9fa1838-2b60-40da-979f-03086e2e070b\":{\"defs\":[],\"roots\":{\"references\":[{\"attributes\":{\"background_fill_color\":\"#20262B\",\"below\":[{\"id\":\"5543\"}],\"border_fill_color\":\"#15191C\",\"center\":[{\"id\":\"5546\"},{\"id\":\"5550\"},{\"id\":\"5582\"}],\"left\":[{\"id\":\"5547\"}],\"outline_line_alpha\":0.25,\"outline_line_color\":\"#E0E0E0\",\"renderers\":[{\"id\":\"5569\"},{\"id\":\"5588\"},{\"id\":\"5607\"},{\"id\":\"5629\"},{\"id\":\"5653\"}],\"title\":{\"id\":\"5571\"},\"toolbar\":{\"id\":\"5558\"},\"x_range\":{\"id\":\"5535\"},\"x_scale\":{\"id\":\"5539\"},\"y_range\":{\"id\":\"5537\"},\"y_scale\":{\"id\":\"5541\"}},\"id\":\"5534\",\"subtype\":\"Figure\",\"type\":\"Plot\"},{\"attributes\":{\"line_color\":\"green\",\"x\":{\"field\":\"x\"},\"y\":{\"field\":\"y\"}},\"id\":\"5650\",\"type\":\"Line\"},{\"attributes\":{\"overlay\":{\"id\":\"5557\"}},\"id\":\"5553\",\"type\":\"BoxZoomTool\"},{\"attributes\":{},\"id\":\"5622\",\"type\":\"Selection\"},{\"attributes\":{\"coordinates\":null,\"data_source\":{\"id\":\"5603\"},\"glyph\":{\"id\":\"5604\"},\"group\":null,\"hover_glyph\":null,\"muted_glyph\":{\"id\":\"5606\"},\"nonselection_glyph\":{\"id\":\"5605\"},\"view\":{\"id\":\"5608\"}},\"id\":\"5607\",\"type\":\"GlyphRenderer\"},{\"attributes\":{},\"id\":\"5646\",\"type\":\"Selection\"},{\"attributes\":{\"line_alpha\":0.2,\"line_color\":\"orange\",\"line_dash\":[10,10],\"line_width\":2,\"x\":{\"field\":\"x\"},\"y\":{\"field\":\"y\"}},\"id\":\"5606\",\"type\":\"Line\"},{\"attributes\":{},\"id\":\"5544\",\"type\":\"BasicTicker\"},{\"attributes\":{},\"id\":\"5645\",\"type\":\"UnionRenderers\"},{\"attributes\":{\"source\":{\"id\":\"5603\"}},\"id\":\"5608\",\"type\":\"CDSView\"},{\"attributes\":{\"line_color\":\"orange\",\"line_dash\":[10,10],\"line_width\":2,\"x\":{\"field\":\"x\"},\"y\":{\"field\":\"y\"}},\"id\":\"5604\",\"type\":\"Line\"},{\"attributes\":{\"axis\":{\"id\":\"5543\"},\"coordinates\":null,\"grid_line_alpha\":0.25,\"grid_line_color\":\"#E0E0E0\",\"group\":null,\"ticker\":null},\"id\":\"5546\",\"type\":\"Grid\"},{\"attributes\":{\"line_alpha\":0.1,\"line_color\":\"orange\",\"line_dash\":[10,10],\"line_width\":2,\"x\":{\"field\":\"x\"},\"y\":{\"field\":\"y\"}},\"id\":\"5605\",\"type\":\"Line\"},{\"attributes\":{\"axis_label_standoff\":10,\"axis_label_text_color\":\"#E0E0E0\",\"axis_label_text_font\":\"Helvetica\",\"axis_label_text_font_size\":\"1.25em\",\"axis_label_text_font_style\":\"normal\",\"axis_line_alpha\":0,\"axis_line_color\":\"#E0E0E0\",\"coordinates\":null,\"formatter\":{\"id\":\"5574\"},\"group\":null,\"major_label_policy\":{\"id\":\"5575\"},\"major_label_text_color\":\"#E0E0E0\",\"major_label_text_font\":\"Helvetica\",\"major_label_text_font_size\":\"1.025em\",\"major_tick_line_alpha\":0,\"major_tick_line_color\":\"#E0E0E0\",\"minor_tick_line_alpha\":0,\"minor_tick_line_color\":\"#E0E0E0\",\"ticker\":{\"id\":\"5548\"}},\"id\":\"5547\",\"type\":\"LinearAxis\"},{\"attributes\":{\"label\":{\"value\":\"2*sin(x)\"},\"renderers\":[{\"id\":\"5607\"}]},\"id\":\"5624\",\"type\":\"LegendItem\"},{\"attributes\":{},\"id\":\"5535\",\"type\":\"DataRange1d\"},{\"attributes\":{\"fill_alpha\":{\"value\":0.2},\"fill_color\":{\"value\":null},\"hatch_alpha\":{\"value\":0.2},\"hatch_color\":{\"value\":\"green\"},\"line_alpha\":{\"value\":0.2},\"line_color\":{\"value\":\"green\"},\"marker\":{\"value\":\"square\"},\"x\":{\"field\":\"x\"},\"y\":{\"field\":\"y\"}},\"id\":\"5628\",\"type\":\"Scatter\"},{\"attributes\":{\"label\":{\"value\":\"3*sin(x)\"},\"renderers\":[{\"id\":\"5629\"},{\"id\":\"5653\"}]},\"id\":\"5648\",\"type\":\"LegendItem\"},{\"attributes\":{},\"id\":\"5621\",\"type\":\"UnionRenderers\"},{\"attributes\":{\"data\":{\"x\":{\"__ndarray__\":\"AAAAAAAAAACRGkt8Vz/AP5EaS3xXP9A/2qdwOgNf2D+RGkt8Vz/gPzXhXVstT+Q/2qdwOgNf6D9+boMZ2W7sP5EaS3xXP/A/433Ua0JH8j814V1bLU/0P4dE50oYV/Y/2qdwOgNf+D8sC/op7mb6P35ugxnZbvw/0NEMCcR2/j+RGkt8Vz8AQDrMD/RMQwFA433Ua0JHAkCML5njN0sDQDXhXVstTwRA3pIi0yJTBUCHROdKGFcGQDD2q8INWwdA2qdwOgNfCECDWTWy+GIJQCwL+inuZgpA1by+oeNqC0B+boMZ2W4MQCcgSJHOcg1A0NEMCcR2DkB5g9GAuXoPQJEaS3xXPxBAZnMtOFLBEEA6zA/0TEMRQA8l8q9HxRFA433Ua0JHEkC41rYnPckSQIwvmeM3SxNAYYh7nzLNE0A14V1bLU8UQAo6QBco0RRA3pIi0yJTFUCz6wSPHdUVQIdE50oYVxZAXJ3JBhPZFkAw9qvCDVsXQAVPjn4I3RdA2qdwOgNfGECuAFP2/eAYQINZNbL4YhlAV7IXbvPkGUAsC/op7mYaQABk3OXo6BpA1by+oeNqG0CpFaFd3uwbQH5ugxnZbhxAUsdl1dPwHEAnIEiRznIdQPt4Kk3J9B1A0NEMCcR2HkCkKu/EvvgeQHmD0YC5eh9ATdyzPLT8H0CRGkt8Vz8gQPtGPNpUgCBAZnMtOFLBIEDQnx6WTwIhQDrMD/RMQyFApPgAUkqEIUAPJfKvR8UhQHlR4w1FBiJA433Ua0JHIkBNqsXJP4giQLjWtic9ySJAIgOohToKI0CML5njN0sjQPZbikE1jCNAYYh7nzLNI0DLtGz9Lw4kQDXhXVstTyRAoA1PuSqQJEAKOkAXKNEkQHRmMXUlEiVA3pIi0yJTJUBJvxMxIJQlQLPrBI8d1SVAHRj27BoWJkCHROdKGFcmQPJw2KgVmCZAXJ3JBhPZJkDGybpkEBonQDD2q8INWydAmyKdIAucJ0AFT45+CN0nQG97f9wFHihA2qdwOgNfKEBE1GGYAKAoQK4AU/b94ChAGC1EVPshKUA=\",\"dtype\":\"float64\",\"order\":\"little\",\"shape\":[100]},\"y\":{\"__ndarray__\":\"AAAAAAAAAADwgwJ4LjTAP5qI2QHPEtA/+5MNU1HJ1z8ZTT7q2B3fP0aFmgwa+eI/ABg/lCAV5j+IQCEcMdboP3fOhmLzMOs/EyzujrQb7T/9Izwlj47uPxccgYyLg+8/g6xao7j27z9mZrL8O+bvP7+X94FZUu8/xVNiW3I97j9RB8Ai+6vsP5FWKYlppOo/oSg6uxkv6D/Sh2bxK1blPyZGRbpaJeI/8qg+VZVT3T/4C4p0qOPVP+UppLIiM8w/3FNHxZdVuD/J23zJpD6gv+3ENsZjOcS/wo12/ecH0r/dgWKM2KjZv2MTsJELcOC/83ixWvXH47+358MBZM7mv5eCD4nhdum/rExY6Hq267+TIxAn7YPtvwSssILL1+6/70I4BJ6s77/vOc8G+P7vvzTGy1KGze+/3176khQZ77/C8a4NiuTtvzGcHq/dNOy/l0FFlgER6r+EGZN4xoHnvx8WPFK3keS/Cli7+O1M4b+HQNqEwoHbv9kfIiFb+NO/gKyggGI5yL8EhrXMjDywvyGGtcyMPLA/jqyggGI5yD/gHyIhW/jTP4BA2oTCgds/DVi7+O1M4T8cFjxSt5HkP4cZk3jGgec/lUFFlgER6j8ynB6v3TTsP8Hxrg2K5O0/4F76khQZ7z80xstShs3vP+85zwb4/u8/8EI4BJ6s7z8DrLCCy9fuP5UjECftg+0/p0xY6Hq26z+Vgg+J4XbpP7fnwwFkzuY/9nixWvXH4z9dE7CRC3DgP9eBYozYqNk/w412/ecH0j/+xDbGYznEP0/bfMmkPqA/+FNHxZdVuL/UKaSyIjPMv+gLinSo49W/+Kg+VZVT3b8lRkW6WiXiv8+HZvErVuW/pig6uxkv6L+TVimJaaTqv1EHwCL7q+y/xFNiW3I97r/Al/eBWVLvv2Zmsvw75u+/g6xao7j2778YHIGMi4Pvv/sjPCWPju6/EyzujrQb7b94zoZi8zDrv4xAIRwx1ui//Bc/lCAV5r9GhZoMGvnivx5NPurYHd+/65MNU1HJ17+SiNkBzxLQv/GDAnguNMC/B1wUMyamwbw=\",\"dtype\":\"float64\",\"order\":\"little\",\"shape\":[100]}},\"selected\":{\"id\":\"5601\"},\"selection_policy\":{\"id\":\"5600\"}},\"id\":\"5584\",\"type\":\"ColumnDataSource\"},{\"attributes\":{\"fill_color\":{\"value\":null},\"hatch_color\":{\"value\":\"green\"},\"line_color\":{\"value\":\"green\"},\"marker\":{\"value\":\"square\"},\"x\":{\"field\":\"x\"},\"y\":{\"field\":\"y\"}},\"id\":\"5626\",\"type\":\"Scatter\"},{\"attributes\":{\"label\":{\"value\":\"sin(x)\"},\"renderers\":[{\"id\":\"5569\"},{\"id\":\"5588\"}]},\"id\":\"5583\",\"type\":\"LegendItem\"},{\"attributes\":{\"line_alpha\":0.2,\"line_color\":\"#1f77b4\",\"x\":{\"field\":\"x\"},\"y\":{\"field\":\"y\"}},\"id\":\"5587\",\"type\":\"Line\"},{\"attributes\":{\"source\":{\"id\":\"5565\"}},\"id\":\"5570\",\"type\":\"CDSView\"},{\"attributes\":{\"source\":{\"id\":\"5584\"}},\"id\":\"5589\",\"type\":\"CDSView\"},{\"attributes\":{\"tools\":[{\"id\":\"5551\"},{\"id\":\"5552\"},{\"id\":\"5553\"},{\"id\":\"5554\"},{\"id\":\"5555\"},{\"id\":\"5556\"}]},\"id\":\"5558\",\"type\":\"Toolbar\"},{\"attributes\":{},\"id\":\"5556\",\"type\":\"HelpTool\"},{\"attributes\":{\"line_alpha\":0.1,\"line_color\":\"#1f77b4\",\"x\":{\"field\":\"x\"},\"y\":{\"field\":\"y\"}},\"id\":\"5586\",\"type\":\"Line\"},{\"attributes\":{\"line_color\":\"#1f77b4\",\"x\":{\"field\":\"x\"},\"y\":{\"field\":\"y\"}},\"id\":\"5585\",\"type\":\"Line\"},{\"attributes\":{\"bottom_units\":\"screen\",\"coordinates\":null,\"fill_alpha\":0.5,\"fill_color\":\"lightgrey\",\"group\":null,\"left_units\":\"screen\",\"level\":\"overlay\",\"line_alpha\":1.0,\"line_color\":\"black\",\"line_dash\":[4,4],\"line_width\":2,\"right_units\":\"screen\",\"syncable\":false,\"top_units\":\"screen\"},\"id\":\"5557\",\"type\":\"BoxAnnotation\"},{\"attributes\":{\"coordinates\":null,\"data_source\":{\"id\":\"5625\"},\"glyph\":{\"id\":\"5626\"},\"group\":null,\"hover_glyph\":null,\"muted_glyph\":{\"id\":\"5628\"},\"nonselection_glyph\":{\"id\":\"5627\"},\"view\":{\"id\":\"5630\"}},\"id\":\"5629\",\"type\":\"GlyphRenderer\"},{\"attributes\":{},\"id\":\"5580\",\"type\":\"Selection\"},{\"attributes\":{},\"id\":\"5574\",\"type\":\"BasicTickFormatter\"},{\"attributes\":{},\"id\":\"5551\",\"type\":\"PanTool\"},{\"attributes\":{\"data\":{\"x\":{\"__ndarray__\":\"AAAAAAAAAACRGkt8Vz/AP5EaS3xXP9A/2qdwOgNf2D+RGkt8Vz/gPzXhXVstT+Q/2qdwOgNf6D9+boMZ2W7sP5EaS3xXP/A/433Ua0JH8j814V1bLU/0P4dE50oYV/Y/2qdwOgNf+D8sC/op7mb6P35ugxnZbvw/0NEMCcR2/j+RGkt8Vz8AQDrMD/RMQwFA433Ua0JHAkCML5njN0sDQDXhXVstTwRA3pIi0yJTBUCHROdKGFcGQDD2q8INWwdA2qdwOgNfCECDWTWy+GIJQCwL+inuZgpA1by+oeNqC0B+boMZ2W4MQCcgSJHOcg1A0NEMCcR2DkB5g9GAuXoPQJEaS3xXPxBAZnMtOFLBEEA6zA/0TEMRQA8l8q9HxRFA433Ua0JHEkC41rYnPckSQIwvmeM3SxNAYYh7nzLNE0A14V1bLU8UQAo6QBco0RRA3pIi0yJTFUCz6wSPHdUVQIdE50oYVxZAXJ3JBhPZFkAw9qvCDVsXQAVPjn4I3RdA2qdwOgNfGECuAFP2/eAYQINZNbL4YhlAV7IXbvPkGUAsC/op7mYaQABk3OXo6BpA1by+oeNqG0CpFaFd3uwbQH5ugxnZbhxAUsdl1dPwHEAnIEiRznIdQPt4Kk3J9B1A0NEMCcR2HkCkKu/EvvgeQHmD0YC5eh9ATdyzPLT8H0CRGkt8Vz8gQPtGPNpUgCBAZnMtOFLBIEDQnx6WTwIhQDrMD/RMQyFApPgAUkqEIUAPJfKvR8UhQHlR4w1FBiJA433Ua0JHIkBNqsXJP4giQLjWtic9ySJAIgOohToKI0CML5njN0sjQPZbikE1jCNAYYh7nzLNI0DLtGz9Lw4kQDXhXVstTyRAoA1PuSqQJEAKOkAXKNEkQHRmMXUlEiVA3pIi0yJTJUBJvxMxIJQlQLPrBI8d1SVAHRj27BoWJkCHROdKGFcmQPJw2KgVmCZAXJ3JBhPZJkDGybpkEBonQDD2q8INWydAmyKdIAucJ0AFT45+CN0nQG97f9wFHihA2qdwOgNfKEBE1GGYAKAoQK4AU/b94ChAGC1EVPshKUA=\",\"dtype\":\"float64\",\"order\":\"little\",\"shape\":[100]},\"y\":{\"__ndarray__\":\"AAAAAAAAAADoxQO0RU7YP+dMxoI2HOg//C5K/vzW8T/Tua6vYlb3P+nH5xKndfw/AFIvb9iPAEBm8BjVpKACQNka5Ym2ZARADqEya8fUBUD+Gu1b6+oGQBHVYKmoogdAYgGEegr5B0DMzIX9rOwHQM+xeSHDfQdA1L6JxBWuBkB9BRBa/IAFQO0A3yZP+wNAeZ5rTFMjAkDe5Qz1oAAAQDnpZxcIOPs/tv7u/6/+9T/6iGdXvmrwP2wf+wVaJuU/5X710zFA0j+uSTsu9124v2QnUqkVVt6/o9Qx/NsL679m4Ulpoj7zvxQdiFoRqPi/bDUKCPCr/b/J7VIByxoBwPGhyyYpGQPAgTlCLtzIBMCuGkzd8SIGwAOBBKLYIQfAMzIqg3bBB8BzaxsFOv8HwKfUGL4k2gfAJ8c7bs9SB8BSNUOKZ2sGwCX1VkOmJwXAMfGzMMGMA8AjU27aVKEBwC4hWvuS2v6/DwQZ9WTz+b9lsKPjUaH0v8Yvs7GI9O2/YIF44Akr4r8GSRAz01rIvzJJEDPTWsg/aoF44Akr4j/QL7OxiPTtP2Cwo+NRofQ/FAQZ9WTz+T8qIVr7ktr+PyVTbtpUoQFAMPGzMMGMA0Am9VZDpicFQFE1Q4pnawZAKMc7bs9SB0Cn1Bi+JNoHQHNrGwU6/wdANDIqg3bBB0ACgQSi2CEHQLAaTN3xIgZAfTlCLtzIBEDwocsmKRkDQMntUgHLGgFAcTUKCPCr/T8MHYhaEaj4P2HhSWmiPvM/pNQx/NsL6z99J1KpFVbeP/ZIOy73Xbg/+n710zFA0r9fH/sFWiblv+6IZ1e+avC/uv7u/6/+9b846WcXCDj7v9vlDPWgAADAfJ5rTFMjAsDuAN8mT/sDwH0FEFr8gAXA076JxBWuBsDQsXkhw30HwMzMhf2s7AfAYgGEegr5B8AS1WCpqKIHwPwa7Vvr6gbADqEya8fUBcDaGuWJtmQEwGnwGNWkoALA/VEvb9iPAMDpx+cSp3X8v9a5rq9iVve/8C5K/vzW8b/bTMaCNhzov+rFA7RFTti/CoqeTDl52rw=\",\"dtype\":\"float64\",\"order\":\"little\",\"shape\":[100]}},\"selected\":{\"id\":\"5646\"},\"selection_policy\":{\"id\":\"5645\"}},\"id\":\"5625\",\"type\":\"ColumnDataSource\"},{\"attributes\":{},\"id\":\"5575\",\"type\":\"AllLabels\"},{\"attributes\":{\"line_alpha\":0.2,\"line_color\":\"green\",\"x\":{\"field\":\"x\"},\"y\":{\"field\":\"y\"}},\"id\":\"5652\",\"type\":\"Line\"},{\"attributes\":{},\"id\":\"5548\",\"type\":\"BasicTicker\"},{\"attributes\":{},\"id\":\"5577\",\"type\":\"BasicTickFormatter\"},{\"attributes\":{\"coordinates\":null,\"data_source\":{\"id\":\"5565\"},\"glyph\":{\"id\":\"5566\"},\"group\":null,\"hover_glyph\":null,\"muted_glyph\":{\"id\":\"5568\"},\"nonselection_glyph\":{\"id\":\"5567\"},\"view\":{\"id\":\"5570\"}},\"id\":\"5569\",\"type\":\"GlyphRenderer\"},{\"attributes\":{},\"id\":\"5578\",\"type\":\"AllLabels\"},{\"attributes\":{},\"id\":\"5601\",\"type\":\"Selection\"},{\"attributes\":{},\"id\":\"5539\",\"type\":\"LinearScale\"},{\"attributes\":{},\"id\":\"5537\",\"type\":\"DataRange1d\"},{\"attributes\":{\"fill_alpha\":{\"value\":0.2},\"fill_color\":{\"value\":\"#1f77b4\"},\"hatch_alpha\":{\"value\":0.2},\"line_alpha\":{\"value\":0.2},\"line_color\":{\"value\":\"#1f77b4\"},\"x\":{\"field\":\"x\"},\"y\":{\"field\":\"y\"}},\"id\":\"5568\",\"type\":\"Circle\"},{\"attributes\":{\"coordinates\":null,\"data_source\":{\"id\":\"5584\"},\"glyph\":{\"id\":\"5585\"},\"group\":null,\"hover_glyph\":null,\"muted_glyph\":{\"id\":\"5587\"},\"nonselection_glyph\":{\"id\":\"5586\"},\"view\":{\"id\":\"5589\"}},\"id\":\"5588\",\"type\":\"GlyphRenderer\"},{\"attributes\":{\"fill_alpha\":{\"value\":0.1},\"fill_color\":{\"value\":\"#1f77b4\"},\"hatch_alpha\":{\"value\":0.1},\"line_alpha\":{\"value\":0.1},\"line_color\":{\"value\":\"#1f77b4\"},\"x\":{\"field\":\"x\"},\"y\":{\"field\":\"y\"}},\"id\":\"5567\",\"type\":\"Circle\"},{\"attributes\":{},\"id\":\"5600\",\"type\":\"UnionRenderers\"},{\"attributes\":{\"line_alpha\":0.1,\"line_color\":\"green\",\"x\":{\"field\":\"x\"},\"y\":{\"field\":\"y\"}},\"id\":\"5651\",\"type\":\"Line\"},{\"attributes\":{},\"id\":\"5672\",\"type\":\"Selection\"},{\"attributes\":{},\"id\":\"5555\",\"type\":\"ResetTool\"},{\"attributes\":{\"data\":{\"x\":{\"__ndarray__\":\"AAAAAAAAAACRGkt8Vz/AP5EaS3xXP9A/2qdwOgNf2D+RGkt8Vz/gPzXhXVstT+Q/2qdwOgNf6D9+boMZ2W7sP5EaS3xXP/A/433Ua0JH8j814V1bLU/0P4dE50oYV/Y/2qdwOgNf+D8sC/op7mb6P35ugxnZbvw/0NEMCcR2/j+RGkt8Vz8AQDrMD/RMQwFA433Ua0JHAkCML5njN0sDQDXhXVstTwRA3pIi0yJTBUCHROdKGFcGQDD2q8INWwdA2qdwOgNfCECDWTWy+GIJQCwL+inuZgpA1by+oeNqC0B+boMZ2W4MQCcgSJHOcg1A0NEMCcR2DkB5g9GAuXoPQJEaS3xXPxBAZnMtOFLBEEA6zA/0TEMRQA8l8q9HxRFA433Ua0JHEkC41rYnPckSQIwvmeM3SxNAYYh7nzLNE0A14V1bLU8UQAo6QBco0RRA3pIi0yJTFUCz6wSPHdUVQIdE50oYVxZAXJ3JBhPZFkAw9qvCDVsXQAVPjn4I3RdA2qdwOgNfGECuAFP2/eAYQINZNbL4YhlAV7IXbvPkGUAsC/op7mYaQABk3OXo6BpA1by+oeNqG0CpFaFd3uwbQH5ugxnZbhxAUsdl1dPwHEAnIEiRznIdQPt4Kk3J9B1A0NEMCcR2HkCkKu/EvvgeQHmD0YC5eh9ATdyzPLT8H0CRGkt8Vz8gQPtGPNpUgCBAZnMtOFLBIEDQnx6WTwIhQDrMD/RMQyFApPgAUkqEIUAPJfKvR8UhQHlR4w1FBiJA433Ua0JHIkBNqsXJP4giQLjWtic9ySJAIgOohToKI0CML5njN0sjQPZbikE1jCNAYYh7nzLNI0DLtGz9Lw4kQDXhXVstTyRAoA1PuSqQJEAKOkAXKNEkQHRmMXUlEiVA3pIi0yJTJUBJvxMxIJQlQLPrBI8d1SVAHRj27BoWJkCHROdKGFcmQPJw2KgVmCZAXJ3JBhPZJkDGybpkEBonQDD2q8INWydAmyKdIAucJ0AFT45+CN0nQG97f9wFHihA2qdwOgNfKEBE1GGYAKAoQK4AU/b94ChAGC1EVPshKUA=\",\"dtype\":\"float64\",\"order\":\"little\",\"shape\":[100]},\"y\":{\"__ndarray__\":\"AAAAAAAAAADwgwJ4LjTAP5qI2QHPEtA/+5MNU1HJ1z8ZTT7q2B3fP0aFmgwa+eI/ABg/lCAV5j+IQCEcMdboP3fOhmLzMOs/EyzujrQb7T/9Izwlj47uPxccgYyLg+8/g6xao7j27z9mZrL8O+bvP7+X94FZUu8/xVNiW3I97j9RB8Ai+6vsP5FWKYlppOo/oSg6uxkv6D/Sh2bxK1blPyZGRbpaJeI/8qg+VZVT3T/4C4p0qOPVP+UppLIiM8w/3FNHxZdVuD/J23zJpD6gv+3ENsZjOcS/wo12/ecH0r/dgWKM2KjZv2MTsJELcOC/83ixWvXH47+358MBZM7mv5eCD4nhdum/rExY6Hq267+TIxAn7YPtvwSssILL1+6/70I4BJ6s77/vOc8G+P7vvzTGy1KGze+/3176khQZ77/C8a4NiuTtvzGcHq/dNOy/l0FFlgER6r+EGZN4xoHnvx8WPFK3keS/Cli7+O1M4b+HQNqEwoHbv9kfIiFb+NO/gKyggGI5yL8EhrXMjDywvyGGtcyMPLA/jqyggGI5yD/gHyIhW/jTP4BA2oTCgds/DVi7+O1M4T8cFjxSt5HkP4cZk3jGgec/lUFFlgER6j8ynB6v3TTsP8Hxrg2K5O0/4F76khQZ7z80xstShs3vP+85zwb4/u8/8EI4BJ6s7z8DrLCCy9fuP5UjECftg+0/p0xY6Hq26z+Vgg+J4XbpP7fnwwFkzuY/9nixWvXH4z9dE7CRC3DgP9eBYozYqNk/w412/ecH0j/+xDbGYznEP0/bfMmkPqA/+FNHxZdVuL/UKaSyIjPMv+gLinSo49W/+Kg+VZVT3b8lRkW6WiXiv8+HZvErVuW/pig6uxkv6L+TVimJaaTqv1EHwCL7q+y/xFNiW3I97r/Al/eBWVLvv2Zmsvw75u+/g6xao7j2778YHIGMi4Pvv/sjPCWPju6/EyzujrQb7b94zoZi8zDrv4xAIRwx1ui//Bc/lCAV5r9GhZoMGvnivx5NPurYHd+/65MNU1HJ17+SiNkBzxLQv/GDAnguNMC/B1wUMyamwbw=\",\"dtype\":\"float64\",\"order\":\"little\",\"shape\":[100]}},\"selected\":{\"id\":\"5580\"},\"selection_policy\":{\"id\":\"5579\"}},\"id\":\"5565\",\"type\":\"ColumnDataSource\"},{\"attributes\":{},\"id\":\"5554\",\"type\":\"SaveTool\"},{\"attributes\":{\"axis\":{\"id\":\"5547\"},\"coordinates\":null,\"dimension\":1,\"grid_line_alpha\":0.25,\"grid_line_color\":\"#E0E0E0\",\"group\":null,\"ticker\":null},\"id\":\"5550\",\"type\":\"Grid\"},{\"attributes\":{\"coordinates\":null,\"group\":null,\"text_color\":\"#E0E0E0\",\"text_font\":\"Helvetica\",\"text_font_size\":\"1.15em\"},\"id\":\"5571\",\"type\":\"Title\"},{\"attributes\":{\"coordinates\":null,\"data_source\":{\"id\":\"5649\"},\"glyph\":{\"id\":\"5650\"},\"group\":null,\"hover_glyph\":null,\"muted_glyph\":{\"id\":\"5652\"},\"nonselection_glyph\":{\"id\":\"5651\"},\"view\":{\"id\":\"5654\"}},\"id\":\"5653\",\"type\":\"GlyphRenderer\"},{\"attributes\":{\"fill_color\":{\"value\":\"#1f77b4\"},\"line_color\":{\"value\":\"#1f77b4\"},\"x\":{\"field\":\"x\"},\"y\":{\"field\":\"y\"}},\"id\":\"5566\",\"type\":\"Circle\"},{\"attributes\":{},\"id\":\"5552\",\"type\":\"WheelZoomTool\"},{\"attributes\":{},\"id\":\"5671\",\"type\":\"UnionRenderers\"},{\"attributes\":{},\"id\":\"5579\",\"type\":\"UnionRenderers\"},{\"attributes\":{\"source\":{\"id\":\"5625\"}},\"id\":\"5630\",\"type\":\"CDSView\"},{\"attributes\":{\"data\":{\"x\":{\"__ndarray__\":\"AAAAAAAAAACRGkt8Vz/AP5EaS3xXP9A/2qdwOgNf2D+RGkt8Vz/gPzXhXVstT+Q/2qdwOgNf6D9+boMZ2W7sP5EaS3xXP/A/433Ua0JH8j814V1bLU/0P4dE50oYV/Y/2qdwOgNf+D8sC/op7mb6P35ugxnZbvw/0NEMCcR2/j+RGkt8Vz8AQDrMD/RMQwFA433Ua0JHAkCML5njN0sDQDXhXVstTwRA3pIi0yJTBUCHROdKGFcGQDD2q8INWwdA2qdwOgNfCECDWTWy+GIJQCwL+inuZgpA1by+oeNqC0B+boMZ2W4MQCcgSJHOcg1A0NEMCcR2DkB5g9GAuXoPQJEaS3xXPxBAZnMtOFLBEEA6zA/0TEMRQA8l8q9HxRFA433Ua0JHEkC41rYnPckSQIwvmeM3SxNAYYh7nzLNE0A14V1bLU8UQAo6QBco0RRA3pIi0yJTFUCz6wSPHdUVQIdE50oYVxZAXJ3JBhPZFkAw9qvCDVsXQAVPjn4I3RdA2qdwOgNfGECuAFP2/eAYQINZNbL4YhlAV7IXbvPkGUAsC/op7mYaQABk3OXo6BpA1by+oeNqG0CpFaFd3uwbQH5ugxnZbhxAUsdl1dPwHEAnIEiRznIdQPt4Kk3J9B1A0NEMCcR2HkCkKu/EvvgeQHmD0YC5eh9ATdyzPLT8H0CRGkt8Vz8gQPtGPNpUgCBAZnMtOFLBIEDQnx6WTwIhQDrMD/RMQyFApPgAUkqEIUAPJfKvR8UhQHlR4w1FBiJA433Ua0JHIkBNqsXJP4giQLjWtic9ySJAIgOohToKI0CML5njN0sjQPZbikE1jCNAYYh7nzLNI0DLtGz9Lw4kQDXhXVstTyRAoA1PuSqQJEAKOkAXKNEkQHRmMXUlEiVA3pIi0yJTJUBJvxMxIJQlQLPrBI8d1SVAHRj27BoWJkCHROdKGFcmQPJw2KgVmCZAXJ3JBhPZJkDGybpkEBonQDD2q8INWydAmyKdIAucJ0AFT45+CN0nQG97f9wFHihA2qdwOgNfKEBE1GGYAKAoQK4AU/b94ChAGC1EVPshKUA=\",\"dtype\":\"float64\",\"order\":\"little\",\"shape\":[100]},\"y\":{\"__ndarray__\":\"AAAAAAAAAADoxQO0RU7YP+dMxoI2HOg//C5K/vzW8T/Tua6vYlb3P+nH5xKndfw/AFIvb9iPAEBm8BjVpKACQNka5Ym2ZARADqEya8fUBUD+Gu1b6+oGQBHVYKmoogdAYgGEegr5B0DMzIX9rOwHQM+xeSHDfQdA1L6JxBWuBkB9BRBa/IAFQO0A3yZP+wNAeZ5rTFMjAkDe5Qz1oAAAQDnpZxcIOPs/tv7u/6/+9T/6iGdXvmrwP2wf+wVaJuU/5X710zFA0j+uSTsu9124v2QnUqkVVt6/o9Qx/NsL679m4Ulpoj7zvxQdiFoRqPi/bDUKCPCr/b/J7VIByxoBwPGhyyYpGQPAgTlCLtzIBMCuGkzd8SIGwAOBBKLYIQfAMzIqg3bBB8BzaxsFOv8HwKfUGL4k2gfAJ8c7bs9SB8BSNUOKZ2sGwCX1VkOmJwXAMfGzMMGMA8AjU27aVKEBwC4hWvuS2v6/DwQZ9WTz+b9lsKPjUaH0v8Yvs7GI9O2/YIF44Akr4r8GSRAz01rIvzJJEDPTWsg/aoF44Akr4j/QL7OxiPTtP2Cwo+NRofQ/FAQZ9WTz+T8qIVr7ktr+PyVTbtpUoQFAMPGzMMGMA0Am9VZDpicFQFE1Q4pnawZAKMc7bs9SB0Cn1Bi+JNoHQHNrGwU6/wdANDIqg3bBB0ACgQSi2CEHQLAaTN3xIgZAfTlCLtzIBEDwocsmKRkDQMntUgHLGgFAcTUKCPCr/T8MHYhaEaj4P2HhSWmiPvM/pNQx/NsL6z99J1KpFVbeP/ZIOy73Xbg/+n710zFA0r9fH/sFWiblv+6IZ1e+avC/uv7u/6/+9b846WcXCDj7v9vlDPWgAADAfJ5rTFMjAsDuAN8mT/sDwH0FEFr8gAXA076JxBWuBsDQsXkhw30HwMzMhf2s7AfAYgGEegr5B8AS1WCpqKIHwPwa7Vvr6gbADqEya8fUBcDaGuWJtmQEwGnwGNWkoALA/VEvb9iPAMDpx+cSp3X8v9a5rq9iVve/8C5K/vzW8b/bTMaCNhzov+rFA7RFTti/CoqeTDl52rw=\",\"dtype\":\"float64\",\"order\":\"little\",\"shape\":[100]}},\"selected\":{\"id\":\"5672\"},\"selection_policy\":{\"id\":\"5671\"}},\"id\":\"5649\",\"type\":\"ColumnDataSource\"},{\"attributes\":{\"data\":{\"x\":{\"__ndarray__\":\"AAAAAAAAAACRGkt8Vz/AP5EaS3xXP9A/2qdwOgNf2D+RGkt8Vz/gPzXhXVstT+Q/2qdwOgNf6D9+boMZ2W7sP5EaS3xXP/A/433Ua0JH8j814V1bLU/0P4dE50oYV/Y/2qdwOgNf+D8sC/op7mb6P35ugxnZbvw/0NEMCcR2/j+RGkt8Vz8AQDrMD/RMQwFA433Ua0JHAkCML5njN0sDQDXhXVstTwRA3pIi0yJTBUCHROdKGFcGQDD2q8INWwdA2qdwOgNfCECDWTWy+GIJQCwL+inuZgpA1by+oeNqC0B+boMZ2W4MQCcgSJHOcg1A0NEMCcR2DkB5g9GAuXoPQJEaS3xXPxBAZnMtOFLBEEA6zA/0TEMRQA8l8q9HxRFA433Ua0JHEkC41rYnPckSQIwvmeM3SxNAYYh7nzLNE0A14V1bLU8UQAo6QBco0RRA3pIi0yJTFUCz6wSPHdUVQIdE50oYVxZAXJ3JBhPZFkAw9qvCDVsXQAVPjn4I3RdA2qdwOgNfGECuAFP2/eAYQINZNbL4YhlAV7IXbvPkGUAsC/op7mYaQABk3OXo6BpA1by+oeNqG0CpFaFd3uwbQH5ugxnZbhxAUsdl1dPwHEAnIEiRznIdQPt4Kk3J9B1A0NEMCcR2HkCkKu/EvvgeQHmD0YC5eh9ATdyzPLT8H0CRGkt8Vz8gQPtGPNpUgCBAZnMtOFLBIEDQnx6WTwIhQDrMD/RMQyFApPgAUkqEIUAPJfKvR8UhQHlR4w1FBiJA433Ua0JHIkBNqsXJP4giQLjWtic9ySJAIgOohToKI0CML5njN0sjQPZbikE1jCNAYYh7nzLNI0DLtGz9Lw4kQDXhXVstTyRAoA1PuSqQJEAKOkAXKNEkQHRmMXUlEiVA3pIi0yJTJUBJvxMxIJQlQLPrBI8d1SVAHRj27BoWJkCHROdKGFcmQPJw2KgVmCZAXJ3JBhPZJkDGybpkEBonQDD2q8INWydAmyKdIAucJ0AFT45+CN0nQG97f9wFHihA2qdwOgNfKEBE1GGYAKAoQK4AU/b94ChAGC1EVPshKUA=\",\"dtype\":\"float64\",\"order\":\"little\",\"shape\":[100]},\"y\":{\"__ndarray__\":\"AAAAAAAAAADwgwJ4LjTQP5qI2QHPEuA/+5MNU1HJ5z8ZTT7q2B3vP0aFmgwa+fI/ABg/lCAV9j+IQCEcMdb4P3fOhmLzMPs/EyzujrQb/T/9Izwlj47+PxccgYyLg/8/g6xao7j2/z9mZrL8O+b/P7+X94FZUv8/xVNiW3I9/j9RB8Ai+6v8P5FWKYlppPo/oSg6uxkv+D/Sh2bxK1b1PyZGRbpaJfI/8qg+VZVT7T/4C4p0qOPlP+UppLIiM9w/3FNHxZdVyD/J23zJpD6wv+3ENsZjOdS/wo12/ecH4r/dgWKM2Kjpv2MTsJELcPC/83ixWvXH87+358MBZM72v5eCD4nhdvm/rExY6Hq2+7+TIxAn7YP9vwSssILL1/6/70I4BJ6s/7/vOc8G+P7/vzTGy1KGzf+/3176khQZ/7/C8a4NiuT9vzGcHq/dNPy/l0FFlgER+r+EGZN4xoH3vx8WPFK3kfS/Cli7+O1M8b+HQNqEwoHrv9kfIiFb+OO/gKyggGI52L8EhrXMjDzAvyGGtcyMPMA/jqyggGI52D/gHyIhW/jjP4BA2oTCges/DVi7+O1M8T8cFjxSt5H0P4cZk3jGgfc/lUFFlgER+j8ynB6v3TT8P8Hxrg2K5P0/4F76khQZ/z80xstShs3/P+85zwb4/v8/8EI4BJ6s/z8DrLCCy9f+P5UjECftg/0/p0xY6Hq2+z+Vgg+J4Xb5P7fnwwFkzvY/9nixWvXH8z9dE7CRC3DwP9eBYozYqOk/w412/ecH4j/+xDbGYznUP0/bfMmkPrA/+FNHxZdVyL/UKaSyIjPcv+gLinSo4+W/+Kg+VZVT7b8lRkW6WiXyv8+HZvErVvW/pig6uxkv+L+TVimJaaT6v1EHwCL7q/y/xFNiW3I9/r/Al/eBWVL/v2Zmsvw75v+/g6xao7j2/78YHIGMi4P/v/sjPCWPjv6/EyzujrQb/b94zoZi8zD7v4xAIRwx1vi//Bc/lCAV9r9GhZoMGvnyvx5NPurYHe+/65MNU1HJ57+SiNkBzxLgv/GDAnguNNC/B1wUMyam0bw=\",\"dtype\":\"float64\",\"order\":\"little\",\"shape\":[100]}},\"selected\":{\"id\":\"5622\"},\"selection_policy\":{\"id\":\"5621\"}},\"id\":\"5603\",\"type\":\"ColumnDataSource\"},{\"attributes\":{\"axis_label_standoff\":10,\"axis_label_text_color\":\"#E0E0E0\",\"axis_label_text_font\":\"Helvetica\",\"axis_label_text_font_size\":\"1.25em\",\"axis_label_text_font_style\":\"normal\",\"axis_line_alpha\":0,\"axis_line_color\":\"#E0E0E0\",\"coordinates\":null,\"formatter\":{\"id\":\"5577\"},\"group\":null,\"major_label_policy\":{\"id\":\"5578\"},\"major_label_text_color\":\"#E0E0E0\",\"major_label_text_font\":\"Helvetica\",\"major_label_text_font_size\":\"1.025em\",\"major_tick_line_alpha\":0,\"major_tick_line_color\":\"#E0E0E0\",\"minor_tick_line_alpha\":0,\"minor_tick_line_color\":\"#E0E0E0\",\"ticker\":{\"id\":\"5544\"}},\"id\":\"5543\",\"type\":\"LinearAxis\"},{\"attributes\":{\"background_fill_alpha\":0.25,\"background_fill_color\":\"#20262B\",\"border_line_alpha\":0,\"coordinates\":null,\"glyph_width\":15,\"group\":null,\"items\":[{\"id\":\"5583\"},{\"id\":\"5624\"},{\"id\":\"5648\"}],\"label_standoff\":8,\"label_text_color\":\"#E0E0E0\",\"label_text_font\":\"Helvetica\",\"label_text_font_size\":\"1.025em\",\"location\":\"bottom_left\",\"spacing\":8},\"id\":\"5582\",\"type\":\"Legend\"},{\"attributes\":{\"source\":{\"id\":\"5649\"}},\"id\":\"5654\",\"type\":\"CDSView\"},{\"attributes\":{\"fill_alpha\":{\"value\":0.1},\"fill_color\":{\"value\":null},\"hatch_alpha\":{\"value\":0.1},\"hatch_color\":{\"value\":\"green\"},\"line_alpha\":{\"value\":0.1},\"line_color\":{\"value\":\"green\"},\"marker\":{\"value\":\"square\"},\"x\":{\"field\":\"x\"},\"y\":{\"field\":\"y\"}},\"id\":\"5627\",\"type\":\"Scatter\"},{\"attributes\":{},\"id\":\"5541\",\"type\":\"LinearScale\"}],\"root_ids\":[\"5534\"]},\"title\":\"Bokeh Application\",\"version\":\"2.4.2\"}};\n",
       "  const render_items = [{\"docid\":\"e9fa1838-2b60-40da-979f-03086e2e070b\",\"root_ids\":[\"5534\"],\"roots\":{\"5534\":\"4c5f96af-c7cd-4ca3-be5e-173164865a69\"}}];\n",
       "  root.Bokeh.embed.embed_items_notebook(docs_json, render_items);\n",
       "\n",
       "  }\n",
       "  if (root.Bokeh !== undefined) {\n",
       "    embed_document(root);\n",
       "  } else {\n",
       "    let attempts = 0;\n",
       "    const timer = setInterval(function(root) {\n",
       "      if (root.Bokeh !== undefined) {\n",
       "        clearInterval(timer);\n",
       "        embed_document(root);\n",
       "      } else {\n",
       "        attempts++;\n",
       "        if (attempts > 100) {\n",
       "          clearInterval(timer);\n",
       "          console.log(\"Bokeh: ERROR: Unable to run BokehJS code because BokehJS library is missing\");\n",
       "        }\n",
       "      }\n",
       "    }, 10, root)\n",
       "  }\n",
       "})(window);"
      ],
      "application/vnd.bokehjs_exec.v0+json": ""
     },
     "metadata": {
      "application/vnd.bokehjs_exec.v0+json": {
       "id": "5534"
      }
     },
     "output_type": "display_data"
    }
   ],
   "source": [
    "import numpy as np\n",
    "\n",
    "from bokeh.plotting import figure, output_file, show\n",
    "from bokeh.io import output_notebook\n",
    "\n",
    "x = np.linspace(0, 4*np.pi, 100)\n",
    "y = np.sin(x)\n",
    "\n",
    "# affichage dans un htlm nommé \" legend_labels.html \"\n",
    "# output_file(\"legend_labels.html\")\n",
    "\n",
    "# affichage dans le notebook en + du fichier html\n",
    "output_notebook()\n",
    "\n",
    "p = figure()\n",
    "\n",
    "p.circle(x, y, legend_label=\"sin(x)\")                                           # customise sin(x) avec des cercles\n",
    "p.line(x, y, legend_label=\"sin(x)\")\n",
    "\n",
    "p.line(x, 2*y, legend_label=\"2*sin(x)\",\n",
    "       line_dash=[10, 10], color=\"orange\", width=2)                      # customise 2*sin(x) avec des - - = line_dash\n",
    "# tester différentes valeurs du line_dash => espace les tirés et les élargis\n",
    "p.square(x, 3*y, legend_label=\"3*sin(x)\", fill_color=None, color=\"green\")   # customise 3*sin(x) avec des carrés\n",
    "p.line(x, 3*y, legend_label=\"3*sin(x)\", color=\"green\")\n",
    "\n",
    "\n",
    "\n",
    "p.legend.location = \"bottom_left\"\n",
    "\n",
    "\n",
    "show(p)"
   ]
  },
  {
   "cell_type": "markdown",
   "id": "17ff18ec-3706-4866-a7a2-fa16d22861ab",
   "metadata": {},
   "source": [
    "### Axes Logarithmiques, datetime, mercato, linear\n",
    "y_axis_type=\"log\""
   ]
  },
  {
   "cell_type": "code",
   "execution_count": 25,
   "id": "da553c27-78cf-4a15-b175-60deacf0197b",
   "metadata": {},
   "outputs": [
    {
     "data": {
      "text/html": [
       "\n",
       "\n",
       "\n",
       "\n",
       "\n",
       "\n",
       "  <div class=\"bk-root\" id=\"d427587b-415e-4a4b-9a57-8eba7e1bd525\" data-root-id=\"8156\"></div>\n"
      ]
     },
     "metadata": {},
     "output_type": "display_data"
    },
    {
     "data": {
      "application/javascript": [
       "(function(root) {\n",
       "  function embed_document(root) {\n",
       "    \n",
       "  const docs_json = {\"94245c99-86d7-4f67-b3e4-07fa445dcd13\":{\"defs\":[],\"roots\":{\"references\":[{\"attributes\":{\"background_fill_color\":\"#20262B\",\"below\":[{\"id\":\"8167\"}],\"border_fill_color\":\"#15191C\",\"center\":[{\"id\":\"8170\"},{\"id\":\"8174\"},{\"id\":\"8205\"}],\"height\":300,\"left\":[{\"id\":\"8171\"}],\"max_width\":500,\"outline_line_alpha\":0.25,\"outline_line_color\":\"#E0E0E0\",\"renderers\":[{\"id\":\"8193\"},{\"id\":\"8211\"},{\"id\":\"8229\"},{\"id\":\"8250\"},{\"id\":\"8273\"},{\"id\":\"8297\"}],\"sizing_mode\":\"stretch_width\",\"title\":{\"id\":\"8157\"},\"toolbar\":{\"id\":\"8182\"},\"x_range\":{\"id\":\"8159\"},\"x_scale\":{\"id\":\"8163\"},\"y_range\":{\"id\":\"8161\"},\"y_scale\":{\"id\":\"8165\"}},\"id\":\"8156\",\"subtype\":\"Figure\",\"type\":\"Plot\"},{\"attributes\":{\"label\":{\"value\":\"y=x\"},\"renderers\":[{\"id\":\"8193\"},{\"id\":\"8211\"}]},\"id\":\"8206\",\"type\":\"LegendItem\"},{\"attributes\":{\"background_fill_alpha\":0.25,\"background_fill_color\":\"#20262B\",\"border_line_alpha\":0,\"coordinates\":null,\"glyph_width\":15,\"group\":null,\"items\":[{\"id\":\"8206\"},{\"id\":\"8245\"},{\"id\":\"8268\"},{\"id\":\"8319\"}],\"label_standoff\":8,\"label_text_color\":\"#E0E0E0\",\"label_text_font\":\"Helvetica\",\"label_text_font_size\":\"1.025em\",\"spacing\":8},\"id\":\"8205\",\"type\":\"Legend\"},{\"attributes\":{\"source\":{\"id\":\"8189\"}},\"id\":\"8194\",\"type\":\"CDSView\"},{\"attributes\":{\"source\":{\"id\":\"8293\"}},\"id\":\"8298\",\"type\":\"CDSView\"},{\"attributes\":{\"coordinates\":null,\"data_source\":{\"id\":\"8293\"},\"glyph\":{\"id\":\"8294\"},\"group\":null,\"hover_glyph\":null,\"muted_glyph\":{\"id\":\"8296\"},\"nonselection_glyph\":{\"id\":\"8295\"},\"view\":{\"id\":\"8298\"}},\"id\":\"8297\",\"type\":\"GlyphRenderer\"},{\"attributes\":{\"label\":{\"value\":\"y=10^x^2\"},\"renderers\":[{\"id\":\"8297\"}]},\"id\":\"8319\",\"type\":\"LegendItem\"},{\"attributes\":{\"fill_alpha\":{\"value\":0.2},\"fill_color\":{\"value\":\"white\"},\"hatch_alpha\":{\"value\":0.2},\"line_alpha\":{\"value\":0.2},\"line_color\":{\"value\":\"#1f77b4\"},\"size\":{\"value\":8},\"x\":{\"field\":\"x\"},\"y\":{\"field\":\"y\"}},\"id\":\"8210\",\"type\":\"Circle\"},{\"attributes\":{\"line_alpha\":0.2,\"line_color\":\"orange\",\"line_dash\":[4,4],\"x\":{\"field\":\"x\"},\"y\":{\"field\":\"y\"}},\"id\":\"8296\",\"type\":\"Line\"},{\"attributes\":{\"line_alpha\":0.1,\"line_color\":\"orange\",\"line_dash\":[4,4],\"x\":{\"field\":\"x\"},\"y\":{\"field\":\"y\"}},\"id\":\"8295\",\"type\":\"Line\"},{\"attributes\":{\"coordinates\":null,\"data_source\":{\"id\":\"8207\"},\"glyph\":{\"id\":\"8208\"},\"group\":null,\"hover_glyph\":null,\"muted_glyph\":{\"id\":\"8210\"},\"nonselection_glyph\":{\"id\":\"8209\"},\"view\":{\"id\":\"8212\"}},\"id\":\"8211\",\"type\":\"GlyphRenderer\"},{\"attributes\":{},\"id\":\"8316\",\"type\":\"UnionRenderers\"},{\"attributes\":{\"data\":{\"x\":[0.1,0.5,1.0,1.5,2.0,2.5,3.0],\"y\":[0.010000000000000002,0.25,1.0,2.25,4.0,6.25,9.0]},\"selected\":{\"id\":\"8243\"},\"selection_policy\":{\"id\":\"8242\"}},\"id\":\"8225\",\"type\":\"ColumnDataSource\"},{\"attributes\":{\"axis\":{\"id\":\"8167\"},\"coordinates\":null,\"grid_line_alpha\":0.25,\"grid_line_color\":\"#E0E0E0\",\"group\":null,\"ticker\":null},\"id\":\"8170\",\"type\":\"Grid\"},{\"attributes\":{},\"id\":\"8317\",\"type\":\"Selection\"},{\"attributes\":{\"source\":{\"id\":\"8207\"}},\"id\":\"8212\",\"type\":\"CDSView\"},{\"attributes\":{\"axis_label\":\"particles\",\"axis_label_standoff\":10,\"axis_label_text_color\":\"#E0E0E0\",\"axis_label_text_font\":\"Helvetica\",\"axis_label_text_font_size\":\"1.25em\",\"axis_label_text_font_style\":\"normal\",\"axis_line_alpha\":0,\"axis_line_color\":\"#E0E0E0\",\"coordinates\":null,\"formatter\":{\"id\":\"8197\"},\"group\":null,\"major_label_policy\":{\"id\":\"8198\"},\"major_label_text_color\":\"#E0E0E0\",\"major_label_text_font\":\"Helvetica\",\"major_label_text_font_size\":\"1.025em\",\"major_tick_line_alpha\":0,\"major_tick_line_color\":\"#E0E0E0\",\"minor_tick_line_alpha\":0,\"minor_tick_line_color\":\"#E0E0E0\",\"ticker\":{\"id\":\"8172\"}},\"id\":\"8171\",\"type\":\"LogAxis\"},{\"attributes\":{\"fill_alpha\":{\"value\":0.1},\"fill_color\":{\"value\":\"white\"},\"hatch_alpha\":{\"value\":0.1},\"line_alpha\":{\"value\":0.1},\"line_color\":{\"value\":\"#1f77b4\"},\"size\":{\"value\":8},\"x\":{\"field\":\"x\"},\"y\":{\"field\":\"y\"}},\"id\":\"8209\",\"type\":\"Circle\"},{\"attributes\":{\"num_minor_ticks\":10},\"id\":\"8172\",\"type\":\"LogTicker\"},{\"attributes\":{\"coordinates\":null,\"data_source\":{\"id\":\"8246\"},\"glyph\":{\"id\":\"8247\"},\"group\":null,\"hover_glyph\":null,\"muted_glyph\":{\"id\":\"8249\"},\"nonselection_glyph\":{\"id\":\"8248\"},\"view\":{\"id\":\"8251\"}},\"id\":\"8250\",\"type\":\"GlyphRenderer\"},{\"attributes\":{},\"id\":\"8178\",\"type\":\"SaveTool\"},{\"attributes\":{},\"id\":\"8176\",\"type\":\"WheelZoomTool\"},{\"attributes\":{\"axis\":{\"id\":\"8171\"},\"coordinates\":null,\"dimension\":1,\"grid_line_alpha\":0.25,\"grid_line_color\":\"#E0E0E0\",\"group\":null,\"ticker\":null},\"id\":\"8174\",\"type\":\"Grid\"},{\"attributes\":{},\"id\":\"8222\",\"type\":\"UnionRenderers\"},{\"attributes\":{\"data\":{\"x\":[0.1,0.5,1.0,1.5,2.0,2.5,3.0],\"y\":[0.1,0.5,1.0,1.5,2.0,2.5,3.0]},\"selected\":{\"id\":\"8203\"},\"selection_policy\":{\"id\":\"8202\"}},\"id\":\"8189\",\"type\":\"ColumnDataSource\"},{\"attributes\":{},\"id\":\"8175\",\"type\":\"PanTool\"},{\"attributes\":{},\"id\":\"8223\",\"type\":\"Selection\"},{\"attributes\":{},\"id\":\"8179\",\"type\":\"ResetTool\"},{\"attributes\":{},\"id\":\"8180\",\"type\":\"HelpTool\"},{\"attributes\":{\"ticker\":null},\"id\":\"8197\",\"type\":\"LogTickFormatter\"},{\"attributes\":{},\"id\":\"8198\",\"type\":\"AllLabels\"},{\"attributes\":{\"overlay\":{\"id\":\"8181\"}},\"id\":\"8177\",\"type\":\"BoxZoomTool\"},{\"attributes\":{},\"id\":\"8200\",\"type\":\"BasicTickFormatter\"},{\"attributes\":{},\"id\":\"8201\",\"type\":\"AllLabels\"},{\"attributes\":{\"bottom_units\":\"screen\",\"coordinates\":null,\"fill_alpha\":0.5,\"fill_color\":\"lightgrey\",\"group\":null,\"left_units\":\"screen\",\"level\":\"overlay\",\"line_alpha\":1.0,\"line_color\":\"black\",\"line_dash\":[4,4],\"line_width\":2,\"right_units\":\"screen\",\"syncable\":false,\"top_units\":\"screen\"},\"id\":\"8181\",\"type\":\"BoxAnnotation\"},{\"attributes\":{\"tools\":[{\"id\":\"8175\"},{\"id\":\"8176\"},{\"id\":\"8177\"},{\"id\":\"8178\"},{\"id\":\"8179\"},{\"id\":\"8180\"}]},\"id\":\"8182\",\"type\":\"Toolbar\"},{\"attributes\":{},\"id\":\"8202\",\"type\":\"UnionRenderers\"},{\"attributes\":{},\"id\":\"8203\",\"type\":\"Selection\"},{\"attributes\":{\"data\":{\"x\":[0.1,0.5,1.0,1.5,2.0,2.5,3.0],\"y\":[1.2589254117941673,3.1622776601683795,10.0,31.622776601683793,100.0,316.22776601683796,1000.0]},\"selected\":{\"id\":\"8266\"},\"selection_policy\":{\"id\":\"8265\"}},\"id\":\"8246\",\"type\":\"ColumnDataSource\"},{\"attributes\":{\"source\":{\"id\":\"8225\"}},\"id\":\"8230\",\"type\":\"CDSView\"},{\"attributes\":{\"coordinates\":null,\"data_source\":{\"id\":\"8225\"},\"glyph\":{\"id\":\"8226\"},\"group\":null,\"hover_glyph\":null,\"muted_glyph\":{\"id\":\"8228\"},\"nonselection_glyph\":{\"id\":\"8227\"},\"view\":{\"id\":\"8230\"}},\"id\":\"8229\",\"type\":\"GlyphRenderer\"},{\"attributes\":{\"label\":{\"value\":\"y=x^2\"},\"renderers\":[{\"id\":\"8229\"}]},\"id\":\"8245\",\"type\":\"LegendItem\"},{\"attributes\":{\"line_alpha\":0.2,\"line_color\":\"#1f77b4\",\"line_width\":3,\"x\":{\"field\":\"x\"},\"y\":{\"field\":\"y\"}},\"id\":\"8228\",\"type\":\"Line\"},{\"attributes\":{\"line_alpha\":0.1,\"line_color\":\"#1f77b4\",\"line_width\":3,\"x\":{\"field\":\"x\"},\"y\":{\"field\":\"y\"}},\"id\":\"8227\",\"type\":\"Line\"},{\"attributes\":{\"fill_color\":{\"value\":\"red\"},\"line_color\":{\"value\":\"red\"},\"size\":{\"value\":6},\"x\":{\"field\":\"x\"},\"y\":{\"field\":\"y\"}},\"id\":\"8270\",\"type\":\"Circle\"},{\"attributes\":{},\"id\":\"8243\",\"type\":\"Selection\"},{\"attributes\":{},\"id\":\"8242\",\"type\":\"UnionRenderers\"},{\"attributes\":{\"line_color\":\"#1f77b4\",\"line_width\":3,\"x\":{\"field\":\"x\"},\"y\":{\"field\":\"y\"}},\"id\":\"8226\",\"type\":\"Line\"},{\"attributes\":{\"data\":{\"x\":[0.1,0.5,1.0,1.5,2.0,2.5,3.0],\"y\":[1.2589254117941673,3.1622776601683795,10.0,31.622776601683793,100.0,316.22776601683796,1000.0]},\"selected\":{\"id\":\"8291\"},\"selection_policy\":{\"id\":\"8290\"}},\"id\":\"8269\",\"type\":\"ColumnDataSource\"},{\"attributes\":{\"line_alpha\":0.2,\"line_color\":\"red\",\"x\":{\"field\":\"x\"},\"y\":{\"field\":\"y\"}},\"id\":\"8249\",\"type\":\"Line\"},{\"attributes\":{\"source\":{\"id\":\"8246\"}},\"id\":\"8251\",\"type\":\"CDSView\"},{\"attributes\":{\"line_alpha\":0.1,\"line_color\":\"red\",\"x\":{\"field\":\"x\"},\"y\":{\"field\":\"y\"}},\"id\":\"8248\",\"type\":\"Line\"},{\"attributes\":{\"line_color\":\"red\",\"x\":{\"field\":\"x\"},\"y\":{\"field\":\"y\"}},\"id\":\"8247\",\"type\":\"Line\"},{\"attributes\":{},\"id\":\"8159\",\"type\":\"DataRange1d\"},{\"attributes\":{\"coordinates\":null,\"data_source\":{\"id\":\"8269\"},\"glyph\":{\"id\":\"8270\"},\"group\":null,\"hover_glyph\":null,\"muted_glyph\":{\"id\":\"8272\"},\"nonselection_glyph\":{\"id\":\"8271\"},\"view\":{\"id\":\"8274\"}},\"id\":\"8273\",\"type\":\"GlyphRenderer\"},{\"attributes\":{\"line_alpha\":0.2,\"line_color\":\"#1f77b4\",\"x\":{\"field\":\"x\"},\"y\":{\"field\":\"y\"}},\"id\":\"8192\",\"type\":\"Line\"},{\"attributes\":{\"label\":{\"value\":\"y=10^x\"},\"renderers\":[{\"id\":\"8250\"},{\"id\":\"8273\"}]},\"id\":\"8268\",\"type\":\"LegendItem\"},{\"attributes\":{},\"id\":\"8266\",\"type\":\"Selection\"},{\"attributes\":{},\"id\":\"8265\",\"type\":\"UnionRenderers\"},{\"attributes\":{\"data\":{\"x\":[0.1,0.5,1.0,1.5,2.0,2.5,3.0],\"y\":[0.1,0.5,1.0,1.5,2.0,2.5,3.0]},\"selected\":{\"id\":\"8223\"},\"selection_policy\":{\"id\":\"8222\"}},\"id\":\"8207\",\"type\":\"ColumnDataSource\"},{\"attributes\":{\"line_color\":\"orange\",\"line_dash\":[4,4],\"x\":{\"field\":\"x\"},\"y\":{\"field\":\"y\"}},\"id\":\"8294\",\"type\":\"Line\"},{\"attributes\":{\"data\":{\"x\":[0.1,0.5,1.0,1.5,2.0,2.5,3.0],\"y\":[1.023292992280754,1.7782794100389228,10.0,177.82794100389228,10000.0,1778279.410038923,1000000000.0]},\"selected\":{\"id\":\"8317\"},\"selection_policy\":{\"id\":\"8316\"}},\"id\":\"8293\",\"type\":\"ColumnDataSource\"},{\"attributes\":{\"source\":{\"id\":\"8269\"}},\"id\":\"8274\",\"type\":\"CDSView\"},{\"attributes\":{\"fill_alpha\":{\"value\":0.2},\"fill_color\":{\"value\":\"red\"},\"hatch_alpha\":{\"value\":0.2},\"line_alpha\":{\"value\":0.2},\"line_color\":{\"value\":\"red\"},\"size\":{\"value\":6},\"x\":{\"field\":\"x\"},\"y\":{\"field\":\"y\"}},\"id\":\"8272\",\"type\":\"Circle\"},{\"attributes\":{},\"id\":\"8291\",\"type\":\"Selection\"},{\"attributes\":{\"fill_alpha\":{\"value\":0.1},\"fill_color\":{\"value\":\"red\"},\"hatch_alpha\":{\"value\":0.1},\"line_alpha\":{\"value\":0.1},\"line_color\":{\"value\":\"red\"},\"size\":{\"value\":6},\"x\":{\"field\":\"x\"},\"y\":{\"field\":\"y\"}},\"id\":\"8271\",\"type\":\"Circle\"},{\"attributes\":{},\"id\":\"8168\",\"type\":\"BasicTicker\"},{\"attributes\":{\"line_color\":\"#1f77b4\",\"x\":{\"field\":\"x\"},\"y\":{\"field\":\"y\"}},\"id\":\"8190\",\"type\":\"Line\"},{\"attributes\":{},\"id\":\"8290\",\"type\":\"UnionRenderers\"},{\"attributes\":{\"line_alpha\":0.1,\"line_color\":\"#1f77b4\",\"x\":{\"field\":\"x\"},\"y\":{\"field\":\"y\"}},\"id\":\"8191\",\"type\":\"Line\"},{\"attributes\":{\"coordinates\":null,\"group\":null,\"text\":\"Logarithmic axis example\",\"text_color\":\"#E0E0E0\",\"text_font\":\"Helvetica\",\"text_font_size\":\"1.15em\"},\"id\":\"8157\",\"type\":\"Title\"},{\"attributes\":{\"axis_label\":\"sections\",\"axis_label_standoff\":10,\"axis_label_text_color\":\"#E0E0E0\",\"axis_label_text_font\":\"Helvetica\",\"axis_label_text_font_size\":\"1.25em\",\"axis_label_text_font_style\":\"normal\",\"axis_line_alpha\":0,\"axis_line_color\":\"#E0E0E0\",\"coordinates\":null,\"formatter\":{\"id\":\"8200\"},\"group\":null,\"major_label_policy\":{\"id\":\"8201\"},\"major_label_text_color\":\"#E0E0E0\",\"major_label_text_font\":\"Helvetica\",\"major_label_text_font_size\":\"1.025em\",\"major_tick_line_alpha\":0,\"major_tick_line_color\":\"#E0E0E0\",\"minor_tick_line_alpha\":0,\"minor_tick_line_color\":\"#E0E0E0\",\"ticker\":{\"id\":\"8168\"}},\"id\":\"8167\",\"type\":\"LinearAxis\"},{\"attributes\":{},\"id\":\"8165\",\"type\":\"LogScale\"},{\"attributes\":{\"end\":100000000000,\"start\":0.001},\"id\":\"8161\",\"type\":\"Range1d\"},{\"attributes\":{},\"id\":\"8163\",\"type\":\"LinearScale\"},{\"attributes\":{\"coordinates\":null,\"data_source\":{\"id\":\"8189\"},\"glyph\":{\"id\":\"8190\"},\"group\":null,\"hover_glyph\":null,\"muted_glyph\":{\"id\":\"8192\"},\"nonselection_glyph\":{\"id\":\"8191\"},\"view\":{\"id\":\"8194\"}},\"id\":\"8193\",\"type\":\"GlyphRenderer\"},{\"attributes\":{\"fill_color\":{\"value\":\"white\"},\"line_color\":{\"value\":\"#1f77b4\"},\"size\":{\"value\":8},\"x\":{\"field\":\"x\"},\"y\":{\"field\":\"y\"}},\"id\":\"8208\",\"type\":\"Circle\"}],\"root_ids\":[\"8156\"]},\"title\":\"Bokeh Application\",\"version\":\"2.4.2\"}};\n",
       "  const render_items = [{\"docid\":\"94245c99-86d7-4f67-b3e4-07fa445dcd13\",\"root_ids\":[\"8156\"],\"roots\":{\"8156\":\"d427587b-415e-4a4b-9a57-8eba7e1bd525\"}}];\n",
       "  root.Bokeh.embed.embed_items_notebook(docs_json, render_items);\n",
       "\n",
       "  }\n",
       "  if (root.Bokeh !== undefined) {\n",
       "    embed_document(root);\n",
       "  } else {\n",
       "    let attempts = 0;\n",
       "    const timer = setInterval(function(root) {\n",
       "      if (root.Bokeh !== undefined) {\n",
       "        clearInterval(timer);\n",
       "        embed_document(root);\n",
       "      } else {\n",
       "        attempts++;\n",
       "        if (attempts > 100) {\n",
       "          clearInterval(timer);\n",
       "          console.log(\"Bokeh: ERROR: Unable to run BokehJS code because BokehJS library is missing\");\n",
       "        }\n",
       "      }\n",
       "    }, 10, root)\n",
       "  }\n",
       "})(window);"
      ],
      "application/vnd.bokehjs_exec.v0+json": ""
     },
     "metadata": {
      "application/vnd.bokehjs_exec.v0+json": {
       "id": "8156"
      }
     },
     "output_type": "display_data"
    }
   ],
   "source": [
    "from bokeh.plotting import figure, show\n",
    "\n",
    "# prepare some data\n",
    "x = [0.1, 0.5, 1.0, 1.5, 2.0, 2.5, 3.0]\n",
    "y0 = [i**2 for i in x]\n",
    "y1 = [10**i for i in x]\n",
    "y2 = [10**(i**2) for i in x]\n",
    "\n",
    "# create a new plot with a logarithmic axis type\n",
    "p = figure(\n",
    "    title=\"Logarithmic axis example\",\n",
    "    sizing_mode=\"stretch_width\",\n",
    "    height=300,\n",
    "    max_width=500,\n",
    "\n",
    "    y_axis_type=\"log\",   # y est un axe de logarithmes ici 10^\n",
    "\n",
    "    y_range=[0.001, 10 ** 11],\n",
    "\n",
    "    x_axis_label=\"sections\",\n",
    "    y_axis_label=\"particles\",\n",
    ")\n",
    "\n",
    "# add some renderers\n",
    "p.line(x, x, legend_label=\"y=x\")\n",
    "p.circle(x, x, legend_label=\"y=x\", fill_color=\"white\", size=8)\n",
    "p.line(x, y0, legend_label=\"y=x^2\", line_width=3)\n",
    "p.line(x, y1, legend_label=\"y=10^x\", line_color=\"red\")\n",
    "p.circle(x, y1, legend_label=\"y=10^x\", fill_color=\"red\", line_color=\"red\", size=6)\n",
    "p.line(x, y2, legend_label=\"y=10^x^2\", line_color=\"orange\", line_dash=\"4 4\")\n",
    "\n",
    "# show the results\n",
    "show(p)"
   ]
  },
  {
   "cell_type": "markdown",
   "id": "339142eb-28f0-478a-bd07-52b7480018b8",
   "metadata": {},
   "source": [
    "### Axes Datetimes\n",
    "datetime & DatetimeTickFormatter modules   \n",
    "x_axis_type=\"datetime\""
   ]
  },
  {
   "cell_type": "code",
   "execution_count": 22,
   "id": "ce15afcc-e203-4c8f-93a1-fbf0cabb10ce",
   "metadata": {},
   "outputs": [
    {
     "data": {
      "text/html": [
       "\n",
       "\n",
       "\n",
       "\n",
       "\n",
       "\n",
       "  <div class=\"bk-root\" id=\"e039227c-7b11-40ad-b3e1-1dfe3c2bffa1\" data-root-id=\"7094\"></div>\n"
      ]
     },
     "metadata": {},
     "output_type": "display_data"
    },
    {
     "data": {
      "application/javascript": [
       "(function(root) {\n",
       "  function embed_document(root) {\n",
       "    \n",
       "  const docs_json = {\"c5e1903d-e1be-4cb3-9b56-e112c2efeaa8\":{\"defs\":[],\"roots\":{\"references\":[{\"attributes\":{\"background_fill_color\":\"#20262B\",\"below\":[{\"id\":\"7105\"}],\"border_fill_color\":\"#15191C\",\"center\":[{\"id\":\"7108\"},{\"id\":\"7112\"}],\"height\":250,\"left\":[{\"id\":\"7109\"}],\"max_width\":500,\"outline_line_alpha\":0.25,\"outline_line_color\":\"#E0E0E0\",\"renderers\":[{\"id\":\"7131\"},{\"id\":\"7137\"}],\"sizing_mode\":\"stretch_width\",\"title\":{\"id\":\"7095\"},\"toolbar\":{\"id\":\"7120\"},\"x_range\":{\"id\":\"7097\"},\"x_scale\":{\"id\":\"7101\"},\"y_range\":{\"id\":\"7099\"},\"y_scale\":{\"id\":\"7103\"}},\"id\":\"7094\",\"subtype\":\"Figure\",\"type\":\"Plot\"},{\"attributes\":{\"source\":{\"id\":\"7133\"}},\"id\":\"7138\",\"type\":\"CDSView\"},{\"attributes\":{\"base\":24,\"mantissas\":[1,2,4,6,8,12],\"max_interval\":43200000.0,\"min_interval\":3600000.0,\"num_minor_ticks\":0},\"id\":\"7440\",\"type\":\"AdaptiveTicker\"},{\"attributes\":{\"days\":[1,2,3,4,5,6,7,8,9,10,11,12,13,14,15,16,17,18,19,20,21,22,23,24,25,26,27,28,29,30,31]},\"id\":\"7441\",\"type\":\"DaysTicker\"},{\"attributes\":{\"days\":[1,4,7,10,13,16,19,22,25,28]},\"id\":\"7442\",\"type\":\"DaysTicker\"},{\"attributes\":{\"days\":[1,8,15,22]},\"id\":\"7443\",\"type\":\"DaysTicker\"},{\"attributes\":{\"fill_color\":{\"value\":\"#1f77b4\"},\"line_color\":{\"value\":\"#1f77b4\"},\"size\":{\"value\":8},\"x\":{\"field\":\"x\"},\"y\":{\"field\":\"y\"}},\"id\":\"7128\",\"type\":\"Circle\"},{\"attributes\":{\"bottom_units\":\"screen\",\"coordinates\":null,\"fill_alpha\":0.5,\"fill_color\":\"lightgrey\",\"group\":null,\"left_units\":\"screen\",\"level\":\"overlay\",\"line_alpha\":1.0,\"line_color\":\"black\",\"line_dash\":[4,4],\"line_width\":2,\"right_units\":\"screen\",\"syncable\":false,\"top_units\":\"screen\"},\"id\":\"7119\",\"type\":\"BoxAnnotation\"},{\"attributes\":{\"months\":[0,1,2,3,4,5,6,7,8,9,10,11]},\"id\":\"7445\",\"type\":\"MonthsTicker\"},{\"attributes\":{\"coordinates\":null,\"data_source\":{\"id\":\"7127\"},\"glyph\":{\"id\":\"7128\"},\"group\":null,\"hover_glyph\":null,\"muted_glyph\":{\"id\":\"7130\"},\"nonselection_glyph\":{\"id\":\"7129\"},\"view\":{\"id\":\"7132\"}},\"id\":\"7131\",\"type\":\"GlyphRenderer\"},{\"attributes\":{},\"id\":\"7449\",\"type\":\"YearsTicker\"},{\"attributes\":{\"days\":[1,15]},\"id\":\"7444\",\"type\":\"DaysTicker\"},{\"attributes\":{\"months\":[0,6]},\"id\":\"7448\",\"type\":\"MonthsTicker\"},{\"attributes\":{\"coordinates\":null,\"data_source\":{\"id\":\"7133\"},\"glyph\":{\"id\":\"7134\"},\"group\":null,\"hover_glyph\":null,\"muted_glyph\":{\"id\":\"7136\"},\"nonselection_glyph\":{\"id\":\"7135\"},\"view\":{\"id\":\"7138\"}},\"id\":\"7137\",\"type\":\"GlyphRenderer\"},{\"attributes\":{\"months\":[0,2,4,6,8,10]},\"id\":\"7446\",\"type\":\"MonthsTicker\"},{\"attributes\":{},\"id\":\"7435\",\"type\":\"UnionRenderers\"},{\"attributes\":{},\"id\":\"7097\",\"type\":\"DataRange1d\"},{\"attributes\":{\"data\":{\"x\":[1655837913761.801,1656442713761.801,1657047513761.801,1657652313761.801,1658257113761.801,1658861913761.801,1659466713761.801,1660071513761.801,1660676313761.801,1661281113761.801,1661885913761.801,1662490713761.801,1663095513761.801,1663700313761.801,1664305113761.801,1664909913761.801,1665514713761.801,1666119513761.801,1666724313761.801,1667329113761.801,1667933913761.801,1668538713761.801,1669143513761.801,1669748313761.801,1670353113761.801,1670957913761.801],\"y\":[13,6,14,29,35,12,25,59,69,95,81,20,50,49,86,70,1,54,3,37,67,98,83,47,64,5]},\"selected\":{\"id\":\"7436\"},\"selection_policy\":{\"id\":\"7435\"}},\"id\":\"7133\",\"type\":\"ColumnDataSource\"},{\"attributes\":{\"line_color\":\"navy\",\"x\":{\"field\":\"x\"},\"y\":{\"field\":\"y\"}},\"id\":\"7134\",\"type\":\"Line\"},{\"attributes\":{\"months\":[0,4,8]},\"id\":\"7447\",\"type\":\"MonthsTicker\"},{\"attributes\":{\"format\":\"$0.00\"},\"id\":\"7139\",\"type\":\"NumeralTickFormatter\"},{\"attributes\":{},\"id\":\"7436\",\"type\":\"Selection\"},{\"attributes\":{},\"id\":\"7430\",\"type\":\"AllLabels\"},{\"attributes\":{},\"id\":\"7103\",\"type\":\"LinearScale\"},{\"attributes\":{\"coordinates\":null,\"group\":null,\"text\":\"datetime axis example\",\"text_color\":\"#E0E0E0\",\"text_font\":\"Helvetica\",\"text_font_size\":\"1.15em\"},\"id\":\"7095\",\"type\":\"Title\"},{\"attributes\":{\"tools\":[{\"id\":\"7113\"},{\"id\":\"7114\"},{\"id\":\"7115\"},{\"id\":\"7116\"},{\"id\":\"7117\"},{\"id\":\"7118\"}]},\"id\":\"7120\",\"type\":\"Toolbar\"},{\"attributes\":{\"data\":{\"x\":[1655837913761.801,1656442713761.801,1657047513761.801,1657652313761.801,1658257113761.801,1658861913761.801,1659466713761.801,1660071513761.801,1660676313761.801,1661281113761.801,1661885913761.801,1662490713761.801,1663095513761.801,1663700313761.801,1664305113761.801,1664909913761.801,1665514713761.801,1666119513761.801,1666724313761.801,1667329113761.801,1667933913761.801,1668538713761.801,1669143513761.801,1669748313761.801,1670353113761.801,1670957913761.801],\"y\":[13,6,14,29,35,12,25,59,69,95,81,20,50,49,86,70,1,54,3,37,67,98,83,47,64,5]},\"selected\":{\"id\":\"7434\"},\"selection_policy\":{\"id\":\"7433\"}},\"id\":\"7127\",\"type\":\"ColumnDataSource\"},{\"attributes\":{\"overlay\":{\"id\":\"7119\"}},\"id\":\"7115\",\"type\":\"BoxZoomTool\"},{\"attributes\":{},\"id\":\"7101\",\"type\":\"LinearScale\"},{\"attributes\":{\"axis_label_standoff\":10,\"axis_label_text_color\":\"#E0E0E0\",\"axis_label_text_font\":\"Helvetica\",\"axis_label_text_font_size\":\"1.25em\",\"axis_label_text_font_style\":\"normal\",\"axis_line_alpha\":0,\"axis_line_color\":\"#E0E0E0\",\"coordinates\":null,\"formatter\":{\"id\":\"7141\"},\"group\":null,\"major_label_policy\":{\"id\":\"7432\"},\"major_label_text_color\":\"#E0E0E0\",\"major_label_text_font\":\"Helvetica\",\"major_label_text_font_size\":\"1.025em\",\"major_tick_line_alpha\":0,\"major_tick_line_color\":\"#E0E0E0\",\"minor_tick_line_alpha\":0,\"minor_tick_line_color\":\"#E0E0E0\",\"ticker\":{\"id\":\"7106\"}},\"id\":\"7105\",\"type\":\"DatetimeAxis\"},{\"attributes\":{},\"id\":\"7432\",\"type\":\"AllLabels\"},{\"attributes\":{},\"id\":\"7113\",\"type\":\"PanTool\"},{\"attributes\":{\"months\":[\"%b %Y\"]},\"id\":\"7141\",\"type\":\"DatetimeTickFormatter\"},{\"attributes\":{\"source\":{\"id\":\"7127\"}},\"id\":\"7132\",\"type\":\"CDSView\"},{\"attributes\":{\"fill_alpha\":{\"value\":0.1},\"fill_color\":{\"value\":\"#1f77b4\"},\"hatch_alpha\":{\"value\":0.1},\"line_alpha\":{\"value\":0.1},\"line_color\":{\"value\":\"#1f77b4\"},\"size\":{\"value\":8},\"x\":{\"field\":\"x\"},\"y\":{\"field\":\"y\"}},\"id\":\"7129\",\"type\":\"Circle\"},{\"attributes\":{\"line_alpha\":0.2,\"line_color\":\"navy\",\"x\":{\"field\":\"x\"},\"y\":{\"field\":\"y\"}},\"id\":\"7136\",\"type\":\"Line\"},{\"attributes\":{},\"id\":\"7118\",\"type\":\"HelpTool\"},{\"attributes\":{\"num_minor_ticks\":5,\"tickers\":[{\"id\":\"7438\"},{\"id\":\"7439\"},{\"id\":\"7440\"},{\"id\":\"7441\"},{\"id\":\"7442\"},{\"id\":\"7443\"},{\"id\":\"7444\"},{\"id\":\"7445\"},{\"id\":\"7446\"},{\"id\":\"7447\"},{\"id\":\"7448\"},{\"id\":\"7449\"}]},\"id\":\"7106\",\"type\":\"DatetimeTicker\"},{\"attributes\":{\"line_alpha\":0.1,\"line_color\":\"navy\",\"x\":{\"field\":\"x\"},\"y\":{\"field\":\"y\"}},\"id\":\"7135\",\"type\":\"Line\"},{\"attributes\":{},\"id\":\"7110\",\"type\":\"BasicTicker\"},{\"attributes\":{},\"id\":\"7117\",\"type\":\"ResetTool\"},{\"attributes\":{},\"id\":\"7114\",\"type\":\"WheelZoomTool\"},{\"attributes\":{\"axis\":{\"id\":\"7105\"},\"coordinates\":null,\"grid_line_alpha\":0.25,\"grid_line_color\":\"#E0E0E0\",\"group\":null,\"ticker\":null},\"id\":\"7108\",\"type\":\"Grid\"},{\"attributes\":{},\"id\":\"7433\",\"type\":\"UnionRenderers\"},{\"attributes\":{\"axis_label_standoff\":10,\"axis_label_text_color\":\"#E0E0E0\",\"axis_label_text_font\":\"Helvetica\",\"axis_label_text_font_size\":\"1.25em\",\"axis_label_text_font_style\":\"normal\",\"axis_line_alpha\":0,\"axis_line_color\":\"#E0E0E0\",\"coordinates\":null,\"formatter\":{\"id\":\"7139\"},\"group\":null,\"major_label_policy\":{\"id\":\"7430\"},\"major_label_text_color\":\"#E0E0E0\",\"major_label_text_font\":\"Helvetica\",\"major_label_text_font_size\":\"1.025em\",\"major_tick_line_alpha\":0,\"major_tick_line_color\":\"#E0E0E0\",\"minor_tick_line_alpha\":0,\"minor_tick_line_color\":\"#E0E0E0\",\"ticker\":{\"id\":\"7110\"}},\"id\":\"7109\",\"type\":\"LinearAxis\"},{\"attributes\":{\"axis\":{\"id\":\"7109\"},\"coordinates\":null,\"dimension\":1,\"grid_line_alpha\":0.25,\"grid_line_color\":\"#E0E0E0\",\"group\":null,\"ticker\":null},\"id\":\"7112\",\"type\":\"Grid\"},{\"attributes\":{},\"id\":\"7116\",\"type\":\"SaveTool\"},{\"attributes\":{},\"id\":\"7434\",\"type\":\"Selection\"},{\"attributes\":{},\"id\":\"7099\",\"type\":\"DataRange1d\"},{\"attributes\":{\"mantissas\":[1,2,5],\"max_interval\":500.0,\"num_minor_ticks\":0},\"id\":\"7438\",\"type\":\"AdaptiveTicker\"},{\"attributes\":{\"fill_alpha\":{\"value\":0.2},\"fill_color\":{\"value\":\"#1f77b4\"},\"hatch_alpha\":{\"value\":0.2},\"line_alpha\":{\"value\":0.2},\"line_color\":{\"value\":\"#1f77b4\"},\"size\":{\"value\":8},\"x\":{\"field\":\"x\"},\"y\":{\"field\":\"y\"}},\"id\":\"7130\",\"type\":\"Circle\"},{\"attributes\":{\"base\":60,\"mantissas\":[1,2,5,10,15,20,30],\"max_interval\":1800000.0,\"min_interval\":1000.0,\"num_minor_ticks\":0},\"id\":\"7439\",\"type\":\"AdaptiveTicker\"}],\"root_ids\":[\"7094\"]},\"title\":\"Bokeh Application\",\"version\":\"2.4.2\"}};\n",
       "  const render_items = [{\"docid\":\"c5e1903d-e1be-4cb3-9b56-e112c2efeaa8\",\"root_ids\":[\"7094\"],\"roots\":{\"7094\":\"e039227c-7b11-40ad-b3e1-1dfe3c2bffa1\"}}];\n",
       "  root.Bokeh.embed.embed_items_notebook(docs_json, render_items);\n",
       "\n",
       "  }\n",
       "  if (root.Bokeh !== undefined) {\n",
       "    embed_document(root);\n",
       "  } else {\n",
       "    let attempts = 0;\n",
       "    const timer = setInterval(function(root) {\n",
       "      if (root.Bokeh !== undefined) {\n",
       "        clearInterval(timer);\n",
       "        embed_document(root);\n",
       "      } else {\n",
       "        attempts++;\n",
       "        if (attempts > 100) {\n",
       "          clearInterval(timer);\n",
       "          console.log(\"Bokeh: ERROR: Unable to run BokehJS code because BokehJS library is missing\");\n",
       "        }\n",
       "      }\n",
       "    }, 10, root)\n",
       "  }\n",
       "})(window);"
      ],
      "application/vnd.bokehjs_exec.v0+json": ""
     },
     "metadata": {
      "application/vnd.bokehjs_exec.v0+json": {
       "id": "7094"
      }
     },
     "output_type": "display_data"
    }
   ],
   "source": [
    "import random\n",
    "from datetime import datetime, timedelta\n",
    "\n",
    "from bokeh.models import DatetimeTickFormatter, NumeralTickFormatter\n",
    "from bokeh.plotting import figure, show\n",
    "\n",
    "# generate list of dates (today's date in subsequent weeks)\n",
    "dates = [(datetime.now() + timedelta(day * 7)) for day in range(0, 26)]\n",
    "\n",
    "# generate 25 random data points\n",
    "y = random.sample(range(0, 100), 26)\n",
    "\n",
    "# create new plot\n",
    "p = figure(\n",
    "\n",
    "    title=\"datetime axis example\",\n",
    "\n",
    "    x_axis_type=\"datetime\",           # axe x de type datetime\n",
    "    sizing_mode=\"stretch_width\",\n",
    "    max_width=500,\n",
    "    height=250,\n",
    ")\n",
    "\n",
    "# add renderers\n",
    "p.circle(dates, y, size=8)\n",
    "p.line(dates, y, color=\"navy\", line_width=1)\n",
    "\n",
    "# format axes ticks\n",
    "p.yaxis[0].formatter = NumeralTickFormatter(format=\"$0.00\")\n",
    "\n",
    "p.xaxis[0].formatter = DatetimeTickFormatter(months=\"%b %Y\")\n",
    "\n",
    "\n",
    "# show the results\n",
    "show(p)"
   ]
  },
  {
   "cell_type": "markdown",
   "id": "3515d1d6-331f-42f0-9316-91d44210a7d9",
   "metadata": {},
   "source": [
    "### Style de Grille\n",
    "xgrid.grid_line_"
   ]
  },
  {
   "cell_type": "code",
   "execution_count": 28,
   "id": "68324843-ff21-451f-915b-9214cf938799",
   "metadata": {},
   "outputs": [
    {
     "data": {
      "text/html": [
       "\n",
       "\n",
       "\n",
       "\n",
       "\n",
       "\n",
       "  <div class=\"bk-root\" id=\"fad4905d-19f8-4b7c-95f9-805f9b48e8ed\" data-root-id=\"9213\"></div>\n"
      ]
     },
     "metadata": {},
     "output_type": "display_data"
    },
    {
     "data": {
      "application/javascript": [
       "(function(root) {\n",
       "  function embed_document(root) {\n",
       "    \n",
       "  const docs_json = {\"48e13665-6acf-4c2f-8dff-fa623db6eb2a\":{\"defs\":[],\"roots\":{\"references\":[{\"attributes\":{\"background_fill_color\":\"#20262B\",\"below\":[{\"id\":\"9224\"}],\"border_fill_color\":\"#15191C\",\"center\":[{\"id\":\"9227\"},{\"id\":\"9231\"}],\"height\":250,\"left\":[{\"id\":\"9228\"}],\"max_width\":500,\"outline_line_alpha\":0.25,\"outline_line_color\":\"#E0E0E0\",\"renderers\":[{\"id\":\"9250\"}],\"sizing_mode\":\"stretch_width\",\"title\":{\"id\":\"9214\"},\"toolbar\":{\"id\":\"9239\"},\"x_range\":{\"id\":\"9216\"},\"x_scale\":{\"id\":\"9220\"},\"y_range\":{\"id\":\"9218\"},\"y_scale\":{\"id\":\"9222\"}},\"id\":\"9213\",\"subtype\":\"Figure\",\"type\":\"Plot\"},{\"attributes\":{\"bottom_units\":\"screen\",\"coordinates\":null,\"fill_alpha\":0.5,\"fill_color\":\"lightgrey\",\"group\":null,\"left_units\":\"screen\",\"level\":\"overlay\",\"line_alpha\":1.0,\"line_color\":\"black\",\"line_dash\":[4,4],\"line_width\":2,\"right_units\":\"screen\",\"syncable\":false,\"top_units\":\"screen\"},\"id\":\"9238\",\"type\":\"BoxAnnotation\"},{\"attributes\":{},\"id\":\"9612\",\"type\":\"AllLabels\"},{\"attributes\":{},\"id\":\"9232\",\"type\":\"PanTool\"},{\"attributes\":{},\"id\":\"9614\",\"type\":\"BasicTickFormatter\"},{\"attributes\":{},\"id\":\"9220\",\"type\":\"LinearScale\"},{\"attributes\":{\"axis_label_standoff\":10,\"axis_label_text_color\":\"#E0E0E0\",\"axis_label_text_font\":\"Helvetica\",\"axis_label_text_font_size\":\"1.25em\",\"axis_label_text_font_style\":\"normal\",\"axis_line_alpha\":0,\"axis_line_color\":\"#E0E0E0\",\"coordinates\":null,\"formatter\":{\"id\":\"9614\"},\"group\":null,\"major_label_policy\":{\"id\":\"9615\"},\"major_label_text_color\":\"#E0E0E0\",\"major_label_text_font\":\"Helvetica\",\"major_label_text_font_size\":\"1.025em\",\"major_tick_line_alpha\":0,\"major_tick_line_color\":\"#E0E0E0\",\"minor_tick_line_alpha\":0,\"minor_tick_line_color\":\"#E0E0E0\",\"ticker\":{\"id\":\"9225\"}},\"id\":\"9224\",\"type\":\"LinearAxis\"},{\"attributes\":{\"data\":{\"x\":[1,2,3,4,5],\"y\":[4,5,5,7,2]},\"selected\":{\"id\":\"9617\"},\"selection_policy\":{\"id\":\"9616\"}},\"id\":\"9246\",\"type\":\"ColumnDataSource\"},{\"attributes\":{\"coordinates\":null,\"group\":null,\"text\":\"Customized grid lines example\",\"text_color\":\"#E0E0E0\",\"text_font\":\"Helvetica\",\"text_font_size\":\"1.15em\"},\"id\":\"9214\",\"type\":\"Title\"},{\"attributes\":{\"line_alpha\":0.1,\"line_color\":\"green\",\"line_width\":2,\"x\":{\"field\":\"x\"},\"y\":{\"field\":\"y\"}},\"id\":\"9248\",\"type\":\"Line\"},{\"attributes\":{},\"id\":\"9617\",\"type\":\"Selection\"},{\"attributes\":{},\"id\":\"9615\",\"type\":\"AllLabels\"},{\"attributes\":{\"overlay\":{\"id\":\"9238\"}},\"id\":\"9234\",\"type\":\"BoxZoomTool\"},{\"attributes\":{\"axis\":{\"id\":\"9224\"},\"coordinates\":null,\"grid_line_alpha\":0.25,\"grid_line_color\":\"red\",\"group\":null,\"ticker\":null},\"id\":\"9227\",\"type\":\"Grid\"},{\"attributes\":{},\"id\":\"9233\",\"type\":\"WheelZoomTool\"},{\"attributes\":{},\"id\":\"9222\",\"type\":\"LinearScale\"},{\"attributes\":{},\"id\":\"9216\",\"type\":\"DataRange1d\"},{\"attributes\":{},\"id\":\"9616\",\"type\":\"UnionRenderers\"},{\"attributes\":{\"axis\":{\"id\":\"9228\"},\"coordinates\":null,\"dimension\":1,\"grid_line_alpha\":0.8,\"grid_line_color\":\"#E0E0E0\",\"grid_line_dash\":[6,4],\"group\":null,\"ticker\":null},\"id\":\"9231\",\"type\":\"Grid\"},{\"attributes\":{},\"id\":\"9229\",\"type\":\"BasicTicker\"},{\"attributes\":{\"axis_label_standoff\":10,\"axis_label_text_color\":\"#E0E0E0\",\"axis_label_text_font\":\"Helvetica\",\"axis_label_text_font_size\":\"1.25em\",\"axis_label_text_font_style\":\"normal\",\"axis_line_alpha\":0,\"axis_line_color\":\"#E0E0E0\",\"coordinates\":null,\"formatter\":{\"id\":\"9611\"},\"group\":null,\"major_label_policy\":{\"id\":\"9612\"},\"major_label_text_color\":\"#E0E0E0\",\"major_label_text_font\":\"Helvetica\",\"major_label_text_font_size\":\"1.025em\",\"major_tick_line_alpha\":0,\"major_tick_line_color\":\"#E0E0E0\",\"minor_tick_line_alpha\":0,\"minor_tick_line_color\":\"#E0E0E0\",\"ticker\":{\"id\":\"9229\"}},\"id\":\"9228\",\"type\":\"LinearAxis\"},{\"attributes\":{},\"id\":\"9611\",\"type\":\"BasicTickFormatter\"},{\"attributes\":{\"line_alpha\":0.2,\"line_color\":\"green\",\"line_width\":2,\"x\":{\"field\":\"x\"},\"y\":{\"field\":\"y\"}},\"id\":\"9249\",\"type\":\"Line\"},{\"attributes\":{\"source\":{\"id\":\"9246\"}},\"id\":\"9251\",\"type\":\"CDSView\"},{\"attributes\":{\"coordinates\":null,\"data_source\":{\"id\":\"9246\"},\"glyph\":{\"id\":\"9247\"},\"group\":null,\"hover_glyph\":null,\"muted_glyph\":{\"id\":\"9249\"},\"nonselection_glyph\":{\"id\":\"9248\"},\"view\":{\"id\":\"9251\"}},\"id\":\"9250\",\"type\":\"GlyphRenderer\"},{\"attributes\":{\"tools\":[{\"id\":\"9232\"},{\"id\":\"9233\"},{\"id\":\"9234\"},{\"id\":\"9235\"},{\"id\":\"9236\"},{\"id\":\"9237\"}]},\"id\":\"9239\",\"type\":\"Toolbar\"},{\"attributes\":{},\"id\":\"9218\",\"type\":\"DataRange1d\"},{\"attributes\":{},\"id\":\"9237\",\"type\":\"HelpTool\"},{\"attributes\":{},\"id\":\"9225\",\"type\":\"BasicTicker\"},{\"attributes\":{},\"id\":\"9236\",\"type\":\"ResetTool\"},{\"attributes\":{\"line_color\":\"green\",\"line_width\":2,\"x\":{\"field\":\"x\"},\"y\":{\"field\":\"y\"}},\"id\":\"9247\",\"type\":\"Line\"},{\"attributes\":{},\"id\":\"9235\",\"type\":\"SaveTool\"}],\"root_ids\":[\"9213\"]},\"title\":\"Bokeh Application\",\"version\":\"2.4.2\"}};\n",
       "  const render_items = [{\"docid\":\"48e13665-6acf-4c2f-8dff-fa623db6eb2a\",\"root_ids\":[\"9213\"],\"roots\":{\"9213\":\"fad4905d-19f8-4b7c-95f9-805f9b48e8ed\"}}];\n",
       "  root.Bokeh.embed.embed_items_notebook(docs_json, render_items);\n",
       "\n",
       "  }\n",
       "  if (root.Bokeh !== undefined) {\n",
       "    embed_document(root);\n",
       "  } else {\n",
       "    let attempts = 0;\n",
       "    const timer = setInterval(function(root) {\n",
       "      if (root.Bokeh !== undefined) {\n",
       "        clearInterval(timer);\n",
       "        embed_document(root);\n",
       "      } else {\n",
       "        attempts++;\n",
       "        if (attempts > 100) {\n",
       "          clearInterval(timer);\n",
       "          console.log(\"Bokeh: ERROR: Unable to run BokehJS code because BokehJS library is missing\");\n",
       "        }\n",
       "      }\n",
       "    }, 10, root)\n",
       "  }\n",
       "})(window);"
      ],
      "application/vnd.bokehjs_exec.v0+json": ""
     },
     "metadata": {
      "application/vnd.bokehjs_exec.v0+json": {
       "id": "9213"
      }
     },
     "output_type": "display_data"
    }
   ],
   "source": [
    "from bokeh.plotting import figure, show\n",
    "\n",
    "# prepare some data\n",
    "x = [1, 2, 3, 4, 5]\n",
    "y = [4, 5, 5, 7, 2]\n",
    "\n",
    "# create a plot\n",
    "p = figure(\n",
    "    title=\"Customized grid lines example\",\n",
    "    sizing_mode=\"stretch_width\",\n",
    "    max_width=500,\n",
    "    height=250)\n",
    "\n",
    "# add a renderer\n",
    "p.line(x, y, line_color=\"green\", line_width=2)\n",
    "\n",
    "# change things only on the x-grid\n",
    "p.xgrid.grid_line_color = \"red\"\n",
    "\n",
    "# change things only on the y-grid\n",
    "p.ygrid.grid_line_alpha = 0.8      # transparence de la grille\n",
    "p.ygrid.grid_line_dash = [6, 4]    # espacement des tirets\n",
    "\n",
    "\n",
    "# show the results\n",
    "show(p)"
   ]
  },
  {
   "cell_type": "markdown",
   "id": "e203a016-f3c8-47e1-a7c6-28ae95eacd70",
   "metadata": {},
   "source": [
    "### Bandes, bornes, fonds de graphs"
   ]
  },
  {
   "cell_type": "code",
   "execution_count": 29,
   "id": "9581ccce-aab0-4ea7-82d2-16348baf6e92",
   "metadata": {},
   "outputs": [
    {
     "data": {
      "text/html": [
       "\n",
       "\n",
       "\n",
       "\n",
       "\n",
       "\n",
       "  <div class=\"bk-root\" id=\"d71a38ce-7327-47df-943e-a2e2e660547c\" data-root-id=\"9669\"></div>\n"
      ]
     },
     "metadata": {},
     "output_type": "display_data"
    },
    {
     "data": {
      "application/javascript": [
       "(function(root) {\n",
       "  function embed_document(root) {\n",
       "    \n",
       "  const docs_json = {\"f382eb21-b620-47b4-ac75-55752b6c4af6\":{\"defs\":[],\"roots\":{\"references\":[{\"attributes\":{\"background_fill_color\":\"#20262B\",\"below\":[{\"id\":\"9680\"}],\"border_fill_color\":\"#15191C\",\"center\":[{\"id\":\"9683\"},{\"id\":\"9687\"}],\"height\":250,\"left\":[{\"id\":\"9684\"}],\"max_width\":500,\"outline_line_alpha\":0.25,\"outline_line_color\":\"#E0E0E0\",\"renderers\":[{\"id\":\"9706\"}],\"sizing_mode\":\"stretch_width\",\"title\":{\"id\":\"9670\"},\"toolbar\":{\"id\":\"9695\"},\"x_range\":{\"id\":\"9672\"},\"x_scale\":{\"id\":\"9676\"},\"y_range\":{\"id\":\"9674\"},\"y_scale\":{\"id\":\"9678\"}},\"id\":\"9669\",\"subtype\":\"Figure\",\"type\":\"Plot\"},{\"attributes\":{\"coordinates\":null,\"data_source\":{\"id\":\"9702\"},\"glyph\":{\"id\":\"9703\"},\"group\":null,\"hover_glyph\":null,\"muted_glyph\":{\"id\":\"9705\"},\"nonselection_glyph\":{\"id\":\"9704\"},\"view\":{\"id\":\"9707\"}},\"id\":\"9706\",\"type\":\"GlyphRenderer\"},{\"attributes\":{\"axis_label_standoff\":10,\"axis_label_text_color\":\"#E0E0E0\",\"axis_label_text_font\":\"Helvetica\",\"axis_label_text_font_size\":\"1.25em\",\"axis_label_text_font_style\":\"normal\",\"axis_line_alpha\":0,\"axis_line_color\":\"#E0E0E0\",\"coordinates\":null,\"formatter\":{\"id\":\"10080\"},\"group\":null,\"major_label_policy\":{\"id\":\"10081\"},\"major_label_text_color\":\"#E0E0E0\",\"major_label_text_font\":\"Helvetica\",\"major_label_text_font_size\":\"1.025em\",\"major_tick_line_alpha\":0,\"major_tick_line_color\":\"#E0E0E0\",\"minor_tick_line_alpha\":0,\"minor_tick_line_color\":\"#E0E0E0\",\"ticker\":{\"id\":\"9681\"}},\"id\":\"9680\",\"type\":\"LinearAxis\"},{\"attributes\":{},\"id\":\"10077\",\"type\":\"BasicTickFormatter\"},{\"attributes\":{},\"id\":\"9678\",\"type\":\"LinearScale\"},{\"attributes\":{},\"id\":\"10078\",\"type\":\"AllLabels\"},{\"attributes\":{},\"id\":\"10080\",\"type\":\"BasicTickFormatter\"},{\"attributes\":{\"source\":{\"id\":\"9702\"}},\"id\":\"9707\",\"type\":\"CDSView\"},{\"attributes\":{},\"id\":\"9692\",\"type\":\"ResetTool\"},{\"attributes\":{},\"id\":\"10081\",\"type\":\"AllLabels\"},{\"attributes\":{},\"id\":\"9676\",\"type\":\"LinearScale\"},{\"attributes\":{},\"id\":\"9691\",\"type\":\"SaveTool\"},{\"attributes\":{\"line_alpha\":0.2,\"line_color\":\"green\",\"line_width\":2,\"x\":{\"field\":\"x\"},\"y\":{\"field\":\"y\"}},\"id\":\"9705\",\"type\":\"Line\"},{\"attributes\":{},\"id\":\"9681\",\"type\":\"BasicTicker\"},{\"attributes\":{\"line_alpha\":0.1,\"line_color\":\"green\",\"line_width\":2,\"x\":{\"field\":\"x\"},\"y\":{\"field\":\"y\"}},\"id\":\"9704\",\"type\":\"Line\"},{\"attributes\":{},\"id\":\"9688\",\"type\":\"PanTool\"},{\"attributes\":{\"overlay\":{\"id\":\"9694\"}},\"id\":\"9690\",\"type\":\"BoxZoomTool\"},{\"attributes\":{\"bottom_units\":\"screen\",\"coordinates\":null,\"fill_alpha\":0.5,\"fill_color\":\"lightgrey\",\"group\":null,\"left_units\":\"screen\",\"level\":\"overlay\",\"line_alpha\":1.0,\"line_color\":\"black\",\"line_dash\":[4,4],\"line_width\":2,\"right_units\":\"screen\",\"syncable\":false,\"top_units\":\"screen\"},\"id\":\"9694\",\"type\":\"BoxAnnotation\"},{\"attributes\":{},\"id\":\"10082\",\"type\":\"UnionRenderers\"},{\"attributes\":{},\"id\":\"9685\",\"type\":\"BasicTicker\"},{\"attributes\":{},\"id\":\"10083\",\"type\":\"Selection\"},{\"attributes\":{},\"id\":\"9689\",\"type\":\"WheelZoomTool\"},{\"attributes\":{},\"id\":\"9693\",\"type\":\"HelpTool\"},{\"attributes\":{\"axis\":{\"id\":\"9680\"},\"bounds\":[2,4],\"coordinates\":null,\"grid_line_alpha\":0.25,\"grid_line_color\":\"#E0E0E0\",\"group\":null,\"ticker\":null},\"id\":\"9683\",\"type\":\"Grid\"},{\"attributes\":{\"data\":{\"x\":[1,2,3,4,5],\"y\":[4,5,5,7,2]},\"selected\":{\"id\":\"10083\"},\"selection_policy\":{\"id\":\"10082\"}},\"id\":\"9702\",\"type\":\"ColumnDataSource\"},{\"attributes\":{\"coordinates\":null,\"group\":null,\"text\":\"Bands and bonds example\",\"text_color\":\"#E0E0E0\",\"text_font\":\"Helvetica\",\"text_font_size\":\"1.15em\"},\"id\":\"9670\",\"type\":\"Title\"},{\"attributes\":{\"axis_label_standoff\":10,\"axis_label_text_color\":\"#E0E0E0\",\"axis_label_text_font\":\"Helvetica\",\"axis_label_text_font_size\":\"1.25em\",\"axis_label_text_font_style\":\"normal\",\"axis_line_alpha\":0,\"axis_line_color\":\"#E0E0E0\",\"coordinates\":null,\"formatter\":{\"id\":\"10077\"},\"group\":null,\"major_label_policy\":{\"id\":\"10078\"},\"major_label_text_color\":\"#E0E0E0\",\"major_label_text_font\":\"Helvetica\",\"major_label_text_font_size\":\"1.025em\",\"major_tick_line_alpha\":0,\"major_tick_line_color\":\"#E0E0E0\",\"minor_tick_line_alpha\":0,\"minor_tick_line_color\":\"#E0E0E0\",\"ticker\":{\"id\":\"9685\"}},\"id\":\"9684\",\"type\":\"LinearAxis\"},{\"attributes\":{\"tools\":[{\"id\":\"9688\"},{\"id\":\"9689\"},{\"id\":\"9690\"},{\"id\":\"9691\"},{\"id\":\"9692\"},{\"id\":\"9693\"}]},\"id\":\"9695\",\"type\":\"Toolbar\"},{\"attributes\":{\"line_color\":\"green\",\"line_width\":2,\"x\":{\"field\":\"x\"},\"y\":{\"field\":\"y\"}},\"id\":\"9703\",\"type\":\"Line\"},{\"attributes\":{\"axis\":{\"id\":\"9684\"},\"band_fill_alpha\":0.1,\"band_fill_color\":\"olive\",\"coordinates\":null,\"dimension\":1,\"grid_line_alpha\":0.25,\"grid_line_color\":\"#E0E0E0\",\"group\":null,\"ticker\":null},\"id\":\"9687\",\"type\":\"Grid\"},{\"attributes\":{},\"id\":\"9674\",\"type\":\"DataRange1d\"},{\"attributes\":{},\"id\":\"9672\",\"type\":\"DataRange1d\"}],\"root_ids\":[\"9669\"]},\"title\":\"Bokeh Application\",\"version\":\"2.4.2\"}};\n",
       "  const render_items = [{\"docid\":\"f382eb21-b620-47b4-ac75-55752b6c4af6\",\"root_ids\":[\"9669\"],\"roots\":{\"9669\":\"d71a38ce-7327-47df-943e-a2e2e660547c\"}}];\n",
       "  root.Bokeh.embed.embed_items_notebook(docs_json, render_items);\n",
       "\n",
       "  }\n",
       "  if (root.Bokeh !== undefined) {\n",
       "    embed_document(root);\n",
       "  } else {\n",
       "    let attempts = 0;\n",
       "    const timer = setInterval(function(root) {\n",
       "      if (root.Bokeh !== undefined) {\n",
       "        clearInterval(timer);\n",
       "        embed_document(root);\n",
       "      } else {\n",
       "        attempts++;\n",
       "        if (attempts > 100) {\n",
       "          clearInterval(timer);\n",
       "          console.log(\"Bokeh: ERROR: Unable to run BokehJS code because BokehJS library is missing\");\n",
       "        }\n",
       "      }\n",
       "    }, 10, root)\n",
       "  }\n",
       "})(window);"
      ],
      "application/vnd.bokehjs_exec.v0+json": ""
     },
     "metadata": {
      "application/vnd.bokehjs_exec.v0+json": {
       "id": "9669"
      }
     },
     "output_type": "display_data"
    }
   ],
   "source": [
    "from bokeh.plotting import figure, show\n",
    "# prepare some data\n",
    "x = [1, 2, 3, 4, 5]\n",
    "y = [4, 5, 5, 7, 2]\n",
    "# create a plot\n",
    "p = figure(\n",
    "    title=\"Bands and bonds example\",\n",
    "    sizing_mode=\"stretch_width\",\n",
    "    max_width=500,\n",
    "    height=250)\n",
    "\n",
    "# add a renderer\n",
    "p.line(x, y, line_color=\"green\", line_width=2)\n",
    "# add bands to the y-grid\n",
    "p.ygrid.band_fill_color = \"olive\"\n",
    "p.ygrid.band_fill_alpha = 0.1\n",
    "# define vertical bonds\n",
    "p.xgrid.bounds = (2, 4)\n",
    "# show the results\n",
    "show(p)"
   ]
  },
  {
   "cell_type": "code",
   "execution_count": 42,
   "id": "b1bc7f23-ae54-4d95-b33c-4dd0693dd0c5",
   "metadata": {},
   "outputs": [
    {
     "data": {
      "text/html": [
       "\n",
       "\n",
       "\n",
       "\n",
       "\n",
       "\n",
       "  <div class=\"bk-root\" id=\"addf7653-e447-4242-89bc-e8cc23071f2a\" data-root-id=\"17494\"></div>\n"
      ]
     },
     "metadata": {},
     "output_type": "display_data"
    },
    {
     "data": {
      "application/javascript": [
       "(function(root) {\n",
       "  function embed_document(root) {\n",
       "    \n",
       "  const docs_json = {\"ae10b388-ce52-46be-93fa-8033b96a30d2\":{\"defs\":[],\"roots\":{\"references\":[{\"attributes\":{\"background_fill_color\":\"white\",\"below\":[{\"id\":\"17505\"}],\"border_fill_color\":\"yellow\",\"center\":[{\"id\":\"17508\"},{\"id\":\"17512\"}],\"height\":250,\"left\":[{\"id\":\"17509\"}],\"max_width\":500,\"outline_line_alpha\":0.25,\"outline_line_color\":\"red\",\"renderers\":[{\"id\":\"17531\"}],\"sizing_mode\":\"stretch_width\",\"title\":{\"id\":\"17495\"},\"toolbar\":{\"id\":\"17520\"},\"x_range\":{\"id\":\"17497\"},\"x_scale\":{\"id\":\"17501\"},\"y_range\":{\"id\":\"17499\"},\"y_scale\":{\"id\":\"17503\"}},\"id\":\"17494\",\"subtype\":\"Figure\",\"type\":\"Plot\"},{\"attributes\":{},\"id\":\"18032\",\"type\":\"BasicTickFormatter\"},{\"attributes\":{},\"id\":\"18035\",\"type\":\"BasicTickFormatter\"},{\"attributes\":{},\"id\":\"18036\",\"type\":\"AllLabels\"},{\"attributes\":{},\"id\":\"17497\",\"type\":\"DataRange1d\"},{\"attributes\":{\"line_alpha\":0.1,\"line_color\":\"green\",\"line_width\":2,\"x\":{\"field\":\"x\"},\"y\":{\"field\":\"y\"}},\"id\":\"17529\",\"type\":\"Line\"},{\"attributes\":{},\"id\":\"17499\",\"type\":\"DataRange1d\"},{\"attributes\":{\"tools\":[{\"id\":\"17513\"},{\"id\":\"17514\"},{\"id\":\"17515\"},{\"id\":\"17516\"},{\"id\":\"17517\"},{\"id\":\"17518\"}]},\"id\":\"17520\",\"type\":\"Toolbar\"},{\"attributes\":{},\"id\":\"18037\",\"type\":\"UnionRenderers\"},{\"attributes\":{},\"id\":\"17518\",\"type\":\"HelpTool\"},{\"attributes\":{},\"id\":\"18038\",\"type\":\"Selection\"},{\"attributes\":{\"coordinates\":null,\"data_source\":{\"id\":\"17527\"},\"glyph\":{\"id\":\"17528\"},\"group\":null,\"hover_glyph\":null,\"muted_glyph\":{\"id\":\"17530\"},\"nonselection_glyph\":{\"id\":\"17529\"},\"view\":{\"id\":\"17532\"}},\"id\":\"17531\",\"type\":\"GlyphRenderer\"},{\"attributes\":{\"bottom_units\":\"screen\",\"coordinates\":null,\"fill_alpha\":0.5,\"fill_color\":\"lightgrey\",\"group\":null,\"left_units\":\"screen\",\"level\":\"overlay\",\"line_alpha\":1.0,\"line_color\":\"black\",\"line_dash\":[4,4],\"line_width\":2,\"right_units\":\"screen\",\"syncable\":false,\"top_units\":\"screen\"},\"id\":\"17519\",\"type\":\"BoxAnnotation\"},{\"attributes\":{\"axis_label_standoff\":10,\"axis_label_text_color\":\"#E0E0E0\",\"axis_label_text_font\":\"Helvetica\",\"axis_label_text_font_size\":\"1.25em\",\"axis_label_text_font_style\":\"normal\",\"axis_line_alpha\":0,\"axis_line_color\":\"#E0E0E0\",\"coordinates\":null,\"formatter\":{\"id\":\"18035\"},\"group\":null,\"major_label_policy\":{\"id\":\"18036\"},\"major_label_text_color\":\"#E0E0E0\",\"major_label_text_font\":\"Helvetica\",\"major_label_text_font_size\":\"1.025em\",\"major_tick_line_alpha\":0,\"major_tick_line_color\":\"#E0E0E0\",\"minor_tick_line_alpha\":0,\"minor_tick_line_color\":\"#E0E0E0\",\"ticker\":{\"id\":\"17506\"}},\"id\":\"17505\",\"type\":\"LinearAxis\"},{\"attributes\":{\"coordinates\":null,\"group\":null,\"text\":\"Background colors example\",\"text_color\":\"#E0E0E0\",\"text_font\":\"Helvetica\",\"text_font_size\":\"1.15em\"},\"id\":\"17495\",\"type\":\"Title\"},{\"attributes\":{\"source\":{\"id\":\"17527\"}},\"id\":\"17532\",\"type\":\"CDSView\"},{\"attributes\":{},\"id\":\"17517\",\"type\":\"ResetTool\"},{\"attributes\":{},\"id\":\"17516\",\"type\":\"SaveTool\"},{\"attributes\":{\"overlay\":{\"id\":\"17519\"}},\"id\":\"17515\",\"type\":\"BoxZoomTool\"},{\"attributes\":{},\"id\":\"17513\",\"type\":\"PanTool\"},{\"attributes\":{},\"id\":\"17514\",\"type\":\"WheelZoomTool\"},{\"attributes\":{\"line_color\":\"green\",\"line_width\":2,\"x\":{\"field\":\"x\"},\"y\":{\"field\":\"y\"}},\"id\":\"17528\",\"type\":\"Line\"},{\"attributes\":{\"axis\":{\"id\":\"17505\"},\"coordinates\":null,\"grid_line_alpha\":0.25,\"grid_line_color\":\"#E0E0E0\",\"group\":null,\"ticker\":null},\"id\":\"17508\",\"type\":\"Grid\"},{\"attributes\":{},\"id\":\"17506\",\"type\":\"BasicTicker\"},{\"attributes\":{\"axis_label_standoff\":10,\"axis_label_text_color\":\"#E0E0E0\",\"axis_label_text_font\":\"Helvetica\",\"axis_label_text_font_size\":\"1.25em\",\"axis_label_text_font_style\":\"normal\",\"axis_line_alpha\":0,\"axis_line_color\":\"#E0E0E0\",\"coordinates\":null,\"formatter\":{\"id\":\"18032\"},\"group\":null,\"major_label_policy\":{\"id\":\"18033\"},\"major_label_text_color\":\"#E0E0E0\",\"major_label_text_font\":\"Helvetica\",\"major_label_text_font_size\":\"1.025em\",\"major_tick_line_alpha\":0,\"major_tick_line_color\":\"#E0E0E0\",\"minor_tick_line_alpha\":0,\"minor_tick_line_color\":\"#E0E0E0\",\"ticker\":{\"id\":\"17510\"}},\"id\":\"17509\",\"type\":\"LinearAxis\"},{\"attributes\":{},\"id\":\"18033\",\"type\":\"AllLabels\"},{\"attributes\":{\"axis\":{\"id\":\"17509\"},\"coordinates\":null,\"dimension\":1,\"grid_line_alpha\":0.25,\"grid_line_color\":\"#E0E0E0\",\"group\":null,\"ticker\":null},\"id\":\"17512\",\"type\":\"Grid\"},{\"attributes\":{},\"id\":\"17501\",\"type\":\"LinearScale\"},{\"attributes\":{\"data\":{\"x\":[1,2,3,4,5],\"y\":[4,5,5,7,2]},\"selected\":{\"id\":\"18038\"},\"selection_policy\":{\"id\":\"18037\"}},\"id\":\"17527\",\"type\":\"ColumnDataSource\"},{\"attributes\":{\"line_alpha\":0.2,\"line_color\":\"green\",\"line_width\":2,\"x\":{\"field\":\"x\"},\"y\":{\"field\":\"y\"}},\"id\":\"17530\",\"type\":\"Line\"},{\"attributes\":{},\"id\":\"17503\",\"type\":\"LinearScale\"},{\"attributes\":{},\"id\":\"17510\",\"type\":\"BasicTicker\"}],\"root_ids\":[\"17494\"]},\"title\":\"Bokeh Application\",\"version\":\"2.4.2\"}};\n",
       "  const render_items = [{\"docid\":\"ae10b388-ce52-46be-93fa-8033b96a30d2\",\"root_ids\":[\"17494\"],\"roots\":{\"17494\":\"addf7653-e447-4242-89bc-e8cc23071f2a\"}}];\n",
       "  root.Bokeh.embed.embed_items_notebook(docs_json, render_items);\n",
       "\n",
       "  }\n",
       "  if (root.Bokeh !== undefined) {\n",
       "    embed_document(root);\n",
       "  } else {\n",
       "    let attempts = 0;\n",
       "    const timer = setInterval(function(root) {\n",
       "      if (root.Bokeh !== undefined) {\n",
       "        clearInterval(timer);\n",
       "        embed_document(root);\n",
       "      } else {\n",
       "        attempts++;\n",
       "        if (attempts > 100) {\n",
       "          clearInterval(timer);\n",
       "          console.log(\"Bokeh: ERROR: Unable to run BokehJS code because BokehJS library is missing\");\n",
       "        }\n",
       "      }\n",
       "    }, 10, root)\n",
       "  }\n",
       "})(window);"
      ],
      "application/vnd.bokehjs_exec.v0+json": ""
     },
     "metadata": {
      "application/vnd.bokehjs_exec.v0+json": {
       "id": "17494"
      }
     },
     "output_type": "display_data"
    }
   ],
   "source": [
    "from bokeh.plotting import figure, show\n",
    "\n",
    "# prepare some data\n",
    "x = [1, 2, 3, 4, 5]\n",
    "y = [4, 5, 5, 7, 2]\n",
    "\n",
    "# create a plot\n",
    "p = figure(\n",
    "    title=\"Background colors example\",\n",
    "    sizing_mode=\"stretch_width\",\n",
    "    max_width=500,\n",
    "    height=250,\n",
    ")\n",
    "\n",
    "# add a renderer\n",
    "p.line(x, y, line_color=\"green\", line_width=2)\n",
    "\n",
    "# change the fill colors\n",
    "\n",
    "p.background_fill_color = (\"white\")         # intérieur du plot bleu clair\n",
    "p.border_fill_color = (\"yellow\")        # extérieur du plot rouge\n",
    "p.outline_line_color = (\"red\")       # couleur de ligne du contour de bordure du tracé\n",
    "\n",
    "\n",
    "# show the results\n",
    "show(p)"
   ]
  },
  {
   "cell_type": "markdown",
   "id": "35eb7cf1-273f-4afe-a0b5-b46fb759e3a1",
   "metadata": {},
   "source": [
    "### Barre d'Outils\n",
    "toolbar_location=\"below\"  # barre d'outils en bas à droite\n",
    "toolbar_location=None     # pas de barre d'outils ( True par défaut )\n",
    "toolbar.autohide = True   # masque la barre sauf si souris passe dessus\n",
    "\n"
   ]
  },
  {
   "cell_type": "code",
   "execution_count": 6,
   "id": "0279dfbf-d52b-4621-b482-e53c3e21e012",
   "metadata": {},
   "outputs": [
    {
     "data": {
      "text/html": [
       "\n",
       "    <div class=\"bk-root\">\n",
       "        <a href=\"https://bokeh.org\" target=\"_blank\" class=\"bk-logo bk-logo-small bk-logo-notebook\"></a>\n",
       "        <span id=\"1473\">Loading BokehJS ...</span>\n",
       "    </div>"
      ]
     },
     "metadata": {},
     "output_type": "display_data"
    },
    {
     "data": {
      "application/javascript": [
       "\n",
       "(function(root) {\n",
       "  function now() {\n",
       "    return new Date();\n",
       "  }\n",
       "\n",
       "  const force = true;\n",
       "\n",
       "  if (typeof root._bokeh_onload_callbacks === \"undefined\" || force === true) {\n",
       "    root._bokeh_onload_callbacks = [];\n",
       "    root._bokeh_is_loading = undefined;\n",
       "  }\n",
       "\n",
       "  const JS_MIME_TYPE = 'application/javascript';\n",
       "  const HTML_MIME_TYPE = 'text/html';\n",
       "  const EXEC_MIME_TYPE = 'application/vnd.bokehjs_exec.v0+json';\n",
       "  const CLASS_NAME = 'output_bokeh rendered_html';\n",
       "\n",
       "  /**\n",
       "   * Render data to the DOM node\n",
       "   */\n",
       "  function render(props, node) {\n",
       "    const script = document.createElement(\"script\");\n",
       "    node.appendChild(script);\n",
       "  }\n",
       "\n",
       "  /**\n",
       "   * Handle when an output is cleared or removed\n",
       "   */\n",
       "  function handleClearOutput(event, handle) {\n",
       "    const cell = handle.cell;\n",
       "\n",
       "    const id = cell.output_area._bokeh_element_id;\n",
       "    const server_id = cell.output_area._bokeh_server_id;\n",
       "    // Clean up Bokeh references\n",
       "    if (id != null && id in Bokeh.index) {\n",
       "      Bokeh.index[id].model.document.clear();\n",
       "      delete Bokeh.index[id];\n",
       "    }\n",
       "\n",
       "    if (server_id !== undefined) {\n",
       "      // Clean up Bokeh references\n",
       "      const cmd_clean = \"from bokeh.io.state import curstate; print(curstate().uuid_to_server['\" + server_id + \"'].get_sessions()[0].document.roots[0]._id)\";\n",
       "      cell.notebook.kernel.execute(cmd_clean, {\n",
       "        iopub: {\n",
       "          output: function(msg) {\n",
       "            const id = msg.content.text.trim();\n",
       "            if (id in Bokeh.index) {\n",
       "              Bokeh.index[id].model.document.clear();\n",
       "              delete Bokeh.index[id];\n",
       "            }\n",
       "          }\n",
       "        }\n",
       "      });\n",
       "      // Destroy server and session\n",
       "      const cmd_destroy = \"import bokeh.io.notebook as ion; ion.destroy_server('\" + server_id + \"')\";\n",
       "      cell.notebook.kernel.execute(cmd_destroy);\n",
       "    }\n",
       "  }\n",
       "\n",
       "  /**\n",
       "   * Handle when a new output is added\n",
       "   */\n",
       "  function handleAddOutput(event, handle) {\n",
       "    const output_area = handle.output_area;\n",
       "    const output = handle.output;\n",
       "\n",
       "    // limit handleAddOutput to display_data with EXEC_MIME_TYPE content only\n",
       "    if ((output.output_type != \"display_data\") || (!Object.prototype.hasOwnProperty.call(output.data, EXEC_MIME_TYPE))) {\n",
       "      return\n",
       "    }\n",
       "\n",
       "    const toinsert = output_area.element.find(\".\" + CLASS_NAME.split(' ')[0]);\n",
       "\n",
       "    if (output.metadata[EXEC_MIME_TYPE][\"id\"] !== undefined) {\n",
       "      toinsert[toinsert.length - 1].firstChild.textContent = output.data[JS_MIME_TYPE];\n",
       "      // store reference to embed id on output_area\n",
       "      output_area._bokeh_element_id = output.metadata[EXEC_MIME_TYPE][\"id\"];\n",
       "    }\n",
       "    if (output.metadata[EXEC_MIME_TYPE][\"server_id\"] !== undefined) {\n",
       "      const bk_div = document.createElement(\"div\");\n",
       "      bk_div.innerHTML = output.data[HTML_MIME_TYPE];\n",
       "      const script_attrs = bk_div.children[0].attributes;\n",
       "      for (let i = 0; i < script_attrs.length; i++) {\n",
       "        toinsert[toinsert.length - 1].firstChild.setAttribute(script_attrs[i].name, script_attrs[i].value);\n",
       "        toinsert[toinsert.length - 1].firstChild.textContent = bk_div.children[0].textContent\n",
       "      }\n",
       "      // store reference to server id on output_area\n",
       "      output_area._bokeh_server_id = output.metadata[EXEC_MIME_TYPE][\"server_id\"];\n",
       "    }\n",
       "  }\n",
       "\n",
       "  function register_renderer(events, OutputArea) {\n",
       "\n",
       "    function append_mime(data, metadata, element) {\n",
       "      // create a DOM node to render to\n",
       "      const toinsert = this.create_output_subarea(\n",
       "        metadata,\n",
       "        CLASS_NAME,\n",
       "        EXEC_MIME_TYPE\n",
       "      );\n",
       "      this.keyboard_manager.register_events(toinsert);\n",
       "      // Render to node\n",
       "      const props = {data: data, metadata: metadata[EXEC_MIME_TYPE]};\n",
       "      render(props, toinsert[toinsert.length - 1]);\n",
       "      element.append(toinsert);\n",
       "      return toinsert\n",
       "    }\n",
       "\n",
       "    /* Handle when an output is cleared or removed */\n",
       "    events.on('clear_output.CodeCell', handleClearOutput);\n",
       "    events.on('delete.Cell', handleClearOutput);\n",
       "\n",
       "    /* Handle when a new output is added */\n",
       "    events.on('output_added.OutputArea', handleAddOutput);\n",
       "\n",
       "    /**\n",
       "     * Register the mime type and append_mime function with output_area\n",
       "     */\n",
       "    OutputArea.prototype.register_mime_type(EXEC_MIME_TYPE, append_mime, {\n",
       "      /* Is output safe? */\n",
       "      safe: true,\n",
       "      /* Index of renderer in `output_area.display_order` */\n",
       "      index: 0\n",
       "    });\n",
       "  }\n",
       "\n",
       "  // register the mime type if in Jupyter Notebook environment and previously unregistered\n",
       "  if (root.Jupyter !== undefined) {\n",
       "    const events = require('base/js/events');\n",
       "    const OutputArea = require('notebook/js/outputarea').OutputArea;\n",
       "\n",
       "    if (OutputArea.prototype.mime_types().indexOf(EXEC_MIME_TYPE) == -1) {\n",
       "      register_renderer(events, OutputArea);\n",
       "    }\n",
       "  }\n",
       "\n",
       "  \n",
       "  if (typeof (root._bokeh_timeout) === \"undefined\" || force === true) {\n",
       "    root._bokeh_timeout = Date.now() + 5000;\n",
       "    root._bokeh_failed_load = false;\n",
       "  }\n",
       "\n",
       "  const NB_LOAD_WARNING = {'data': {'text/html':\n",
       "     \"<div style='background-color: #fdd'>\\n\"+\n",
       "     \"<p>\\n\"+\n",
       "     \"BokehJS does not appear to have successfully loaded. If loading BokehJS from CDN, this \\n\"+\n",
       "     \"may be due to a slow or bad network connection. Possible fixes:\\n\"+\n",
       "     \"</p>\\n\"+\n",
       "     \"<ul>\\n\"+\n",
       "     \"<li>re-rerun `output_notebook()` to attempt to load from CDN again, or</li>\\n\"+\n",
       "     \"<li>use INLINE resources instead, as so:</li>\\n\"+\n",
       "     \"</ul>\\n\"+\n",
       "     \"<code>\\n\"+\n",
       "     \"from bokeh.resources import INLINE\\n\"+\n",
       "     \"output_notebook(resources=INLINE)\\n\"+\n",
       "     \"</code>\\n\"+\n",
       "     \"</div>\"}};\n",
       "\n",
       "  function display_loaded() {\n",
       "    const el = document.getElementById(\"1473\");\n",
       "    if (el != null) {\n",
       "      el.textContent = \"BokehJS is loading...\";\n",
       "    }\n",
       "    if (root.Bokeh !== undefined) {\n",
       "      if (el != null) {\n",
       "        el.textContent = \"BokehJS \" + root.Bokeh.version + \" successfully loaded.\";\n",
       "      }\n",
       "    } else if (Date.now() < root._bokeh_timeout) {\n",
       "      setTimeout(display_loaded, 100)\n",
       "    }\n",
       "  }\n",
       "\n",
       "\n",
       "  function run_callbacks() {\n",
       "    try {\n",
       "      root._bokeh_onload_callbacks.forEach(function(callback) {\n",
       "        if (callback != null)\n",
       "          callback();\n",
       "      });\n",
       "    } finally {\n",
       "      delete root._bokeh_onload_callbacks\n",
       "    }\n",
       "    console.debug(\"Bokeh: all callbacks have finished\");\n",
       "  }\n",
       "\n",
       "  function load_libs(css_urls, js_urls, callback) {\n",
       "    if (css_urls == null) css_urls = [];\n",
       "    if (js_urls == null) js_urls = [];\n",
       "\n",
       "    root._bokeh_onload_callbacks.push(callback);\n",
       "    if (root._bokeh_is_loading > 0) {\n",
       "      console.debug(\"Bokeh: BokehJS is being loaded, scheduling callback at\", now());\n",
       "      return null;\n",
       "    }\n",
       "    if (js_urls == null || js_urls.length === 0) {\n",
       "      run_callbacks();\n",
       "      return null;\n",
       "    }\n",
       "    console.debug(\"Bokeh: BokehJS not loaded, scheduling load and callback at\", now());\n",
       "    root._bokeh_is_loading = css_urls.length + js_urls.length;\n",
       "\n",
       "    function on_load() {\n",
       "      root._bokeh_is_loading--;\n",
       "      if (root._bokeh_is_loading === 0) {\n",
       "        console.debug(\"Bokeh: all BokehJS libraries/stylesheets loaded\");\n",
       "        run_callbacks()\n",
       "      }\n",
       "    }\n",
       "\n",
       "    function on_error(url) {\n",
       "      console.error(\"failed to load \" + url);\n",
       "    }\n",
       "\n",
       "    for (let i = 0; i < css_urls.length; i++) {\n",
       "      const url = css_urls[i];\n",
       "      const element = document.createElement(\"link\");\n",
       "      element.onload = on_load;\n",
       "      element.onerror = on_error.bind(null, url);\n",
       "      element.rel = \"stylesheet\";\n",
       "      element.type = \"text/css\";\n",
       "      element.href = url;\n",
       "      console.debug(\"Bokeh: injecting link tag for BokehJS stylesheet: \", url);\n",
       "      document.body.appendChild(element);\n",
       "    }\n",
       "\n",
       "    for (let i = 0; i < js_urls.length; i++) {\n",
       "      const url = js_urls[i];\n",
       "      const element = document.createElement('script');\n",
       "      element.onload = on_load;\n",
       "      element.onerror = on_error.bind(null, url);\n",
       "      element.async = false;\n",
       "      element.src = url;\n",
       "      console.debug(\"Bokeh: injecting script tag for BokehJS library: \", url);\n",
       "      document.head.appendChild(element);\n",
       "    }\n",
       "  };\n",
       "\n",
       "  function inject_raw_css(css) {\n",
       "    const element = document.createElement(\"style\");\n",
       "    element.appendChild(document.createTextNode(css));\n",
       "    document.body.appendChild(element);\n",
       "  }\n",
       "\n",
       "  \n",
       "  const js_urls = [\"https://cdn.bokeh.org/bokeh/release/bokeh-2.4.2.min.js\", \"https://cdn.bokeh.org/bokeh/release/bokeh-gl-2.4.2.min.js\", \"https://cdn.bokeh.org/bokeh/release/bokeh-widgets-2.4.2.min.js\", \"https://cdn.bokeh.org/bokeh/release/bokeh-tables-2.4.2.min.js\", \"https://cdn.bokeh.org/bokeh/release/bokeh-mathjax-2.4.2.min.js\"];\n",
       "  const css_urls = [];\n",
       "  \n",
       "\n",
       "  const inline_js = [\n",
       "    function(Bokeh) {\n",
       "      Bokeh.set_log_level(\"info\");\n",
       "    },\n",
       "    function(Bokeh) {\n",
       "    \n",
       "    \n",
       "    }\n",
       "  ];\n",
       "\n",
       "  function run_inline_js() {\n",
       "    \n",
       "    if (root.Bokeh !== undefined || force === true) {\n",
       "      \n",
       "    for (let i = 0; i < inline_js.length; i++) {\n",
       "      inline_js[i].call(root, root.Bokeh);\n",
       "    }\n",
       "    if (force === true) {\n",
       "        display_loaded();\n",
       "      }} else if (Date.now() < root._bokeh_timeout) {\n",
       "      setTimeout(run_inline_js, 100);\n",
       "    } else if (!root._bokeh_failed_load) {\n",
       "      console.log(\"Bokeh: BokehJS failed to load within specified timeout.\");\n",
       "      root._bokeh_failed_load = true;\n",
       "    } else if (force !== true) {\n",
       "      const cell = $(document.getElementById(\"1473\")).parents('.cell').data().cell;\n",
       "      cell.output_area.append_execute_result(NB_LOAD_WARNING)\n",
       "    }\n",
       "\n",
       "  }\n",
       "\n",
       "  if (root._bokeh_is_loading === 0) {\n",
       "    console.debug(\"Bokeh: BokehJS loaded, going straight to plotting\");\n",
       "    run_inline_js();\n",
       "  } else {\n",
       "    load_libs(css_urls, js_urls, function() {\n",
       "      console.debug(\"Bokeh: BokehJS plotting callback run at\", now());\n",
       "      run_inline_js();\n",
       "    });\n",
       "  }\n",
       "}(window));"
      ],
      "application/vnd.bokehjs_load.v0+json": "\n(function(root) {\n  function now() {\n    return new Date();\n  }\n\n  const force = true;\n\n  if (typeof root._bokeh_onload_callbacks === \"undefined\" || force === true) {\n    root._bokeh_onload_callbacks = [];\n    root._bokeh_is_loading = undefined;\n  }\n\n  \n\n  \n  if (typeof (root._bokeh_timeout) === \"undefined\" || force === true) {\n    root._bokeh_timeout = Date.now() + 5000;\n    root._bokeh_failed_load = false;\n  }\n\n  const NB_LOAD_WARNING = {'data': {'text/html':\n     \"<div style='background-color: #fdd'>\\n\"+\n     \"<p>\\n\"+\n     \"BokehJS does not appear to have successfully loaded. If loading BokehJS from CDN, this \\n\"+\n     \"may be due to a slow or bad network connection. Possible fixes:\\n\"+\n     \"</p>\\n\"+\n     \"<ul>\\n\"+\n     \"<li>re-rerun `output_notebook()` to attempt to load from CDN again, or</li>\\n\"+\n     \"<li>use INLINE resources instead, as so:</li>\\n\"+\n     \"</ul>\\n\"+\n     \"<code>\\n\"+\n     \"from bokeh.resources import INLINE\\n\"+\n     \"output_notebook(resources=INLINE)\\n\"+\n     \"</code>\\n\"+\n     \"</div>\"}};\n\n  function display_loaded() {\n    const el = document.getElementById(\"1473\");\n    if (el != null) {\n      el.textContent = \"BokehJS is loading...\";\n    }\n    if (root.Bokeh !== undefined) {\n      if (el != null) {\n        el.textContent = \"BokehJS \" + root.Bokeh.version + \" successfully loaded.\";\n      }\n    } else if (Date.now() < root._bokeh_timeout) {\n      setTimeout(display_loaded, 100)\n    }\n  }\n\n\n  function run_callbacks() {\n    try {\n      root._bokeh_onload_callbacks.forEach(function(callback) {\n        if (callback != null)\n          callback();\n      });\n    } finally {\n      delete root._bokeh_onload_callbacks\n    }\n    console.debug(\"Bokeh: all callbacks have finished\");\n  }\n\n  function load_libs(css_urls, js_urls, callback) {\n    if (css_urls == null) css_urls = [];\n    if (js_urls == null) js_urls = [];\n\n    root._bokeh_onload_callbacks.push(callback);\n    if (root._bokeh_is_loading > 0) {\n      console.debug(\"Bokeh: BokehJS is being loaded, scheduling callback at\", now());\n      return null;\n    }\n    if (js_urls == null || js_urls.length === 0) {\n      run_callbacks();\n      return null;\n    }\n    console.debug(\"Bokeh: BokehJS not loaded, scheduling load and callback at\", now());\n    root._bokeh_is_loading = css_urls.length + js_urls.length;\n\n    function on_load() {\n      root._bokeh_is_loading--;\n      if (root._bokeh_is_loading === 0) {\n        console.debug(\"Bokeh: all BokehJS libraries/stylesheets loaded\");\n        run_callbacks()\n      }\n    }\n\n    function on_error(url) {\n      console.error(\"failed to load \" + url);\n    }\n\n    for (let i = 0; i < css_urls.length; i++) {\n      const url = css_urls[i];\n      const element = document.createElement(\"link\");\n      element.onload = on_load;\n      element.onerror = on_error.bind(null, url);\n      element.rel = \"stylesheet\";\n      element.type = \"text/css\";\n      element.href = url;\n      console.debug(\"Bokeh: injecting link tag for BokehJS stylesheet: \", url);\n      document.body.appendChild(element);\n    }\n\n    for (let i = 0; i < js_urls.length; i++) {\n      const url = js_urls[i];\n      const element = document.createElement('script');\n      element.onload = on_load;\n      element.onerror = on_error.bind(null, url);\n      element.async = false;\n      element.src = url;\n      console.debug(\"Bokeh: injecting script tag for BokehJS library: \", url);\n      document.head.appendChild(element);\n    }\n  };\n\n  function inject_raw_css(css) {\n    const element = document.createElement(\"style\");\n    element.appendChild(document.createTextNode(css));\n    document.body.appendChild(element);\n  }\n\n  \n  const js_urls = [\"https://cdn.bokeh.org/bokeh/release/bokeh-2.4.2.min.js\", \"https://cdn.bokeh.org/bokeh/release/bokeh-gl-2.4.2.min.js\", \"https://cdn.bokeh.org/bokeh/release/bokeh-widgets-2.4.2.min.js\", \"https://cdn.bokeh.org/bokeh/release/bokeh-tables-2.4.2.min.js\", \"https://cdn.bokeh.org/bokeh/release/bokeh-mathjax-2.4.2.min.js\"];\n  const css_urls = [];\n  \n\n  const inline_js = [\n    function(Bokeh) {\n      Bokeh.set_log_level(\"info\");\n    },\n    function(Bokeh) {\n    \n    \n    }\n  ];\n\n  function run_inline_js() {\n    \n    if (root.Bokeh !== undefined || force === true) {\n      \n    for (let i = 0; i < inline_js.length; i++) {\n      inline_js[i].call(root, root.Bokeh);\n    }\n    if (force === true) {\n        display_loaded();\n      }} else if (Date.now() < root._bokeh_timeout) {\n      setTimeout(run_inline_js, 100);\n    } else if (!root._bokeh_failed_load) {\n      console.log(\"Bokeh: BokehJS failed to load within specified timeout.\");\n      root._bokeh_failed_load = true;\n    } else if (force !== true) {\n      const cell = $(document.getElementById(\"1473\")).parents('.cell').data().cell;\n      cell.output_area.append_execute_result(NB_LOAD_WARNING)\n    }\n\n  }\n\n  if (root._bokeh_is_loading === 0) {\n    console.debug(\"Bokeh: BokehJS loaded, going straight to plotting\");\n    run_inline_js();\n  } else {\n    load_libs(css_urls, js_urls, function() {\n      console.debug(\"Bokeh: BokehJS plotting callback run at\", now());\n      run_inline_js();\n    });\n  }\n}(window));"
     },
     "metadata": {},
     "output_type": "display_data"
    },
    {
     "data": {
      "text/html": [
       "\n",
       "\n",
       "\n",
       "\n",
       "\n",
       "\n",
       "  <div class=\"bk-root\" id=\"b09bdd2e-7b1d-4e1f-8f53-656c9f4ed534\" data-root-id=\"1449\"></div>\n"
      ]
     },
     "metadata": {},
     "output_type": "display_data"
    },
    {
     "data": {
      "application/javascript": [
       "(function(root) {\n",
       "  function embed_document(root) {\n",
       "    \n",
       "  const docs_json = {\"94181fbf-8c59-49f4-a585-1d2b3035597d\":{\"defs\":[],\"roots\":{\"references\":[{\"attributes\":{\"below\":[{\"id\":\"1460\"}],\"center\":[{\"id\":\"1463\"},{\"id\":\"1467\"}],\"height\":250,\"left\":[{\"id\":\"1464\"}],\"max_width\":500,\"renderers\":[{\"id\":\"1480\"}],\"sizing_mode\":\"stretch_width\",\"title\":{\"id\":\"1450\"},\"toolbar\":{\"id\":\"1469\"},\"x_range\":{\"id\":\"1452\"},\"x_scale\":{\"id\":\"1456\"},\"y_range\":{\"id\":\"1454\"},\"y_scale\":{\"id\":\"1458\"}},\"id\":\"1449\",\"subtype\":\"Figure\",\"type\":\"Plot\"},{\"attributes\":{\"overlay\":{\"id\":\"1468\"}},\"id\":\"1446\",\"type\":\"BoxZoomTool\"},{\"attributes\":{\"callback\":null},\"id\":\"1448\",\"type\":\"HoverTool\"},{\"attributes\":{\"bottom_units\":\"screen\",\"coordinates\":null,\"fill_alpha\":0.5,\"fill_color\":\"lightgrey\",\"group\":null,\"left_units\":\"screen\",\"level\":\"overlay\",\"line_alpha\":1.0,\"line_color\":\"black\",\"line_dash\":[4,4],\"line_width\":2,\"right_units\":\"screen\",\"syncable\":false,\"top_units\":\"screen\"},\"id\":\"1468\",\"type\":\"BoxAnnotation\"},{\"attributes\":{},\"id\":\"1447\",\"type\":\"ResetTool\"},{\"attributes\":{\"fill_alpha\":{\"value\":0.2},\"fill_color\":{\"value\":\"#1f77b4\"},\"hatch_alpha\":{\"value\":0.2},\"line_alpha\":{\"value\":0.2},\"line_color\":{\"value\":\"#1f77b4\"},\"size\":{\"value\":10},\"x\":{\"field\":\"x\"},\"y\":{\"field\":\"y\"}},\"id\":\"1479\",\"type\":\"Circle\"},{\"attributes\":{\"tools\":[{\"id\":\"1446\"},{\"id\":\"1447\"},{\"id\":\"1448\"},{\"id\":\"1474\"}]},\"id\":\"1469\",\"type\":\"Toolbar\"},{\"attributes\":{},\"id\":\"1465\",\"type\":\"BasicTicker\"},{\"attributes\":{\"axis\":{\"id\":\"1464\"},\"coordinates\":null,\"dimension\":1,\"group\":null,\"ticker\":null},\"id\":\"1467\",\"type\":\"Grid\"},{\"attributes\":{\"axis\":{\"id\":\"1460\"},\"coordinates\":null,\"group\":null,\"ticker\":null},\"id\":\"1463\",\"type\":\"Grid\"},{\"attributes\":{},\"id\":\"1458\",\"type\":\"LinearScale\"},{\"attributes\":{},\"id\":\"1530\",\"type\":\"Selection\"},{\"attributes\":{},\"id\":\"1461\",\"type\":\"BasicTicker\"},{\"attributes\":{},\"id\":\"1529\",\"type\":\"UnionRenderers\"},{\"attributes\":{\"fill_alpha\":{\"value\":0.1},\"fill_color\":{\"value\":\"#1f77b4\"},\"hatch_alpha\":{\"value\":0.1},\"line_alpha\":{\"value\":0.1},\"line_color\":{\"value\":\"#1f77b4\"},\"size\":{\"value\":10},\"x\":{\"field\":\"x\"},\"y\":{\"field\":\"y\"}},\"id\":\"1478\",\"type\":\"Circle\"},{\"attributes\":{\"coordinates\":null,\"data_source\":{\"id\":\"1476\"},\"glyph\":{\"id\":\"1477\"},\"group\":null,\"hover_glyph\":null,\"muted_glyph\":{\"id\":\"1479\"},\"nonselection_glyph\":{\"id\":\"1478\"},\"view\":{\"id\":\"1481\"}},\"id\":\"1480\",\"type\":\"GlyphRenderer\"},{\"attributes\":{\"source\":{\"id\":\"1476\"}},\"id\":\"1481\",\"type\":\"CDSView\"},{\"attributes\":{},\"id\":\"1525\",\"type\":\"AllLabels\"},{\"attributes\":{},\"id\":\"1528\",\"type\":\"AllLabels\"},{\"attributes\":{},\"id\":\"1452\",\"type\":\"DataRange1d\"},{\"attributes\":{\"coordinates\":null,\"formatter\":{\"id\":\"1527\"},\"group\":null,\"major_label_policy\":{\"id\":\"1528\"},\"ticker\":{\"id\":\"1461\"}},\"id\":\"1460\",\"type\":\"LinearAxis\"},{\"attributes\":{},\"id\":\"1456\",\"type\":\"LinearScale\"},{\"attributes\":{},\"id\":\"1454\",\"type\":\"DataRange1d\"},{\"attributes\":{\"coordinates\":null,\"formatter\":{\"id\":\"1524\"},\"group\":null,\"major_label_policy\":{\"id\":\"1525\"},\"ticker\":{\"id\":\"1465\"}},\"id\":\"1464\",\"type\":\"LinearAxis\"},{\"attributes\":{\"dimensions\":\"width\"},\"id\":\"1474\",\"type\":\"PanTool\"},{\"attributes\":{\"coordinates\":null,\"group\":null,\"text\":\"Modifying tools example\"},\"id\":\"1450\",\"type\":\"Title\"},{\"attributes\":{},\"id\":\"1524\",\"type\":\"BasicTickFormatter\"},{\"attributes\":{\"data\":{\"x\":[1,2,3,4,5],\"y\":[4,5,5,7,2]},\"selected\":{\"id\":\"1530\"},\"selection_policy\":{\"id\":\"1529\"}},\"id\":\"1476\",\"type\":\"ColumnDataSource\"},{\"attributes\":{},\"id\":\"1527\",\"type\":\"BasicTickFormatter\"},{\"attributes\":{\"fill_color\":{\"value\":\"#1f77b4\"},\"line_color\":{\"value\":\"#1f77b4\"},\"size\":{\"value\":10},\"x\":{\"field\":\"x\"},\"y\":{\"field\":\"y\"}},\"id\":\"1477\",\"type\":\"Circle\"}],\"root_ids\":[\"1449\"]},\"title\":\"Bokeh Application\",\"version\":\"2.4.2\"}};\n",
       "  const render_items = [{\"docid\":\"94181fbf-8c59-49f4-a585-1d2b3035597d\",\"root_ids\":[\"1449\"],\"roots\":{\"1449\":\"b09bdd2e-7b1d-4e1f-8f53-656c9f4ed534\"}}];\n",
       "  root.Bokeh.embed.embed_items_notebook(docs_json, render_items);\n",
       "\n",
       "  }\n",
       "  if (root.Bokeh !== undefined) {\n",
       "    embed_document(root);\n",
       "  } else {\n",
       "    let attempts = 0;\n",
       "    const timer = setInterval(function(root) {\n",
       "      if (root.Bokeh !== undefined) {\n",
       "        clearInterval(timer);\n",
       "        embed_document(root);\n",
       "      } else {\n",
       "        attempts++;\n",
       "        if (attempts > 100) {\n",
       "          clearInterval(timer);\n",
       "          console.log(\"Bokeh: ERROR: Unable to run BokehJS code because BokehJS library is missing\");\n",
       "        }\n",
       "      }\n",
       "    }, 10, root)\n",
       "  }\n",
       "})(window);"
      ],
      "application/vnd.bokehjs_exec.v0+json": ""
     },
     "metadata": {
      "application/vnd.bokehjs_exec.v0+json": {
       "id": "1449"
      }
     },
     "output_type": "display_data"
    }
   ],
   "source": [
    "from bokeh.models import BoxZoomTool, PanTool, ResetTool, HoverTool\n",
    "from bokeh.plotting import figure, show\n",
    "from bokeh.io import output_notebook\n",
    "\n",
    "# prepare some data\n",
    "x = [1, 2, 3, 4, 5]\n",
    "y = [4, 5, 5, 7, 2]\n",
    "# create a plot\n",
    "p = figure(\n",
    "    title=\"Modifying tools example\",\n",
    "\n",
    "    tools=[BoxZoomTool(), ResetTool(), HoverTool()],  # ajout outils zoom, reset et comment Pts seulement\n",
    "    tooltips=\"Data point (@x , @y)\",\n",
    "    sizing_mode=\"stretch_width\",\n",
    "    max_width=500,\n",
    "    height=250,\n",
    ")\n",
    "\n",
    "output_notebook()\n",
    "# add an additional pan tool\n",
    "\n",
    "p.add_tools(PanTool(dimensions=\"width\"))  # only vertical panning is allowed = width largeur x\n",
    "\n",
    "# add a renderer\n",
    "p.circle(x, y, size=10)\n",
    "# show the results\n",
    "show(p)"
   ]
  },
  {
   "cell_type": "markdown",
   "id": "d1708444-099e-4241-9948-3121cc2c7a10",
   "metadata": {},
   "source": [
    "## 5 - Vectoriser les propriétés des glyphes, mappeurs\n",
    "modifier en fonction d'une variable"
   ]
  },
  {
   "cell_type": "code",
   "execution_count": 10,
   "id": "af587012-24a0-4bc3-8bb9-3ead49841683",
   "metadata": {},
   "outputs": [
    {
     "data": {
      "text/html": [
       "\n",
       "\n",
       "\n",
       "\n",
       "\n",
       "\n",
       "  <div class=\"bk-root\" id=\"49a3b8f3-60f6-4488-914d-283e253a113f\" data-root-id=\"1749\"></div>\n"
      ]
     },
     "metadata": {},
     "output_type": "display_data"
    },
    {
     "data": {
      "application/javascript": [
       "(function(root) {\n",
       "  function embed_document(root) {\n",
       "    \n",
       "  const docs_json = {\"feca96de-5414-429f-aa5d-9f5ca5d91e3d\":{\"defs\":[],\"roots\":{\"references\":[{\"attributes\":{\"below\":[{\"id\":\"1760\"}],\"center\":[{\"id\":\"1763\"},{\"id\":\"1767\"}],\"height\":250,\"left\":[{\"id\":\"1764\"}],\"max_width\":500,\"renderers\":[{\"id\":\"1786\"},{\"id\":\"1792\"}],\"sizing_mode\":\"stretch_width\",\"title\":{\"id\":\"1750\"},\"toolbar\":{\"id\":\"1775\"},\"x_range\":{\"id\":\"1752\"},\"x_scale\":{\"id\":\"1756\"},\"y_range\":{\"id\":\"1754\"},\"y_scale\":{\"id\":\"1758\"}},\"id\":\"1749\",\"subtype\":\"Figure\",\"type\":\"Plot\"},{\"attributes\":{},\"id\":\"1865\",\"type\":\"UnionRenderers\"},{\"attributes\":{\"source\":{\"id\":\"1782\"}},\"id\":\"1787\",\"type\":\"CDSView\"},{\"attributes\":{\"fill_color\":{\"field\":\"fill_color\"},\"line_color\":{\"value\":\"blue\"},\"size\":{\"value\":15},\"x\":{\"field\":\"x\"},\"y\":{\"field\":\"y\"}},\"id\":\"1789\",\"type\":\"Circle\"},{\"attributes\":{\"source\":{\"id\":\"1788\"}},\"id\":\"1793\",\"type\":\"CDSView\"},{\"attributes\":{},\"id\":\"1861\",\"type\":\"BasicTickFormatter\"},{\"attributes\":{\"fill_alpha\":{\"value\":0.2},\"fill_color\":{\"field\":\"fill_color\"},\"hatch_alpha\":{\"value\":0.2},\"line_alpha\":{\"value\":0.2},\"line_color\":{\"value\":\"blue\"},\"size\":{\"value\":15},\"x\":{\"field\":\"x\"},\"y\":{\"field\":\"y\"}},\"id\":\"1791\",\"type\":\"Circle\"},{\"attributes\":{\"axis\":{\"id\":\"1764\"},\"coordinates\":null,\"dimension\":1,\"group\":null,\"ticker\":null},\"id\":\"1767\",\"type\":\"Grid\"},{\"attributes\":{},\"id\":\"1765\",\"type\":\"BasicTicker\"},{\"attributes\":{},\"id\":\"1863\",\"type\":\"UnionRenderers\"},{\"attributes\":{\"line_alpha\":0.2,\"line_color\":\"blue\",\"x\":{\"field\":\"x\"},\"y\":{\"field\":\"y\"}},\"id\":\"1785\",\"type\":\"Line\"},{\"attributes\":{\"line_color\":\"blue\",\"x\":{\"field\":\"x\"},\"y\":{\"field\":\"y\"}},\"id\":\"1783\",\"type\":\"Line\"},{\"attributes\":{},\"id\":\"1772\",\"type\":\"ResetTool\"},{\"attributes\":{\"line_alpha\":0.1,\"line_color\":\"blue\",\"x\":{\"field\":\"x\"},\"y\":{\"field\":\"y\"}},\"id\":\"1784\",\"type\":\"Line\"},{\"attributes\":{\"data\":{\"fill_color\":[\"#fffaff\",\"#ff75ff\",\"#ff36ff\",\"#ff91ff\",\"#ff66ff\",\"#ffc7ff\",\"#ffd6ff\",\"#ff99ff\",\"#ffa1ff\",\"#ff14ff\",\"#ffbfff\",\"#ffedff\",\"#ff7aff\",\"#ffb5ff\",\"#ffe3ff\",\"#ff12ff\",\"#fff2ff\",\"#ff85ff\",\"#ffccff\",\"#ffcfff\",\"#ffadff\",\"#ff87ff\",\"#ff08ff\",\"#fffcff\",\"#ffabff\",\"#ffa6ff\"],\"x\":[0,1,2,3,4,5,6,7,8,9,10,11,12,13,14,15,16,17,18,19,20,21,22,23,24,25],\"y\":[98,46,21,57,40,78,84,60,63,8,75,93,48,71,89,7,95,52,80,81,68,53,3,99,67,65]},\"selected\":{\"id\":\"1866\"},\"selection_policy\":{\"id\":\"1865\"}},\"id\":\"1788\",\"type\":\"ColumnDataSource\"},{\"attributes\":{},\"id\":\"1756\",\"type\":\"LinearScale\"},{\"attributes\":{},\"id\":\"1864\",\"type\":\"Selection\"},{\"attributes\":{\"bottom_units\":\"screen\",\"coordinates\":null,\"fill_alpha\":0.5,\"fill_color\":\"lightgrey\",\"group\":null,\"left_units\":\"screen\",\"level\":\"overlay\",\"line_alpha\":1.0,\"line_color\":\"black\",\"line_dash\":[4,4],\"line_width\":2,\"right_units\":\"screen\",\"syncable\":false,\"top_units\":\"screen\"},\"id\":\"1774\",\"type\":\"BoxAnnotation\"},{\"attributes\":{\"axis\":{\"id\":\"1760\"},\"coordinates\":null,\"group\":null,\"ticker\":null},\"id\":\"1763\",\"type\":\"Grid\"},{\"attributes\":{\"fill_alpha\":{\"value\":0.1},\"fill_color\":{\"field\":\"fill_color\"},\"hatch_alpha\":{\"value\":0.1},\"line_alpha\":{\"value\":0.1},\"line_color\":{\"value\":\"blue\"},\"size\":{\"value\":15},\"x\":{\"field\":\"x\"},\"y\":{\"field\":\"y\"}},\"id\":\"1790\",\"type\":\"Circle\"},{\"attributes\":{},\"id\":\"1752\",\"type\":\"DataRange1d\"},{\"attributes\":{\"coordinates\":null,\"data_source\":{\"id\":\"1788\"},\"glyph\":{\"id\":\"1789\"},\"group\":null,\"hover_glyph\":null,\"muted_glyph\":{\"id\":\"1791\"},\"nonselection_glyph\":{\"id\":\"1790\"},\"view\":{\"id\":\"1793\"}},\"id\":\"1792\",\"type\":\"GlyphRenderer\"},{\"attributes\":{\"overlay\":{\"id\":\"1774\"}},\"id\":\"1770\",\"type\":\"BoxZoomTool\"},{\"attributes\":{},\"id\":\"1771\",\"type\":\"SaveTool\"},{\"attributes\":{},\"id\":\"1769\",\"type\":\"WheelZoomTool\"},{\"attributes\":{},\"id\":\"1858\",\"type\":\"BasicTickFormatter\"},{\"attributes\":{},\"id\":\"1768\",\"type\":\"PanTool\"},{\"attributes\":{},\"id\":\"1862\",\"type\":\"AllLabels\"},{\"attributes\":{\"coordinates\":null,\"formatter\":{\"id\":\"1861\"},\"group\":null,\"major_label_policy\":{\"id\":\"1862\"},\"ticker\":{\"id\":\"1761\"}},\"id\":\"1760\",\"type\":\"LinearAxis\"},{\"attributes\":{\"coordinates\":null,\"group\":null,\"text\":\"Vectorized colors example\"},\"id\":\"1750\",\"type\":\"Title\"},{\"attributes\":{},\"id\":\"1754\",\"type\":\"DataRange1d\"},{\"attributes\":{\"tools\":[{\"id\":\"1768\"},{\"id\":\"1769\"},{\"id\":\"1770\"},{\"id\":\"1771\"},{\"id\":\"1772\"},{\"id\":\"1773\"}]},\"id\":\"1775\",\"type\":\"Toolbar\"},{\"attributes\":{},\"id\":\"1866\",\"type\":\"Selection\"},{\"attributes\":{},\"id\":\"1773\",\"type\":\"HelpTool\"},{\"attributes\":{},\"id\":\"1761\",\"type\":\"BasicTicker\"},{\"attributes\":{\"data\":{\"x\":[0,1,2,3,4,5,6,7,8,9,10,11,12,13,14,15,16,17,18,19,20,21,22,23,24,25],\"y\":[98,46,21,57,40,78,84,60,63,8,75,93,48,71,89,7,95,52,80,81,68,53,3,99,67,65]},\"selected\":{\"id\":\"1864\"},\"selection_policy\":{\"id\":\"1863\"}},\"id\":\"1782\",\"type\":\"ColumnDataSource\"},{\"attributes\":{},\"id\":\"1758\",\"type\":\"LinearScale\"},{\"attributes\":{\"coordinates\":null,\"data_source\":{\"id\":\"1782\"},\"glyph\":{\"id\":\"1783\"},\"group\":null,\"hover_glyph\":null,\"muted_glyph\":{\"id\":\"1785\"},\"nonselection_glyph\":{\"id\":\"1784\"},\"view\":{\"id\":\"1787\"}},\"id\":\"1786\",\"type\":\"GlyphRenderer\"},{\"attributes\":{},\"id\":\"1859\",\"type\":\"AllLabels\"},{\"attributes\":{\"coordinates\":null,\"formatter\":{\"id\":\"1858\"},\"group\":null,\"major_label_policy\":{\"id\":\"1859\"},\"ticker\":{\"id\":\"1765\"}},\"id\":\"1764\",\"type\":\"LinearAxis\"}],\"root_ids\":[\"1749\"]},\"title\":\"Bokeh Application\",\"version\":\"2.4.2\"}};\n",
       "  const render_items = [{\"docid\":\"feca96de-5414-429f-aa5d-9f5ca5d91e3d\",\"root_ids\":[\"1749\"],\"roots\":{\"1749\":\"49a3b8f3-60f6-4488-914d-283e253a113f\"}}];\n",
       "  root.Bokeh.embed.embed_items_notebook(docs_json, render_items);\n",
       "\n",
       "  }\n",
       "  if (root.Bokeh !== undefined) {\n",
       "    embed_document(root);\n",
       "  } else {\n",
       "    let attempts = 0;\n",
       "    const timer = setInterval(function(root) {\n",
       "      if (root.Bokeh !== undefined) {\n",
       "        clearInterval(timer);\n",
       "        embed_document(root);\n",
       "      } else {\n",
       "        attempts++;\n",
       "        if (attempts > 100) {\n",
       "          clearInterval(timer);\n",
       "          console.log(\"Bokeh: ERROR: Unable to run BokehJS code because BokehJS library is missing\");\n",
       "        }\n",
       "      }\n",
       "    }, 10, root)\n",
       "  }\n",
       "})(window);"
      ],
      "application/vnd.bokehjs_exec.v0+json": ""
     },
     "metadata": {
      "application/vnd.bokehjs_exec.v0+json": {
       "id": "1749"
      }
     },
     "output_type": "display_data"
    }
   ],
   "source": [
    "import random\n",
    "from bokeh.plotting import figure, show\n",
    "\n",
    "# generate some data (1-10 for x, random values for y)\n",
    "x = list(range(0, 26))\n",
    "y = random.sample(range(0, 100), 26)\n",
    "\n",
    "# generate list of rgb hex colors in relation to y\n",
    "colors = [\"#%02x%02x%02x\" % (255, int(round(value * 255 / 100)), 255) for value in y] # on vectorise les couleurs\n",
    "\n",
    "# create new plot\n",
    "p = figure(\n",
    "    title=\"Vectorized colors example\",\n",
    "    sizing_mode=\"stretch_width\",\n",
    "    max_width=500,\n",
    "    height=250,\n",
    ")\n",
    "\n",
    "# add circle and line renderers\n",
    "line = p.line(x, y, line_color=\"blue\", line_width=1)\n",
    "circle = p.circle(x, y, fill_color=colors, line_color=\"blue\", size=15)   # on transforme les points en cercles et donne les couleurs vectorisées\n",
    "\n",
    "# show the results\n",
    "show(p)"
   ]
  },
  {
   "cell_type": "markdown",
   "id": "fa962ccd-87c5-48b4-8b5b-55561ac609d4",
   "metadata": {},
   "source": [
    "vectorisation de couleurs et tailles"
   ]
  },
  {
   "cell_type": "code",
   "execution_count": 12,
   "id": "0e8be131-8926-41fc-9aad-0246de111009",
   "metadata": {},
   "outputs": [
    {
     "data": {
      "text/html": [
       "\n",
       "\n",
       "\n",
       "\n",
       "\n",
       "\n",
       "  <div class=\"bk-root\" id=\"0e8f0e1d-e755-40a5-a751-d9688f802203\" data-root-id=\"1928\"></div>\n"
      ]
     },
     "metadata": {},
     "output_type": "display_data"
    },
    {
     "data": {
      "application/javascript": [
       "(function(root) {\n",
       "  function embed_document(root) {\n",
       "    \n",
       "  const docs_json = {\"b9dcd9be-61be-4740-af90-1b34d093b8da\":{\"defs\":[],\"roots\":{\"references\":[{\"attributes\":{\"below\":[{\"id\":\"1939\"}],\"center\":[{\"id\":\"1942\"},{\"id\":\"1946\"}],\"height\":250,\"left\":[{\"id\":\"1943\"}],\"max_width\":500,\"renderers\":[{\"id\":\"1965\"}],\"sizing_mode\":\"stretch_width\",\"title\":{\"id\":\"1929\"},\"toolbar\":{\"id\":\"1954\"},\"x_range\":{\"id\":\"1931\"},\"x_scale\":{\"id\":\"1935\"},\"y_range\":{\"id\":\"1933\"},\"y_scale\":{\"id\":\"1937\"}},\"id\":\"1928\",\"subtype\":\"Figure\",\"type\":\"Plot\"},{\"attributes\":{\"axis\":{\"id\":\"1943\"},\"coordinates\":null,\"dimension\":1,\"group\":null,\"ticker\":null},\"id\":\"1946\",\"type\":\"Grid\"},{\"attributes\":{\"tools\":[{\"id\":\"1947\"},{\"id\":\"1948\"},{\"id\":\"1949\"},{\"id\":\"1950\"},{\"id\":\"1951\"},{\"id\":\"1952\"}]},\"id\":\"1954\",\"type\":\"Toolbar\"},{\"attributes\":{},\"id\":\"1944\",\"type\":\"BasicTicker\"},{\"attributes\":{\"source\":{\"id\":\"1961\"}},\"id\":\"1966\",\"type\":\"CDSView\"},{\"attributes\":{},\"id\":\"1950\",\"type\":\"SaveTool\"},{\"attributes\":{},\"id\":\"1948\",\"type\":\"WheelZoomTool\"},{\"attributes\":{},\"id\":\"1947\",\"type\":\"PanTool\"},{\"attributes\":{},\"id\":\"2043\",\"type\":\"BasicTickFormatter\"},{\"attributes\":{},\"id\":\"2046\",\"type\":\"BasicTickFormatter\"},{\"attributes\":{},\"id\":\"2047\",\"type\":\"AllLabels\"},{\"attributes\":{\"fill_alpha\":{\"value\":0.1},\"fill_color\":{\"field\":\"fill_color\"},\"hatch_alpha\":{\"value\":0.1},\"line_alpha\":{\"value\":0.1},\"line_color\":{\"value\":\"lightgrey\"},\"radius\":{\"field\":\"radius\"},\"x\":{\"field\":\"x\"},\"y\":{\"field\":\"y\"}},\"id\":\"1963\",\"type\":\"Circle\"},{\"attributes\":{\"fill_alpha\":{\"value\":0.6},\"fill_color\":{\"field\":\"fill_color\"},\"line_color\":{\"value\":\"lightgrey\"},\"radius\":{\"field\":\"radius\"},\"x\":{\"field\":\"x\"},\"y\":{\"field\":\"y\"}},\"id\":\"1962\",\"type\":\"Circle\"},{\"attributes\":{\"data\":{\"fill_color\":[\"#ff6eff\",\"#ffd6ff\",\"#ff05ff\",\"#ffc7ff\",\"#ff4dff\",\"#ff22ff\",\"#ff94ff\",\"#ff41ff\",\"#fff2ff\",\"#ff3eff\",\"#ff1dff\",\"#ff49ff\",\"#ff9cff\",\"#ff12ff\",\"#ff2aff\",\"#ff5cff\",\"#ff18ff\",\"#fffaff\",\"#ffd1ff\",\"#ff1aff\",\"#ff4eff\",\"#ff40ff\",\"#ff1dff\",\"#ff65ff\",\"#ff83ff\",\"#ffd3ff\",\"#ff08ff\",\"#ff01ff\",\"#ff5eff\",\"#ff22ff\",\"#fffcff\",\"#ff82ff\",\"#ff59ff\",\"#ff53ff\",\"#ff9bff\",\"#ff85ff\",\"#ff29ff\",\"#ffc9ff\",\"#ffd4ff\",\"#ffb5ff\",\"#ffabff\",\"#ff94ff\",\"#fff1ff\",\"#ffc1ff\",\"#ff35ff\",\"#ff6fff\",\"#ff77ff\",\"#ffbbff\",\"#ff91ff\",\"#ff20ff\",\"#ff84ff\",\"#ffa7ff\",\"#ff45ff\",\"#ffdbff\",\"#ff14ff\",\"#ff2cff\",\"#ff6cff\",\"#ff45ff\",\"#ff3dff\",\"#ff2fff\",\"#ff44ff\",\"#ff86ff\",\"#ffc3ff\",\"#ffaeff\",\"#ff26ff\",\"#ff8eff\",\"#ff3dff\",\"#ffadff\",\"#ffe8ff\",\"#ffc4ff\",\"#ffe8ff\",\"#ff21ff\",\"#ff46ff\",\"#ffecff\",\"#ff1cff\",\"#ff18ff\",\"#ff9fff\",\"#ff4dff\",\"#ff2fff\",\"#ffd2ff\",\"#ff19ff\",\"#ff63ff\",\"#ffdaff\",\"#ff62ff\",\"#ff4aff\",\"#ff6fff\",\"#ff56ff\",\"#ff4eff\",\"#ff0fff\",\"#ff89ff\",\"#ffd7ff\",\"#ff3aff\",\"#ffcbff\",\"#ffc4ff\",\"#ffcaff\",\"#ff82ff\",\"#ff58ff\",\"#ff3aff\",\"#ffb5ff\",\"#ffe0ff\",\"#ff53ff\",\"#ff99ff\",\"#ff09ff\",\"#ffb5ff\",\"#ff7bff\",\"#ff51ff\",\"#ffe5ff\",\"#ffc8ff\",\"#ff5cff\",\"#ff30ff\",\"#ff5aff\",\"#ff13ff\",\"#ff0dff\",\"#ff03ff\",\"#ff9dff\",\"#ff99ff\",\"#ff28ff\",\"#ffc9ff\",\"#ff44ff\",\"#ff26ff\",\"#ff4cff\",\"#ff74ff\",\"#ff67ff\",\"#ffbbff\",\"#ff50ff\",\"#ffaaff\",\"#ffe1ff\",\"#ffb0ff\",\"#ff14ff\",\"#ff3eff\",\"#ff98ff\",\"#ff4fff\",\"#ff16ff\",\"#fff4ff\",\"#ffa4ff\",\"#ff2dff\",\"#ffb8ff\",\"#ff37ff\",\"#ff25ff\",\"#ff72ff\",\"#ff15ff\",\"#ffc2ff\",\"#ff66ff\",\"#ffc8ff\",\"#ff70ff\",\"#ff97ff\",\"#ff53ff\",\"#ff85ff\",\"#ff9aff\",\"#ff2fff\",\"#ffc5ff\",\"#ff09ff\",\"#ff49ff\",\"#ff0dff\",\"#ff69ff\",\"#ffddff\",\"#ff7cff\",\"#ff12ff\",\"#ffcdff\",\"#ffb9ff\",\"#ffecff\",\"#ff16ff\",\"#ff6eff\",\"#ff7eff\",\"#ffa8ff\",\"#ff29ff\",\"#ff0dff\",\"#ffc3ff\",\"#ff76ff\",\"#ff11ff\",\"#ffe5ff\",\"#ff83ff\",\"#ff90ff\",\"#ff3aff\",\"#ff73ff\",\"#ff27ff\",\"#ff09ff\",\"#ff2eff\",\"#ff1aff\",\"#ffdcff\",\"#fff2ff\",\"#ffefff\",\"#ff29ff\",\"#ff9aff\",\"#ff38ff\",\"#ffdeff\",\"#ffd6ff\",\"#ff55ff\",\"#ff31ff\",\"#ffceff\",\"#ffe7ff\",\"#ffa2ff\",\"#ff30ff\",\"#ff8cff\",\"#ff07ff\",\"#ffb6ff\",\"#ffb1ff\",\"#ff09ff\",\"#ff2bff\",\"#ff78ff\",\"#ff1eff\",\"#ffe0ff\",\"#ff53ff\",\"#ffe3ff\",\"#ffe1ff\",\"#ff86ff\",\"#ff52ff\",\"#ff88ff\",\"#ff51ff\",\"#ff5cff\",\"#fffdff\",\"#ff21ff\",\"#ff30ff\",\"#ff32ff\",\"#ff39ff\",\"#ffd0ff\",\"#ff63ff\",\"#ffd6ff\",\"#ffb5ff\",\"#ff96ff\",\"#ff52ff\",\"#ff8cff\",\"#ff82ff\",\"#ffd0ff\",\"#ff68ff\",\"#ff6bff\",\"#ffb1ff\",\"#ff8bff\",\"#ff53ff\",\"#ffcdff\",\"#ffaaff\",\"#ffc6ff\",\"#ff9bff\",\"#fff7ff\",\"#ffd7ff\",\"#fff0ff\",\"#ffe7ff\",\"#ffe3ff\",\"#ff4dff\",\"#ff50ff\",\"#fff0ff\",\"#ffa2ff\",\"#ff62ff\",\"#ffb2ff\",\"#ff89ff\",\"#ff1fff\",\"#ff76ff\",\"#ff46ff\",\"#ff18ff\",\"#ff6dff\",\"#ffbcff\",\"#ff6fff\",\"#ff0eff\",\"#ff2aff\",\"#ff21ff\",\"#ffb9ff\",\"#ffd7ff\",\"#ff54ff\",\"#ff8eff\",\"#ffa2ff\",\"#ff33ff\",\"#ff15ff\",\"#ff80ff\",\"#ffc6ff\",\"#ffd8ff\",\"#ff46ff\",\"#ff89ff\",\"#ffb1ff\",\"#ffeeff\",\"#ff3bff\",\"#ffccff\",\"#ff0aff\",\"#ffc4ff\",\"#ffceff\",\"#ff06ff\",\"#ff35ff\",\"#ff2cff\",\"#ff68ff\",\"#ffacff\",\"#ffaeff\",\"#ffb2ff\",\"#ff78ff\",\"#ff12ff\",\"#ffb8ff\",\"#ff1cff\",\"#ffd8ff\",\"#ffceff\",\"#ff0fff\",\"#fff9ff\",\"#ff0bff\",\"#ffb4ff\",\"#ff2bff\",\"#ff89ff\",\"#ff0fff\",\"#ff1bff\",\"#ff89ff\",\"#ffd4ff\",\"#ff50ff\",\"#ffd6ff\",\"#ffc9ff\",\"#ff8eff\",\"#fff8ff\",\"#ffd3ff\",\"#ff9aff\",\"#ff7dff\",\"#ff1eff\",\"#ff0fff\",\"#ff2aff\",\"#ff78ff\",\"#ffb8ff\",\"#fff9ff\",\"#ff77ff\",\"#ff1aff\",\"#ffd8ff\",\"#ff2eff\",\"#ff8cff\",\"#ff7aff\",\"#ff09ff\",\"#ffc8ff\",\"#ffbdff\",\"#ff33ff\",\"#ff9cff\",\"#ff59ff\",\"#ffeeff\",\"#ff68ff\",\"#ff9fff\",\"#ffabff\",\"#ff34ff\",\"#ffefff\",\"#ffbcff\",\"#ffa9ff\",\"#ffd6ff\",\"#ff3fff\",\"#fff4ff\",\"#ff43ff\",\"#ff77ff\",\"#ff85ff\",\"#ffa3ff\",\"#ffb0ff\",\"#ffefff\",\"#ffb3ff\",\"#ff2cff\",\"#ff8cff\",\"#ff5eff\",\"#fff7ff\",\"#ff48ff\",\"#ff2aff\",\"#ffe5ff\",\"#ff3fff\",\"#ff62ff\",\"#ff99ff\",\"#ffefff\",\"#ff93ff\",\"#ff2fff\",\"#ff6fff\",\"#ff0bff\",\"#ffb1ff\",\"#ffaeff\",\"#ffc5ff\",\"#ffc4ff\",\"#ffd0ff\",\"#ff01ff\",\"#ff0aff\",\"#ff6fff\",\"#ff01ff\",\"#ff3eff\",\"#ffbfff\",\"#ff50ff\",\"#ffd7ff\",\"#ffaaff\",\"#ff99ff\",\"#ff36ff\",\"#ff61ff\",\"#fff8ff\",\"#ff53ff\",\"#ff37ff\",\"#ff29ff\",\"#ff5fff\",\"#ffe6ff\",\"#ff9cff\",\"#ffa8ff\",\"#ff58ff\",\"#ff47ff\",\"#ff35ff\",\"#ff97ff\",\"#ffcbff\",\"#ff54ff\",\"#ffa6ff\",\"#ff06ff\",\"#ff4cff\",\"#ffaeff\",\"#ff27ff\",\"#fff3ff\",\"#ff18ff\",\"#ff49ff\",\"#ff4dff\",\"#ff33ff\",\"#ffa5ff\",\"#ff5fff\",\"#ff9dff\",\"#ff04ff\",\"#ff8cff\",\"#ff8cff\",\"#ffedff\",\"#ff0bff\",\"#ffccff\",\"#ff66ff\",\"#ff2dff\",\"#ff05ff\",\"#ff5bff\",\"#ffc1ff\",\"#ffbeff\",\"#ff13ff\",\"#ff5bff\",\"#ff41ff\",\"#ff42ff\",\"#ffb0ff\",\"#ff3bff\",\"#ff50ff\",\"#ff9fff\",\"#ffa6ff\",\"#ffcfff\",\"#ffc6ff\",\"#fff6ff\",\"#ffb8ff\",\"#fff4ff\",\"#ffa8ff\",\"#ffc7ff\",\"#ffa4ff\",\"#ff6cff\",\"#ff06ff\",\"#ff28ff\",\"#fff4ff\",\"#fff5ff\",\"#fff9ff\",\"#ff63ff\",\"#ff4cff\",\"#ff21ff\",\"#ff63ff\",\"#ff9cff\",\"#ff30ff\",\"#ffecff\",\"#ff91ff\",\"#ff7fff\",\"#ff91ff\",\"#ff64ff\",\"#ff2cff\",\"#ff9cff\",\"#ff20ff\",\"#ffd3ff\",\"#ff3dff\",\"#ff59ff\",\"#ffa7ff\",\"#ffaaff\",\"#ff3bff\",\"#ff76ff\",\"#ff14ff\",\"#ffbdff\",\"#ffdcff\",\"#ff71ff\",\"#ff64ff\",\"#ff90ff\",\"#ff64ff\",\"#ffd7ff\",\"#ff61ff\",\"#ff1fff\",\"#ff06ff\",\"#ffabff\",\"#ff9fff\",\"#ff4aff\",\"#ff2eff\",\"#ff7eff\",\"#ffc2ff\",\"#ff04ff\",\"#ffe1ff\",\"#ff6aff\",\"#ffe1ff\",\"#ff32ff\",\"#ff3bff\",\"#ffffff\",\"#ff6bff\",\"#ff39ff\",\"#ffa8ff\",\"#ffc1ff\",\"#ffaaff\",\"#ff9fff\",\"#ff32ff\",\"#fffdff\",\"#ffceff\",\"#ff52ff\",\"#ff9dff\",\"#ffdbff\",\"#ffbbff\",\"#ff1eff\",\"#ffedff\",\"#ffc4ff\",\"#ff09ff\",\"#ff42ff\",\"#ff60ff\",\"#ffffff\",\"#ff48ff\",\"#ff36ff\",\"#fff2ff\",\"#ff9bff\",\"#fff9ff\",\"#ffa2ff\",\"#ff1dff\",\"#ff98ff\",\"#ff12ff\",\"#ff10ff\",\"#ffe7ff\",\"#ff47ff\",\"#ff5cff\",\"#fff4ff\",\"#ff3fff\",\"#ff42ff\",\"#ff56ff\",\"#ff04ff\",\"#ff21ff\",\"#ff33ff\",\"#ff63ff\",\"#ff22ff\",\"#fff5ff\",\"#ff55ff\",\"#ff15ff\",\"#ff5cff\",\"#ffa2ff\",\"#ff41ff\",\"#ffb8ff\",\"#ff5bff\",\"#ff6eff\",\"#ffb7ff\",\"#ffd9ff\",\"#fff7ff\",\"#ffccff\",\"#ffe6ff\",\"#ff48ff\",\"#ff34ff\",\"#ff02ff\",\"#ff40ff\",\"#ff7eff\",\"#ff55ff\",\"#ff66ff\",\"#ffd5ff\",\"#ff3aff\",\"#fff2ff\",\"#ffdfff\",\"#ff3cff\",\"#ffe9ff\",\"#ffdcff\",\"#ffb3ff\",\"#ff9bff\",\"#ff92ff\",\"#ff50ff\",\"#ff8cff\",\"#ff2eff\",\"#ffa9ff\",\"#ffecff\",\"#ffa7ff\",\"#ff6cff\",\"#ff82ff\",\"#ff3dff\",\"#ff71ff\",\"#ff9aff\",\"#ffa1ff\",\"#ffadff\",\"#ff42ff\",\"#ffedff\",\"#ff31ff\",\"#ffd1ff\",\"#fffbff\",\"#ff02ff\",\"#ff9dff\",\"#fff9ff\",\"#fffcff\",\"#ff67ff\",\"#ff6cff\",\"#ff30ff\",\"#ffacff\",\"#ff56ff\",\"#ff38ff\",\"#ff79ff\",\"#ff76ff\",\"#ffe6ff\",\"#ff4dff\",\"#ff0aff\",\"#ffa6ff\",\"#ff33ff\",\"#ff87ff\",\"#ff6eff\",\"#ff37ff\",\"#ff5fff\",\"#ffc4ff\",\"#ffe9ff\",\"#ffecff\",\"#ff75ff\",\"#ffafff\",\"#ff1aff\",\"#ffd5ff\",\"#ffc9ff\",\"#ff62ff\",\"#ff35ff\",\"#ff0eff\",\"#ff5cff\",\"#fff3ff\",\"#fff2ff\",\"#ff5eff\",\"#ffc2ff\",\"#ffe0ff\",\"#ff46ff\",\"#ffe7ff\",\"#ff3dff\",\"#ff96ff\",\"#ff2aff\",\"#ffd7ff\",\"#ff78ff\",\"#ff01ff\",\"#ff30ff\",\"#ff83ff\",\"#fff0ff\",\"#ffd5ff\",\"#ffdfff\",\"#ffefff\",\"#ff43ff\",\"#ff45ff\",\"#ff89ff\",\"#ff14ff\",\"#ffb9ff\",\"#ffdaff\",\"#ff5aff\",\"#ffe2ff\",\"#ff35ff\",\"#ff09ff\",\"#ff93ff\",\"#ff21ff\",\"#ffc2ff\",\"#ff64ff\",\"#ff08ff\",\"#ffafff\",\"#ffbaff\",\"#ff69ff\",\"#ffeeff\",\"#ff72ff\",\"#ffeeff\",\"#ffdaff\",\"#ff95ff\",\"#ffafff\",\"#ff25ff\",\"#ff77ff\",\"#ffdbff\",\"#ffc2ff\",\"#fff6ff\",\"#ffc3ff\",\"#ff37ff\",\"#ff32ff\",\"#ffeaff\",\"#ff59ff\",\"#ffddff\",\"#ff6fff\",\"#ff3bff\",\"#ffc3ff\",\"#ffdbff\",\"#ff91ff\",\"#ff58ff\",\"#ff1bff\",\"#ffb3ff\",\"#ff23ff\",\"#ff06ff\",\"#ffcdff\",\"#ffc1ff\",\"#ff97ff\",\"#ff9dff\",\"#fff9ff\",\"#ff15ff\",\"#ff5bff\",\"#ff80ff\",\"#ff9dff\",\"#ffc5ff\",\"#ffefff\",\"#ff21ff\",\"#ffa7ff\",\"#ff12ff\",\"#ff8bff\",\"#ff0cff\",\"#ffcfff\",\"#ff53ff\",\"#ff98ff\",\"#ff85ff\",\"#ff63ff\",\"#ffb6ff\",\"#ff19ff\",\"#ff1fff\",\"#ff13ff\",\"#ff91ff\",\"#ff9fff\",\"#ff94ff\",\"#ff29ff\",\"#ff85ff\",\"#ff3aff\",\"#ff73ff\",\"#ff68ff\",\"#ffabff\",\"#ff3eff\",\"#ff8cff\",\"#ffb3ff\",\"#ff59ff\",\"#ffe5ff\",\"#ffc2ff\",\"#ffaeff\",\"#ffddff\",\"#ffd2ff\",\"#ff21ff\",\"#ff51ff\",\"#ff54ff\",\"#fff2ff\",\"#ff75ff\",\"#ffc2ff\",\"#ff62ff\",\"#ffb7ff\",\"#ff25ff\",\"#ff47ff\",\"#ff2bff\",\"#ffabff\",\"#ff71ff\",\"#ff72ff\",\"#ff40ff\",\"#ff7bff\",\"#ff08ff\",\"#ff3bff\",\"#fff1ff\",\"#ff2cff\",\"#ffa4ff\",\"#ff9eff\",\"#ffa5ff\",\"#ff98ff\",\"#ff4fff\",\"#ffdfff\",\"#ff01ff\",\"#fff8ff\",\"#fff1ff\",\"#ff4dff\",\"#ffc3ff\",\"#ff40ff\",\"#ffeeff\",\"#ff76ff\",\"#ffe8ff\",\"#ff90ff\",\"#ff36ff\",\"#ff09ff\",\"#ff24ff\",\"#ff7aff\",\"#ff81ff\",\"#ff6aff\",\"#ffceff\",\"#ff4dff\",\"#ff07ff\",\"#ffbaff\",\"#ff5cff\",\"#ffc2ff\",\"#ff59ff\",\"#ffcdff\",\"#ffdfff\",\"#ff87ff\",\"#ffc0ff\",\"#ff5dff\",\"#ff14ff\",\"#fff7ff\",\"#ffa8ff\",\"#ff2dff\",\"#ffc6ff\",\"#ff08ff\",\"#ff5dff\",\"#ffedff\",\"#ff0cff\",\"#ff9fff\",\"#ff22ff\",\"#ff4aff\",\"#ff6aff\",\"#ff7aff\",\"#ff54ff\",\"#ff51ff\",\"#ffcfff\",\"#ff14ff\",\"#ff30ff\",\"#ffbaff\",\"#ff3cff\",\"#ff11ff\",\"#ffafff\",\"#ffbcff\",\"#ff08ff\",\"#ff14ff\",\"#ff8cff\",\"#ff3cff\",\"#ff3dff\",\"#ff68ff\",\"#ff32ff\",\"#ff76ff\",\"#ff6eff\",\"#ffbfff\",\"#ff2dff\",\"#ff67ff\",\"#ffd8ff\",\"#ffebff\",\"#ff63ff\",\"#ff2aff\",\"#ff5fff\",\"#ffdaff\",\"#ffe0ff\",\"#ffe0ff\",\"#ffcaff\",\"#ffa9ff\",\"#ffbaff\",\"#ff83ff\",\"#ff7aff\",\"#ff92ff\",\"#ff55ff\",\"#fff8ff\",\"#ff87ff\",\"#ff24ff\",\"#ff41ff\",\"#ff95ff\",\"#ffc6ff\",\"#ffd2ff\",\"#ff90ff\",\"#ffc9ff\",\"#fff9ff\",\"#ff9aff\",\"#ff5bff\",\"#ff72ff\",\"#ff58ff\",\"#ff55ff\",\"#ffd4ff\",\"#ff3cff\",\"#ffe8ff\",\"#ffa0ff\",\"#fff9ff\",\"#ff0bff\",\"#ff3aff\",\"#ff28ff\",\"#ff7eff\",\"#ff4eff\",\"#ff76ff\",\"#fff7ff\",\"#ffa0ff\",\"#ff6cff\",\"#ff99ff\",\"#ff08ff\",\"#ff02ff\",\"#ff6cff\",\"#ff89ff\",\"#ff8aff\",\"#ff8dff\",\"#ff5eff\",\"#ffc6ff\",\"#ff17ff\",\"#ff12ff\",\"#ff96ff\",\"#ffb6ff\",\"#ffd9ff\",\"#ff17ff\",\"#ff6fff\",\"#ff71ff\",\"#ff0cff\",\"#ffd9ff\",\"#ff83ff\",\"#ff85ff\",\"#ff28ff\",\"#ff75ff\",\"#ffaaff\",\"#ff87ff\",\"#ffdfff\",\"#fff6ff\",\"#ffadff\",\"#ff06ff\",\"#ffacff\",\"#ff11ff\",\"#ffd9ff\",\"#ff45ff\",\"#ffa4ff\",\"#ffbdff\",\"#ffe7ff\",\"#ff28ff\",\"#ff94ff\",\"#ffe5ff\",\"#ff89ff\",\"#ff17ff\",\"#ff4eff\",\"#fffaff\",\"#ff79ff\",\"#ff86ff\",\"#ff1fff\",\"#ffe8ff\",\"#ff24ff\",\"#ffb8ff\",\"#ffefff\",\"#ff68ff\",\"#ff4fff\",\"#ff9eff\",\"#ff69ff\",\"#ff8aff\",\"#ffefff\",\"#ff55ff\",\"#fff2ff\",\"#ffeaff\",\"#fff3ff\",\"#ff09ff\",\"#fffeff\",\"#ff1bff\",\"#ffbeff\",\"#ffabff\",\"#fff1ff\",\"#ffecff\",\"#ffd6ff\",\"#ffb2ff\",\"#ff49ff\",\"#ff73ff\",\"#ff2bff\",\"#ff52ff\",\"#ffcfff\",\"#ff4eff\",\"#ff5aff\",\"#ff22ff\",\"#ffc0ff\",\"#ff1aff\",\"#ff73ff\",\"#ff60ff\",\"#ff9aff\",\"#ff2aff\",\"#ff2fff\",\"#ffe1ff\",\"#ffa9ff\",\"#ffb0ff\",\"#ff0dff\",\"#ffbfff\",\"#ffe2ff\",\"#ffa6ff\",\"#fff9ff\",\"#ff87ff\",\"#ff31ff\",\"#ff58ff\",\"#ff0dff\",\"#ffa1ff\",\"#ff18ff\",\"#fffbff\",\"#ffecff\",\"#ff42ff\",\"#ff7cff\",\"#ffb4ff\",\"#fff8ff\",\"#ffa2ff\",\"#ff4dff\",\"#ff00ff\",\"#ff95ff\",\"#fff8ff\",\"#ff5aff\",\"#ff25ff\",\"#ffd2ff\",\"#ffeaff\",\"#ff16ff\",\"#ff90ff\",\"#ff45ff\",\"#ff17ff\",\"#ffe9ff\",\"#ff5bff\",\"#ff47ff\",\"#ff8bff\",\"#ff0bff\",\"#ff3aff\",\"#ff65ff\",\"#ff72ff\",\"#ffa9ff\",\"#ff2bff\",\"#ffaeff\",\"#ff29ff\",\"#ff68ff\",\"#ff8fff\",\"#ffbdff\",\"#ff21ff\",\"#ff13ff\",\"#fffaff\",\"#ff5dff\",\"#ffabff\",\"#ffe8ff\",\"#ff84ff\",\"#ff8eff\",\"#ff18ff\",\"#ffbdff\",\"#ff8fff\",\"#ff2bff\",\"#ffb3ff\",\"#ff29ff\",\"#ff46ff\",\"#ff9bff\",\"#ff6cff\",\"#ff31ff\",\"#ffc5ff\",\"#ff43ff\",\"#ffd7ff\",\"#fff6ff\",\"#ffadff\"],\"radius\":{\"__ndarray__\":\"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\",\"dtype\":\"float64\",\"order\":\"little\",\"shape\":[1000]},\"x\":{\"__ndarray__\":\"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\",\"dtype\":\"float64\",\"order\":\"little\",\"shape\":[1000]},\"y\":{\"__ndarray__\":\"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\",\"dtype\":\"float64\",\"order\":\"little\",\"shape\":[1000]}},\"selected\":{\"id\":\"2049\"},\"selection_policy\":{\"id\":\"2048\"}},\"id\":\"1961\",\"type\":\"ColumnDataSource\"},{\"attributes\":{},\"id\":\"1931\",\"type\":\"DataRange1d\"},{\"attributes\":{},\"id\":\"2049\",\"type\":\"Selection\"},{\"attributes\":{\"coordinates\":null,\"data_source\":{\"id\":\"1961\"},\"glyph\":{\"id\":\"1962\"},\"group\":null,\"hover_glyph\":null,\"muted_glyph\":{\"id\":\"1964\"},\"nonselection_glyph\":{\"id\":\"1963\"},\"view\":{\"id\":\"1966\"}},\"id\":\"1965\",\"type\":\"GlyphRenderer\"},{\"attributes\":{},\"id\":\"1933\",\"type\":\"DataRange1d\"},{\"attributes\":{},\"id\":\"1935\",\"type\":\"LinearScale\"},{\"attributes\":{\"coordinates\":null,\"formatter\":{\"id\":\"2046\"},\"group\":null,\"major_label_policy\":{\"id\":\"2047\"},\"ticker\":{\"id\":\"1940\"}},\"id\":\"1939\",\"type\":\"LinearAxis\"},{\"attributes\":{},\"id\":\"1952\",\"type\":\"HelpTool\"},{\"attributes\":{},\"id\":\"2044\",\"type\":\"AllLabels\"},{\"attributes\":{\"coordinates\":null,\"formatter\":{\"id\":\"2043\"},\"group\":null,\"major_label_policy\":{\"id\":\"2044\"},\"ticker\":{\"id\":\"1944\"}},\"id\":\"1943\",\"type\":\"LinearAxis\"},{\"attributes\":{\"fill_alpha\":{\"value\":0.2},\"fill_color\":{\"field\":\"fill_color\"},\"hatch_alpha\":{\"value\":0.2},\"line_alpha\":{\"value\":0.2},\"line_color\":{\"value\":\"lightgrey\"},\"radius\":{\"field\":\"radius\"},\"x\":{\"field\":\"x\"},\"y\":{\"field\":\"y\"}},\"id\":\"1964\",\"type\":\"Circle\"},{\"attributes\":{\"coordinates\":null,\"group\":null,\"text\":\"Vectorized colors and radii example\"},\"id\":\"1929\",\"type\":\"Title\"},{\"attributes\":{},\"id\":\"2048\",\"type\":\"UnionRenderers\"},{\"attributes\":{\"overlay\":{\"id\":\"1953\"}},\"id\":\"1949\",\"type\":\"BoxZoomTool\"},{\"attributes\":{},\"id\":\"1940\",\"type\":\"BasicTicker\"},{\"attributes\":{},\"id\":\"1951\",\"type\":\"ResetTool\"},{\"attributes\":{},\"id\":\"1937\",\"type\":\"LinearScale\"},{\"attributes\":{\"bottom_units\":\"screen\",\"coordinates\":null,\"fill_alpha\":0.5,\"fill_color\":\"lightgrey\",\"group\":null,\"left_units\":\"screen\",\"level\":\"overlay\",\"line_alpha\":1.0,\"line_color\":\"black\",\"line_dash\":[4,4],\"line_width\":2,\"right_units\":\"screen\",\"syncable\":false,\"top_units\":\"screen\"},\"id\":\"1953\",\"type\":\"BoxAnnotation\"},{\"attributes\":{\"axis\":{\"id\":\"1939\"},\"coordinates\":null,\"group\":null,\"ticker\":null},\"id\":\"1942\",\"type\":\"Grid\"}],\"root_ids\":[\"1928\"]},\"title\":\"Bokeh Application\",\"version\":\"2.4.2\"}};\n",
       "  const render_items = [{\"docid\":\"b9dcd9be-61be-4740-af90-1b34d093b8da\",\"root_ids\":[\"1928\"],\"roots\":{\"1928\":\"0e8f0e1d-e755-40a5-a751-d9688f802203\"}}];\n",
       "  root.Bokeh.embed.embed_items_notebook(docs_json, render_items);\n",
       "\n",
       "  }\n",
       "  if (root.Bokeh !== undefined) {\n",
       "    embed_document(root);\n",
       "  } else {\n",
       "    let attempts = 0;\n",
       "    const timer = setInterval(function(root) {\n",
       "      if (root.Bokeh !== undefined) {\n",
       "        clearInterval(timer);\n",
       "        embed_document(root);\n",
       "      } else {\n",
       "        attempts++;\n",
       "        if (attempts > 100) {\n",
       "          clearInterval(timer);\n",
       "          console.log(\"Bokeh: ERROR: Unable to run BokehJS code because BokehJS library is missing\");\n",
       "        }\n",
       "      }\n",
       "    }, 10, root)\n",
       "  }\n",
       "})(window);"
      ],
      "application/vnd.bokehjs_exec.v0+json": ""
     },
     "metadata": {
      "application/vnd.bokehjs_exec.v0+json": {
       "id": "1928"
      }
     },
     "output_type": "display_data"
    }
   ],
   "source": [
    "import numpy as np\n",
    "from bokeh.plotting import figure, show\n",
    "\n",
    "# generate some data\n",
    "N = 1000\n",
    "x = np.random.random(size=N) * 100\n",
    "y = np.random.random(size=N) * 100\n",
    "\n",
    "# generate radii and colors based on data\n",
    "radii = y / 100 * 2   # on créé un radius qui sera vectorisé ensuite\n",
    "colors = [\"#%02x%02x%02x\" % (255, int(round(value * 255 / 100)), 255) for value in y]  # on vectorise les couleurs\n",
    "\n",
    "# create a new plot with a specific size\n",
    "p = figure(\n",
    "    title=\"Vectorized colors and radii example\",\n",
    "    sizing_mode=\"stretch_width\",\n",
    "    max_width=500,\n",
    "    height=250)\n",
    "\n",
    "# add circle renderer\n",
    "p.circle(x, y,\n",
    "    radius=radii,          # on vectorise le radius de y\n",
    "    fill_color=colors,     # on vectorise les couleurs\n",
    "    fill_alpha=0.6,\n",
    "    line_color=\"lightgrey\")\n",
    "\n",
    "# show the results\n",
    "show(p)"
   ]
  },
  {
   "cell_type": "markdown",
   "id": "ba30d11a-8b88-448f-a457-5d50acfc897a",
   "metadata": {},
   "source": [
    "### Mappages avec les palletes de Matplotlib, D3 ou Brewer"
   ]
  },
  {
   "cell_type": "code",
   "execution_count": 13,
   "id": "50c9df8e-4275-42bc-adc8-f7104f686557",
   "metadata": {},
   "outputs": [
    {
     "data": {
      "text/html": [
       "\n",
       "\n",
       "\n",
       "\n",
       "\n",
       "\n",
       "  <div class=\"bk-root\" id=\"a393391d-3705-4891-88ff-e8904266a506\" data-root-id=\"2102\"></div>\n"
      ]
     },
     "metadata": {},
     "output_type": "display_data"
    },
    {
     "data": {
      "application/javascript": [
       "(function(root) {\n",
       "  function embed_document(root) {\n",
       "    \n",
       "  const docs_json = {\"682aaa08-3a2d-4679-84b0-aa2d363a0c39\":{\"defs\":[],\"roots\":{\"references\":[{\"attributes\":{\"below\":[{\"id\":\"2111\"}],\"center\":[{\"id\":\"2114\"},{\"id\":\"2118\"}],\"height\":250,\"left\":[{\"id\":\"2115\"}],\"renderers\":[{\"id\":\"2137\"}],\"title\":{\"id\":\"2223\"},\"toolbar\":{\"id\":\"2126\"},\"width\":500,\"x_range\":{\"id\":\"2103\"},\"x_scale\":{\"id\":\"2107\"},\"y_range\":{\"id\":\"2105\"},\"y_scale\":{\"id\":\"2109\"}},\"id\":\"2102\",\"subtype\":\"Figure\",\"type\":\"Plot\"},{\"attributes\":{},\"id\":\"2230\",\"type\":\"AllLabels\"},{\"attributes\":{},\"id\":\"2124\",\"type\":\"HelpTool\"},{\"attributes\":{\"coordinates\":null,\"formatter\":{\"id\":\"2226\"},\"group\":null,\"major_label_policy\":{\"id\":\"2227\"},\"ticker\":{\"id\":\"2116\"}},\"id\":\"2115\",\"type\":\"LinearAxis\"},{\"attributes\":{\"source\":{\"id\":\"2133\"}},\"id\":\"2138\",\"type\":\"CDSView\"},{\"attributes\":{},\"id\":\"2105\",\"type\":\"DataRange1d\"},{\"attributes\":{},\"id\":\"2109\",\"type\":\"LinearScale\"},{\"attributes\":{\"fill_alpha\":{\"value\":0.1},\"fill_color\":{\"field\":\"y\",\"transform\":{\"id\":\"2101\"}},\"hatch_alpha\":{\"value\":0.1},\"hatch_color\":{\"field\":\"y\",\"transform\":{\"id\":\"2101\"}},\"line_alpha\":{\"value\":0.1},\"line_color\":{\"field\":\"y\",\"transform\":{\"id\":\"2101\"}},\"size\":{\"value\":10},\"x\":{\"field\":\"x\"},\"y\":{\"field\":\"y\"}},\"id\":\"2135\",\"type\":\"Circle\"},{\"attributes\":{},\"id\":\"2231\",\"type\":\"UnionRenderers\"},{\"attributes\":{\"high\":1024,\"low\":0,\"palette\":[\"#30123b\",\"#311542\",\"#32184a\",\"#341b51\",\"#351e58\",\"#36215f\",\"#372365\",\"#38266c\",\"#392972\",\"#3a2c79\",\"#3b2f7f\",\"#3c3285\",\"#3c358b\",\"#3d3791\",\"#3e3a96\",\"#3f3d9c\",\"#4040a1\",\"#4043a6\",\"#4145ab\",\"#4148b0\",\"#424bb5\",\"#434eba\",\"#4350be\",\"#4353c2\",\"#4456c7\",\"#4458cb\",\"#455bce\",\"#455ed2\",\"#4560d6\",\"#4563d9\",\"#4666dd\",\"#4668e0\",\"#466be3\",\"#466de6\",\"#4670e8\",\"#4673eb\",\"#4675ed\",\"#4678f0\",\"#467af2\",\"#467df4\",\"#467ff6\",\"#4682f8\",\"#4584f9\",\"#4587fb\",\"#4589fc\",\"#448cfd\",\"#438efd\",\"#4291fe\",\"#4193fe\",\"#4096fe\",\"#3f98fe\",\"#3e9bfe\",\"#3c9dfd\",\"#3ba0fc\",\"#39a2fc\",\"#38a5fb\",\"#36a8f9\",\"#34aaf8\",\"#33acf6\",\"#31aff5\",\"#2fb1f3\",\"#2db4f1\",\"#2bb6ef\",\"#2ab9ed\",\"#28bbeb\",\"#26bde9\",\"#25c0e6\",\"#23c2e4\",\"#21c4e1\",\"#20c6df\",\"#1ec9dc\",\"#1dcbda\",\"#1ccdd7\",\"#1bcfd4\",\"#1ad1d2\",\"#19d3cf\",\"#18d5cc\",\"#18d7ca\",\"#17d9c7\",\"#17dac4\",\"#17dcc2\",\"#17debf\",\"#18e0bd\",\"#18e1ba\",\"#19e3b8\",\"#1ae4b6\",\"#1be5b4\",\"#1de7b1\",\"#1ee8af\",\"#20e9ac\",\"#22eba9\",\"#24eca6\",\"#27eda3\",\"#29eea0\",\"#2cef9d\",\"#2ff09a\",\"#32f197\",\"#35f394\",\"#38f491\",\"#3bf48d\",\"#3ff58a\",\"#42f687\",\"#46f783\",\"#4af880\",\"#4df97c\",\"#51f979\",\"#55fa76\",\"#59fb72\",\"#5dfb6f\",\"#61fc6c\",\"#65fc68\",\"#69fd65\",\"#6dfd62\",\"#71fd5f\",\"#74fe5c\",\"#78fe59\",\"#7cfe56\",\"#80fe53\",\"#84fe50\",\"#87fe4d\",\"#8bfe4b\",\"#8efe48\",\"#92fe46\",\"#95fe44\",\"#98fe42\",\"#9bfd40\",\"#9efd3e\",\"#a1fc3d\",\"#a4fc3b\",\"#a6fb3a\",\"#a9fb39\",\"#acfa37\",\"#aef937\",\"#b1f836\",\"#b3f835\",\"#b6f735\",\"#b9f534\",\"#bbf434\",\"#bef334\",\"#c0f233\",\"#c3f133\",\"#c5ef33\",\"#c8ee33\",\"#caed33\",\"#cdeb34\",\"#cfea34\",\"#d1e834\",\"#d4e735\",\"#d6e535\",\"#d8e335\",\"#dae236\",\"#dde036\",\"#dfde36\",\"#e1dc37\",\"#e3da37\",\"#e5d838\",\"#e7d738\",\"#e8d538\",\"#ead339\",\"#ecd139\",\"#edcf39\",\"#efcd39\",\"#f0cb3a\",\"#f2c83a\",\"#f3c63a\",\"#f4c43a\",\"#f6c23a\",\"#f7c039\",\"#f8be39\",\"#f9bc39\",\"#f9ba38\",\"#fab737\",\"#fbb537\",\"#fbb336\",\"#fcb035\",\"#fcae34\",\"#fdab33\",\"#fda932\",\"#fda631\",\"#fda330\",\"#fea12f\",\"#fe9e2e\",\"#fe9b2d\",\"#fe982c\",\"#fd952b\",\"#fd9229\",\"#fd8f28\",\"#fd8c27\",\"#fc8926\",\"#fc8624\",\"#fb8323\",\"#fb8022\",\"#fa7d20\",\"#fa7a1f\",\"#f9771e\",\"#f8741c\",\"#f7711b\",\"#f76e1a\",\"#f66b18\",\"#f56817\",\"#f46516\",\"#f36315\",\"#f26014\",\"#f15d13\",\"#ef5a11\",\"#ee5810\",\"#ed550f\",\"#ec520e\",\"#ea500d\",\"#e94d0d\",\"#e84b0c\",\"#e6490b\",\"#e5460a\",\"#e3440a\",\"#e24209\",\"#e04008\",\"#de3e08\",\"#dd3c07\",\"#db3a07\",\"#d93806\",\"#d73606\",\"#d63405\",\"#d43205\",\"#d23005\",\"#d02f04\",\"#ce2d04\",\"#cb2b03\",\"#c92903\",\"#c72803\",\"#c52602\",\"#c32402\",\"#c02302\",\"#be2102\",\"#bb1f01\",\"#b91e01\",\"#b61c01\",\"#b41b01\",\"#b11901\",\"#ae1801\",\"#ac1601\",\"#a91501\",\"#a61401\",\"#a31201\",\"#a01101\",\"#9d1001\",\"#9a0e01\",\"#970d01\",\"#940c01\",\"#910b01\",\"#8e0a01\",\"#8b0901\",\"#870801\",\"#840701\",\"#810602\",\"#7d0502\",\"#7a0402\"]},\"id\":\"2101\",\"type\":\"LinearColorMapper\"},{\"attributes\":{\"coordinates\":null,\"group\":null},\"id\":\"2223\",\"type\":\"Title\"},{\"attributes\":{\"fill_color\":{\"field\":\"y\",\"transform\":{\"id\":\"2101\"}},\"hatch_color\":{\"field\":\"y\",\"transform\":{\"id\":\"2101\"}},\"line_color\":{\"field\":\"y\",\"transform\":{\"id\":\"2101\"}},\"size\":{\"value\":10},\"x\":{\"field\":\"x\"},\"y\":{\"field\":\"y\"}},\"id\":\"2134\",\"type\":\"Circle\"},{\"attributes\":{},\"id\":\"2112\",\"type\":\"BasicTicker\"},{\"attributes\":{},\"id\":\"2232\",\"type\":\"Selection\"},{\"attributes\":{\"axis\":{\"id\":\"2115\"},\"coordinates\":null,\"dimension\":1,\"group\":null,\"ticker\":null},\"id\":\"2118\",\"type\":\"Grid\"},{\"attributes\":{},\"id\":\"2119\",\"type\":\"PanTool\"},{\"attributes\":{\"axis\":{\"id\":\"2111\"},\"coordinates\":null,\"group\":null,\"ticker\":null},\"id\":\"2114\",\"type\":\"Grid\"},{\"attributes\":{\"coordinates\":null,\"data_source\":{\"id\":\"2133\"},\"glyph\":{\"id\":\"2134\"},\"group\":null,\"hover_glyph\":null,\"muted_glyph\":{\"id\":\"2136\"},\"nonselection_glyph\":{\"id\":\"2135\"},\"view\":{\"id\":\"2138\"}},\"id\":\"2137\",\"type\":\"GlyphRenderer\"},{\"attributes\":{\"overlay\":{\"id\":\"2125\"}},\"id\":\"2121\",\"type\":\"BoxZoomTool\"},{\"attributes\":{},\"id\":\"2107\",\"type\":\"LinearScale\"},{\"attributes\":{},\"id\":\"2123\",\"type\":\"ResetTool\"},{\"attributes\":{\"fill_alpha\":{\"value\":0.2},\"fill_color\":{\"field\":\"y\",\"transform\":{\"id\":\"2101\"}},\"hatch_alpha\":{\"value\":0.2},\"hatch_color\":{\"field\":\"y\",\"transform\":{\"id\":\"2101\"}},\"line_alpha\":{\"value\":0.2},\"line_color\":{\"field\":\"y\",\"transform\":{\"id\":\"2101\"}},\"size\":{\"value\":10},\"x\":{\"field\":\"x\"},\"y\":{\"field\":\"y\"}},\"id\":\"2136\",\"type\":\"Circle\"},{\"attributes\":{\"coordinates\":null,\"formatter\":{\"id\":\"2229\"},\"group\":null,\"major_label_policy\":{\"id\":\"2230\"},\"ticker\":{\"id\":\"2112\"}},\"id\":\"2111\",\"type\":\"LinearAxis\"},{\"attributes\":{\"data\":{\"x\":[-32,-31,-30,-29,-28,-27,-26,-25,-24,-23,-22,-21,-20,-19,-18,-17,-16,-15,-14,-13,-12,-11,-10,-9,-8,-7,-6,-5,-4,-3,-2,-1,0,1,2,3,4,5,6,7,8,9,10,11,12,13,14,15,16,17,18,19,20,21,22,23,24,25,26,27,28,29,30,31,32],\"y\":[1024,961,900,841,784,729,676,625,576,529,484,441,400,361,324,289,256,225,196,169,144,121,100,81,64,49,36,25,16,9,4,1,0,1,4,9,16,25,36,49,64,81,100,121,144,169,196,225,256,289,324,361,400,441,484,529,576,625,676,729,784,841,900,961,1024]},\"selected\":{\"id\":\"2232\"},\"selection_policy\":{\"id\":\"2231\"}},\"id\":\"2133\",\"type\":\"ColumnDataSource\"},{\"attributes\":{},\"id\":\"2103\",\"type\":\"DataRange1d\"},{\"attributes\":{},\"id\":\"2122\",\"type\":\"SaveTool\"},{\"attributes\":{},\"id\":\"2120\",\"type\":\"WheelZoomTool\"},{\"attributes\":{},\"id\":\"2116\",\"type\":\"BasicTicker\"},{\"attributes\":{},\"id\":\"2226\",\"type\":\"BasicTickFormatter\"},{\"attributes\":{},\"id\":\"2227\",\"type\":\"AllLabels\"},{\"attributes\":{\"bottom_units\":\"screen\",\"coordinates\":null,\"fill_alpha\":0.5,\"fill_color\":\"lightgrey\",\"group\":null,\"left_units\":\"screen\",\"level\":\"overlay\",\"line_alpha\":1.0,\"line_color\":\"black\",\"line_dash\":[4,4],\"line_width\":2,\"right_units\":\"screen\",\"syncable\":false,\"top_units\":\"screen\"},\"id\":\"2125\",\"type\":\"BoxAnnotation\"},{\"attributes\":{},\"id\":\"2229\",\"type\":\"BasicTickFormatter\"},{\"attributes\":{\"tools\":[{\"id\":\"2119\"},{\"id\":\"2120\"},{\"id\":\"2121\"},{\"id\":\"2122\"},{\"id\":\"2123\"},{\"id\":\"2124\"}]},\"id\":\"2126\",\"type\":\"Toolbar\"}],\"root_ids\":[\"2102\"]},\"title\":\"Bokeh Application\",\"version\":\"2.4.2\"}};\n",
       "  const render_items = [{\"docid\":\"682aaa08-3a2d-4679-84b0-aa2d363a0c39\",\"root_ids\":[\"2102\"],\"roots\":{\"2102\":\"a393391d-3705-4891-88ff-e8904266a506\"}}];\n",
       "  root.Bokeh.embed.embed_items_notebook(docs_json, render_items);\n",
       "\n",
       "  }\n",
       "  if (root.Bokeh !== undefined) {\n",
       "    embed_document(root);\n",
       "  } else {\n",
       "    let attempts = 0;\n",
       "    const timer = setInterval(function(root) {\n",
       "      if (root.Bokeh !== undefined) {\n",
       "        clearInterval(timer);\n",
       "        embed_document(root);\n",
       "      } else {\n",
       "        attempts++;\n",
       "        if (attempts > 100) {\n",
       "          clearInterval(timer);\n",
       "          console.log(\"Bokeh: ERROR: Unable to run BokehJS code because BokehJS library is missing\");\n",
       "        }\n",
       "      }\n",
       "    }, 10, root)\n",
       "  }\n",
       "})(window);"
      ],
      "application/vnd.bokehjs_exec.v0+json": ""
     },
     "metadata": {
      "application/vnd.bokehjs_exec.v0+json": {
       "id": "2102"
      }
     },
     "output_type": "display_data"
    }
   ],
   "source": [
    "from bokeh.io import show\n",
    "from bokeh.palettes import Turbo256\n",
    "from bokeh.plotting import figure\n",
    "from bokeh.transform import linear_cmap\n",
    "\n",
    "# generate data\n",
    "x = list(range(-32, 33))\n",
    "y = [i**2 for i in x]\n",
    "\n",
    "# create linear color mapper\n",
    "mapper = linear_cmap(field_name=\"y\", palette=Turbo256, low=min(y), high=max(y))\n",
    "\n",
    "# create plot\n",
    "p = figure(width=500, height=250)\n",
    "\n",
    "# create circle renderer with color mapper\n",
    "p.circle(x, y, color=mapper, size=10)\n",
    "\n",
    "show(p)"
   ]
  },
  {
   "cell_type": "markdown",
   "id": "89aa732f-f19d-4811-8b9c-daf3fc5daf89",
   "metadata": {},
   "source": [
    "## 6 - Subplots de graphs en lignes ou en colonnes"
   ]
  },
  {
   "cell_type": "code",
   "execution_count": 14,
   "id": "99b583b3-8baf-4b4b-9b59-cf009ac238df",
   "metadata": {},
   "outputs": [
    {
     "data": {
      "text/html": [
       "\n",
       "\n",
       "\n",
       "\n",
       "\n",
       "\n",
       "  <div class=\"bk-root\" id=\"c93e9569-ba37-47e1-a407-706e1cc08171\" data-root-id=\"2400\"></div>\n"
      ]
     },
     "metadata": {},
     "output_type": "display_data"
    },
    {
     "data": {
      "application/javascript": [
       "(function(root) {\n",
       "  function embed_document(root) {\n",
       "    \n",
       "  const docs_json = {\"b9095000-5da2-4216-906d-c24a18bde2e8\":{\"defs\":[],\"roots\":{\"references\":[{\"attributes\":{\"children\":[{\"id\":\"2289\"},{\"id\":\"2326\"},{\"id\":\"2363\"}]},\"id\":\"2400\",\"type\":\"Row\"},{\"attributes\":{\"coordinates\":null,\"group\":null},\"id\":\"2496\",\"type\":\"Title\"},{\"attributes\":{},\"id\":\"2512\",\"type\":\"BasicTickFormatter\"},{\"attributes\":{},\"id\":\"2513\",\"type\":\"AllLabels\"},{\"attributes\":{\"coordinates\":null,\"group\":null},\"id\":\"2498\",\"type\":\"Title\"},{\"attributes\":{\"bottom_units\":\"screen\",\"coordinates\":null,\"fill_alpha\":0.5,\"fill_color\":\"lightgrey\",\"group\":null,\"left_units\":\"screen\",\"level\":\"overlay\",\"line_alpha\":1.0,\"line_color\":\"black\",\"line_dash\":[4,4],\"line_width\":2,\"right_units\":\"screen\",\"syncable\":false,\"top_units\":\"screen\"},\"id\":\"2349\",\"type\":\"BoxAnnotation\"},{\"attributes\":{\"tools\":[{\"id\":\"2343\"},{\"id\":\"2344\"},{\"id\":\"2345\"},{\"id\":\"2346\"},{\"id\":\"2347\"},{\"id\":\"2348\"}]},\"id\":\"2350\",\"type\":\"Toolbar\"},{\"attributes\":{\"coordinates\":null,\"group\":null},\"id\":\"2500\",\"type\":\"Title\"},{\"attributes\":{\"coordinates\":null,\"formatter\":{\"id\":\"2503\"},\"group\":null,\"major_label_policy\":{\"id\":\"2504\"},\"ticker\":{\"id\":\"2303\"}},\"id\":\"2302\",\"type\":\"LinearAxis\"},{\"attributes\":{\"fill_alpha\":{\"value\":0.2},\"fill_color\":{\"value\":\"#53777a\"},\"hatch_alpha\":{\"value\":0.2},\"hatch_color\":{\"value\":\"#53777a\"},\"line_alpha\":{\"value\":0.2},\"line_color\":{\"value\":\"#53777a\"},\"size\":{\"value\":12},\"x\":{\"field\":\"x\"},\"y\":{\"field\":\"y\"}},\"id\":\"2323\",\"type\":\"Circle\"},{\"attributes\":{\"source\":{\"id\":\"2320\"}},\"id\":\"2325\",\"type\":\"CDSView\"},{\"attributes\":{},\"id\":\"2311\",\"type\":\"HelpTool\"},{\"attributes\":{\"axis\":{\"id\":\"2302\"},\"coordinates\":null,\"dimension\":1,\"group\":null,\"ticker\":null},\"id\":\"2305\",\"type\":\"Grid\"},{\"attributes\":{},\"id\":\"2303\",\"type\":\"BasicTicker\"},{\"attributes\":{\"background_fill_color\":\"#fafafa\",\"below\":[{\"id\":\"2298\"}],\"center\":[{\"id\":\"2301\"},{\"id\":\"2305\"}],\"height\":250,\"left\":[{\"id\":\"2302\"}],\"renderers\":[{\"id\":\"2324\"}],\"title\":{\"id\":\"2496\"},\"toolbar\":{\"id\":\"2313\"},\"width\":250,\"x_range\":{\"id\":\"2290\"},\"x_scale\":{\"id\":\"2294\"},\"y_range\":{\"id\":\"2292\"},\"y_scale\":{\"id\":\"2296\"}},\"id\":\"2289\",\"subtype\":\"Figure\",\"type\":\"Plot\"},{\"attributes\":{},\"id\":\"2307\",\"type\":\"WheelZoomTool\"},{\"attributes\":{},\"id\":\"2306\",\"type\":\"PanTool\"},{\"attributes\":{\"overlay\":{\"id\":\"2312\"}},\"id\":\"2308\",\"type\":\"BoxZoomTool\"},{\"attributes\":{},\"id\":\"2309\",\"type\":\"SaveTool\"},{\"attributes\":{},\"id\":\"2310\",\"type\":\"ResetTool\"},{\"attributes\":{},\"id\":\"2515\",\"type\":\"BasicTickFormatter\"},{\"attributes\":{\"bottom_units\":\"screen\",\"coordinates\":null,\"fill_alpha\":0.5,\"fill_color\":\"lightgrey\",\"group\":null,\"left_units\":\"screen\",\"level\":\"overlay\",\"line_alpha\":1.0,\"line_color\":\"black\",\"line_dash\":[4,4],\"line_width\":2,\"right_units\":\"screen\",\"syncable\":false,\"top_units\":\"screen\"},\"id\":\"2312\",\"type\":\"BoxAnnotation\"},{\"attributes\":{},\"id\":\"2503\",\"type\":\"BasicTickFormatter\"},{\"attributes\":{},\"id\":\"2516\",\"type\":\"AllLabels\"},{\"attributes\":{},\"id\":\"2504\",\"type\":\"AllLabels\"},{\"attributes\":{},\"id\":\"2343\",\"type\":\"PanTool\"},{\"attributes\":{},\"id\":\"2518\",\"type\":\"BasicTickFormatter\"},{\"attributes\":{\"fill_alpha\":{\"value\":0.1},\"fill_color\":{\"value\":\"#53777a\"},\"hatch_alpha\":{\"value\":0.1},\"hatch_color\":{\"value\":\"#53777a\"},\"line_alpha\":{\"value\":0.1},\"line_color\":{\"value\":\"#53777a\"},\"size\":{\"value\":12},\"x\":{\"field\":\"x\"},\"y\":{\"field\":\"y\"}},\"id\":\"2322\",\"type\":\"Circle\"},{\"attributes\":{},\"id\":\"2506\",\"type\":\"BasicTickFormatter\"},{\"attributes\":{},\"id\":\"2290\",\"type\":\"DataRange1d\"},{\"attributes\":{\"overlay\":{\"id\":\"2349\"}},\"id\":\"2345\",\"type\":\"BoxZoomTool\"},{\"attributes\":{},\"id\":\"2519\",\"type\":\"AllLabels\"},{\"attributes\":{},\"id\":\"2333\",\"type\":\"LinearScale\"},{\"attributes\":{},\"id\":\"2507\",\"type\":\"AllLabels\"},{\"attributes\":{\"background_fill_color\":\"#fafafa\",\"below\":[{\"id\":\"2335\"}],\"center\":[{\"id\":\"2338\"},{\"id\":\"2342\"}],\"height\":250,\"left\":[{\"id\":\"2339\"}],\"renderers\":[{\"id\":\"2361\"}],\"title\":{\"id\":\"2498\"},\"toolbar\":{\"id\":\"2350\"},\"width\":250,\"x_range\":{\"id\":\"2327\"},\"x_scale\":{\"id\":\"2331\"},\"y_range\":{\"id\":\"2329\"},\"y_scale\":{\"id\":\"2333\"}},\"id\":\"2326\",\"subtype\":\"Figure\",\"type\":\"Plot\"},{\"attributes\":{},\"id\":\"2344\",\"type\":\"WheelZoomTool\"},{\"attributes\":{},\"id\":\"2340\",\"type\":\"BasicTicker\"},{\"attributes\":{\"axis\":{\"id\":\"2339\"},\"coordinates\":null,\"dimension\":1,\"group\":null,\"ticker\":null},\"id\":\"2342\",\"type\":\"Grid\"},{\"attributes\":{\"fill_alpha\":{\"value\":0.8},\"fill_color\":{\"value\":\"#c02942\"},\"hatch_alpha\":{\"value\":0.8},\"hatch_color\":{\"value\":\"#c02942\"},\"line_alpha\":{\"value\":0.8},\"line_color\":{\"value\":\"#c02942\"},\"marker\":{\"value\":\"triangle\"},\"size\":{\"value\":12},\"x\":{\"field\":\"x\"},\"y\":{\"field\":\"y\"}},\"id\":\"2358\",\"type\":\"Scatter\"},{\"attributes\":{},\"id\":\"2520\",\"type\":\"UnionRenderers\"},{\"attributes\":{\"coordinates\":null,\"data_source\":{\"id\":\"2320\"},\"glyph\":{\"id\":\"2321\"},\"group\":null,\"hover_glyph\":null,\"muted_glyph\":{\"id\":\"2323\"},\"nonselection_glyph\":{\"id\":\"2322\"},\"view\":{\"id\":\"2325\"}},\"id\":\"2324\",\"type\":\"GlyphRenderer\"},{\"attributes\":{},\"id\":\"2521\",\"type\":\"Selection\"},{\"attributes\":{\"axis\":{\"id\":\"2335\"},\"coordinates\":null,\"group\":null,\"ticker\":null},\"id\":\"2338\",\"type\":\"Grid\"},{\"attributes\":{},\"id\":\"2346\",\"type\":\"SaveTool\"},{\"attributes\":{\"coordinates\":null,\"formatter\":{\"id\":\"2509\"},\"group\":null,\"major_label_policy\":{\"id\":\"2510\"},\"ticker\":{\"id\":\"2340\"}},\"id\":\"2339\",\"type\":\"LinearAxis\"},{\"attributes\":{\"axis\":{\"id\":\"2298\"},\"coordinates\":null,\"group\":null,\"ticker\":null},\"id\":\"2301\",\"type\":\"Grid\"},{\"attributes\":{},\"id\":\"2336\",\"type\":\"BasicTicker\"},{\"attributes\":{\"tools\":[{\"id\":\"2306\"},{\"id\":\"2307\"},{\"id\":\"2308\"},{\"id\":\"2309\"},{\"id\":\"2310\"},{\"id\":\"2311\"}]},\"id\":\"2313\",\"type\":\"Toolbar\"},{\"attributes\":{},\"id\":\"2299\",\"type\":\"BasicTicker\"},{\"attributes\":{},\"id\":\"2294\",\"type\":\"LinearScale\"},{\"attributes\":{},\"id\":\"2347\",\"type\":\"ResetTool\"},{\"attributes\":{\"coordinates\":null,\"formatter\":{\"id\":\"2512\"},\"group\":null,\"major_label_policy\":{\"id\":\"2513\"},\"ticker\":{\"id\":\"2336\"}},\"id\":\"2335\",\"type\":\"LinearAxis\"},{\"attributes\":{},\"id\":\"2509\",\"type\":\"BasicTickFormatter\"},{\"attributes\":{\"coordinates\":null,\"formatter\":{\"id\":\"2506\"},\"group\":null,\"major_label_policy\":{\"id\":\"2507\"},\"ticker\":{\"id\":\"2299\"}},\"id\":\"2298\",\"type\":\"LinearAxis\"},{\"attributes\":{},\"id\":\"2296\",\"type\":\"LinearScale\"},{\"attributes\":{},\"id\":\"2510\",\"type\":\"AllLabels\"},{\"attributes\":{},\"id\":\"2292\",\"type\":\"DataRange1d\"},{\"attributes\":{},\"id\":\"2348\",\"type\":\"HelpTool\"},{\"attributes\":{\"fill_alpha\":{\"value\":0.8},\"fill_color\":{\"value\":\"#53777a\"},\"hatch_alpha\":{\"value\":0.8},\"hatch_color\":{\"value\":\"#53777a\"},\"line_alpha\":{\"value\":0.8},\"line_color\":{\"value\":\"#53777a\"},\"size\":{\"value\":12},\"x\":{\"field\":\"x\"},\"y\":{\"field\":\"y\"}},\"id\":\"2321\",\"type\":\"Circle\"},{\"attributes\":{\"fill_alpha\":{\"value\":0.2},\"fill_color\":{\"value\":\"#c02942\"},\"hatch_alpha\":{\"value\":0.2},\"hatch_color\":{\"value\":\"#c02942\"},\"line_alpha\":{\"value\":0.2},\"line_color\":{\"value\":\"#c02942\"},\"marker\":{\"value\":\"triangle\"},\"size\":{\"value\":12},\"x\":{\"field\":\"x\"},\"y\":{\"field\":\"y\"}},\"id\":\"2360\",\"type\":\"Scatter\"},{\"attributes\":{\"fill_alpha\":{\"value\":0.8},\"fill_color\":{\"value\":\"#d95b43\"},\"hatch_alpha\":{\"value\":0.8},\"hatch_color\":{\"value\":\"#d95b43\"},\"line_alpha\":{\"value\":0.8},\"line_color\":{\"value\":\"#d95b43\"},\"marker\":{\"value\":\"square\"},\"size\":{\"value\":12},\"x\":{\"field\":\"x\"},\"y\":{\"field\":\"y\"}},\"id\":\"2395\",\"type\":\"Scatter\"},{\"attributes\":{},\"id\":\"2523\",\"type\":\"UnionRenderers\"},{\"attributes\":{\"source\":{\"id\":\"2357\"}},\"id\":\"2362\",\"type\":\"CDSView\"},{\"attributes\":{\"coordinates\":null,\"data_source\":{\"id\":\"2357\"},\"glyph\":{\"id\":\"2358\"},\"group\":null,\"hover_glyph\":null,\"muted_glyph\":{\"id\":\"2360\"},\"nonselection_glyph\":{\"id\":\"2359\"},\"view\":{\"id\":\"2362\"}},\"id\":\"2361\",\"type\":\"GlyphRenderer\"},{\"attributes\":{},\"id\":\"2524\",\"type\":\"Selection\"},{\"attributes\":{},\"id\":\"2364\",\"type\":\"DataRange1d\"},{\"attributes\":{\"data\":{\"x\":[0,1,2,3,4,5,6,7,8,9,10],\"y\":[0,1,2,3,4,5,6,7,8,9,10]},\"selected\":{\"id\":\"2521\"},\"selection_policy\":{\"id\":\"2520\"}},\"id\":\"2320\",\"type\":\"ColumnDataSource\"},{\"attributes\":{\"source\":{\"id\":\"2394\"}},\"id\":\"2399\",\"type\":\"CDSView\"},{\"attributes\":{\"data\":{\"x\":[0,1,2,3,4,5,6,7,8,9,10],\"y\":[5,4,3,2,1,0,1,2,3,4,5]},\"selected\":{\"id\":\"2527\"},\"selection_policy\":{\"id\":\"2526\"}},\"id\":\"2394\",\"type\":\"ColumnDataSource\"},{\"attributes\":{},\"id\":\"2366\",\"type\":\"DataRange1d\"},{\"attributes\":{},\"id\":\"2370\",\"type\":\"LinearScale\"},{\"attributes\":{\"coordinates\":null,\"formatter\":{\"id\":\"2518\"},\"group\":null,\"major_label_policy\":{\"id\":\"2519\"},\"ticker\":{\"id\":\"2373\"}},\"id\":\"2372\",\"type\":\"LinearAxis\"},{\"attributes\":{\"coordinates\":null,\"formatter\":{\"id\":\"2515\"},\"group\":null,\"major_label_policy\":{\"id\":\"2516\"},\"ticker\":{\"id\":\"2377\"}},\"id\":\"2376\",\"type\":\"LinearAxis\"},{\"attributes\":{},\"id\":\"2368\",\"type\":\"LinearScale\"},{\"attributes\":{},\"id\":\"2385\",\"type\":\"HelpTool\"},{\"attributes\":{},\"id\":\"2373\",\"type\":\"BasicTicker\"},{\"attributes\":{\"axis\":{\"id\":\"2372\"},\"coordinates\":null,\"group\":null,\"ticker\":null},\"id\":\"2375\",\"type\":\"Grid\"},{\"attributes\":{\"axis\":{\"id\":\"2376\"},\"coordinates\":null,\"dimension\":1,\"group\":null,\"ticker\":null},\"id\":\"2379\",\"type\":\"Grid\"},{\"attributes\":{},\"id\":\"2377\",\"type\":\"BasicTicker\"},{\"attributes\":{},\"id\":\"2381\",\"type\":\"WheelZoomTool\"},{\"attributes\":{},\"id\":\"2380\",\"type\":\"PanTool\"},{\"attributes\":{\"overlay\":{\"id\":\"2386\"}},\"id\":\"2382\",\"type\":\"BoxZoomTool\"},{\"attributes\":{},\"id\":\"2383\",\"type\":\"SaveTool\"},{\"attributes\":{},\"id\":\"2384\",\"type\":\"ResetTool\"},{\"attributes\":{\"bottom_units\":\"screen\",\"coordinates\":null,\"fill_alpha\":0.5,\"fill_color\":\"lightgrey\",\"group\":null,\"left_units\":\"screen\",\"level\":\"overlay\",\"line_alpha\":1.0,\"line_color\":\"black\",\"line_dash\":[4,4],\"line_width\":2,\"right_units\":\"screen\",\"syncable\":false,\"top_units\":\"screen\"},\"id\":\"2386\",\"type\":\"BoxAnnotation\"},{\"attributes\":{\"data\":{\"x\":[0,1,2,3,4,5,6,7,8,9,10],\"y\":[10,9,8,7,6,5,4,3,2,1,0]},\"selected\":{\"id\":\"2524\"},\"selection_policy\":{\"id\":\"2523\"}},\"id\":\"2357\",\"type\":\"ColumnDataSource\"},{\"attributes\":{},\"id\":\"2331\",\"type\":\"LinearScale\"},{\"attributes\":{\"fill_alpha\":{\"value\":0.1},\"fill_color\":{\"value\":\"#c02942\"},\"hatch_alpha\":{\"value\":0.1},\"hatch_color\":{\"value\":\"#c02942\"},\"line_alpha\":{\"value\":0.1},\"line_color\":{\"value\":\"#c02942\"},\"marker\":{\"value\":\"triangle\"},\"size\":{\"value\":12},\"x\":{\"field\":\"x\"},\"y\":{\"field\":\"y\"}},\"id\":\"2359\",\"type\":\"Scatter\"},{\"attributes\":{},\"id\":\"2329\",\"type\":\"DataRange1d\"},{\"attributes\":{},\"id\":\"2526\",\"type\":\"UnionRenderers\"},{\"attributes\":{},\"id\":\"2527\",\"type\":\"Selection\"},{\"attributes\":{\"fill_alpha\":{\"value\":0.2},\"fill_color\":{\"value\":\"#d95b43\"},\"hatch_alpha\":{\"value\":0.2},\"hatch_color\":{\"value\":\"#d95b43\"},\"line_alpha\":{\"value\":0.2},\"line_color\":{\"value\":\"#d95b43\"},\"marker\":{\"value\":\"square\"},\"size\":{\"value\":12},\"x\":{\"field\":\"x\"},\"y\":{\"field\":\"y\"}},\"id\":\"2397\",\"type\":\"Scatter\"},{\"attributes\":{\"tools\":[{\"id\":\"2380\"},{\"id\":\"2381\"},{\"id\":\"2382\"},{\"id\":\"2383\"},{\"id\":\"2384\"},{\"id\":\"2385\"}]},\"id\":\"2387\",\"type\":\"Toolbar\"},{\"attributes\":{\"background_fill_color\":\"#fafafa\",\"below\":[{\"id\":\"2372\"}],\"center\":[{\"id\":\"2375\"},{\"id\":\"2379\"}],\"height\":250,\"left\":[{\"id\":\"2376\"}],\"renderers\":[{\"id\":\"2398\"}],\"title\":{\"id\":\"2500\"},\"toolbar\":{\"id\":\"2387\"},\"width\":250,\"x_range\":{\"id\":\"2364\"},\"x_scale\":{\"id\":\"2368\"},\"y_range\":{\"id\":\"2366\"},\"y_scale\":{\"id\":\"2370\"}},\"id\":\"2363\",\"subtype\":\"Figure\",\"type\":\"Plot\"},{\"attributes\":{},\"id\":\"2327\",\"type\":\"DataRange1d\"},{\"attributes\":{\"coordinates\":null,\"data_source\":{\"id\":\"2394\"},\"glyph\":{\"id\":\"2395\"},\"group\":null,\"hover_glyph\":null,\"muted_glyph\":{\"id\":\"2397\"},\"nonselection_glyph\":{\"id\":\"2396\"},\"view\":{\"id\":\"2399\"}},\"id\":\"2398\",\"type\":\"GlyphRenderer\"},{\"attributes\":{\"fill_alpha\":{\"value\":0.1},\"fill_color\":{\"value\":\"#d95b43\"},\"hatch_alpha\":{\"value\":0.1},\"hatch_color\":{\"value\":\"#d95b43\"},\"line_alpha\":{\"value\":0.1},\"line_color\":{\"value\":\"#d95b43\"},\"marker\":{\"value\":\"square\"},\"size\":{\"value\":12},\"x\":{\"field\":\"x\"},\"y\":{\"field\":\"y\"}},\"id\":\"2396\",\"type\":\"Scatter\"}],\"root_ids\":[\"2400\"]},\"title\":\"Bokeh Application\",\"version\":\"2.4.2\"}};\n",
       "  const render_items = [{\"docid\":\"b9095000-5da2-4216-906d-c24a18bde2e8\",\"root_ids\":[\"2400\"],\"roots\":{\"2400\":\"c93e9569-ba37-47e1-a407-706e1cc08171\"}}];\n",
       "  root.Bokeh.embed.embed_items_notebook(docs_json, render_items);\n",
       "\n",
       "  }\n",
       "  if (root.Bokeh !== undefined) {\n",
       "    embed_document(root);\n",
       "  } else {\n",
       "    let attempts = 0;\n",
       "    const timer = setInterval(function(root) {\n",
       "      if (root.Bokeh !== undefined) {\n",
       "        clearInterval(timer);\n",
       "        embed_document(root);\n",
       "      } else {\n",
       "        attempts++;\n",
       "        if (attempts > 100) {\n",
       "          clearInterval(timer);\n",
       "          console.log(\"Bokeh: ERROR: Unable to run BokehJS code because BokehJS library is missing\");\n",
       "        }\n",
       "      }\n",
       "    }, 10, root)\n",
       "  }\n",
       "})(window);"
      ],
      "application/vnd.bokehjs_exec.v0+json": ""
     },
     "metadata": {
      "application/vnd.bokehjs_exec.v0+json": {
       "id": "2400"
      }
     },
     "output_type": "display_data"
    }
   ],
   "source": [
    "from bokeh.layouts import row\n",
    "\n",
    "from bokeh.plotting import figure, show\n",
    "\n",
    "# prepare some data\n",
    "x = list(range(11))\n",
    "y0 = x\n",
    "y1 = [10 - i for i in x]\n",
    "y2 = [abs(i - 5) for i in x]\n",
    "\n",
    "# create three plots with one renderer each\n",
    "s1 = figure(width=250, height=250, background_fill_color=\"#fafafa\")\n",
    "s1.circle(x, y0, size=12, color=\"#53777a\", alpha=0.8)\n",
    "\n",
    "s2 = figure(width=250, height=250, background_fill_color=\"#fafafa\")\n",
    "s2.triangle(x, y1, size=12, color=\"#c02942\", alpha=0.8)\n",
    "\n",
    "s3 = figure(width=250, height=250, background_fill_color=\"#fafafa\")\n",
    "s3.square(x, y2, size=12, color=\"#d95b43\", alpha=0.8)\n",
    "\n",
    "# put the results in a row and show\n",
    "\n",
    "show(row(s1, s2, s3))  # show(colum(s1, s2, s3)) possible aussi"
   ]
  },
  {
   "cell_type": "markdown",
   "id": "9b29cbcc-1449-4d56-82da-1abdce65447c",
   "metadata": {},
   "source": [
    "### Subplots en Grille des graphs"
   ]
  },
  {
   "cell_type": "code",
   "execution_count": 16,
   "id": "40c67783-4a5b-4cd5-bfe7-a80e7bd558f3",
   "metadata": {},
   "outputs": [
    {
     "data": {
      "text/html": [
       "\n",
       "\n",
       "\n",
       "\n",
       "\n",
       "\n",
       "  <div class=\"bk-root\" id=\"412a5060-b714-4a2a-bf49-a0f3369f1e74\" data-root-id=\"3784\"></div>\n"
      ]
     },
     "metadata": {},
     "output_type": "display_data"
    },
    {
     "data": {
      "application/javascript": [
       "(function(root) {\n",
       "  function embed_document(root) {\n",
       "    \n",
       "  const docs_json = {\"e0a3e4f9-2ad4-43d8-88cd-025a9c523249\":{\"defs\":[],\"roots\":{\"references\":[{\"attributes\":{\"children\":[{\"id\":\"3783\"},{\"id\":\"3781\"}]},\"id\":\"3784\",\"type\":\"Column\"},{\"attributes\":{},\"id\":\"3772\",\"type\":\"BasicTickFormatter\"},{\"attributes\":{\"coordinates\":null,\"data_source\":{\"id\":\"3739\"},\"glyph\":{\"id\":\"3740\"},\"group\":null,\"hover_glyph\":null,\"muted_glyph\":{\"id\":\"3742\"},\"nonselection_glyph\":{\"id\":\"3741\"},\"view\":{\"id\":\"3744\"}},\"id\":\"3743\",\"type\":\"GlyphRenderer\"},{\"attributes\":{},\"id\":\"3773\",\"type\":\"AllLabels\"},{\"attributes\":{\"toolbars\":[{\"id\":\"3658\"},{\"id\":\"3695\"},{\"id\":\"3732\"}],\"tools\":[{\"id\":\"3651\"},{\"id\":\"3652\"},{\"id\":\"3653\"},{\"id\":\"3654\"},{\"id\":\"3655\"},{\"id\":\"3656\"},{\"id\":\"3688\"},{\"id\":\"3689\"},{\"id\":\"3690\"},{\"id\":\"3691\"},{\"id\":\"3692\"},{\"id\":\"3693\"},{\"id\":\"3725\"},{\"id\":\"3726\"},{\"id\":\"3727\"},{\"id\":\"3728\"},{\"id\":\"3729\"},{\"id\":\"3730\"}]},\"id\":\"3782\",\"type\":\"ProxyToolbar\"},{\"attributes\":{},\"id\":\"3752\",\"type\":\"AllLabels\"},{\"attributes\":{\"fill_alpha\":{\"value\":0.2},\"fill_color\":{\"value\":\"#d95b43\"},\"hatch_alpha\":{\"value\":0.2},\"hatch_color\":{\"value\":\"#d95b43\"},\"line_alpha\":{\"value\":0.2},\"line_color\":{\"value\":\"#d95b43\"},\"marker\":{\"value\":\"square\"},\"size\":{\"value\":12},\"x\":{\"field\":\"x\"},\"y\":{\"field\":\"y\"}},\"id\":\"3742\",\"type\":\"Scatter\"},{\"attributes\":{\"background_fill_color\":\"#fafafa\",\"below\":[{\"id\":\"3643\"}],\"center\":[{\"id\":\"3646\"},{\"id\":\"3650\"}],\"height\":250,\"left\":[{\"id\":\"3647\"}],\"renderers\":[{\"id\":\"3669\"}],\"title\":{\"id\":\"3745\"},\"toolbar\":{\"id\":\"3658\"},\"toolbar_location\":null,\"width\":250,\"x_range\":{\"id\":\"3635\"},\"x_scale\":{\"id\":\"3639\"},\"y_range\":{\"id\":\"3637\"},\"y_scale\":{\"id\":\"3641\"}},\"id\":\"3634\",\"subtype\":\"Figure\",\"type\":\"Plot\"},{\"attributes\":{},\"id\":\"3651\",\"type\":\"PanTool\"},{\"attributes\":{\"coordinates\":null,\"group\":null},\"id\":\"3745\",\"type\":\"Title\"},{\"attributes\":{\"data\":{\"x\":[0,1,2,3,4,5,6,7,8,9,10],\"y\":[0,1,2,3,4,5,6,7,8,9,10]},\"selected\":{\"id\":\"3754\"},\"selection_policy\":{\"id\":\"3753\"}},\"id\":\"3665\",\"type\":\"ColumnDataSource\"},{\"attributes\":{},\"id\":\"3751\",\"type\":\"BasicTickFormatter\"},{\"attributes\":{},\"id\":\"3639\",\"type\":\"LinearScale\"},{\"attributes\":{\"fill_alpha\":{\"value\":0.8},\"fill_color\":{\"value\":\"#53777a\"},\"hatch_alpha\":{\"value\":0.8},\"hatch_color\":{\"value\":\"#53777a\"},\"line_alpha\":{\"value\":0.8},\"line_color\":{\"value\":\"#53777a\"},\"size\":{\"value\":12},\"x\":{\"field\":\"x\"},\"y\":{\"field\":\"y\"}},\"id\":\"3666\",\"type\":\"Circle\"},{\"attributes\":{},\"id\":\"3761\",\"type\":\"AllLabels\"},{\"attributes\":{\"fill_alpha\":{\"value\":0.1},\"fill_color\":{\"value\":\"#53777a\"},\"hatch_alpha\":{\"value\":0.1},\"hatch_color\":{\"value\":\"#53777a\"},\"line_alpha\":{\"value\":0.1},\"line_color\":{\"value\":\"#53777a\"},\"size\":{\"value\":12},\"x\":{\"field\":\"x\"},\"y\":{\"field\":\"y\"}},\"id\":\"3667\",\"type\":\"Circle\"},{\"attributes\":{\"background_fill_color\":\"#fafafa\",\"below\":[{\"id\":\"3717\"}],\"center\":[{\"id\":\"3720\"},{\"id\":\"3724\"}],\"height\":250,\"left\":[{\"id\":\"3721\"}],\"renderers\":[{\"id\":\"3743\"}],\"title\":{\"id\":\"3769\"},\"toolbar\":{\"id\":\"3732\"},\"toolbar_location\":null,\"width\":250,\"x_range\":{\"id\":\"3709\"},\"x_scale\":{\"id\":\"3713\"},\"y_range\":{\"id\":\"3711\"},\"y_scale\":{\"id\":\"3715\"}},\"id\":\"3708\",\"subtype\":\"Figure\",\"type\":\"Plot\"},{\"attributes\":{\"background_fill_color\":\"#fafafa\",\"below\":[{\"id\":\"3680\"}],\"center\":[{\"id\":\"3683\"},{\"id\":\"3687\"}],\"height\":250,\"left\":[{\"id\":\"3684\"}],\"renderers\":[{\"id\":\"3706\"}],\"title\":{\"id\":\"3757\"},\"toolbar\":{\"id\":\"3695\"},\"toolbar_location\":null,\"width\":250,\"x_range\":{\"id\":\"3672\"},\"x_scale\":{\"id\":\"3676\"},\"y_range\":{\"id\":\"3674\"},\"y_scale\":{\"id\":\"3678\"}},\"id\":\"3671\",\"subtype\":\"Figure\",\"type\":\"Plot\"},{\"attributes\":{},\"id\":\"3641\",\"type\":\"LinearScale\"},{\"attributes\":{\"coordinates\":null,\"formatter\":{\"id\":\"3748\"},\"group\":null,\"major_label_policy\":{\"id\":\"3749\"},\"ticker\":{\"id\":\"3648\"}},\"id\":\"3647\",\"type\":\"LinearAxis\"},{\"attributes\":{},\"id\":\"3635\",\"type\":\"DataRange1d\"},{\"attributes\":{\"coordinates\":null,\"group\":null},\"id\":\"3769\",\"type\":\"Title\"},{\"attributes\":{},\"id\":\"3644\",\"type\":\"BasicTicker\"},{\"attributes\":{},\"id\":\"3648\",\"type\":\"BasicTicker\"},{\"attributes\":{\"overlay\":{\"id\":\"3657\"}},\"id\":\"3653\",\"type\":\"BoxZoomTool\"},{\"attributes\":{\"axis\":{\"id\":\"3643\"},\"coordinates\":null,\"group\":null,\"ticker\":null},\"id\":\"3646\",\"type\":\"Grid\"},{\"attributes\":{\"axis\":{\"id\":\"3647\"},\"coordinates\":null,\"dimension\":1,\"group\":null,\"ticker\":null},\"id\":\"3650\",\"type\":\"Grid\"},{\"attributes\":{},\"id\":\"3637\",\"type\":\"DataRange1d\"},{\"attributes\":{},\"id\":\"3763\",\"type\":\"BasicTickFormatter\"},{\"attributes\":{\"coordinates\":null,\"formatter\":{\"id\":\"3751\"},\"group\":null,\"major_label_policy\":{\"id\":\"3752\"},\"ticker\":{\"id\":\"3644\"}},\"id\":\"3643\",\"type\":\"LinearAxis\"},{\"attributes\":{},\"id\":\"3749\",\"type\":\"AllLabels\"},{\"attributes\":{\"tools\":[{\"id\":\"3688\"},{\"id\":\"3689\"},{\"id\":\"3690\"},{\"id\":\"3691\"},{\"id\":\"3692\"},{\"id\":\"3693\"}]},\"id\":\"3695\",\"type\":\"Toolbar\"},{\"attributes\":{},\"id\":\"3748\",\"type\":\"BasicTickFormatter\"},{\"attributes\":{},\"id\":\"3652\",\"type\":\"WheelZoomTool\"},{\"attributes\":{},\"id\":\"3654\",\"type\":\"SaveTool\"},{\"attributes\":{\"source\":{\"id\":\"3739\"}},\"id\":\"3744\",\"type\":\"CDSView\"},{\"attributes\":{\"tools\":[{\"id\":\"3725\"},{\"id\":\"3726\"},{\"id\":\"3727\"},{\"id\":\"3728\"},{\"id\":\"3729\"},{\"id\":\"3730\"}]},\"id\":\"3732\",\"type\":\"Toolbar\"},{\"attributes\":{},\"id\":\"3753\",\"type\":\"UnionRenderers\"},{\"attributes\":{\"fill_alpha\":{\"value\":0.1},\"fill_color\":{\"value\":\"#c02942\"},\"hatch_alpha\":{\"value\":0.1},\"hatch_color\":{\"value\":\"#c02942\"},\"line_alpha\":{\"value\":0.1},\"line_color\":{\"value\":\"#c02942\"},\"marker\":{\"value\":\"triangle\"},\"size\":{\"value\":12},\"x\":{\"field\":\"x\"},\"y\":{\"field\":\"y\"}},\"id\":\"3704\",\"type\":\"Scatter\"},{\"attributes\":{\"fill_alpha\":{\"value\":0.2},\"fill_color\":{\"value\":\"#c02942\"},\"hatch_alpha\":{\"value\":0.2},\"hatch_color\":{\"value\":\"#c02942\"},\"line_alpha\":{\"value\":0.2},\"line_color\":{\"value\":\"#c02942\"},\"marker\":{\"value\":\"triangle\"},\"size\":{\"value\":12},\"x\":{\"field\":\"x\"},\"y\":{\"field\":\"y\"}},\"id\":\"3705\",\"type\":\"Scatter\"},{\"attributes\":{},\"id\":\"3754\",\"type\":\"Selection\"},{\"attributes\":{},\"id\":\"3728\",\"type\":\"SaveTool\"},{\"attributes\":{\"overlay\":{\"id\":\"3731\"}},\"id\":\"3727\",\"type\":\"BoxZoomTool\"},{\"attributes\":{},\"id\":\"3778\",\"type\":\"Selection\"},{\"attributes\":{},\"id\":\"3709\",\"type\":\"DataRange1d\"},{\"attributes\":{\"data\":{\"x\":[0,1,2,3,4,5,6,7,8,9,10],\"y\":[5,4,3,2,1,0,1,2,3,4,5]},\"selected\":{\"id\":\"3778\"},\"selection_policy\":{\"id\":\"3777\"}},\"id\":\"3739\",\"type\":\"ColumnDataSource\"},{\"attributes\":{\"fill_alpha\":{\"value\":0.1},\"fill_color\":{\"value\":\"#d95b43\"},\"hatch_alpha\":{\"value\":0.1},\"hatch_color\":{\"value\":\"#d95b43\"},\"line_alpha\":{\"value\":0.1},\"line_color\":{\"value\":\"#d95b43\"},\"marker\":{\"value\":\"square\"},\"size\":{\"value\":12},\"x\":{\"field\":\"x\"},\"y\":{\"field\":\"y\"}},\"id\":\"3741\",\"type\":\"Scatter\"},{\"attributes\":{},\"id\":\"3729\",\"type\":\"ResetTool\"},{\"attributes\":{\"coordinates\":null,\"data_source\":{\"id\":\"3702\"},\"glyph\":{\"id\":\"3703\"},\"group\":null,\"hover_glyph\":null,\"muted_glyph\":{\"id\":\"3705\"},\"nonselection_glyph\":{\"id\":\"3704\"},\"view\":{\"id\":\"3707\"}},\"id\":\"3706\",\"type\":\"GlyphRenderer\"},{\"attributes\":{\"bottom_units\":\"screen\",\"coordinates\":null,\"fill_alpha\":0.5,\"fill_color\":\"lightgrey\",\"group\":null,\"left_units\":\"screen\",\"level\":\"overlay\",\"line_alpha\":1.0,\"line_color\":\"black\",\"line_dash\":[4,4],\"line_width\":2,\"right_units\":\"screen\",\"syncable\":false,\"top_units\":\"screen\"},\"id\":\"3731\",\"type\":\"BoxAnnotation\"},{\"attributes\":{},\"id\":\"3776\",\"type\":\"AllLabels\"},{\"attributes\":{\"fill_alpha\":{\"value\":0.2},\"fill_color\":{\"value\":\"#53777a\"},\"hatch_alpha\":{\"value\":0.2},\"hatch_color\":{\"value\":\"#53777a\"},\"line_alpha\":{\"value\":0.2},\"line_color\":{\"value\":\"#53777a\"},\"size\":{\"value\":12},\"x\":{\"field\":\"x\"},\"y\":{\"field\":\"y\"}},\"id\":\"3668\",\"type\":\"Circle\"},{\"attributes\":{\"children\":[[{\"id\":\"3634\"},0,0],[{\"id\":\"3671\"},0,1],[{\"id\":\"3708\"},1,1]]},\"id\":\"3781\",\"type\":\"GridBox\"},{\"attributes\":{},\"id\":\"3777\",\"type\":\"UnionRenderers\"},{\"attributes\":{\"coordinates\":null,\"formatter\":{\"id\":\"3772\"},\"group\":null,\"major_label_policy\":{\"id\":\"3773\"},\"ticker\":{\"id\":\"3722\"}},\"id\":\"3721\",\"type\":\"LinearAxis\"},{\"attributes\":{},\"id\":\"3715\",\"type\":\"LinearScale\"},{\"attributes\":{\"tools\":[{\"id\":\"3651\"},{\"id\":\"3652\"},{\"id\":\"3653\"},{\"id\":\"3654\"},{\"id\":\"3655\"},{\"id\":\"3656\"}]},\"id\":\"3658\",\"type\":\"Toolbar\"},{\"attributes\":{},\"id\":\"3713\",\"type\":\"LinearScale\"},{\"attributes\":{\"source\":{\"id\":\"3665\"}},\"id\":\"3670\",\"type\":\"CDSView\"},{\"attributes\":{\"fill_alpha\":{\"value\":0.8},\"fill_color\":{\"value\":\"#d95b43\"},\"hatch_alpha\":{\"value\":0.8},\"hatch_color\":{\"value\":\"#d95b43\"},\"line_alpha\":{\"value\":0.8},\"line_color\":{\"value\":\"#d95b43\"},\"marker\":{\"value\":\"square\"},\"size\":{\"value\":12},\"x\":{\"field\":\"x\"},\"y\":{\"field\":\"y\"}},\"id\":\"3740\",\"type\":\"Scatter\"},{\"attributes\":{},\"id\":\"3725\",\"type\":\"PanTool\"},{\"attributes\":{\"source\":{\"id\":\"3702\"}},\"id\":\"3707\",\"type\":\"CDSView\"},{\"attributes\":{\"data\":{\"x\":[0,1,2,3,4,5,6,7,8,9,10],\"y\":[10,9,8,7,6,5,4,3,2,1,0]},\"selected\":{\"id\":\"3766\"},\"selection_policy\":{\"id\":\"3765\"}},\"id\":\"3702\",\"type\":\"ColumnDataSource\"},{\"attributes\":{\"coordinates\":null,\"formatter\":{\"id\":\"3775\"},\"group\":null,\"major_label_policy\":{\"id\":\"3776\"},\"ticker\":{\"id\":\"3718\"}},\"id\":\"3717\",\"type\":\"LinearAxis\"},{\"attributes\":{\"coordinates\":null,\"data_source\":{\"id\":\"3665\"},\"glyph\":{\"id\":\"3666\"},\"group\":null,\"hover_glyph\":null,\"muted_glyph\":{\"id\":\"3668\"},\"nonselection_glyph\":{\"id\":\"3667\"},\"view\":{\"id\":\"3670\"}},\"id\":\"3669\",\"type\":\"GlyphRenderer\"},{\"attributes\":{\"coordinates\":null,\"formatter\":{\"id\":\"3763\"},\"group\":null,\"major_label_policy\":{\"id\":\"3764\"},\"ticker\":{\"id\":\"3681\"}},\"id\":\"3680\",\"type\":\"LinearAxis\"},{\"attributes\":{},\"id\":\"3676\",\"type\":\"LinearScale\"},{\"attributes\":{},\"id\":\"3711\",\"type\":\"DataRange1d\"},{\"attributes\":{},\"id\":\"3693\",\"type\":\"HelpTool\"},{\"attributes\":{\"coordinates\":null,\"group\":null},\"id\":\"3757\",\"type\":\"Title\"},{\"attributes\":{\"axis\":{\"id\":\"3684\"},\"coordinates\":null,\"dimension\":1,\"group\":null,\"ticker\":null},\"id\":\"3687\",\"type\":\"Grid\"},{\"attributes\":{},\"id\":\"3685\",\"type\":\"BasicTicker\"},{\"attributes\":{},\"id\":\"3689\",\"type\":\"WheelZoomTool\"},{\"attributes\":{},\"id\":\"3688\",\"type\":\"PanTool\"},{\"attributes\":{},\"id\":\"3760\",\"type\":\"BasicTickFormatter\"},{\"attributes\":{\"toolbar\":{\"id\":\"3782\"},\"toolbar_location\":\"above\"},\"id\":\"3783\",\"type\":\"ToolbarBox\"},{\"attributes\":{},\"id\":\"3726\",\"type\":\"WheelZoomTool\"},{\"attributes\":{\"bottom_units\":\"screen\",\"coordinates\":null,\"fill_alpha\":0.5,\"fill_color\":\"lightgrey\",\"group\":null,\"left_units\":\"screen\",\"level\":\"overlay\",\"line_alpha\":1.0,\"line_color\":\"black\",\"line_dash\":[4,4],\"line_width\":2,\"right_units\":\"screen\",\"syncable\":false,\"top_units\":\"screen\"},\"id\":\"3694\",\"type\":\"BoxAnnotation\"},{\"attributes\":{},\"id\":\"3672\",\"type\":\"DataRange1d\"},{\"attributes\":{\"coordinates\":null,\"formatter\":{\"id\":\"3760\"},\"group\":null,\"major_label_policy\":{\"id\":\"3761\"},\"ticker\":{\"id\":\"3685\"}},\"id\":\"3684\",\"type\":\"LinearAxis\"},{\"attributes\":{},\"id\":\"3678\",\"type\":\"LinearScale\"},{\"attributes\":{},\"id\":\"3674\",\"type\":\"DataRange1d\"},{\"attributes\":{},\"id\":\"3692\",\"type\":\"ResetTool\"},{\"attributes\":{\"fill_alpha\":{\"value\":0.8},\"fill_color\":{\"value\":\"#c02942\"},\"hatch_alpha\":{\"value\":0.8},\"hatch_color\":{\"value\":\"#c02942\"},\"line_alpha\":{\"value\":0.8},\"line_color\":{\"value\":\"#c02942\"},\"marker\":{\"value\":\"triangle\"},\"size\":{\"value\":12},\"x\":{\"field\":\"x\"},\"y\":{\"field\":\"y\"}},\"id\":\"3703\",\"type\":\"Scatter\"},{\"attributes\":{},\"id\":\"3722\",\"type\":\"BasicTicker\"},{\"attributes\":{\"axis\":{\"id\":\"3721\"},\"coordinates\":null,\"dimension\":1,\"group\":null,\"ticker\":null},\"id\":\"3724\",\"type\":\"Grid\"},{\"attributes\":{},\"id\":\"3764\",\"type\":\"AllLabels\"},{\"attributes\":{\"axis\":{\"id\":\"3680\"},\"coordinates\":null,\"group\":null,\"ticker\":null},\"id\":\"3683\",\"type\":\"Grid\"},{\"attributes\":{},\"id\":\"3730\",\"type\":\"HelpTool\"},{\"attributes\":{\"bottom_units\":\"screen\",\"coordinates\":null,\"fill_alpha\":0.5,\"fill_color\":\"lightgrey\",\"group\":null,\"left_units\":\"screen\",\"level\":\"overlay\",\"line_alpha\":1.0,\"line_color\":\"black\",\"line_dash\":[4,4],\"line_width\":2,\"right_units\":\"screen\",\"syncable\":false,\"top_units\":\"screen\"},\"id\":\"3657\",\"type\":\"BoxAnnotation\"},{\"attributes\":{},\"id\":\"3656\",\"type\":\"HelpTool\"},{\"attributes\":{},\"id\":\"3718\",\"type\":\"BasicTicker\"},{\"attributes\":{},\"id\":\"3655\",\"type\":\"ResetTool\"},{\"attributes\":{},\"id\":\"3681\",\"type\":\"BasicTicker\"},{\"attributes\":{\"axis\":{\"id\":\"3717\"},\"coordinates\":null,\"group\":null,\"ticker\":null},\"id\":\"3720\",\"type\":\"Grid\"},{\"attributes\":{},\"id\":\"3766\",\"type\":\"Selection\"},{\"attributes\":{\"overlay\":{\"id\":\"3694\"}},\"id\":\"3690\",\"type\":\"BoxZoomTool\"},{\"attributes\":{},\"id\":\"3765\",\"type\":\"UnionRenderers\"},{\"attributes\":{},\"id\":\"3691\",\"type\":\"SaveTool\"},{\"attributes\":{},\"id\":\"3775\",\"type\":\"BasicTickFormatter\"}],\"root_ids\":[\"3784\"]},\"title\":\"Bokeh Application\",\"version\":\"2.4.2\"}};\n",
       "  const render_items = [{\"docid\":\"e0a3e4f9-2ad4-43d8-88cd-025a9c523249\",\"root_ids\":[\"3784\"],\"roots\":{\"3784\":\"412a5060-b714-4a2a-bf49-a0f3369f1e74\"}}];\n",
       "  root.Bokeh.embed.embed_items_notebook(docs_json, render_items);\n",
       "\n",
       "  }\n",
       "  if (root.Bokeh !== undefined) {\n",
       "    embed_document(root);\n",
       "  } else {\n",
       "    let attempts = 0;\n",
       "    const timer = setInterval(function(root) {\n",
       "      if (root.Bokeh !== undefined) {\n",
       "        clearInterval(timer);\n",
       "        embed_document(root);\n",
       "      } else {\n",
       "        attempts++;\n",
       "        if (attempts > 100) {\n",
       "          clearInterval(timer);\n",
       "          console.log(\"Bokeh: ERROR: Unable to run BokehJS code because BokehJS library is missing\");\n",
       "        }\n",
       "      }\n",
       "    }, 10, root)\n",
       "  }\n",
       "})(window);"
      ],
      "application/vnd.bokehjs_exec.v0+json": ""
     },
     "metadata": {
      "application/vnd.bokehjs_exec.v0+json": {
       "id": "3784"
      }
     },
     "output_type": "display_data"
    }
   ],
   "source": [
    "from bokeh.io import show\n",
    "from bokeh.layouts import gridplot\n",
    "from bokeh.plotting import figure\n",
    "\n",
    "\n",
    "x = list(range(11))\n",
    "y0 = x\n",
    "y1 = [10 - i for i in x]\n",
    "y2 = [abs(i - 5) for i in x]\n",
    "\n",
    "# create three plots\n",
    "s1 = figure(background_fill_color=\"#fafafa\")\n",
    "s1.circle(x, y0, size=12, alpha=0.8, color=\"#53777a\")\n",
    "\n",
    "s2 = figure(background_fill_color=\"#fafafa\")\n",
    "s2.triangle(x, y1, size=12, alpha=0.8, color=\"#c02942\")\n",
    "\n",
    "s3 = figure(background_fill_color=\"#fafafa\")\n",
    "s3.square(x, y2, size=12, alpha=0.8, color=\"#d95b43\")\n",
    "\n",
    "# make a grid\n",
    "grid = gridplot([[s1, s2], [None, s3]], width=250, height=250)\n",
    "\n",
    "show(grid)"
   ]
  },
  {
   "cell_type": "markdown",
   "id": "c22d87ca-9532-4578-8acc-e0aa171e0592",
   "metadata": {},
   "source": [
    "## 7 - Affichage et exportation\n",
    "\n",
    "### Création d'un HTML autonome"
   ]
  },
  {
   "cell_type": "code",
   "execution_count": 19,
   "id": "25ee4614-8e79-48a9-963b-f50a498cf1ce",
   "metadata": {},
   "outputs": [
    {
     "data": {
      "text/plain": [
       "\"Si vous souhaitez que Bokeh génère uniquement le fichier mais ne l'ouvre pas dans un navigateur Web, utilisez save()plutôt la fonction.\""
      ]
     },
     "execution_count": 19,
     "metadata": {},
     "output_type": "execute_result"
    }
   ],
   "source": [
    "\"\"\"Si vous souhaitez que Bokeh génère uniquement le fichier mais ne l'ouvre pas dans un navigateur Web, utilisez plutôt la fonction save() \"\"\""
   ]
  },
  {
   "cell_type": "code",
   "execution_count": 18,
   "id": "0ff6ed08-254e-4205-b58b-40c0981604d0",
   "metadata": {},
   "outputs": [
    {
     "data": {
      "text/plain": [
       "'C:\\\\Users\\\\UserPC\\\\Jupyter-Python docs de travail\\\\python-bokeh-master\\\\sauvegarde_HTML.html'"
      ]
     },
     "execution_count": 18,
     "metadata": {},
     "output_type": "execute_result"
    }
   ],
   "source": [
    "from bokeh.plotting import figure, output_file, save\n",
    "\n",
    "\n",
    "# prepare some data\n",
    "x = [1, 2, 3, 4, 5]\n",
    "y = [4, 5, 5, 7, 2]\n",
    "\n",
    "# set output to static HTML file\n",
    "\n",
    "output_file(filename=\"sauvegarde_HTML.html\", title=\"Static HTML file\")\n",
    "\n",
    "\n",
    "# create a new plot with a specific size\n",
    "p = figure(sizing_mode=\"stretch_width\", max_width=500, height=250)\n",
    "\n",
    "# add a circle renderer\n",
    "circle = p.circle(x, y, fill_color=\"red\", size=15)\n",
    "\n",
    "# save the results to a file\n",
    "\n",
    "save(p)"
   ]
  },
  {
   "cell_type": "markdown",
   "id": "02ccdd63-34c9-4b60-9bd9-cf2624eebec6",
   "metadata": {},
   "source": [
    "### Exporter en PNG\n",
    "#### pip install selenium\n",
    "#### conda install selenium geckodriver firefox -c conda-forge"
   ]
  },
  {
   "cell_type": "code",
   "execution_count": 23,
   "id": "7a9a93fd-7723-494e-b859-3c9430122953",
   "metadata": {},
   "outputs": [
    {
     "data": {
      "text/plain": [
       "'C:\\\\Users\\\\UserPC\\\\Jupyter-Python docs de travail\\\\python-bokeh-master\\\\exportation_plot.png'"
      ]
     },
     "execution_count": 23,
     "metadata": {},
     "output_type": "execute_result"
    }
   ],
   "source": [
    "from bokeh.io import export_png\n",
    "\n",
    "from bokeh.plotting import figure\n",
    "\n",
    "# prepare some data\n",
    "x = [1, 2, 3, 4, 5]\n",
    "y = [4, 5, 5, 7, 2]\n",
    "\n",
    "# create a new plot with fixed dimensions\n",
    "p = figure(width=350, height=250)\n",
    "\n",
    "# add a circle renderer\n",
    "circle = p.circle(x, y, fill_color=\"red\", size=15)\n",
    "\n",
    "# save the results to a file\n",
    "\n",
    "export_png(p, filename=\"exportation_plot.png\")"
   ]
  },
  {
   "cell_type": "markdown",
   "id": "677468db-099b-4c06-a0f3-998b1b057e42",
   "metadata": {},
   "source": [
    "## 8 - Fournir et filtrer les données \n",
    "\n",
    "### Utilisation de ColumnDataSource"
   ]
  },
  {
   "cell_type": "markdown",
   "id": "9e71129d-6f60-4b9f-a71e-630b72578aca",
   "metadata": {},
   "source": [
    "C'est ColumnDataSource la propre structure de données de Bokeh.\n",
    "\n",
    "Jusqu'à présent, vous avez utilisé des séquences de données telles que des listes Python et des tableaux NumPy pour transmettre des données à Bokeh. Bokeh a automatiquement converti ces listes en ColumnDataSource objets pour vous.\n",
    "\n",
    "Suivez ces étapes pour créer directement un ColumnDataSource  :\n",
    "\n",
    "Tout d'abord, importez ColumnDataSource.\n",
    "\n",
    "Ensuite, créez un dict avec vos données : les clés du dict sont les noms de colonne (chaînes). Les valeurs du dict sont des listes ou des tableaux de données.\n",
    "\n",
    "Puis, passez votre dict comme data argument à ColumnDataSource :\n",
    "\n",
    "Vous pouvez ensuite utiliser votre ColumnDataSource comme source pour votre moteur de rendu"
   ]
  },
  {
   "cell_type": "code",
   "execution_count": 24,
   "id": "927f3b03-8854-41dc-86bb-faf177b47c0b",
   "metadata": {},
   "outputs": [
    {
     "data": {
      "text/html": [
       "<div style=\"display: table;\"><div style=\"display: table-row;\"><div style=\"display: table-cell;\"><b title=\"bokeh.models.renderers.GlyphRenderer\">GlyphRenderer</b>(</div><div style=\"display: table-cell;\">id&nbsp;=&nbsp;'5618', <span id=\"5621\" style=\"cursor: pointer;\">&hellip;)</span></div></div><div class=\"5620\" style=\"display: none;\"><div style=\"display: table-cell;\"></div><div style=\"display: table-cell;\">coordinates&nbsp;=&nbsp;None,</div></div><div class=\"5620\" style=\"display: none;\"><div style=\"display: table-cell;\"></div><div style=\"display: table-cell;\">data_source&nbsp;=&nbsp;ColumnDataSource(id='5582', ...),</div></div><div class=\"5620\" style=\"display: none;\"><div style=\"display: table-cell;\"></div><div style=\"display: table-cell;\">glyph&nbsp;=&nbsp;Circle(id='5615', ...),</div></div><div class=\"5620\" style=\"display: none;\"><div style=\"display: table-cell;\"></div><div style=\"display: table-cell;\">group&nbsp;=&nbsp;None,</div></div><div class=\"5620\" style=\"display: none;\"><div style=\"display: table-cell;\"></div><div style=\"display: table-cell;\">hover_glyph&nbsp;=&nbsp;None,</div></div><div class=\"5620\" style=\"display: none;\"><div style=\"display: table-cell;\"></div><div style=\"display: table-cell;\">js_event_callbacks&nbsp;=&nbsp;{},</div></div><div class=\"5620\" style=\"display: none;\"><div style=\"display: table-cell;\"></div><div style=\"display: table-cell;\">js_property_callbacks&nbsp;=&nbsp;{},</div></div><div class=\"5620\" style=\"display: none;\"><div style=\"display: table-cell;\"></div><div style=\"display: table-cell;\">level&nbsp;=&nbsp;'glyph',</div></div><div class=\"5620\" style=\"display: none;\"><div style=\"display: table-cell;\"></div><div style=\"display: table-cell;\">muted&nbsp;=&nbsp;False,</div></div><div class=\"5620\" style=\"display: none;\"><div style=\"display: table-cell;\"></div><div style=\"display: table-cell;\">muted_glyph&nbsp;=&nbsp;Circle(id='5617', ...),</div></div><div class=\"5620\" style=\"display: none;\"><div style=\"display: table-cell;\"></div><div style=\"display: table-cell;\">name&nbsp;=&nbsp;None,</div></div><div class=\"5620\" style=\"display: none;\"><div style=\"display: table-cell;\"></div><div style=\"display: table-cell;\">nonselection_glyph&nbsp;=&nbsp;Circle(id='5616', ...),</div></div><div class=\"5620\" style=\"display: none;\"><div style=\"display: table-cell;\"></div><div style=\"display: table-cell;\">selection_glyph&nbsp;=&nbsp;'auto',</div></div><div class=\"5620\" style=\"display: none;\"><div style=\"display: table-cell;\"></div><div style=\"display: table-cell;\">subscribed_events&nbsp;=&nbsp;[],</div></div><div class=\"5620\" style=\"display: none;\"><div style=\"display: table-cell;\"></div><div style=\"display: table-cell;\">syncable&nbsp;=&nbsp;True,</div></div><div class=\"5620\" style=\"display: none;\"><div style=\"display: table-cell;\"></div><div style=\"display: table-cell;\">tags&nbsp;=&nbsp;[],</div></div><div class=\"5620\" style=\"display: none;\"><div style=\"display: table-cell;\"></div><div style=\"display: table-cell;\">view&nbsp;=&nbsp;CDSView(id='5619', ...),</div></div><div class=\"5620\" style=\"display: none;\"><div style=\"display: table-cell;\"></div><div style=\"display: table-cell;\">visible&nbsp;=&nbsp;True,</div></div><div class=\"5620\" style=\"display: none;\"><div style=\"display: table-cell;\"></div><div style=\"display: table-cell;\">x_range_name&nbsp;=&nbsp;'default',</div></div><div class=\"5620\" style=\"display: none;\"><div style=\"display: table-cell;\"></div><div style=\"display: table-cell;\">y_range_name&nbsp;=&nbsp;'default')</div></div></div>\n",
       "<script>\n",
       "(function() {\n",
       "  let expanded = false;\n",
       "  const ellipsis = document.getElementById(\"5621\");\n",
       "  ellipsis.addEventListener(\"click\", function() {\n",
       "    const rows = document.getElementsByClassName(\"5620\");\n",
       "    for (let i = 0; i < rows.length; i++) {\n",
       "      const el = rows[i];\n",
       "      el.style.display = expanded ? \"none\" : \"table-row\";\n",
       "    }\n",
       "    ellipsis.innerHTML = expanded ? \"&hellip;)\" : \"&lsaquo;&lsaquo;&lsaquo;\";\n",
       "    expanded = !expanded;\n",
       "  });\n",
       "})();\n",
       "</script>\n"
      ],
      "text/plain": [
       "GlyphRenderer(id='5618', ...)"
      ]
     },
     "execution_count": 24,
     "metadata": {},
     "output_type": "execute_result"
    }
   ],
   "source": [
    "from bokeh.plotting import figure\n",
    "from bokeh.models import ColumnDataSource\n",
    "\n",
    "# create dict as basis for ColumnDataSource\n",
    "data = {'x_values': [1, 2, 3, 4, 5],\n",
    "        'y_values': [6, 7, 2, 3, 6]}\n",
    "\n",
    "# create ColumnDataSource based on dict\n",
    "source = ColumnDataSource(data=data)\n",
    "\n",
    "# create a plot and renderer with ColumnDataSource data\n",
    "p = figure()\n",
    "p.circle(x='x_values', y='y_values', source=source)"
   ]
  },
  {
   "cell_type": "code",
   "execution_count": 25,
   "id": "d81f25c2-e057-422e-becb-6fdff8a7cbd9",
   "metadata": {},
   "outputs": [
    {
     "data": {
      "text/html": [
       "<div style=\"display: table;\"><div style=\"display: table-row;\"><div style=\"display: table-cell;\"><b title=\"bokeh.models.sources.ColumnDataSource\">ColumnDataSource</b>(</div><div style=\"display: table-cell;\">id&nbsp;=&nbsp;'5582', <span id=\"5623\" style=\"cursor: pointer;\">&hellip;)</span></div></div><div class=\"5622\" style=\"display: none;\"><div style=\"display: table-cell;\"></div><div style=\"display: table-cell;\">data&nbsp;=&nbsp;{'y_values': [6, 7, 2, 3, 6], 'x_values': [1, 2, 3, 4, 5]},</div></div><div class=\"5622\" style=\"display: none;\"><div style=\"display: table-cell;\"></div><div style=\"display: table-cell;\">js_event_callbacks&nbsp;=&nbsp;{},</div></div><div class=\"5622\" style=\"display: none;\"><div style=\"display: table-cell;\"></div><div style=\"display: table-cell;\">js_property_callbacks&nbsp;=&nbsp;{},</div></div><div class=\"5622\" style=\"display: none;\"><div style=\"display: table-cell;\"></div><div style=\"display: table-cell;\">name&nbsp;=&nbsp;None,</div></div><div class=\"5622\" style=\"display: none;\"><div style=\"display: table-cell;\"></div><div style=\"display: table-cell;\">selected&nbsp;=&nbsp;Selection(id='5625', ...),</div></div><div class=\"5622\" style=\"display: none;\"><div style=\"display: table-cell;\"></div><div style=\"display: table-cell;\">selection_policy&nbsp;=&nbsp;UnionRenderers(id='5624', ...),</div></div><div class=\"5622\" style=\"display: none;\"><div style=\"display: table-cell;\"></div><div style=\"display: table-cell;\">subscribed_events&nbsp;=&nbsp;[],</div></div><div class=\"5622\" style=\"display: none;\"><div style=\"display: table-cell;\"></div><div style=\"display: table-cell;\">syncable&nbsp;=&nbsp;True,</div></div><div class=\"5622\" style=\"display: none;\"><div style=\"display: table-cell;\"></div><div style=\"display: table-cell;\">tags&nbsp;=&nbsp;[])</div></div></div>\n",
       "<script>\n",
       "(function() {\n",
       "  let expanded = false;\n",
       "  const ellipsis = document.getElementById(\"5623\");\n",
       "  ellipsis.addEventListener(\"click\", function() {\n",
       "    const rows = document.getElementsByClassName(\"5622\");\n",
       "    for (let i = 0; i < rows.length; i++) {\n",
       "      const el = rows[i];\n",
       "      el.style.display = expanded ? \"none\" : \"table-row\";\n",
       "    }\n",
       "    ellipsis.innerHTML = expanded ? \"&hellip;)\" : \"&lsaquo;&lsaquo;&lsaquo;\";\n",
       "    expanded = !expanded;\n",
       "  });\n",
       "})();\n",
       "</script>\n"
      ],
      "text/plain": [
       "ColumnDataSource(id='5582', ...)"
      ]
     },
     "execution_count": 25,
     "metadata": {},
     "output_type": "execute_result"
    }
   ],
   "source": [
    "source"
   ]
  },
  {
   "cell_type": "markdown",
   "id": "64166269-6e7c-47c6-b4e7-1264c6487310",
   "metadata": {},
   "source": [
    "### transformer des données pandas df en ColumnDataSource"
   ]
  },
  {
   "cell_type": "code",
   "execution_count": 28,
   "id": "d6a9d2b7-0a3f-467a-9295-81c7888e3a96",
   "metadata": {},
   "outputs": [
    {
     "ename": "NameError",
     "evalue": "name 'df' is not defined",
     "output_type": "error",
     "traceback": [
      "\u001b[1;31m---------------------------------------------------------------------------\u001b[0m",
      "\u001b[1;31mNameError\u001b[0m                                 Traceback (most recent call last)",
      "Input \u001b[1;32mIn [28]\u001b[0m, in \u001b[0;36m<cell line: 1>\u001b[1;34m()\u001b[0m\n\u001b[1;32m----> 1\u001b[0m source \u001b[38;5;241m=\u001b[39m ColumnDataSource(\u001b[43mdf\u001b[49m)\n",
      "\u001b[1;31mNameError\u001b[0m: name 'df' is not defined"
     ]
    }
   ],
   "source": [
    "source = ColumnDataSource(df)"
   ]
  },
  {
   "cell_type": "markdown",
   "id": "6d8b98b3-9236-4363-a77c-1b12d6623680",
   "metadata": {},
   "source": [
    "### Filtrer des données"
   ]
  },
  {
   "cell_type": "code",
   "execution_count": 29,
   "id": "8ebc2854-1623-4fe1-b0e1-a1e1d20f263c",
   "metadata": {},
   "outputs": [
    {
     "data": {
      "text/html": [
       "\n",
       "\n",
       "\n",
       "\n",
       "\n",
       "\n",
       "  <div class=\"bk-root\" id=\"5ccfa4a8-902d-4be3-b2d3-154089ac42cd\" data-root-id=\"5719\"></div>\n"
      ]
     },
     "metadata": {},
     "output_type": "display_data"
    },
    {
     "data": {
      "application/javascript": [
       "(function(root) {\n",
       "  function embed_document(root) {\n",
       "    \n",
       "  const docs_json = {\"958e4fb3-f14c-4e8e-9c25-8c4cd05bf72c\":{\"defs\":[],\"roots\":{\"references\":[{\"attributes\":{\"children\":[{\"id\":\"5718\"},{\"id\":\"5716\"}]},\"id\":\"5719\",\"type\":\"Column\"},{\"attributes\":{},\"id\":\"5699\",\"type\":\"AllLabels\"},{\"attributes\":{},\"id\":\"5711\",\"type\":\"AllLabels\"},{\"attributes\":{},\"id\":\"5701\",\"type\":\"Selection\"},{\"attributes\":{\"data\":{\"x\":[1,2,3,4,5],\"y\":[1,2,3,4,5]},\"selected\":{\"id\":\"5701\"},\"selection_policy\":{\"id\":\"5700\"}},\"id\":\"5626\",\"type\":\"ColumnDataSource\"},{\"attributes\":{\"coordinates\":null,\"group\":null},\"id\":\"5692\",\"type\":\"Title\"},{\"attributes\":{\"coordinates\":null,\"formatter\":{\"id\":\"5695\"},\"group\":null,\"major_label_policy\":{\"id\":\"5696\"},\"ticker\":{\"id\":\"5643\"}},\"id\":\"5642\",\"type\":\"LinearAxis\"},{\"attributes\":{\"fill_color\":{\"value\":\"#1f77b4\"},\"line_color\":{\"value\":\"#1f77b4\"},\"size\":{\"value\":10},\"x\":{\"field\":\"x\"},\"y\":{\"field\":\"y\"}},\"id\":\"5655\",\"type\":\"Circle\"},{\"attributes\":{\"fill_alpha\":{\"value\":0.1},\"fill_color\":{\"value\":\"#1f77b4\"},\"hatch_alpha\":{\"value\":0.1},\"line_alpha\":{\"value\":0.1},\"line_color\":{\"value\":\"#1f77b4\"},\"size\":{\"value\":10},\"x\":{\"field\":\"x\"},\"y\":{\"field\":\"y\"}},\"id\":\"5656\",\"type\":\"Circle\"},{\"attributes\":{},\"id\":\"5695\",\"type\":\"BasicTickFormatter\"},{\"attributes\":{},\"id\":\"5708\",\"type\":\"AllLabels\"},{\"attributes\":{},\"id\":\"5680\",\"type\":\"ResetTool\"},{\"attributes\":{},\"id\":\"5710\",\"type\":\"BasicTickFormatter\"},{\"attributes\":{},\"id\":\"5668\",\"type\":\"LinearScale\"},{\"attributes\":{},\"id\":\"5675\",\"type\":\"BasicTicker\"},{\"attributes\":{\"bottom_units\":\"screen\",\"coordinates\":null,\"fill_alpha\":0.5,\"fill_color\":\"lightgrey\",\"group\":null,\"left_units\":\"screen\",\"level\":\"overlay\",\"line_alpha\":1.0,\"line_color\":\"black\",\"line_dash\":[4,4],\"line_width\":2,\"right_units\":\"screen\",\"syncable\":false,\"top_units\":\"screen\"},\"id\":\"5681\",\"type\":\"BoxAnnotation\"},{\"attributes\":{},\"id\":\"5630\",\"type\":\"DataRange1d\"},{\"attributes\":{\"indices\":[0,2,4]},\"id\":\"5627\",\"type\":\"IndexFilter\"},{\"attributes\":{\"filters\":[{\"id\":\"5627\"}],\"source\":{\"id\":\"5626\"}},\"id\":\"5628\",\"type\":\"CDSView\"},{\"attributes\":{\"overlay\":{\"id\":\"5649\"}},\"id\":\"5646\",\"type\":\"BoxSelectTool\"},{\"attributes\":{\"fill_color\":{\"value\":\"red\"},\"hatch_color\":{\"value\":\"red\"},\"line_color\":{\"value\":\"red\"},\"size\":{\"value\":10},\"x\":{\"field\":\"x\"},\"y\":{\"field\":\"y\"}},\"id\":\"5689\",\"type\":\"Circle\"},{\"attributes\":{\"tools\":[{\"id\":\"5678\"},{\"id\":\"5679\"},{\"id\":\"5680\"}]},\"id\":\"5682\",\"type\":\"Toolbar\"},{\"attributes\":{\"children\":[[{\"id\":\"5629\"},0,0],[{\"id\":\"5661\"},0,1]]},\"id\":\"5716\",\"type\":\"GridBox\"},{\"attributes\":{\"fill_color\":{\"value\":\"#1f77b4\"},\"line_color\":{\"value\":\"#1f77b4\"},\"size\":{\"value\":10},\"x\":{\"field\":\"x\"},\"y\":{\"field\":\"y\"}},\"id\":\"5687\",\"type\":\"Circle\"},{\"attributes\":{\"toolbar\":{\"id\":\"5717\"},\"toolbar_location\":\"above\"},\"id\":\"5718\",\"type\":\"ToolbarBox\"},{\"attributes\":{\"callback\":null},\"id\":\"5679\",\"type\":\"HoverTool\"},{\"attributes\":{\"axis\":{\"id\":\"5638\"},\"coordinates\":null,\"group\":null,\"ticker\":null},\"id\":\"5641\",\"type\":\"Grid\"},{\"attributes\":{\"source\":{\"id\":\"5626\"}},\"id\":\"5660\",\"type\":\"CDSView\"},{\"attributes\":{\"callback\":null},\"id\":\"5647\",\"type\":\"HoverTool\"},{\"attributes\":{\"coordinates\":null,\"formatter\":{\"id\":\"5698\"},\"group\":null,\"major_label_policy\":{\"id\":\"5699\"},\"ticker\":{\"id\":\"5639\"}},\"id\":\"5638\",\"type\":\"LinearAxis\"},{\"attributes\":{\"coordinates\":null,\"formatter\":{\"id\":\"5707\"},\"group\":null,\"major_label_policy\":{\"id\":\"5708\"},\"ticker\":{\"id\":\"5675\"}},\"id\":\"5674\",\"type\":\"LinearAxis\"},{\"attributes\":{},\"id\":\"5648\",\"type\":\"ResetTool\"},{\"attributes\":{},\"id\":\"5632\",\"type\":\"DataRange1d\"},{\"attributes\":{\"axis\":{\"id\":\"5674\"},\"coordinates\":null,\"dimension\":1,\"group\":null,\"ticker\":null},\"id\":\"5677\",\"type\":\"Grid\"},{\"attributes\":{},\"id\":\"5643\",\"type\":\"BasicTicker\"},{\"attributes\":{},\"id\":\"5700\",\"type\":\"UnionRenderers\"},{\"attributes\":{},\"id\":\"5634\",\"type\":\"LinearScale\"},{\"attributes\":{\"fill_color\":{\"value\":\"red\"},\"hatch_color\":{\"value\":\"red\"},\"line_color\":{\"value\":\"red\"},\"size\":{\"value\":10},\"x\":{\"field\":\"x\"},\"y\":{\"field\":\"y\"}},\"id\":\"5657\",\"type\":\"Circle\"},{\"attributes\":{\"axis\":{\"id\":\"5642\"},\"coordinates\":null,\"dimension\":1,\"group\":null,\"ticker\":null},\"id\":\"5645\",\"type\":\"Grid\"},{\"attributes\":{\"toolbars\":[{\"id\":\"5650\"},{\"id\":\"5682\"}],\"tools\":[{\"id\":\"5646\"},{\"id\":\"5647\"},{\"id\":\"5648\"},{\"id\":\"5678\"},{\"id\":\"5679\"},{\"id\":\"5680\"}]},\"id\":\"5717\",\"type\":\"ProxyToolbar\"},{\"attributes\":{},\"id\":\"5636\",\"type\":\"LinearScale\"},{\"attributes\":{},\"id\":\"5664\",\"type\":\"DataRange1d\"},{\"attributes\":{},\"id\":\"5698\",\"type\":\"BasicTickFormatter\"},{\"attributes\":{},\"id\":\"5707\",\"type\":\"BasicTickFormatter\"},{\"attributes\":{},\"id\":\"5671\",\"type\":\"BasicTicker\"},{\"attributes\":{\"coordinates\":null,\"group\":null},\"id\":\"5704\",\"type\":\"Title\"},{\"attributes\":{\"overlay\":{\"id\":\"5681\"}},\"id\":\"5678\",\"type\":\"BoxSelectTool\"},{\"attributes\":{\"below\":[{\"id\":\"5670\"}],\"center\":[{\"id\":\"5673\"},{\"id\":\"5677\"}],\"height\":300,\"left\":[{\"id\":\"5674\"}],\"renderers\":[{\"id\":\"5691\"}],\"title\":{\"id\":\"5704\"},\"toolbar\":{\"id\":\"5682\"},\"toolbar_location\":null,\"width\":300,\"x_range\":{\"id\":\"5662\"},\"x_scale\":{\"id\":\"5666\"},\"y_range\":{\"id\":\"5664\"},\"y_scale\":{\"id\":\"5668\"}},\"id\":\"5661\",\"subtype\":\"Figure\",\"type\":\"Plot\"},{\"attributes\":{\"coordinates\":null,\"data_source\":{\"id\":\"5626\"},\"glyph\":{\"id\":\"5687\"},\"group\":null,\"hover_glyph\":{\"id\":\"5689\"},\"muted_glyph\":{\"id\":\"5690\"},\"nonselection_glyph\":{\"id\":\"5688\"},\"view\":{\"id\":\"5628\"}},\"id\":\"5691\",\"type\":\"GlyphRenderer\"},{\"attributes\":{\"fill_alpha\":{\"value\":0.1},\"fill_color\":{\"value\":\"#1f77b4\"},\"hatch_alpha\":{\"value\":0.1},\"line_alpha\":{\"value\":0.1},\"line_color\":{\"value\":\"#1f77b4\"},\"size\":{\"value\":10},\"x\":{\"field\":\"x\"},\"y\":{\"field\":\"y\"}},\"id\":\"5688\",\"type\":\"Circle\"},{\"attributes\":{},\"id\":\"5662\",\"type\":\"DataRange1d\"},{\"attributes\":{},\"id\":\"5666\",\"type\":\"LinearScale\"},{\"attributes\":{\"coordinates\":null,\"data_source\":{\"id\":\"5626\"},\"glyph\":{\"id\":\"5655\"},\"group\":null,\"hover_glyph\":{\"id\":\"5657\"},\"muted_glyph\":{\"id\":\"5658\"},\"nonselection_glyph\":{\"id\":\"5656\"},\"view\":{\"id\":\"5660\"}},\"id\":\"5659\",\"type\":\"GlyphRenderer\"},{\"attributes\":{\"tools\":[{\"id\":\"5646\"},{\"id\":\"5647\"},{\"id\":\"5648\"}]},\"id\":\"5650\",\"type\":\"Toolbar\"},{\"attributes\":{\"fill_alpha\":{\"value\":0.2},\"fill_color\":{\"value\":\"#1f77b4\"},\"hatch_alpha\":{\"value\":0.2},\"line_alpha\":{\"value\":0.2},\"line_color\":{\"value\":\"#1f77b4\"},\"size\":{\"value\":10},\"x\":{\"field\":\"x\"},\"y\":{\"field\":\"y\"}},\"id\":\"5658\",\"type\":\"Circle\"},{\"attributes\":{\"coordinates\":null,\"formatter\":{\"id\":\"5710\"},\"group\":null,\"major_label_policy\":{\"id\":\"5711\"},\"ticker\":{\"id\":\"5671\"}},\"id\":\"5670\",\"type\":\"LinearAxis\"},{\"attributes\":{\"axis\":{\"id\":\"5670\"},\"coordinates\":null,\"group\":null,\"ticker\":null},\"id\":\"5673\",\"type\":\"Grid\"},{\"attributes\":{\"fill_alpha\":{\"value\":0.2},\"fill_color\":{\"value\":\"#1f77b4\"},\"hatch_alpha\":{\"value\":0.2},\"line_alpha\":{\"value\":0.2},\"line_color\":{\"value\":\"#1f77b4\"},\"size\":{\"value\":10},\"x\":{\"field\":\"x\"},\"y\":{\"field\":\"y\"}},\"id\":\"5690\",\"type\":\"Circle\"},{\"attributes\":{\"bottom_units\":\"screen\",\"coordinates\":null,\"fill_alpha\":0.5,\"fill_color\":\"lightgrey\",\"group\":null,\"left_units\":\"screen\",\"level\":\"overlay\",\"line_alpha\":1.0,\"line_color\":\"black\",\"line_dash\":[4,4],\"line_width\":2,\"right_units\":\"screen\",\"syncable\":false,\"top_units\":\"screen\"},\"id\":\"5649\",\"type\":\"BoxAnnotation\"},{\"attributes\":{\"below\":[{\"id\":\"5638\"}],\"center\":[{\"id\":\"5641\"},{\"id\":\"5645\"}],\"height\":300,\"left\":[{\"id\":\"5642\"}],\"renderers\":[{\"id\":\"5659\"}],\"title\":{\"id\":\"5692\"},\"toolbar\":{\"id\":\"5650\"},\"toolbar_location\":null,\"width\":300,\"x_range\":{\"id\":\"5630\"},\"x_scale\":{\"id\":\"5634\"},\"y_range\":{\"id\":\"5632\"},\"y_scale\":{\"id\":\"5636\"}},\"id\":\"5629\",\"subtype\":\"Figure\",\"type\":\"Plot\"},{\"attributes\":{},\"id\":\"5639\",\"type\":\"BasicTicker\"},{\"attributes\":{},\"id\":\"5696\",\"type\":\"AllLabels\"}],\"root_ids\":[\"5719\"]},\"title\":\"Bokeh Application\",\"version\":\"2.4.2\"}};\n",
       "  const render_items = [{\"docid\":\"958e4fb3-f14c-4e8e-9c25-8c4cd05bf72c\",\"root_ids\":[\"5719\"],\"roots\":{\"5719\":\"5ccfa4a8-902d-4be3-b2d3-154089ac42cd\"}}];\n",
       "  root.Bokeh.embed.embed_items_notebook(docs_json, render_items);\n",
       "\n",
       "  }\n",
       "  if (root.Bokeh !== undefined) {\n",
       "    embed_document(root);\n",
       "  } else {\n",
       "    let attempts = 0;\n",
       "    const timer = setInterval(function(root) {\n",
       "      if (root.Bokeh !== undefined) {\n",
       "        clearInterval(timer);\n",
       "        embed_document(root);\n",
       "      } else {\n",
       "        attempts++;\n",
       "        if (attempts > 100) {\n",
       "          clearInterval(timer);\n",
       "          console.log(\"Bokeh: ERROR: Unable to run BokehJS code because BokehJS library is missing\");\n",
       "        }\n",
       "      }\n",
       "    }, 10, root)\n",
       "  }\n",
       "})(window);"
      ],
      "application/vnd.bokehjs_exec.v0+json": ""
     },
     "metadata": {
      "application/vnd.bokehjs_exec.v0+json": {
       "id": "5719"
      }
     },
     "output_type": "display_data"
    }
   ],
   "source": [
    "from bokeh.layouts import gridplot\n",
    "\n",
    "from bokeh.models import CDSView, ColumnDataSource, IndexFilter  # importer ceci\n",
    "\n",
    "from bokeh.plotting import figure, show\n",
    "\n",
    "# create ColumnDataSource from a dict\n",
    "source = ColumnDataSource(data=dict(x=[1, 2, 3, 4, 5], y=[1, 2, 3, 4, 5]))\n",
    "\n",
    "# create a view using an IndexFilter with the index positions [0, 2, 4]\n",
    "view = CDSView(source=source, filters=[IndexFilter([0, 2, 4])])   # on filtre ici les données d'index pair !!!\n",
    "\n",
    "# setup tools\n",
    "tools = [\"box_select\", \"hover\", \"reset\"]\n",
    "\n",
    "# create a first plot with all data in the ColumnDataSource\n",
    "p = figure(height=300, width=300, tools=tools)\n",
    "p.circle(x=\"x\", y=\"y\", size=10, hover_color=\"red\", source=source)\n",
    "\n",
    "# create a second plot with a subset of ColumnDataSource, based on view\n",
    "p_filtered = figure(height=300, width=300, tools=tools)\n",
    "p_filtered.circle(x=\"x\", y=\"y\", size=10, hover_color=\"red\", source=source, view=view)  # vue du graph filtré\n",
    "\n",
    "\n",
    "# show both plots next to each other in a gridplot layout\n",
    "show(gridplot([[p, p_filtered]]))"
   ]
  }
 ],
 "metadata": {
  "kernelspec": {
   "display_name": "Python 3 (ipykernel)",
   "language": "python",
   "name": "python3"
  },
  "language_info": {
   "codemirror_mode": {
    "name": "ipython",
    "version": 3
   },
   "file_extension": ".py",
   "mimetype": "text/x-python",
   "name": "python",
   "nbconvert_exporter": "python",
   "pygments_lexer": "ipython3",
   "version": "3.9.12"
  }
 },
 "nbformat": 4,
 "nbformat_minor": 5
}
