{
 "cells": [
  {
   "cell_type": "code",
   "execution_count": 1,
   "id": "a3a640b0-3bbd-46bc-a892-f72d2850eacb",
   "metadata": {},
   "outputs": [],
   "source": [
    "import numpy as np\n",
    "import matplotlib.pyplot as plt\n",
    "from sklearn.metrics import *   #    * = all "
   ]
  },
  {
   "cell_type": "code",
   "execution_count": 2,
   "id": "83bdf84b-ad5e-4698-afd4-92ad4206d2f8",
   "metadata": {},
   "outputs": [
    {
     "name": "stdout",
     "output_type": "stream",
     "text": [
      "MAE mean absolut error =  2.0\n",
      "MSE mean squared error =  8.0\n",
      "RMSE root mean squared error =  2.8284271247461903\n"
     ]
    }
   ],
   "source": [
    "y = np.array([1, 2])\n",
    "y_pred = np.array([5, 2])\n",
    "print('MAE mean absolut error = ', mean_absolute_error(y, y_pred))  # moyenne de la somme des valeurs absolue des erreurs UTILE\n",
    "print('MSE mean squared error = ', mean_squared_error(y, y_pred))   # ne signifie rien, utile pour comprendre RSME  INUTILE\n",
    "print('RMSE root mean squared error = ', np.sqrt(mean_squared_error(y, y_pred)))  # racine de la somme des carrés des erreurs UTILE"
   ]
  },
  {
   "cell_type": "markdown",
   "id": "30a43e7f-4c22-4525-b6f4-eef4363a8edf",
   "metadata": {},
   "source": [
    "## 1 - Métrics_error et pb des valeurs aberrantes"
   ]
  },
  {
   "cell_type": "code",
   "execution_count": 3,
   "id": "27fc9549-7f8a-446f-919f-796fbaf426c9",
   "metadata": {},
   "outputs": [
    {
     "name": "stdout",
     "output_type": "stream",
     "text": [
      "MAE mean absolut error =  167.66666666666666\n",
      "MSE mean squared error =  166004.66666666666\n",
      "RMSE root mean squared error =  407.43670265044443\n",
      "mediane median absolut error =  2.0\n"
     ]
    }
   ],
   "source": [
    "y = np.array([1, 2, 2, 3, 5, 2])\n",
    "y_pred = np.array([5, 2, 2, 5, 7, 1000])  # 1 valeur aberrantes ici = 1000 ( prédite ou vraie peu importe\n",
    "print('MAE mean absolut error = ', mean_absolute_error(y, y_pred))  # moyenne de la somme des valeurs absolue des erreurs UTILE\n",
    "print('MSE mean squared error = ', mean_squared_error(y, y_pred))   # ne signifie rien, utile pour comprendre RSME  INUTILE\n",
    "print('RMSE root mean squared error = ', np.sqrt(mean_squared_error(y, y_pred)))  # racine de la somme des carrés des erreurs UTILE\n",
    "print('mediane median absolut error = ', median_absolute_error(y, y_pred))"
   ]
  },
  {
   "cell_type": "code",
   "execution_count": 4,
   "id": "7f7d662f-4a54-40d9-aa65-cbaff7593774",
   "metadata": {},
   "outputs": [],
   "source": [
    "# erreur_abs=[4, 0, 0, 2, 2, 998] => dans l'ordre [0, 0, 2, 2, 4, 98] 6 valeurs donc mediane = (2+2)/2 = 2"
   ]
  },
  {
   "cell_type": "markdown",
   "id": "b540d1cd-a36b-4ef2-92b4-b811e60fd8ea",
   "metadata": {},
   "source": [
    "## 2 - quels calculs d'erreurs utiliser ? RMAE, MSE, medianSE, ou autres...=> tout utiliser et faire histogramme des erreurs"
   ]
  },
  {
   "cell_type": "code",
   "execution_count": 5,
   "id": "cfc4b69b-046c-414b-af2e-0434e7b4f9f3",
   "metadata": {},
   "outputs": [],
   "source": [
    "from sklearn.linear_model import LinearRegression"
   ]
  },
  {
   "cell_type": "code",
   "execution_count": 6,
   "id": "c51b95a9-66e3-48cb-aa0e-6e85ccb803b0",
   "metadata": {},
   "outputs": [],
   "source": [
    "from sklearn.datasets import load_iris\n",
    "\n",
    "iris = load_iris()\n",
    "X = iris.data\n",
    "y = iris.target"
   ]
  },
  {
   "cell_type": "code",
   "execution_count": 7,
   "id": "d832b29c-86d0-4250-8e94-3d7ee1cd93ee",
   "metadata": {},
   "outputs": [],
   "source": [
    "model = LinearRegression()\n",
    "model.fit(X, y)\n",
    "\n",
    "y_pred = model.predict(X)"
   ]
  },
  {
   "cell_type": "markdown",
   "id": "406f30fa-9198-4bc5-8933-9ef2503cd587",
   "metadata": {},
   "source": [
    "## 3 - Faire un histogramme d'erreur "
   ]
  },
  {
   "cell_type": "code",
   "execution_count": 8,
   "id": "a0f626cc-98f0-4bb7-a894-20d5a57f7e65",
   "metadata": {},
   "outputs": [
    {
     "data": {
      "text/plain": [
       "(array([10., 11.,  5., 10., 10.,  5.,  5.,  6.,  7.,  1.,  5.,  3.,  4.,\n",
       "         4.,  6.,  5.,  4.,  5.,  1.,  1.,  5.,  3.,  2.,  2.,  3.,  3.,\n",
       "         3.,  2.,  1.,  1.,  0.,  0.,  2.,  3.,  3.,  2.,  0.,  1.,  0.,\n",
       "         1.,  0.,  1.,  0.,  1.,  0.,  0.,  2.,  0.,  0.,  1.]),\n",
       " array([0.0005961 , 0.0124271 , 0.02425811, 0.03608911, 0.04792011,\n",
       "        0.05975111, 0.07158211, 0.08341311, 0.09524412, 0.10707512,\n",
       "        0.11890612, 0.13073712, 0.14256812, 0.15439912, 0.16623012,\n",
       "        0.17806113, 0.18989213, 0.20172313, 0.21355413, 0.22538513,\n",
       "        0.23721613, 0.24904714, 0.26087814, 0.27270914, 0.28454014,\n",
       "        0.29637114, 0.30820214, 0.32003314, 0.33186415, 0.34369515,\n",
       "        0.35552615, 0.36735715, 0.37918815, 0.39101915, 0.40285016,\n",
       "        0.41468116, 0.42651216, 0.43834316, 0.45017416, 0.46200516,\n",
       "        0.47383616, 0.48566717, 0.49749817, 0.50932917, 0.52116017,\n",
       "        0.53299117, 0.54482217, 0.55665318, 0.56848418, 0.58031518,\n",
       "        0.59214618]),\n",
       " <BarContainer object of 50 artists>)"
      ]
     },
     "execution_count": 8,
     "metadata": {},
     "output_type": "execute_result"
    },
    {
     "data": {
      "image/png": "[encoded data removed]",
      "text/plain": [
       "<Figure size 640x480 with 1 Axes>"
      ]
     },
     "metadata": {},
     "output_type": "display_data"
    }
   ],
   "source": [
    "err_hist = np.abs(y-y_pred)  # on choisit une estimation d'erreur de base = valeur absolu ( y - y_pred )\n",
    "plt.hist(err_hist, bins=50)   # on en fait l'histogramme des erreur"
   ]
  },
  {
   "cell_type": "code",
   "execution_count": 9,
   "id": "6cd20908-c90a-4b3f-8714-bb444cc3d276",
   "metadata": {},
   "outputs": [
    {
     "data": {
      "text/plain": [
       "150"
      ]
     },
     "execution_count": 9,
     "metadata": {},
     "output_type": "execute_result"
    }
   ],
   "source": [
    "# et on voit que la + part des erreur sont entre 0% et 10% ( 0 à 0.1)\n",
    "# 10 valeurs à 0% d'erreurs, 11 valeurs ensuite, puis 5 proche de 0% d'erreur\n",
    "# on peut calculer la quantité d'erreur sous 10% par exemple\n",
    "sum(err_hist<0.1) # -> 64 valeurs( sur 150 ) sous les 10% d'erreurs\n",
    "sum(err_hist<0.2) # -> 100 valeurs( sur 150 ) sous les 20% d'erreurs\n",
    "# GENERALEMENT ON A TOUJOURS UN HISTOGRAMME D ERREURS EN EXPONENTIELLE DECROISSANTE\n",
    "sum(err_hist<0.6)"
   ]
  },
  {
   "cell_type": "code",
   "execution_count": 10,
   "id": "2bb5de67-ca32-4c45-b4ab-de41a0d1e973",
   "metadata": {},
   "outputs": [
    {
     "data": {
      "text/plain": [
       "(array([56., 14.,  8.,  8.,  9.,  9.,  3.,  1.,  5.,  4.,  1.,  5.,  2.,\n",
       "         2.,  2.,  2.,  1.,  1.,  0.,  0.,  2.,  0.,  3.,  2.,  2.,  1.,\n",
       "         0.,  1.,  0.,  0.,  0.,  1.,  0.,  0.,  0.,  1.,  0.,  1.,  0.,\n",
       "         0.,  0.,  0.,  1.,  1.,  0.,  0.,  0.,  0.,  0.,  1.]),\n",
       " array([3.55338950e-07, 7.01309021e-03, 1.40258251e-02, 2.10385600e-02,\n",
       "        2.80512948e-02, 3.50640297e-02, 4.20767646e-02, 4.90894995e-02,\n",
       "        5.61022343e-02, 6.31149692e-02, 7.01277041e-02, 7.71404389e-02,\n",
       "        8.41531738e-02, 9.11659087e-02, 9.81786436e-02, 1.05191378e-01,\n",
       "        1.12204113e-01, 1.19216848e-01, 1.26229583e-01, 1.33242318e-01,\n",
       "        1.40255053e-01, 1.47267788e-01, 1.54280523e-01, 1.61293257e-01,\n",
       "        1.68305992e-01, 1.75318727e-01, 1.82331462e-01, 1.89344197e-01,\n",
       "        1.96356932e-01, 2.03369667e-01, 2.10382402e-01, 2.17395136e-01,\n",
       "        2.24407871e-01, 2.31420606e-01, 2.38433341e-01, 2.45446076e-01,\n",
       "        2.52458811e-01, 2.59471546e-01, 2.66484281e-01, 2.73497015e-01,\n",
       "        2.80509750e-01, 2.87522485e-01, 2.94535220e-01, 3.01547955e-01,\n",
       "        3.08560690e-01, 3.15573425e-01, 3.22586160e-01, 3.29598894e-01,\n",
       "        3.36611629e-01, 3.43624364e-01, 3.50637099e-01]),\n",
       " <BarContainer object of 50 artists>)"
      ]
     },
     "execution_count": 10,
     "metadata": {},
     "output_type": "execute_result"
    },
    {
     "data": {
      "image/png": "[encoded data removed]",
      "text/plain": [
       "<Figure size 640x480 with 1 Axes>"
      ]
     },
     "metadata": {},
     "output_type": "display_data"
    }
   ],
   "source": [
    "err_hist = ((y-y_pred)*(y-y_pred))  # on choisit une estimation d'erreur RACINE DE MSE = RMSE\n",
    "plt.hist(err_hist, bins=50)   # on en fait l'histogramme des erreur"
   ]
  },
  {
   "cell_type": "code",
   "execution_count": 11,
   "id": "da3288e1-4a22-4077-9942-00faf53809d9",
   "metadata": {},
   "outputs": [
    {
     "data": {
      "text/plain": [
       "128"
      ]
     },
     "execution_count": 11,
     "metadata": {},
     "output_type": "execute_result"
    }
   ],
   "source": [
    "# encore plus de valeurs avec peu d'erreurs par la methode Squared_error\n",
    "sum(err_hist<0.1) # -> 128 valeurs( sur 150 ) sous les 10% d'erreurs"
   ]
  },
  {
   "cell_type": "markdown",
   "id": "50ad4267-02d7-49ff-bf65-7028a0507c37",
   "metadata": {},
   "source": [
    "### COEFFICIENT DE DETERMINATION R2 = model décrit R² % des variation de y"
   ]
  },
  {
   "cell_type": "code",
   "execution_count": 12,
   "id": "9bba4b26-b9d4-4fa1-b619-e5c1b6574e8f",
   "metadata": {},
   "outputs": [
    {
     "name": "stdout",
     "output_type": "stream",
     "text": [
      "0.9303939218549564\n"
     ]
    }
   ],
   "source": [
    "print(model.score(X, y))   # coef de détermination R2 -> 0.93\n",
    "# signifit que le modele décrit 93% des variations de nos données\n",
    "### TOUS LES MODELS DE REGRESSION CALCULENT LE R2 AVEC SCORE(X,y) "
   ]
  },
  {
   "cell_type": "markdown",
   "id": "35c59616-b969-4ad2-943a-3338b92bd022",
   "metadata": {},
   "source": [
    "## Métrics dans une cross validation"
   ]
  },
  {
   "cell_type": "code",
   "execution_count": 13,
   "id": "4e9746c6-b6b7-421f-9e2b-20ec0c08c28a",
   "metadata": {},
   "outputs": [
    {
     "data": {
      "text/plain": [
       "['accuracy',\n",
       " 'adjusted_mutual_info_score',\n",
       " 'adjusted_rand_score',\n",
       " 'average_precision',\n",
       " 'balanced_accuracy',\n",
       " 'completeness_score',\n",
       " 'explained_variance',\n",
       " 'f1',\n",
       " 'f1_macro',\n",
       " 'f1_micro',\n",
       " 'f1_samples',\n",
       " 'f1_weighted',\n",
       " 'fowlkes_mallows_score',\n",
       " 'homogeneity_score',\n",
       " 'jaccard',\n",
       " 'jaccard_macro',\n",
       " 'jaccard_micro',\n",
       " 'jaccard_samples',\n",
       " 'jaccard_weighted',\n",
       " 'matthews_corrcoef',\n",
       " 'max_error',\n",
       " 'mutual_info_score',\n",
       " 'neg_brier_score',\n",
       " 'neg_log_loss',\n",
       " 'neg_mean_absolute_error',\n",
       " 'neg_mean_absolute_percentage_error',\n",
       " 'neg_mean_gamma_deviance',\n",
       " 'neg_mean_poisson_deviance',\n",
       " 'neg_mean_squared_error',\n",
       " 'neg_mean_squared_log_error',\n",
       " 'neg_median_absolute_error',\n",
       " 'neg_negative_likelihood_ratio',\n",
       " 'neg_root_mean_squared_error',\n",
       " 'normalized_mutual_info_score',\n",
       " 'positive_likelihood_ratio',\n",
       " 'precision',\n",
       " 'precision_macro',\n",
       " 'precision_micro',\n",
       " 'precision_samples',\n",
       " 'precision_weighted',\n",
       " 'r2',\n",
       " 'rand_score',\n",
       " 'recall',\n",
       " 'recall_macro',\n",
       " 'recall_micro',\n",
       " 'recall_samples',\n",
       " 'recall_weighted',\n",
       " 'roc_auc',\n",
       " 'roc_auc_ovo',\n",
       " 'roc_auc_ovo_weighted',\n",
       " 'roc_auc_ovr',\n",
       " 'roc_auc_ovr_weighted',\n",
       " 'top_k_accuracy',\n",
       " 'v_measure_score']"
      ]
     },
     "execution_count": 13,
     "metadata": {},
     "output_type": "execute_result"
    }
   ],
   "source": [
    "import sklearn.metrics\n",
    "sorted(sklearn.metrics.SCORERS.keys())  # donne toutes les metrics utilisables dnas un scoring de cross validation"
   ]
  },
  {
   "cell_type": "code",
   "execution_count": 14,
   "id": "dd73fbd7-3c43-4d36-9ca0-ee03ed99d448",
   "metadata": {},
   "outputs": [
    {
     "data": {
      "text/plain": [
       "0.9303939218549564"
      ]
     },
     "execution_count": 14,
     "metadata": {},
     "output_type": "execute_result"
    }
   ],
   "source": [
    "model.score(X, y) # donne le R²"
   ]
  },
  {
   "cell_type": "code",
   "execution_count": 15,
   "id": "5a902897-8186-4252-861b-9c00a708c301",
   "metadata": {},
   "outputs": [
    {
     "data": {
      "text/plain": [
       "array([-0.72462151, -0.37644262, -0.60723884])"
      ]
     },
     "execution_count": 15,
     "metadata": {},
     "output_type": "execute_result"
    }
   ],
   "source": [
    "from sklearn.model_selection import cross_val_score\n",
    "cross_val_score(LinearRegression(), X, y, cv=3, scoring='neg_mean_absolute_error')"
   ]
  }
 ],
 "metadata": {
  "kernelspec": {
   "display_name": "Python 3 (ipykernel)",
   "language": "python",
   "name": "python3"
  },
  "language_info": {
   "codemirror_mode": {
    "name": "ipython",
    "version": 3
   },
   "file_extension": ".py",
   "mimetype": "text/x-python",
   "name": "python",
   "nbconvert_exporter": "python",
   "pygments_lexer": "ipython3",
   "version": "3.9.13"
  }
 },
 "nbformat": 4,
 "nbformat_minor": 5
}
