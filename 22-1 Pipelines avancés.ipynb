{
 "cells": [
  {
   "cell_type": "code",
   "execution_count": 1,
   "id": "c4ee27cf-6f00-4a9b-bb6f-dd238664fc82",
   "metadata": {},
   "outputs": [],
   "source": [
    "import numpy as np\n",
    "import matplotlib.pyplot as plt\n",
    "from sklearn.pipeline import make_pipeline\n",
    "from sklearn.preprocessing import StandardScaler\n",
    "from sklearn.linear_model import SGDClassifier\n",
    "from sklearn.preprocessing import Binarizer\n",
    "import seaborn as sns\n",
    "\n",
    "from sklearn.compose import make_column_transformer  # pour les pipelines composites\n",
    "from sklearn.preprocessing import OneHotEncoder\n",
    "from sklearn.impute import SimpleImputer\n",
    "\n",
    "from sklearn.compose import make_column_selector  # pour transformer automatic des colonnes hétérogènes\n",
    "\n",
    "from sklearn.pipeline import make_union\n"
   ]
  },
  {
   "cell_type": "code",
   "execution_count": 2,
   "id": "1286b39d-e776-414f-9e4c-21bc95177e7e",
   "metadata": {},
   "outputs": [
    {
     "data": {
      "text/html": [
       "<div>\n",
       "<style scoped>\n",
       "    .dataframe tbody tr th:only-of-type {\n",
       "        vertical-align: middle;\n",
       "    }\n",
       "\n",
       "    .dataframe tbody tr th {\n",
       "        vertical-align: top;\n",
       "    }\n",
       "\n",
       "    .dataframe thead th {\n",
       "        text-align: right;\n",
       "    }\n",
       "</style>\n",
       "<table border=\"1\" class=\"dataframe\">\n",
       "  <thead>\n",
       "    <tr style=\"text-align: right;\">\n",
       "      <th></th>\n",
       "      <th>survived</th>\n",
       "      <th>pclass</th>\n",
       "      <th>sex</th>\n",
       "      <th>age</th>\n",
       "      <th>sibsp</th>\n",
       "      <th>parch</th>\n",
       "      <th>fare</th>\n",
       "      <th>embarked</th>\n",
       "      <th>class</th>\n",
       "      <th>who</th>\n",
       "      <th>adult_male</th>\n",
       "      <th>deck</th>\n",
       "      <th>embark_town</th>\n",
       "      <th>alive</th>\n",
       "      <th>alone</th>\n",
       "    </tr>\n",
       "  </thead>\n",
       "  <tbody>\n",
       "    <tr>\n",
       "      <th>0</th>\n",
       "      <td>0</td>\n",
       "      <td>3</td>\n",
       "      <td>male</td>\n",
       "      <td>22.0</td>\n",
       "      <td>1</td>\n",
       "      <td>0</td>\n",
       "      <td>7.2500</td>\n",
       "      <td>S</td>\n",
       "      <td>Third</td>\n",
       "      <td>man</td>\n",
       "      <td>True</td>\n",
       "      <td>NaN</td>\n",
       "      <td>Southampton</td>\n",
       "      <td>no</td>\n",
       "      <td>False</td>\n",
       "    </tr>\n",
       "    <tr>\n",
       "      <th>1</th>\n",
       "      <td>1</td>\n",
       "      <td>1</td>\n",
       "      <td>female</td>\n",
       "      <td>38.0</td>\n",
       "      <td>1</td>\n",
       "      <td>0</td>\n",
       "      <td>71.2833</td>\n",
       "      <td>C</td>\n",
       "      <td>First</td>\n",
       "      <td>woman</td>\n",
       "      <td>False</td>\n",
       "      <td>C</td>\n",
       "      <td>Cherbourg</td>\n",
       "      <td>yes</td>\n",
       "      <td>False</td>\n",
       "    </tr>\n",
       "    <tr>\n",
       "      <th>2</th>\n",
       "      <td>1</td>\n",
       "      <td>3</td>\n",
       "      <td>female</td>\n",
       "      <td>26.0</td>\n",
       "      <td>0</td>\n",
       "      <td>0</td>\n",
       "      <td>7.9250</td>\n",
       "      <td>S</td>\n",
       "      <td>Third</td>\n",
       "      <td>woman</td>\n",
       "      <td>False</td>\n",
       "      <td>NaN</td>\n",
       "      <td>Southampton</td>\n",
       "      <td>yes</td>\n",
       "      <td>True</td>\n",
       "    </tr>\n",
       "    <tr>\n",
       "      <th>3</th>\n",
       "      <td>1</td>\n",
       "      <td>1</td>\n",
       "      <td>female</td>\n",
       "      <td>35.0</td>\n",
       "      <td>1</td>\n",
       "      <td>0</td>\n",
       "      <td>53.1000</td>\n",
       "      <td>S</td>\n",
       "      <td>First</td>\n",
       "      <td>woman</td>\n",
       "      <td>False</td>\n",
       "      <td>C</td>\n",
       "      <td>Southampton</td>\n",
       "      <td>yes</td>\n",
       "      <td>False</td>\n",
       "    </tr>\n",
       "    <tr>\n",
       "      <th>4</th>\n",
       "      <td>0</td>\n",
       "      <td>3</td>\n",
       "      <td>male</td>\n",
       "      <td>35.0</td>\n",
       "      <td>0</td>\n",
       "      <td>0</td>\n",
       "      <td>8.0500</td>\n",
       "      <td>S</td>\n",
       "      <td>Third</td>\n",
       "      <td>man</td>\n",
       "      <td>True</td>\n",
       "      <td>NaN</td>\n",
       "      <td>Southampton</td>\n",
       "      <td>no</td>\n",
       "      <td>True</td>\n",
       "    </tr>\n",
       "  </tbody>\n",
       "</table>\n",
       "</div>"
      ],
      "text/plain": [
       "   survived  pclass     sex   age  sibsp  parch     fare embarked  class  \\\n",
       "0         0       3    male  22.0      1      0   7.2500        S  Third   \n",
       "1         1       1  female  38.0      1      0  71.2833        C  First   \n",
       "2         1       3  female  26.0      0      0   7.9250        S  Third   \n",
       "3         1       1  female  35.0      1      0  53.1000        S  First   \n",
       "4         0       3    male  35.0      0      0   8.0500        S  Third   \n",
       "\n",
       "     who  adult_male deck  embark_town alive  alone  \n",
       "0    man        True  NaN  Southampton    no  False  \n",
       "1  woman       False    C    Cherbourg   yes  False  \n",
       "2  woman       False  NaN  Southampton   yes   True  \n",
       "3  woman       False    C  Southampton   yes  False  \n",
       "4    man        True  NaN  Southampton    no   True  "
      ]
     },
     "execution_count": 2,
     "metadata": {},
     "output_type": "execute_result"
    }
   ],
   "source": [
    "titanic = sns.load_dataset('titanic')\n",
    "titanic.head()  # les données sont Hétérogène ( colonnes catégories et numériques-discrêtes-continues )"
   ]
  },
  {
   "cell_type": "code",
   "execution_count": 3,
   "id": "e845c050-6cf6-4e23-aeeb-12347cc8661d",
   "metadata": {},
   "outputs": [],
   "source": [
    "y = titanic['survived']  # on crée la target\n",
    "X = titanic.drop('survived', axis=1) # le reste des données"
   ]
  },
  {
   "cell_type": "code",
   "execution_count": 4,
   "id": "b1ece773-5324-4678-be62-ed4e5b9668af",
   "metadata": {},
   "outputs": [],
   "source": [
    "#   model = make_pipeline(StandardScaler(), SGDClassifier()) = pb ici le normalisateur avec 'sex' idem pour l'estimateur sur les catégories\n",
    "#   model.fit(X, y)  # -> ERROR de script donc"
   ]
  },
  {
   "cell_type": "markdown",
   "id": "f8d3c2e3-b065-4c8d-b838-0292d0aa21dd",
   "metadata": {},
   "source": [
    "## Pb de données hétérogènes => Modèles composites avec transformateurs  -> make_column_transformer"
   ]
  },
  {
   "cell_type": "markdown",
   "id": "843a5c8d-0591-42c1-b0cf-3710878899db",
   "metadata": {},
   "source": [
    "### 1 - création d'un transformer manuellement ( on écrit les colonnes souhaitées ) puis 2 pipelines de preprocessing \n",
    "### et enfin 1 pipeline final pour model"
   ]
  },
  {
   "cell_type": "code",
   "execution_count": 5,
   "id": "9684e8d0-6538-466e-bee8-2b024a897b94",
   "metadata": {},
   "outputs": [],
   "source": [
    "# création de 2 catégories de colonnes ( 1 numérique et 1 catégorielle )  MAIS PB manuellement si beaucoup de colonnes !\n",
    "numerical_features = ['pclass', 'age', 'fare']  \n",
    "categorical_features = ['sex', 'deck', 'alone']"
   ]
  },
  {
   "cell_type": "code",
   "execution_count": 6,
   "id": "248f5516-2cde-4440-9ea6-3841327546ce",
   "metadata": {},
   "outputs": [],
   "source": [
    "# création de 2 pipelines disctinctes pour ces 2 catégories de colonnes\n",
    "numerical_pipeline = make_pipeline(SimpleImputer(), StandardScaler()) \n",
    "# SimpleImputer() remplace les NaN par la moyenne par défaut / StandardScaler = normalise les données\n",
    "categorical_pipeline = make_pipeline(OneHotEncoder(), SimpleImputer(strategy = 'most_frequent'))\n",
    "# ATTENTION : METTRE LE SIMPLEIMPUTER APRES LE ONEHOTENCODER SINON STRATEGY ERROR\n",
    "# Stratégie d'imputer autre que moyenne car données = catégories\n",
    "# OneHotEncoder pour transformer en matrice non ordonnée toutes les catégories de chaque colonne"
   ]
  },
  {
   "cell_type": "code",
   "execution_count": 7,
   "id": "5206f2ff-4468-4b95-b818-026357b1132b",
   "metadata": {},
   "outputs": [],
   "source": [
    "# création de notre preprocessing final sur notre dataset \n",
    "preprocessor = make_column_transformer((numerical_pipeline, numerical_features), (categorical_pipeline, categorical_features))\n",
    "# make_col_trans du module compose prend des tuples de (transformer, columns)"
   ]
  },
  {
   "cell_type": "code",
   "execution_count": 8,
   "id": "24c3cfdb-ac42-4705-a4f5-e4d49cf2b706",
   "metadata": {},
   "outputs": [],
   "source": [
    "# création de notre model estimateur\n",
    "model = make_pipeline(preprocessor, SGDClassifier())"
   ]
  },
  {
   "cell_type": "code",
   "execution_count": 9,
   "id": "dea8d35a-1e17-44ff-8598-691a79a30aa7",
   "metadata": {},
   "outputs": [
    {
     "data": {
      "text/plain": [
       "\" Pipeline(steps=[('columntransformer',\\n                 ColumnTransformer(transformers=[('pipeline-1',\\n                                                  Pipeline(steps=[('simpleimputer',\\n                                                                   SimpleImputer()),\\n                                                                  ('standardscaler',\\n                                                                   StandardScaler())]),\\n                                                  ['pclass', 'age', 'fare']),\\n                                                 ('pipeline-2',\\n                                                  Pipeline(steps=[('simpleimputer',\\n                                                                   SimpleImputer(strategy='most_frequent')),\\n                                                                  ('onehotencoder',\\n                                                                   OneHotEncoder())]),\\n                                                  ['sex', 'deck', 'alone'])])),\\n                ('sgdclassifier', SGDClassifier())])    \""
      ]
     },
     "execution_count": 9,
     "metadata": {},
     "output_type": "execute_result"
    }
   ],
   "source": [
    "# entrainement du model\n",
    "model.fit(X, y)  # -> affiche le pipeline entrainé\n",
    "\"\"\" Pipeline(steps=[('columntransformer',\n",
    "                 ColumnTransformer(transformers=[('pipeline-1',\n",
    "                                                  Pipeline(steps=[('simpleimputer',\n",
    "                                                                   SimpleImputer()),\n",
    "                                                                  ('standardscaler',\n",
    "                                                                   StandardScaler())]),\n",
    "                                                  ['pclass', 'age', 'fare']),\n",
    "                                                 ('pipeline-2',\n",
    "                                                  Pipeline(steps=[('simpleimputer',\n",
    "                                                                   SimpleImputer(strategy='most_frequent')),\n",
    "                                                                  ('onehotencoder',\n",
    "                                                                   OneHotEncoder())]),\n",
    "                                                  ['sex', 'deck', 'alone'])])),\n",
    "                ('sgdclassifier', SGDClassifier())])    \"\"\""
   ]
  },
  {
   "cell_type": "markdown",
   "id": "919fcc9d-fcfb-4cd3-835f-6010774bb4c4",
   "metadata": {},
   "source": [
    "### 2 - création automatique du transformer sur TOUTES les colonnes hétérogènes\n",
    "### make_column_selector puis make_pipeline x 2 puis make_column_transformer"
   ]
  },
  {
   "cell_type": "code",
   "execution_count": 10,
   "id": "3bed8cf2-49f5-4339-bacb-c5c58d3c74ed",
   "metadata": {},
   "outputs": [],
   "source": [
    "# création de 2 catégories automatiques de colonnes ( 1 numérique et 1 catégorielle )  si beaucoup de colonnes !\n",
    "numerical_features = make_column_selector(dtype_include=np.number) # selection des colonnes de nombres\n",
    "categorical_features = make_column_selector(dtype_exclude=np.number) # selection des colonnes excluant les nombres\n",
    "# voir d'autres exemples sur le site sklearn d'include et exclude"
   ]
  },
  {
   "cell_type": "code",
   "execution_count": 11,
   "id": "68ab9f0a-a1de-432e-9e75-67d1985a7d91",
   "metadata": {},
   "outputs": [
    {
     "data": {
      "text/html": [
       "<style>#sk-container-id-1 {color: black;background-color: white;}#sk-container-id-1 pre{padding: 0;}#sk-container-id-1 div.sk-toggleable {background-color: white;}#sk-container-id-1 label.sk-toggleable__label {cursor: pointer;display: block;width: 100%;margin-bottom: 0;padding: 0.3em;box-sizing: border-box;text-align: center;}#sk-container-id-1 label.sk-toggleable__label-arrow:before {content: \"▸\";float: left;margin-right: 0.25em;color: #696969;}#sk-container-id-1 label.sk-toggleable__label-arrow:hover:before {color: black;}#sk-container-id-1 div.sk-estimator:hover label.sk-toggleable__label-arrow:before {color: black;}#sk-container-id-1 div.sk-toggleable__content {max-height: 0;max-width: 0;overflow: hidden;text-align: left;background-color: #f0f8ff;}#sk-container-id-1 div.sk-toggleable__content pre {margin: 0.2em;color: black;border-radius: 0.25em;background-color: #f0f8ff;}#sk-container-id-1 input.sk-toggleable__control:checked~div.sk-toggleable__content {max-height: 200px;max-width: 100%;overflow: auto;}#sk-container-id-1 input.sk-toggleable__control:checked~label.sk-toggleable__label-arrow:before {content: \"▾\";}#sk-container-id-1 div.sk-estimator input.sk-toggleable__control:checked~label.sk-toggleable__label {background-color: #d4ebff;}#sk-container-id-1 div.sk-label input.sk-toggleable__control:checked~label.sk-toggleable__label {background-color: #d4ebff;}#sk-container-id-1 input.sk-hidden--visually {border: 0;clip: rect(1px 1px 1px 1px);clip: rect(1px, 1px, 1px, 1px);height: 1px;margin: -1px;overflow: hidden;padding: 0;position: absolute;width: 1px;}#sk-container-id-1 div.sk-estimator {font-family: monospace;background-color: #f0f8ff;border: 1px dotted black;border-radius: 0.25em;box-sizing: border-box;margin-bottom: 0.5em;}#sk-container-id-1 div.sk-estimator:hover {background-color: #d4ebff;}#sk-container-id-1 div.sk-parallel-item::after {content: \"\";width: 100%;border-bottom: 1px solid gray;flex-grow: 1;}#sk-container-id-1 div.sk-label:hover label.sk-toggleable__label {background-color: #d4ebff;}#sk-container-id-1 div.sk-serial::before {content: \"\";position: absolute;border-left: 1px solid gray;box-sizing: border-box;top: 0;bottom: 0;left: 50%;z-index: 0;}#sk-container-id-1 div.sk-serial {display: flex;flex-direction: column;align-items: center;background-color: white;padding-right: 0.2em;padding-left: 0.2em;position: relative;}#sk-container-id-1 div.sk-item {position: relative;z-index: 1;}#sk-container-id-1 div.sk-parallel {display: flex;align-items: stretch;justify-content: center;background-color: white;position: relative;}#sk-container-id-1 div.sk-item::before, #sk-container-id-1 div.sk-parallel-item::before {content: \"\";position: absolute;border-left: 1px solid gray;box-sizing: border-box;top: 0;bottom: 0;left: 50%;z-index: -1;}#sk-container-id-1 div.sk-parallel-item {display: flex;flex-direction: column;z-index: 1;position: relative;background-color: white;}#sk-container-id-1 div.sk-parallel-item:first-child::after {align-self: flex-end;width: 50%;}#sk-container-id-1 div.sk-parallel-item:last-child::after {align-self: flex-start;width: 50%;}#sk-container-id-1 div.sk-parallel-item:only-child::after {width: 0;}#sk-container-id-1 div.sk-dashed-wrapped {border: 1px dashed gray;margin: 0 0.4em 0.5em 0.4em;box-sizing: border-box;padding-bottom: 0.4em;background-color: white;}#sk-container-id-1 div.sk-label label {font-family: monospace;font-weight: bold;display: inline-block;line-height: 1.2em;}#sk-container-id-1 div.sk-label-container {text-align: center;}#sk-container-id-1 div.sk-container {/* jupyter's `normalize.less` sets `[hidden] { display: none; }` but bootstrap.min.css set `[hidden] { display: none !important; }` so we also need the `!important` here to be able to override the default hidden behavior on the sphinx rendered scikit-learn.org. See: https://github.com/scikit-learn/scikit-learn/issues/21755 */display: inline-block !important;position: relative;}#sk-container-id-1 div.sk-text-repr-fallback {display: none;}</style><div id=\"sk-container-id-1\" class=\"sk-top-container\"><div class=\"sk-text-repr-fallback\"><pre>Pipeline(steps=[(&#x27;columntransformer&#x27;,\n",
       "                 ColumnTransformer(transformers=[(&#x27;pipeline-1&#x27;,\n",
       "                                                  Pipeline(steps=[(&#x27;simpleimputer&#x27;,\n",
       "                                                                   SimpleImputer()),\n",
       "                                                                  (&#x27;standardscaler&#x27;,\n",
       "                                                                   StandardScaler())]),\n",
       "                                                  &lt;sklearn.compose._column_transformer.make_column_selector object at 0x000001FF32D1E9A0&gt;),\n",
       "                                                 (&#x27;pipeline-2&#x27;,\n",
       "                                                  Pipeline(steps=[(&#x27;onehotencoder&#x27;,\n",
       "                                                                   OneHotEncoder()),\n",
       "                                                                  (&#x27;simpleimputer&#x27;,\n",
       "                                                                   SimpleImputer(strategy=&#x27;most_frequent&#x27;))]),\n",
       "                                                  &lt;sklearn.compose._column_transformer.make_column_selector object at 0x000001FF32D1E3D0&gt;)])),\n",
       "                (&#x27;sgdclassifier&#x27;, SGDClassifier())])</pre><b>In a Jupyter environment, please rerun this cell to show the HTML representation or trust the notebook. <br />On GitHub, the HTML representation is unable to render, please try loading this page with nbviewer.org.</b></div><div class=\"sk-container\" hidden><div class=\"sk-item sk-dashed-wrapped\"><div class=\"sk-label-container\"><div class=\"sk-label sk-toggleable\"><input class=\"sk-toggleable__control sk-hidden--visually\" id=\"sk-estimator-id-1\" type=\"checkbox\" ><label for=\"sk-estimator-id-1\" class=\"sk-toggleable__label sk-toggleable__label-arrow\">Pipeline</label><div class=\"sk-toggleable__content\"><pre>Pipeline(steps=[(&#x27;columntransformer&#x27;,\n",
       "                 ColumnTransformer(transformers=[(&#x27;pipeline-1&#x27;,\n",
       "                                                  Pipeline(steps=[(&#x27;simpleimputer&#x27;,\n",
       "                                                                   SimpleImputer()),\n",
       "                                                                  (&#x27;standardscaler&#x27;,\n",
       "                                                                   StandardScaler())]),\n",
       "                                                  &lt;sklearn.compose._column_transformer.make_column_selector object at 0x000001FF32D1E9A0&gt;),\n",
       "                                                 (&#x27;pipeline-2&#x27;,\n",
       "                                                  Pipeline(steps=[(&#x27;onehotencoder&#x27;,\n",
       "                                                                   OneHotEncoder()),\n",
       "                                                                  (&#x27;simpleimputer&#x27;,\n",
       "                                                                   SimpleImputer(strategy=&#x27;most_frequent&#x27;))]),\n",
       "                                                  &lt;sklearn.compose._column_transformer.make_column_selector object at 0x000001FF32D1E3D0&gt;)])),\n",
       "                (&#x27;sgdclassifier&#x27;, SGDClassifier())])</pre></div></div></div><div class=\"sk-serial\"><div class=\"sk-item sk-dashed-wrapped\"><div class=\"sk-label-container\"><div class=\"sk-label sk-toggleable\"><input class=\"sk-toggleable__control sk-hidden--visually\" id=\"sk-estimator-id-2\" type=\"checkbox\" ><label for=\"sk-estimator-id-2\" class=\"sk-toggleable__label sk-toggleable__label-arrow\">columntransformer: ColumnTransformer</label><div class=\"sk-toggleable__content\"><pre>ColumnTransformer(transformers=[(&#x27;pipeline-1&#x27;,\n",
       "                                 Pipeline(steps=[(&#x27;simpleimputer&#x27;,\n",
       "                                                  SimpleImputer()),\n",
       "                                                 (&#x27;standardscaler&#x27;,\n",
       "                                                  StandardScaler())]),\n",
       "                                 &lt;sklearn.compose._column_transformer.make_column_selector object at 0x000001FF32D1E9A0&gt;),\n",
       "                                (&#x27;pipeline-2&#x27;,\n",
       "                                 Pipeline(steps=[(&#x27;onehotencoder&#x27;,\n",
       "                                                  OneHotEncoder()),\n",
       "                                                 (&#x27;simpleimputer&#x27;,\n",
       "                                                  SimpleImputer(strategy=&#x27;most_frequent&#x27;))]),\n",
       "                                 &lt;sklearn.compose._column_transformer.make_column_selector object at 0x000001FF32D1E3D0&gt;)])</pre></div></div></div><div class=\"sk-parallel\"><div class=\"sk-parallel-item\"><div class=\"sk-item\"><div class=\"sk-label-container\"><div class=\"sk-label sk-toggleable\"><input class=\"sk-toggleable__control sk-hidden--visually\" id=\"sk-estimator-id-3\" type=\"checkbox\" ><label for=\"sk-estimator-id-3\" class=\"sk-toggleable__label sk-toggleable__label-arrow\">pipeline-1</label><div class=\"sk-toggleable__content\"><pre>&lt;sklearn.compose._column_transformer.make_column_selector object at 0x000001FF32D1E9A0&gt;</pre></div></div></div><div class=\"sk-serial\"><div class=\"sk-item\"><div class=\"sk-serial\"><div class=\"sk-item\"><div class=\"sk-estimator sk-toggleable\"><input class=\"sk-toggleable__control sk-hidden--visually\" id=\"sk-estimator-id-4\" type=\"checkbox\" ><label for=\"sk-estimator-id-4\" class=\"sk-toggleable__label sk-toggleable__label-arrow\">SimpleImputer</label><div class=\"sk-toggleable__content\"><pre>SimpleImputer()</pre></div></div></div><div class=\"sk-item\"><div class=\"sk-estimator sk-toggleable\"><input class=\"sk-toggleable__control sk-hidden--visually\" id=\"sk-estimator-id-5\" type=\"checkbox\" ><label for=\"sk-estimator-id-5\" class=\"sk-toggleable__label sk-toggleable__label-arrow\">StandardScaler</label><div class=\"sk-toggleable__content\"><pre>StandardScaler()</pre></div></div></div></div></div></div></div></div><div class=\"sk-parallel-item\"><div class=\"sk-item\"><div class=\"sk-label-container\"><div class=\"sk-label sk-toggleable\"><input class=\"sk-toggleable__control sk-hidden--visually\" id=\"sk-estimator-id-6\" type=\"checkbox\" ><label for=\"sk-estimator-id-6\" class=\"sk-toggleable__label sk-toggleable__label-arrow\">pipeline-2</label><div class=\"sk-toggleable__content\"><pre>&lt;sklearn.compose._column_transformer.make_column_selector object at 0x000001FF32D1E3D0&gt;</pre></div></div></div><div class=\"sk-serial\"><div class=\"sk-item\"><div class=\"sk-serial\"><div class=\"sk-item\"><div class=\"sk-estimator sk-toggleable\"><input class=\"sk-toggleable__control sk-hidden--visually\" id=\"sk-estimator-id-7\" type=\"checkbox\" ><label for=\"sk-estimator-id-7\" class=\"sk-toggleable__label sk-toggleable__label-arrow\">OneHotEncoder</label><div class=\"sk-toggleable__content\"><pre>OneHotEncoder()</pre></div></div></div><div class=\"sk-item\"><div class=\"sk-estimator sk-toggleable\"><input class=\"sk-toggleable__control sk-hidden--visually\" id=\"sk-estimator-id-8\" type=\"checkbox\" ><label for=\"sk-estimator-id-8\" class=\"sk-toggleable__label sk-toggleable__label-arrow\">SimpleImputer</label><div class=\"sk-toggleable__content\"><pre>SimpleImputer(strategy=&#x27;most_frequent&#x27;)</pre></div></div></div></div></div></div></div></div></div></div><div class=\"sk-item\"><div class=\"sk-estimator sk-toggleable\"><input class=\"sk-toggleable__control sk-hidden--visually\" id=\"sk-estimator-id-9\" type=\"checkbox\" ><label for=\"sk-estimator-id-9\" class=\"sk-toggleable__label sk-toggleable__label-arrow\">SGDClassifier</label><div class=\"sk-toggleable__content\"><pre>SGDClassifier()</pre></div></div></div></div></div></div></div>"
      ],
      "text/plain": [
       "Pipeline(steps=[('columntransformer',\n",
       "                 ColumnTransformer(transformers=[('pipeline-1',\n",
       "                                                  Pipeline(steps=[('simpleimputer',\n",
       "                                                                   SimpleImputer()),\n",
       "                                                                  ('standardscaler',\n",
       "                                                                   StandardScaler())]),\n",
       "                                                  <sklearn.compose._column_transformer.make_column_selector object at 0x000001FF32D1E9A0>),\n",
       "                                                 ('pipeline-2',\n",
       "                                                  Pipeline(steps=[('onehotencoder',\n",
       "                                                                   OneHotEncoder()),\n",
       "                                                                  ('simpleimputer',\n",
       "                                                                   SimpleImputer(strategy='most_frequent'))]),\n",
       "                                                  <sklearn.compose._column_transformer.make_column_selector object at 0x000001FF32D1E3D0>)])),\n",
       "                ('sgdclassifier', SGDClassifier())])"
      ]
     },
     "execution_count": 11,
     "metadata": {},
     "output_type": "execute_result"
    }
   ],
   "source": [
    "# MEME CODE ENSUITE DE CI DESSUS\n",
    "\n",
    "# création de 2 pipelines disctinctes pour ces 2 catégories de colonnes\n",
    "numerical_pipeline = make_pipeline(SimpleImputer(), StandardScaler()) \n",
    "# SimpleImputer() remplace les NaN par la moyenne par défaut / StandardScaler = normalise les données\n",
    "categorical_pipeline = make_pipeline( OneHotEncoder(), SimpleImputer(strategy = 'most_frequent'))\n",
    "# Stratégie d'imputer autre que moyenne car données = catégories\n",
    "# OneHotEncoder pour transformer en matrice non ordonnée toutes les catégories de chaque colonne\n",
    "\n",
    "# création de notre preprocessing final sur notre dataset \n",
    "preprocessor = make_column_transformer((numerical_pipeline, numerical_features), (categorical_pipeline, categorical_features))\n",
    "# make_col_trans du module compose prend des tuples de (transformer, columns)\n",
    "\n",
    "# création de notre model estimateur\n",
    "model = make_pipeline(preprocessor, SGDClassifier())\n",
    "\n",
    "# entrainement du model\n",
    "model.fit(X, y)  # -> affiche le pipeline entrainé"
   ]
  },
  {
   "cell_type": "markdown",
   "id": "056bb733-725a-420b-91ee-b275d3d7c42e",
   "metadata": {},
   "source": [
    "### 3 - Pipeline parallèles // avec make_union()"
   ]
  },
  {
   "cell_type": "code",
   "execution_count": 12,
   "id": "e98da9b3-fcc4-4808-9d48-1b54efa343e0",
   "metadata": {},
   "outputs": [],
   "source": [
    "y = titanic['survived']  # on crée la target\n",
    "X = titanic.drop('survived', axis=1) # le reste des données"
   ]
  },
  {
   "cell_type": "code",
   "execution_count": 13,
   "id": "b99dcbd1-7d3e-4df7-b601-2181beb1b398",
   "metadata": {},
   "outputs": [],
   "source": [
    "numerical_features = X[['age', 'fare']]   # pour faire simple ici 'age' et 'fare' sont numeriques"
   ]
  },
  {
   "cell_type": "code",
   "execution_count": 14,
   "id": "31bae66c-a8a5-4397-8045-384d557d715a",
   "metadata": {},
   "outputs": [
    {
     "data": {
      "text/plain": [
       "pandas.core.frame.DataFrame"
      ]
     },
     "execution_count": 14,
     "metadata": {},
     "output_type": "execute_result"
    }
   ],
   "source": [
    "numerical_features.describe  # il y a des Nan à traiter ensuite\n",
    "type(numerical_features)"
   ]
  },
  {
   "cell_type": "code",
   "execution_count": 15,
   "id": "e7b2e7b3-bc65-4f16-8907-55308da3f4a1",
   "metadata": {},
   "outputs": [],
   "source": [
    "# numerical_features = numerical_features.dropna(axis=0) # j'ai des pb à utiliser SimpleImpute pour les Nan"
   ]
  },
  {
   "cell_type": "code",
   "execution_count": 16,
   "id": "fc13db12-0c10-424d-9014-3cdafd962dc1",
   "metadata": {},
   "outputs": [
    {
     "data": {
      "text/plain": [
       "age     177\n",
       "fare      0\n",
       "dtype: int64"
      ]
     },
     "execution_count": 16,
     "metadata": {},
     "output_type": "execute_result"
    }
   ],
   "source": [
    "numerical_features.isna().sum()   # compte les nan par colonnes -> 177 dans 'age' et 0 dans 'fare'"
   ]
  },
  {
   "cell_type": "code",
   "execution_count": 17,
   "id": "94571f6f-5be4-442b-9de8-1741f494fa91",
   "metadata": {},
   "outputs": [
    {
     "data": {
      "text/plain": [
       "array([[22.        ,  7.25      ],\n",
       "       [38.        , 71.2833    ],\n",
       "       [26.        ,  7.925     ],\n",
       "       ...,\n",
       "       [29.69911765, 23.45      ],\n",
       "       [26.        , 30.        ],\n",
       "       [32.        ,  7.75      ]])"
      ]
     },
     "execution_count": 17,
     "metadata": {},
     "output_type": "execute_result"
    }
   ],
   "source": [
    "replace_nan = SimpleImputer(missing_values=np.nan, strategy='mean', copy=False)\n",
    "replace_nan.fit_transform(numerical_features)\n",
    "# TRES IMPORTANT : le copy=False ne créé pas une copie où nan absents mais remplace le fichier original où nan absent => preuve ci-dessous"
   ]
  },
  {
   "cell_type": "code",
   "execution_count": 18,
   "id": "23c367dd-a0e6-4dcc-af5e-1b186a2b22b6",
   "metadata": {},
   "outputs": [
    {
     "data": {
      "text/plain": [
       "age     0\n",
       "fare    0\n",
       "dtype: int64"
      ]
     },
     "execution_count": 18,
     "metadata": {},
     "output_type": "execute_result"
    }
   ],
   "source": [
    "numerical_features.isna().sum()"
   ]
  },
  {
   "cell_type": "code",
   "execution_count": 19,
   "id": "47a8796b-a565-4f52-a323-071704a671ef",
   "metadata": {},
   "outputs": [],
   "source": [
    "pipeline = make_union(StandardScaler(), Binarizer())"
   ]
  },
  {
   "cell_type": "code",
   "execution_count": 20,
   "id": "6dd3fc9a-aed4-4983-9a66-424498c854e8",
   "metadata": {},
   "outputs": [
    {
     "data": {
      "text/plain": [
       "array([[-0.5924806 , -0.50244517,  1.        ,  1.        ],\n",
       "       [ 0.63878901,  0.78684529,  1.        ,  1.        ],\n",
       "       [-0.2846632 , -0.48885426,  1.        ,  1.        ],\n",
       "       ...,\n",
       "       [ 0.        , -0.17626324,  1.        ,  1.        ],\n",
       "       [-0.2846632 , -0.04438104,  1.        ,  1.        ],\n",
       "       [ 0.17706291, -0.49237783,  1.        ,  1.        ]])"
      ]
     },
     "execution_count": 20,
     "metadata": {},
     "output_type": "execute_result"
    }
   ],
   "source": [
    "pipeline.fit_transform(numerical_features)  # - > matrice (891, 4)  AUCUN LIGNE EFFACées !\n",
    "# les 2 1eres colonnes sont celles Standardisées, les 2 dernières colonnes sont celles Binarisées ( discrétisées en 0 ou 1 )"
   ]
  }
 ],
 "metadata": {
  "kernelspec": {
   "display_name": "Python 3 (ipykernel)",
   "language": "python",
   "name": "python3"
  },
  "language_info": {
   "codemirror_mode": {
    "name": "ipython",
    "version": 3
   },
   "file_extension": ".py",
   "mimetype": "text/x-python",
   "name": "python",
   "nbconvert_exporter": "python",
   "pygments_lexer": "ipython3",
   "version": "3.9.13"
  }
 },
 "nbformat": 4,
 "nbformat_minor": 5
}
