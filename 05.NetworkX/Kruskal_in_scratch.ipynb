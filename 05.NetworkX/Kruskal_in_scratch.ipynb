{
 "cells": [
  {
   "cell_type": "code",
   "execution_count": 6,
   "id": "8feeecfe-dd45-4dd6-ae1b-862e6bba7065",
   "metadata": {},
   "outputs": [
    {
     "name": "stdout",
     "output_type": "stream",
     "text": [
      "sommet 1 - sommet 2: poids 2\n",
      "sommet 2 - sommet 5: poids 2\n",
      "sommet 2 - sommet 3: poids 3\n",
      "sommet 3 - sommet 4: poids 3\n",
      "sommet 0 - sommet 1: poids 4\n"
     ]
    }
   ],
   "source": [
    "# Kruskal's algorithm in Python\n",
    "\n",
    "\n",
    "class Graph:                           # création de la Class Graph\n",
    "    def __init__(self, vertices):      # constructeur : attribut d'entrée = vertices = sommets\n",
    "        self.V = vertices              # vertices devient V\n",
    "        self.graph = []                # param interne graph initialisé comme liste vide\n",
    "\n",
    "    def add_edge(self, u, v, w):       # methode d'ajout de 3 arêtes edge reliées u-v-w pour faire un chemin entre 3 sommets\n",
    "        self.graph.append([u, v, w])\n",
    "\n",
    "    # Search function\n",
    "\n",
    "    def find(self, parent, i):        # méthode pour trouver le parent d'un sommet i\n",
    "        if parent[i] == i:\n",
    "            return i\n",
    "        return self.find(parent, parent[i])   # cherche parent[parent[i]] ect tant que parent[i]==i non réalisé\n",
    "\n",
    "    def apply_union(self, parent, rank, x, y):  # \n",
    "        xroot = self.find(parent, x)            # donne le parent racine de x = xroot\n",
    "        yroot = self.find(parent, y)            # donne le parent racine de y = yroot\n",
    "        if rank[xroot] < rank[yroot]:           # si rang(xroot) < rang(yroot) => parent(xroot) = yroot ???\n",
    "            parent[xroot] = yroot\n",
    "        elif rank[xroot] > rank[yroot]:\n",
    "            parent[yroot] = xroot\n",
    "        else:\n",
    "            parent[yroot] = xroot\n",
    "            rank[xroot] += 1\n",
    "\n",
    "    #  Applying Kruskal algorithm\n",
    "    def kruskal_algo(self):\n",
    "        result = []\n",
    "        i, e = 0, 0\n",
    "        self.graph = sorted(self.graph, key=lambda item: item[2])\n",
    "        parent = []\n",
    "        rank = []\n",
    "        for node in range(self.V):\n",
    "            parent.append(node)\n",
    "            rank.append(0)\n",
    "        while e < self.V - 1:\n",
    "            u, v, w = self.graph[i]\n",
    "            i = i + 1\n",
    "            x = self.find(parent, u)\n",
    "            y = self.find(parent, v)\n",
    "            if x != y:\n",
    "                e = e + 1\n",
    "                result.append([u, v, w])\n",
    "                self.apply_union(parent, rank, x, y)\n",
    "        for u, v, weight in result:\n",
    "            print(\"sommet %d - sommet %d: poids %d\" % (u, v, weight))\n",
    "\n",
    "\n",
    "g = Graph(6)\n",
    "g.add_edge(0, 1, 4)\n",
    "g.add_edge(0, 2, 4)\n",
    "g.add_edge(1, 2, 2)\n",
    "g.add_edge(1, 0, 4)\n",
    "g.add_edge(2, 0, 4)\n",
    "g.add_edge(2, 1, 2)\n",
    "g.add_edge(2, 3, 3)\n",
    "g.add_edge(2, 5, 2)\n",
    "g.add_edge(2, 4, 4)\n",
    "g.add_edge(3, 2, 3)\n",
    "g.add_edge(3, 4, 3)\n",
    "g.add_edge(4, 2, 4)\n",
    "g.add_edge(4, 3, 3)\n",
    "g.add_edge(5, 2, 2)\n",
    "g.add_edge(5, 4, 3)\n",
    "g.kruskal_algo()"
   ]
  },
  {
   "cell_type": "code",
   "execution_count": null,
   "id": "ddb8e3d6-c997-46b7-bcd1-57859c3c4901",
   "metadata": {},
   "outputs": [],
   "source": []
  }
 ],
 "metadata": {
  "kernelspec": {
   "display_name": "Python 3 (ipykernel)",
   "language": "python",
   "name": "python3"
  },
  "language_info": {
   "codemirror_mode": {
    "name": "ipython",
    "version": 3
   },
   "file_extension": ".py",
   "mimetype": "text/x-python",
   "name": "python",
   "nbconvert_exporter": "python",
   "pygments_lexer": "ipython3",
   "version": "3.9.12"
  }
 },
 "nbformat": 4,
 "nbformat_minor": 5
}
