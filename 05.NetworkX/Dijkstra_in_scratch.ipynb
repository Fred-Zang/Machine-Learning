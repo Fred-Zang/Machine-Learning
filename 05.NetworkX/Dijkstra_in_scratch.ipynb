{
 "cells": [
  {
   "cell_type": "code",
   "execution_count": 14,
   "id": "5fe67d51-7f30-419d-acb6-9efd4269a5b3",
   "metadata": {},
   "outputs": [
    {
     "name": "stdout",
     "output_type": "stream",
     "text": [
      "[[0, 0, 0, 0, 0, 0, 0, 0, 0], [0, 0, 0, 0, 0, 0, 0, 0, 0], [0, 0, 0, 0, 0, 0, 0, 0, 0], [0, 0, 0, 0, 0, 0, 0, 0, 0], [0, 0, 0, 0, 0, 0, 0, 0, 0], [0, 0, 0, 0, 0, 0, 0, 0, 0], [0, 0, 0, 0, 0, 0, 0, 0, 0], [0, 0, 0, 0, 0, 0, 0, 0, 0], [0, 0, 0, 0, 0, 0, 0, 0, 0]]\n"
     ]
    }
   ],
   "source": [
    "import sys\n",
    " \n",
    "class Graph():\n",
    "    \n",
    "    def __init__(self, vertx):       # vertx = nbre de sommets du graphe\n",
    "        self.V = vertx\n",
    "        self.graph = [[0 for column in range(vertx)] for row in range(vertx)]  # création d'une matrice (n x n) par n liste de n éléments\n",
    "                                                                               # nommé graph , graph = attribut local de Graph\n",
    "            \n",
    "    def pSol(self, dist):       # liste dist = variable locale à la classe ici, dist est une liste par la suite\n",
    "        print(\"Distance du sommet x à la source\")\n",
    "        for node in range(self.V):\n",
    "            print(\"sommet \", node, \" distance \", dist[node])   # affiche la distance au noeud-sommet de référence meme si dist non définit encore\n",
    " \n",
    "\n",
    "    def minDistance(self, dist, sptSet):\n",
    "        min = sys.maxsize\n",
    "        for v in range(self.V):\n",
    "            if dist[v] < min and sptSet[v] == False:\n",
    "                min = dist[v]\n",
    "                min_index = v\n",
    "        return min_index\n",
    " \n",
    "    def dijk(self, source):\n",
    "        dist = [sys.maxsize] * self.V\n",
    "        dist[source] = 0\n",
    "        sptSet = [False] * self.V\n",
    "        for cout in range(self.V):\n",
    "            u = self.minDistance(dist, sptSet)\n",
    "            sptSet[u] = True\n",
    "            for v in range(self.V):\n",
    "                if self.graph[u][v] > 0 and sptSet[v] == False and dist[v] > dist[u] + self.graph[u][v]:\n",
    "                    dist[v] = dist[u] + self.graph[u][v]\n",
    "        self.pSol(dist)\n",
    "\n",
    "        \n",
    "\n",
    "f = Graph(9)\n",
    "print(f.graph)"
   ]
  },
  {
   "cell_type": "code",
   "execution_count": 15,
   "id": "427ae6d3-0046-494d-ab20-36ef6b4e4a4d",
   "metadata": {},
   "outputs": [
    {
     "name": "stdout",
     "output_type": "stream",
     "text": [
      "Distance du sommet x à la source\n",
      "sommet  0  distance  12\n",
      "sommet  1  distance  8\n",
      "sommet  2  distance  0\n",
      "sommet  3  distance  7\n",
      "sommet  4  distance  14\n",
      "sommet  5  distance  4\n",
      "sommet  6  distance  6\n",
      "sommet  7  distance  7\n",
      "sommet  8  distance  2\n"
     ]
    }
   ],
   "source": [
    "f.graph = [[0, 4, 0, 0, 0, 0, 0, 8, 0],\n",
    "           [4, 0, 8, 0, 0, 0, 0, 11, 0],\n",
    "           [0, 8, 0, 7, 0, 4, 0, 0, 2],\n",
    "           [0, 0, 7, 0, 9, 14, 0, 0, 0],\n",
    "           [0, 0, 0, 9, 0, 10, 0, 0, 0],\n",
    "           [0, 0, 4, 14, 10, 0, 2, 0, 0],\n",
    "           [0, 0, 0, 0, 0, 2, 0, 1, 6],\n",
    "           [8, 11, 0, 0, 0, 0, 1, 0, 7],\n",
    "           [0, 0, 2, 0, 0, 0, 6, 7, 0]\n",
    "           ]\n",
    " \n",
    "f.dijk(2)"
   ]
  },
  {
   "cell_type": "code",
   "execution_count": null,
   "id": "c2a81f99-83bf-4bb4-ab21-ec3d86ca7bee",
   "metadata": {},
   "outputs": [],
   "source": []
  }
 ],
 "metadata": {
  "kernelspec": {
   "display_name": "Python 3 (ipykernel)",
   "language": "python",
   "name": "python3"
  },
  "language_info": {
   "codemirror_mode": {
    "name": "ipython",
    "version": 3
   },
   "file_extension": ".py",
   "mimetype": "text/x-python",
   "name": "python",
   "nbconvert_exporter": "python",
   "pygments_lexer": "ipython3",
   "version": "3.9.12"
  }
 },
 "nbformat": 4,
 "nbformat_minor": 5
}
